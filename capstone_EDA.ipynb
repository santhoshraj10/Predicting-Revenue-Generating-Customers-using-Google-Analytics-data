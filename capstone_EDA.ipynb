{
  "nbformat": 4,
  "nbformat_minor": 0,
  "metadata": {
    "colab": {
      "name": "capstone EDA.ipynb",
      "provenance": [],
      "collapsed_sections": [],
      "toc_visible": true,
      "include_colab_link": true
    },
    "kernelspec": {
      "name": "python3",
      "display_name": "Python 3"
    }
  },
  "cells": [
    {
      "cell_type": "markdown",
      "metadata": {
        "id": "view-in-github",
        "colab_type": "text"
      },
      "source": [
        "<a href=\"https://colab.research.google.com/github/santhoshraj10/Predicting-Revenue-Generating-Customers-using-Google-Analytics-data/blob/main/capstone_EDA.ipynb\" target=\"_parent\"><img src=\"https://colab.research.google.com/assets/colab-badge.svg\" alt=\"Open In Colab\"/></a>"
      ]
    },
    {
      "cell_type": "code",
      "metadata": {
        "id": "osO6Nwq6YJM2"
      },
      "source": [
        "import os\n",
        "os.environ[\"KAGGLE_CONFIG_DIR\"]=\"/content/drive/MyDrive/Capstone/MyDrive/\""
      ],
      "execution_count": null,
      "outputs": []
    },
    {
      "cell_type": "code",
      "metadata": {
        "colab": {
          "base_uri": "https://localhost:8080/"
        },
        "id": "wz4Q6i9aMc2S",
        "outputId": "247f961a-cf7c-4102-ad55-bd9c5c5d075a"
      },
      "source": [
        "from google.colab import drive\n",
        "drive.mount('/content/drive/MyDrive/Capstone')"
      ],
      "execution_count": null,
      "outputs": [
        {
          "output_type": "stream",
          "text": [
            "Mounted at /content/drive/MyDrive/Capstone\n"
          ],
          "name": "stdout"
        }
      ]
    },
    {
      "cell_type": "code",
      "metadata": {
        "colab": {
          "base_uri": "https://localhost:8080/"
        },
        "id": "qd8r1Y5qceh-",
        "outputId": "1ae7e18e-2e2e-45d4-9c4a-055b968f69d4"
      },
      "source": [
        "!kaggle competitions download -c ga-customer-revenue-prediction"
      ],
      "execution_count": null,
      "outputs": [
        {
          "output_type": "stream",
          "text": [
            "Warning: Looks like you're using an outdated API Version, please consider updating (server 1.5.10 / client 1.5.4)\n",
            "Downloading sample_submission_v2.csv.zip to /content\n",
            "  0% 0.00/2.55M [00:00<?, ?B/s]\n",
            "100% 2.55M/2.55M [00:00<00:00, 84.1MB/s]\n",
            "Downloading train_v2.csv.zip to /content\n",
            " 99% 1.10G/1.11G [00:16<00:00, 56.8MB/s]\n",
            "100% 1.11G/1.11G [00:16<00:00, 71.8MB/s]\n",
            "Downloading sample_submission.csv.zip to /content\n",
            " 96% 5.00M/5.23M [00:00<00:00, 38.7MB/s]\n",
            "100% 5.23M/5.23M [00:00<00:00, 32.9MB/s]\n",
            "Downloading test.csv.zip to /content\n",
            " 72% 41.0M/56.8M [00:00<00:00, 31.0MB/s]\n",
            "100% 56.8M/56.8M [00:01<00:00, 57.8MB/s]\n",
            "Downloading train.csv.zip to /content\n",
            " 93% 57.0M/61.1M [00:00<00:00, 63.9MB/s]\n",
            "100% 61.1M/61.1M [00:00<00:00, 76.7MB/s]\n",
            "Downloading test_v2.csv.zip to /content\n",
            " 99% 329M/333M [00:05<00:00, 60.0MB/s]\n",
            "100% 333M/333M [00:05<00:00, 64.6MB/s]\n"
          ],
          "name": "stdout"
        }
      ]
    },
    {
      "cell_type": "code",
      "metadata": {
        "id": "N7MfsOG2XCWr"
      },
      "source": [
        ""
      ],
      "execution_count": null,
      "outputs": []
    },
    {
      "cell_type": "code",
      "metadata": {
        "colab": {
          "base_uri": "https://localhost:8080/"
        },
        "id": "MO1BPrg6goUU",
        "outputId": "70c885fe-9934-48e8-a56d-f0c4e8c89656"
      },
      "source": [
        "!unzip \\train.csv.zip && rm train.csv.zip"
      ],
      "execution_count": null,
      "outputs": [
        {
          "output_type": "stream",
          "text": [
            "Archive:  train.csv.zip\n",
            "  inflating: train.csv               \n"
          ],
          "name": "stdout"
        }
      ]
    },
    {
      "cell_type": "code",
      "metadata": {
        "colab": {
          "base_uri": "https://localhost:8080/"
        },
        "id": "eNz-3fARDAM3",
        "outputId": "f4d2d3cd-c8fd-49a6-ca48-f0d89384fc04"
      },
      "source": [
        "!unzip \\test.csv.zip && rm test.csv.zip"
      ],
      "execution_count": null,
      "outputs": [
        {
          "output_type": "stream",
          "text": [
            "Archive:  test.csv.zip\n",
            "replace test.csv? [y]es, [n]o, [A]ll, [N]one, [r]ename: y\n",
            "  inflating: test.csv                \n"
          ],
          "name": "stdout"
        }
      ]
    },
    {
      "cell_type": "code",
      "metadata": {
        "id": "BxFwQLgrulki"
      },
      "source": [
        "import pandas as pd"
      ],
      "execution_count": null,
      "outputs": []
    },
    {
      "cell_type": "code",
      "metadata": {
        "id": "BZsaVIArCLRy"
      },
      "source": [
        "import numpy as np \n",
        "import pandas as pd \n",
        "import os\n",
        "import json\n",
        "from pandas.io.json import json_normalize\n",
        "import matplotlib.pyplot as plt\n",
        "import seaborn as sns\n",
        "from datetime import datetime, time, date, timedelta\n"
      ],
      "execution_count": null,
      "outputs": []
    },
    {
      "cell_type": "code",
      "metadata": {
        "id": "xDTEAwXKsSu3"
      },
      "source": [
        ""
      ],
      "execution_count": null,
      "outputs": []
    },
    {
      "cell_type": "code",
      "metadata": {
        "id": "-W2_Chk7cdWv"
      },
      "source": [
        "def load_df(csv_path, nrows=None):\n",
        "    '''\n",
        "        csv_path --string-- path to data frame to read \n",
        "        returns: a dataFrame where Json columns are read correctly\n",
        "    '''\n",
        "    USE_COLUMNS = [\n",
        "        'channelGrouping', 'date', 'device', 'fullVisitorId', 'geoNetwork',\n",
        "        'socialEngagementType', 'totals', 'trafficSource', 'visitId',\n",
        "        'visitNumber', 'visitStartTime', 'sessionId'\n",
        "        #'hits'\n",
        "    ]\n",
        "    JSON_COLUMNS = ['device', 'geoNetwork', 'totals', 'trafficSource']\n",
        "    \n",
        "    df = pd.read_csv(csv_path, \n",
        "                     converters={column: json.loads for column in JSON_COLUMNS}, \n",
        "                     dtype={'fullVisitorId': 'str'}, # Important!!\n",
        "                     nrows=nrows, usecols=USE_COLUMNS)\n",
        "    \n",
        "    for column in JSON_COLUMNS:\n",
        "        column_as_df = json_normalize(df[column])\n",
        "        column_as_df.columns = [f\"{column}.{subcolumn}\" for subcolumn in column_as_df.columns]\n",
        "        df = df.drop(column, axis=1).merge(column_as_df, right_index=True, left_index=True)\n",
        "    print(f\"Loaded {os.path.basename(csv_path)}. Shape: {df.shape}\")\n",
        "    return df"
      ],
      "execution_count": null,
      "outputs": []
    },
    {
      "cell_type": "code",
      "metadata": {
        "colab": {
          "base_uri": "https://localhost:8080/"
        },
        "id": "ZmmNRm5YcdZP",
        "outputId": "9c0d1aa4-d9c1-4984-993f-fb0f14219b6c"
      },
      "source": [
        "train_df = load_df(\"train.csv\")"
      ],
      "execution_count": null,
      "outputs": [
        {
          "output_type": "stream",
          "text": [
            "/usr/local/lib/python3.6/dist-packages/ipykernel_launcher.py:20: FutureWarning: pandas.io.json.json_normalize is deprecated, use pandas.json_normalize instead\n"
          ],
          "name": "stderr"
        },
        {
          "output_type": "stream",
          "text": [
            "Loaded train.csv. Shape: (903653, 55)\n"
          ],
          "name": "stdout"
        }
      ]
    },
    {
      "cell_type": "code",
      "metadata": {
        "colab": {
          "base_uri": "https://localhost:8080/",
          "height": 374
        },
        "id": "Rz48VATFDJ6R",
        "outputId": "38b56497-0ab6-404b-d2a3-5370d5cee331"
      },
      "source": [
        "test_df = load_df(\"test.csv\")"
      ],
      "execution_count": null,
      "outputs": [
        {
          "output_type": "error",
          "ename": "FileNotFoundError",
          "evalue": "ignored",
          "traceback": [
            "\u001b[0;31m---------------------------------------------------------------------------\u001b[0m",
            "\u001b[0;31mFileNotFoundError\u001b[0m                         Traceback (most recent call last)",
            "\u001b[0;32m<ipython-input-14-d6ae641386a9>\u001b[0m in \u001b[0;36m<module>\u001b[0;34m()\u001b[0m\n\u001b[0;32m----> 1\u001b[0;31m \u001b[0mtest_df\u001b[0m \u001b[0;34m=\u001b[0m \u001b[0mload_df\u001b[0m\u001b[0;34m(\u001b[0m\u001b[0;34m\"test.csv\"\u001b[0m\u001b[0;34m)\u001b[0m\u001b[0;34m\u001b[0m\u001b[0;34m\u001b[0m\u001b[0m\n\u001b[0m",
            "\u001b[0;32m<ipython-input-12-62ac3af07f76>\u001b[0m in \u001b[0;36mload_df\u001b[0;34m(csv_path, nrows)\u001b[0m\n\u001b[1;32m     15\u001b[0m                      \u001b[0mconverters\u001b[0m\u001b[0;34m=\u001b[0m\u001b[0;34m{\u001b[0m\u001b[0mcolumn\u001b[0m\u001b[0;34m:\u001b[0m \u001b[0mjson\u001b[0m\u001b[0;34m.\u001b[0m\u001b[0mloads\u001b[0m \u001b[0;32mfor\u001b[0m \u001b[0mcolumn\u001b[0m \u001b[0;32min\u001b[0m \u001b[0mJSON_COLUMNS\u001b[0m\u001b[0;34m}\u001b[0m\u001b[0;34m,\u001b[0m\u001b[0;34m\u001b[0m\u001b[0;34m\u001b[0m\u001b[0m\n\u001b[1;32m     16\u001b[0m                      \u001b[0mdtype\u001b[0m\u001b[0;34m=\u001b[0m\u001b[0;34m{\u001b[0m\u001b[0;34m'fullVisitorId'\u001b[0m\u001b[0;34m:\u001b[0m \u001b[0;34m'str'\u001b[0m\u001b[0;34m}\u001b[0m\u001b[0;34m,\u001b[0m \u001b[0;31m# Important!!\u001b[0m\u001b[0;34m\u001b[0m\u001b[0;34m\u001b[0m\u001b[0m\n\u001b[0;32m---> 17\u001b[0;31m                      nrows=nrows, usecols=USE_COLUMNS)\n\u001b[0m\u001b[1;32m     18\u001b[0m \u001b[0;34m\u001b[0m\u001b[0m\n\u001b[1;32m     19\u001b[0m     \u001b[0;32mfor\u001b[0m \u001b[0mcolumn\u001b[0m \u001b[0;32min\u001b[0m \u001b[0mJSON_COLUMNS\u001b[0m\u001b[0;34m:\u001b[0m\u001b[0;34m\u001b[0m\u001b[0;34m\u001b[0m\u001b[0m\n",
            "\u001b[0;32m/usr/local/lib/python3.6/dist-packages/pandas/io/parsers.py\u001b[0m in \u001b[0;36mread_csv\u001b[0;34m(filepath_or_buffer, sep, delimiter, header, names, index_col, usecols, squeeze, prefix, mangle_dupe_cols, dtype, engine, converters, true_values, false_values, skipinitialspace, skiprows, skipfooter, nrows, na_values, keep_default_na, na_filter, verbose, skip_blank_lines, parse_dates, infer_datetime_format, keep_date_col, date_parser, dayfirst, cache_dates, iterator, chunksize, compression, thousands, decimal, lineterminator, quotechar, quoting, doublequote, escapechar, comment, encoding, dialect, error_bad_lines, warn_bad_lines, delim_whitespace, low_memory, memory_map, float_precision)\u001b[0m\n\u001b[1;32m    686\u001b[0m     )\n\u001b[1;32m    687\u001b[0m \u001b[0;34m\u001b[0m\u001b[0m\n\u001b[0;32m--> 688\u001b[0;31m     \u001b[0;32mreturn\u001b[0m \u001b[0m_read\u001b[0m\u001b[0;34m(\u001b[0m\u001b[0mfilepath_or_buffer\u001b[0m\u001b[0;34m,\u001b[0m \u001b[0mkwds\u001b[0m\u001b[0;34m)\u001b[0m\u001b[0;34m\u001b[0m\u001b[0;34m\u001b[0m\u001b[0m\n\u001b[0m\u001b[1;32m    689\u001b[0m \u001b[0;34m\u001b[0m\u001b[0m\n\u001b[1;32m    690\u001b[0m \u001b[0;34m\u001b[0m\u001b[0m\n",
            "\u001b[0;32m/usr/local/lib/python3.6/dist-packages/pandas/io/parsers.py\u001b[0m in \u001b[0;36m_read\u001b[0;34m(filepath_or_buffer, kwds)\u001b[0m\n\u001b[1;32m    452\u001b[0m \u001b[0;34m\u001b[0m\u001b[0m\n\u001b[1;32m    453\u001b[0m     \u001b[0;31m# Create the parser.\u001b[0m\u001b[0;34m\u001b[0m\u001b[0;34m\u001b[0m\u001b[0;34m\u001b[0m\u001b[0m\n\u001b[0;32m--> 454\u001b[0;31m     \u001b[0mparser\u001b[0m \u001b[0;34m=\u001b[0m \u001b[0mTextFileReader\u001b[0m\u001b[0;34m(\u001b[0m\u001b[0mfp_or_buf\u001b[0m\u001b[0;34m,\u001b[0m \u001b[0;34m**\u001b[0m\u001b[0mkwds\u001b[0m\u001b[0;34m)\u001b[0m\u001b[0;34m\u001b[0m\u001b[0;34m\u001b[0m\u001b[0m\n\u001b[0m\u001b[1;32m    455\u001b[0m \u001b[0;34m\u001b[0m\u001b[0m\n\u001b[1;32m    456\u001b[0m     \u001b[0;32mif\u001b[0m \u001b[0mchunksize\u001b[0m \u001b[0;32mor\u001b[0m \u001b[0miterator\u001b[0m\u001b[0;34m:\u001b[0m\u001b[0;34m\u001b[0m\u001b[0;34m\u001b[0m\u001b[0m\n",
            "\u001b[0;32m/usr/local/lib/python3.6/dist-packages/pandas/io/parsers.py\u001b[0m in \u001b[0;36m__init__\u001b[0;34m(self, f, engine, **kwds)\u001b[0m\n\u001b[1;32m    946\u001b[0m             \u001b[0mself\u001b[0m\u001b[0;34m.\u001b[0m\u001b[0moptions\u001b[0m\u001b[0;34m[\u001b[0m\u001b[0;34m\"has_index_names\"\u001b[0m\u001b[0;34m]\u001b[0m \u001b[0;34m=\u001b[0m \u001b[0mkwds\u001b[0m\u001b[0;34m[\u001b[0m\u001b[0;34m\"has_index_names\"\u001b[0m\u001b[0;34m]\u001b[0m\u001b[0;34m\u001b[0m\u001b[0;34m\u001b[0m\u001b[0m\n\u001b[1;32m    947\u001b[0m \u001b[0;34m\u001b[0m\u001b[0m\n\u001b[0;32m--> 948\u001b[0;31m         \u001b[0mself\u001b[0m\u001b[0;34m.\u001b[0m\u001b[0m_make_engine\u001b[0m\u001b[0;34m(\u001b[0m\u001b[0mself\u001b[0m\u001b[0;34m.\u001b[0m\u001b[0mengine\u001b[0m\u001b[0;34m)\u001b[0m\u001b[0;34m\u001b[0m\u001b[0;34m\u001b[0m\u001b[0m\n\u001b[0m\u001b[1;32m    949\u001b[0m \u001b[0;34m\u001b[0m\u001b[0m\n\u001b[1;32m    950\u001b[0m     \u001b[0;32mdef\u001b[0m \u001b[0mclose\u001b[0m\u001b[0;34m(\u001b[0m\u001b[0mself\u001b[0m\u001b[0;34m)\u001b[0m\u001b[0;34m:\u001b[0m\u001b[0;34m\u001b[0m\u001b[0;34m\u001b[0m\u001b[0m\n",
            "\u001b[0;32m/usr/local/lib/python3.6/dist-packages/pandas/io/parsers.py\u001b[0m in \u001b[0;36m_make_engine\u001b[0;34m(self, engine)\u001b[0m\n\u001b[1;32m   1178\u001b[0m     \u001b[0;32mdef\u001b[0m \u001b[0m_make_engine\u001b[0m\u001b[0;34m(\u001b[0m\u001b[0mself\u001b[0m\u001b[0;34m,\u001b[0m \u001b[0mengine\u001b[0m\u001b[0;34m=\u001b[0m\u001b[0;34m\"c\"\u001b[0m\u001b[0;34m)\u001b[0m\u001b[0;34m:\u001b[0m\u001b[0;34m\u001b[0m\u001b[0;34m\u001b[0m\u001b[0m\n\u001b[1;32m   1179\u001b[0m         \u001b[0;32mif\u001b[0m \u001b[0mengine\u001b[0m \u001b[0;34m==\u001b[0m \u001b[0;34m\"c\"\u001b[0m\u001b[0;34m:\u001b[0m\u001b[0;34m\u001b[0m\u001b[0;34m\u001b[0m\u001b[0m\n\u001b[0;32m-> 1180\u001b[0;31m             \u001b[0mself\u001b[0m\u001b[0;34m.\u001b[0m\u001b[0m_engine\u001b[0m \u001b[0;34m=\u001b[0m \u001b[0mCParserWrapper\u001b[0m\u001b[0;34m(\u001b[0m\u001b[0mself\u001b[0m\u001b[0;34m.\u001b[0m\u001b[0mf\u001b[0m\u001b[0;34m,\u001b[0m \u001b[0;34m**\u001b[0m\u001b[0mself\u001b[0m\u001b[0;34m.\u001b[0m\u001b[0moptions\u001b[0m\u001b[0;34m)\u001b[0m\u001b[0;34m\u001b[0m\u001b[0;34m\u001b[0m\u001b[0m\n\u001b[0m\u001b[1;32m   1181\u001b[0m         \u001b[0;32melse\u001b[0m\u001b[0;34m:\u001b[0m\u001b[0;34m\u001b[0m\u001b[0;34m\u001b[0m\u001b[0m\n\u001b[1;32m   1182\u001b[0m             \u001b[0;32mif\u001b[0m \u001b[0mengine\u001b[0m \u001b[0;34m==\u001b[0m \u001b[0;34m\"python\"\u001b[0m\u001b[0;34m:\u001b[0m\u001b[0;34m\u001b[0m\u001b[0;34m\u001b[0m\u001b[0m\n",
            "\u001b[0;32m/usr/local/lib/python3.6/dist-packages/pandas/io/parsers.py\u001b[0m in \u001b[0;36m__init__\u001b[0;34m(self, src, **kwds)\u001b[0m\n\u001b[1;32m   2008\u001b[0m         \u001b[0mkwds\u001b[0m\u001b[0;34m[\u001b[0m\u001b[0;34m\"usecols\"\u001b[0m\u001b[0;34m]\u001b[0m \u001b[0;34m=\u001b[0m \u001b[0mself\u001b[0m\u001b[0;34m.\u001b[0m\u001b[0musecols\u001b[0m\u001b[0;34m\u001b[0m\u001b[0;34m\u001b[0m\u001b[0m\n\u001b[1;32m   2009\u001b[0m \u001b[0;34m\u001b[0m\u001b[0m\n\u001b[0;32m-> 2010\u001b[0;31m         \u001b[0mself\u001b[0m\u001b[0;34m.\u001b[0m\u001b[0m_reader\u001b[0m \u001b[0;34m=\u001b[0m \u001b[0mparsers\u001b[0m\u001b[0;34m.\u001b[0m\u001b[0mTextReader\u001b[0m\u001b[0;34m(\u001b[0m\u001b[0msrc\u001b[0m\u001b[0;34m,\u001b[0m \u001b[0;34m**\u001b[0m\u001b[0mkwds\u001b[0m\u001b[0;34m)\u001b[0m\u001b[0;34m\u001b[0m\u001b[0;34m\u001b[0m\u001b[0m\n\u001b[0m\u001b[1;32m   2011\u001b[0m         \u001b[0mself\u001b[0m\u001b[0;34m.\u001b[0m\u001b[0munnamed_cols\u001b[0m \u001b[0;34m=\u001b[0m \u001b[0mself\u001b[0m\u001b[0;34m.\u001b[0m\u001b[0m_reader\u001b[0m\u001b[0;34m.\u001b[0m\u001b[0munnamed_cols\u001b[0m\u001b[0;34m\u001b[0m\u001b[0;34m\u001b[0m\u001b[0m\n\u001b[1;32m   2012\u001b[0m \u001b[0;34m\u001b[0m\u001b[0m\n",
            "\u001b[0;32mpandas/_libs/parsers.pyx\u001b[0m in \u001b[0;36mpandas._libs.parsers.TextReader.__cinit__\u001b[0;34m()\u001b[0m\n",
            "\u001b[0;32mpandas/_libs/parsers.pyx\u001b[0m in \u001b[0;36mpandas._libs.parsers.TextReader._setup_parser_source\u001b[0;34m()\u001b[0m\n",
            "\u001b[0;31mFileNotFoundError\u001b[0m: [Errno 2] No such file or directory: 'test.csv'"
          ]
        }
      ]
    },
    {
      "cell_type": "code",
      "metadata": {
        "colab": {
          "base_uri": "https://localhost:8080/"
        },
        "id": "o03gQ5ypcdba",
        "outputId": "14cc5eed-3061-4270-b400-c47da4fdb85a"
      },
      "source": [
        "train_df.columns"
      ],
      "execution_count": null,
      "outputs": [
        {
          "output_type": "execute_result",
          "data": {
            "text/plain": [
              "Index(['channelGrouping', 'date', 'fullVisitorId', 'sessionId',\n",
              "       'socialEngagementType', 'visitId', 'visitNumber', 'visitStartTime',\n",
              "       'device.browser', 'device.browserVersion', 'device.browserSize',\n",
              "       'device.operatingSystem', 'device.operatingSystemVersion',\n",
              "       'device.isMobile', 'device.mobileDeviceBranding',\n",
              "       'device.mobileDeviceModel', 'device.mobileInputSelector',\n",
              "       'device.mobileDeviceInfo', 'device.mobileDeviceMarketingName',\n",
              "       'device.flashVersion', 'device.language', 'device.screenColors',\n",
              "       'device.screenResolution', 'device.deviceCategory',\n",
              "       'geoNetwork.continent', 'geoNetwork.subContinent', 'geoNetwork.country',\n",
              "       'geoNetwork.region', 'geoNetwork.metro', 'geoNetwork.city',\n",
              "       'geoNetwork.cityId', 'geoNetwork.networkDomain', 'geoNetwork.latitude',\n",
              "       'geoNetwork.longitude', 'geoNetwork.networkLocation', 'totals.visits',\n",
              "       'totals.hits', 'totals.pageviews', 'totals.bounces', 'totals.newVisits',\n",
              "       'totals.transactionRevenue', 'trafficSource.campaign',\n",
              "       'trafficSource.source', 'trafficSource.medium', 'trafficSource.keyword',\n",
              "       'trafficSource.adwordsClickInfo.criteriaParameters',\n",
              "       'trafficSource.isTrueDirect', 'trafficSource.referralPath',\n",
              "       'trafficSource.adwordsClickInfo.page',\n",
              "       'trafficSource.adwordsClickInfo.slot',\n",
              "       'trafficSource.adwordsClickInfo.gclId',\n",
              "       'trafficSource.adwordsClickInfo.adNetworkType',\n",
              "       'trafficSource.adwordsClickInfo.isVideoAd', 'trafficSource.adContent',\n",
              "       'trafficSource.campaignCode'],\n",
              "      dtype='object')"
            ]
          },
          "metadata": {
            "tags": []
          },
          "execution_count": 15
        }
      ]
    },
    {
      "cell_type": "code",
      "metadata": {
        "id": "5ksSxG3ZEWHq"
      },
      "source": [
        "test_df.columns"
      ],
      "execution_count": null,
      "outputs": []
    },
    {
      "cell_type": "code",
      "metadata": {
        "colab": {
          "base_uri": "https://localhost:8080/",
          "height": 309
        },
        "id": "d2OQpqiwDxPg",
        "outputId": "8240dfc9-0e3c-4f71-f70a-eb4c5ec79ed8"
      },
      "source": [
        "train_df.head()"
      ],
      "execution_count": null,
      "outputs": [
        {
          "output_type": "execute_result",
          "data": {
            "text/html": [
              "<div>\n",
              "<style scoped>\n",
              "    .dataframe tbody tr th:only-of-type {\n",
              "        vertical-align: middle;\n",
              "    }\n",
              "\n",
              "    .dataframe tbody tr th {\n",
              "        vertical-align: top;\n",
              "    }\n",
              "\n",
              "    .dataframe thead th {\n",
              "        text-align: right;\n",
              "    }\n",
              "</style>\n",
              "<table border=\"1\" class=\"dataframe\">\n",
              "  <thead>\n",
              "    <tr style=\"text-align: right;\">\n",
              "      <th></th>\n",
              "      <th>channelGrouping</th>\n",
              "      <th>date</th>\n",
              "      <th>fullVisitorId</th>\n",
              "      <th>sessionId</th>\n",
              "      <th>socialEngagementType</th>\n",
              "      <th>visitId</th>\n",
              "      <th>visitNumber</th>\n",
              "      <th>visitStartTime</th>\n",
              "      <th>device.browser</th>\n",
              "      <th>device.browserVersion</th>\n",
              "      <th>device.browserSize</th>\n",
              "      <th>device.operatingSystem</th>\n",
              "      <th>device.operatingSystemVersion</th>\n",
              "      <th>device.isMobile</th>\n",
              "      <th>device.mobileDeviceBranding</th>\n",
              "      <th>device.mobileDeviceModel</th>\n",
              "      <th>device.mobileInputSelector</th>\n",
              "      <th>device.mobileDeviceInfo</th>\n",
              "      <th>device.mobileDeviceMarketingName</th>\n",
              "      <th>device.flashVersion</th>\n",
              "      <th>device.language</th>\n",
              "      <th>device.screenColors</th>\n",
              "      <th>device.screenResolution</th>\n",
              "      <th>device.deviceCategory</th>\n",
              "      <th>geoNetwork.continent</th>\n",
              "      <th>geoNetwork.subContinent</th>\n",
              "      <th>geoNetwork.country</th>\n",
              "      <th>geoNetwork.region</th>\n",
              "      <th>geoNetwork.metro</th>\n",
              "      <th>geoNetwork.city</th>\n",
              "      <th>geoNetwork.cityId</th>\n",
              "      <th>geoNetwork.networkDomain</th>\n",
              "      <th>geoNetwork.latitude</th>\n",
              "      <th>geoNetwork.longitude</th>\n",
              "      <th>geoNetwork.networkLocation</th>\n",
              "      <th>totals.visits</th>\n",
              "      <th>totals.hits</th>\n",
              "      <th>totals.pageviews</th>\n",
              "      <th>totals.bounces</th>\n",
              "      <th>totals.newVisits</th>\n",
              "      <th>totals.transactionRevenue</th>\n",
              "      <th>trafficSource.campaign</th>\n",
              "      <th>trafficSource.source</th>\n",
              "      <th>trafficSource.medium</th>\n",
              "      <th>trafficSource.keyword</th>\n",
              "      <th>trafficSource.adwordsClickInfo.criteriaParameters</th>\n",
              "      <th>trafficSource.isTrueDirect</th>\n",
              "      <th>trafficSource.referralPath</th>\n",
              "      <th>trafficSource.adwordsClickInfo.page</th>\n",
              "      <th>trafficSource.adwordsClickInfo.slot</th>\n",
              "      <th>trafficSource.adwordsClickInfo.gclId</th>\n",
              "      <th>trafficSource.adwordsClickInfo.adNetworkType</th>\n",
              "      <th>trafficSource.adwordsClickInfo.isVideoAd</th>\n",
              "      <th>trafficSource.adContent</th>\n",
              "      <th>trafficSource.campaignCode</th>\n",
              "    </tr>\n",
              "  </thead>\n",
              "  <tbody>\n",
              "    <tr>\n",
              "      <th>0</th>\n",
              "      <td>Organic Search</td>\n",
              "      <td>20160902</td>\n",
              "      <td>1131660440785968503</td>\n",
              "      <td>1131660440785968503_1472830385</td>\n",
              "      <td>Not Socially Engaged</td>\n",
              "      <td>1472830385</td>\n",
              "      <td>1</td>\n",
              "      <td>1472830385</td>\n",
              "      <td>Chrome</td>\n",
              "      <td>not available in demo dataset</td>\n",
              "      <td>not available in demo dataset</td>\n",
              "      <td>Windows</td>\n",
              "      <td>not available in demo dataset</td>\n",
              "      <td>False</td>\n",
              "      <td>not available in demo dataset</td>\n",
              "      <td>not available in demo dataset</td>\n",
              "      <td>not available in demo dataset</td>\n",
              "      <td>not available in demo dataset</td>\n",
              "      <td>not available in demo dataset</td>\n",
              "      <td>not available in demo dataset</td>\n",
              "      <td>not available in demo dataset</td>\n",
              "      <td>not available in demo dataset</td>\n",
              "      <td>not available in demo dataset</td>\n",
              "      <td>desktop</td>\n",
              "      <td>Asia</td>\n",
              "      <td>Western Asia</td>\n",
              "      <td>Turkey</td>\n",
              "      <td>Izmir</td>\n",
              "      <td>(not set)</td>\n",
              "      <td>Izmir</td>\n",
              "      <td>not available in demo dataset</td>\n",
              "      <td>ttnet.com.tr</td>\n",
              "      <td>not available in demo dataset</td>\n",
              "      <td>not available in demo dataset</td>\n",
              "      <td>not available in demo dataset</td>\n",
              "      <td>1</td>\n",
              "      <td>1</td>\n",
              "      <td>1</td>\n",
              "      <td>1</td>\n",
              "      <td>1</td>\n",
              "      <td>NaN</td>\n",
              "      <td>(not set)</td>\n",
              "      <td>google</td>\n",
              "      <td>organic</td>\n",
              "      <td>(not provided)</td>\n",
              "      <td>not available in demo dataset</td>\n",
              "      <td>NaN</td>\n",
              "      <td>NaN</td>\n",
              "      <td>NaN</td>\n",
              "      <td>NaN</td>\n",
              "      <td>NaN</td>\n",
              "      <td>NaN</td>\n",
              "      <td>NaN</td>\n",
              "      <td>NaN</td>\n",
              "      <td>NaN</td>\n",
              "    </tr>\n",
              "    <tr>\n",
              "      <th>1</th>\n",
              "      <td>Organic Search</td>\n",
              "      <td>20160902</td>\n",
              "      <td>377306020877927890</td>\n",
              "      <td>377306020877927890_1472880147</td>\n",
              "      <td>Not Socially Engaged</td>\n",
              "      <td>1472880147</td>\n",
              "      <td>1</td>\n",
              "      <td>1472880147</td>\n",
              "      <td>Firefox</td>\n",
              "      <td>not available in demo dataset</td>\n",
              "      <td>not available in demo dataset</td>\n",
              "      <td>Macintosh</td>\n",
              "      <td>not available in demo dataset</td>\n",
              "      <td>False</td>\n",
              "      <td>not available in demo dataset</td>\n",
              "      <td>not available in demo dataset</td>\n",
              "      <td>not available in demo dataset</td>\n",
              "      <td>not available in demo dataset</td>\n",
              "      <td>not available in demo dataset</td>\n",
              "      <td>not available in demo dataset</td>\n",
              "      <td>not available in demo dataset</td>\n",
              "      <td>not available in demo dataset</td>\n",
              "      <td>not available in demo dataset</td>\n",
              "      <td>desktop</td>\n",
              "      <td>Oceania</td>\n",
              "      <td>Australasia</td>\n",
              "      <td>Australia</td>\n",
              "      <td>not available in demo dataset</td>\n",
              "      <td>not available in demo dataset</td>\n",
              "      <td>not available in demo dataset</td>\n",
              "      <td>not available in demo dataset</td>\n",
              "      <td>dodo.net.au</td>\n",
              "      <td>not available in demo dataset</td>\n",
              "      <td>not available in demo dataset</td>\n",
              "      <td>not available in demo dataset</td>\n",
              "      <td>1</td>\n",
              "      <td>1</td>\n",
              "      <td>1</td>\n",
              "      <td>1</td>\n",
              "      <td>1</td>\n",
              "      <td>NaN</td>\n",
              "      <td>(not set)</td>\n",
              "      <td>google</td>\n",
              "      <td>organic</td>\n",
              "      <td>(not provided)</td>\n",
              "      <td>not available in demo dataset</td>\n",
              "      <td>NaN</td>\n",
              "      <td>NaN</td>\n",
              "      <td>NaN</td>\n",
              "      <td>NaN</td>\n",
              "      <td>NaN</td>\n",
              "      <td>NaN</td>\n",
              "      <td>NaN</td>\n",
              "      <td>NaN</td>\n",
              "      <td>NaN</td>\n",
              "    </tr>\n",
              "    <tr>\n",
              "      <th>2</th>\n",
              "      <td>Organic Search</td>\n",
              "      <td>20160902</td>\n",
              "      <td>3895546263509774583</td>\n",
              "      <td>3895546263509774583_1472865386</td>\n",
              "      <td>Not Socially Engaged</td>\n",
              "      <td>1472865386</td>\n",
              "      <td>1</td>\n",
              "      <td>1472865386</td>\n",
              "      <td>Chrome</td>\n",
              "      <td>not available in demo dataset</td>\n",
              "      <td>not available in demo dataset</td>\n",
              "      <td>Windows</td>\n",
              "      <td>not available in demo dataset</td>\n",
              "      <td>False</td>\n",
              "      <td>not available in demo dataset</td>\n",
              "      <td>not available in demo dataset</td>\n",
              "      <td>not available in demo dataset</td>\n",
              "      <td>not available in demo dataset</td>\n",
              "      <td>not available in demo dataset</td>\n",
              "      <td>not available in demo dataset</td>\n",
              "      <td>not available in demo dataset</td>\n",
              "      <td>not available in demo dataset</td>\n",
              "      <td>not available in demo dataset</td>\n",
              "      <td>desktop</td>\n",
              "      <td>Europe</td>\n",
              "      <td>Southern Europe</td>\n",
              "      <td>Spain</td>\n",
              "      <td>Community of Madrid</td>\n",
              "      <td>(not set)</td>\n",
              "      <td>Madrid</td>\n",
              "      <td>not available in demo dataset</td>\n",
              "      <td>unknown.unknown</td>\n",
              "      <td>not available in demo dataset</td>\n",
              "      <td>not available in demo dataset</td>\n",
              "      <td>not available in demo dataset</td>\n",
              "      <td>1</td>\n",
              "      <td>1</td>\n",
              "      <td>1</td>\n",
              "      <td>1</td>\n",
              "      <td>1</td>\n",
              "      <td>NaN</td>\n",
              "      <td>(not set)</td>\n",
              "      <td>google</td>\n",
              "      <td>organic</td>\n",
              "      <td>(not provided)</td>\n",
              "      <td>not available in demo dataset</td>\n",
              "      <td>NaN</td>\n",
              "      <td>NaN</td>\n",
              "      <td>NaN</td>\n",
              "      <td>NaN</td>\n",
              "      <td>NaN</td>\n",
              "      <td>NaN</td>\n",
              "      <td>NaN</td>\n",
              "      <td>NaN</td>\n",
              "      <td>NaN</td>\n",
              "    </tr>\n",
              "    <tr>\n",
              "      <th>3</th>\n",
              "      <td>Organic Search</td>\n",
              "      <td>20160902</td>\n",
              "      <td>4763447161404445595</td>\n",
              "      <td>4763447161404445595_1472881213</td>\n",
              "      <td>Not Socially Engaged</td>\n",
              "      <td>1472881213</td>\n",
              "      <td>1</td>\n",
              "      <td>1472881213</td>\n",
              "      <td>UC Browser</td>\n",
              "      <td>not available in demo dataset</td>\n",
              "      <td>not available in demo dataset</td>\n",
              "      <td>Linux</td>\n",
              "      <td>not available in demo dataset</td>\n",
              "      <td>False</td>\n",
              "      <td>not available in demo dataset</td>\n",
              "      <td>not available in demo dataset</td>\n",
              "      <td>not available in demo dataset</td>\n",
              "      <td>not available in demo dataset</td>\n",
              "      <td>not available in demo dataset</td>\n",
              "      <td>not available in demo dataset</td>\n",
              "      <td>not available in demo dataset</td>\n",
              "      <td>not available in demo dataset</td>\n",
              "      <td>not available in demo dataset</td>\n",
              "      <td>desktop</td>\n",
              "      <td>Asia</td>\n",
              "      <td>Southeast Asia</td>\n",
              "      <td>Indonesia</td>\n",
              "      <td>not available in demo dataset</td>\n",
              "      <td>not available in demo dataset</td>\n",
              "      <td>not available in demo dataset</td>\n",
              "      <td>not available in demo dataset</td>\n",
              "      <td>unknown.unknown</td>\n",
              "      <td>not available in demo dataset</td>\n",
              "      <td>not available in demo dataset</td>\n",
              "      <td>not available in demo dataset</td>\n",
              "      <td>1</td>\n",
              "      <td>1</td>\n",
              "      <td>1</td>\n",
              "      <td>1</td>\n",
              "      <td>1</td>\n",
              "      <td>NaN</td>\n",
              "      <td>(not set)</td>\n",
              "      <td>google</td>\n",
              "      <td>organic</td>\n",
              "      <td>google + online</td>\n",
              "      <td>not available in demo dataset</td>\n",
              "      <td>NaN</td>\n",
              "      <td>NaN</td>\n",
              "      <td>NaN</td>\n",
              "      <td>NaN</td>\n",
              "      <td>NaN</td>\n",
              "      <td>NaN</td>\n",
              "      <td>NaN</td>\n",
              "      <td>NaN</td>\n",
              "      <td>NaN</td>\n",
              "    </tr>\n",
              "    <tr>\n",
              "      <th>4</th>\n",
              "      <td>Organic Search</td>\n",
              "      <td>20160902</td>\n",
              "      <td>27294437909732085</td>\n",
              "      <td>27294437909732085_1472822600</td>\n",
              "      <td>Not Socially Engaged</td>\n",
              "      <td>1472822600</td>\n",
              "      <td>2</td>\n",
              "      <td>1472822600</td>\n",
              "      <td>Chrome</td>\n",
              "      <td>not available in demo dataset</td>\n",
              "      <td>not available in demo dataset</td>\n",
              "      <td>Android</td>\n",
              "      <td>not available in demo dataset</td>\n",
              "      <td>True</td>\n",
              "      <td>not available in demo dataset</td>\n",
              "      <td>not available in demo dataset</td>\n",
              "      <td>not available in demo dataset</td>\n",
              "      <td>not available in demo dataset</td>\n",
              "      <td>not available in demo dataset</td>\n",
              "      <td>not available in demo dataset</td>\n",
              "      <td>not available in demo dataset</td>\n",
              "      <td>not available in demo dataset</td>\n",
              "      <td>not available in demo dataset</td>\n",
              "      <td>mobile</td>\n",
              "      <td>Europe</td>\n",
              "      <td>Northern Europe</td>\n",
              "      <td>United Kingdom</td>\n",
              "      <td>not available in demo dataset</td>\n",
              "      <td>not available in demo dataset</td>\n",
              "      <td>not available in demo dataset</td>\n",
              "      <td>not available in demo dataset</td>\n",
              "      <td>unknown.unknown</td>\n",
              "      <td>not available in demo dataset</td>\n",
              "      <td>not available in demo dataset</td>\n",
              "      <td>not available in demo dataset</td>\n",
              "      <td>1</td>\n",
              "      <td>1</td>\n",
              "      <td>1</td>\n",
              "      <td>1</td>\n",
              "      <td>NaN</td>\n",
              "      <td>NaN</td>\n",
              "      <td>(not set)</td>\n",
              "      <td>google</td>\n",
              "      <td>organic</td>\n",
              "      <td>(not provided)</td>\n",
              "      <td>not available in demo dataset</td>\n",
              "      <td>True</td>\n",
              "      <td>NaN</td>\n",
              "      <td>NaN</td>\n",
              "      <td>NaN</td>\n",
              "      <td>NaN</td>\n",
              "      <td>NaN</td>\n",
              "      <td>NaN</td>\n",
              "      <td>NaN</td>\n",
              "      <td>NaN</td>\n",
              "    </tr>\n",
              "  </tbody>\n",
              "</table>\n",
              "</div>"
            ],
            "text/plain": [
              "  channelGrouping      date  ... trafficSource.adContent trafficSource.campaignCode\n",
              "0  Organic Search  20160902  ...                     NaN                        NaN\n",
              "1  Organic Search  20160902  ...                     NaN                        NaN\n",
              "2  Organic Search  20160902  ...                     NaN                        NaN\n",
              "3  Organic Search  20160902  ...                     NaN                        NaN\n",
              "4  Organic Search  20160902  ...                     NaN                        NaN\n",
              "\n",
              "[5 rows x 55 columns]"
            ]
          },
          "metadata": {
            "tags": []
          },
          "execution_count": 17
        }
      ]
    },
    {
      "cell_type": "code",
      "metadata": {
        "colab": {
          "base_uri": "https://localhost:8080/"
        },
        "id": "fRsySoPOcdd1",
        "outputId": "ec691503-cbc6-4bab-9c87-a05434aedf57"
      },
      "source": [
        "train_df[\"totals.transactionRevenue\"].isna().sum()"
      ],
      "execution_count": null,
      "outputs": [
        {
          "output_type": "execute_result",
          "data": {
            "text/plain": [
              "892138"
            ]
          },
          "metadata": {
            "tags": []
          },
          "execution_count": 18
        }
      ]
    },
    {
      "cell_type": "code",
      "metadata": {
        "id": "_trgCRQP__xM"
      },
      "source": [
        ""
      ],
      "execution_count": null,
      "outputs": []
    },
    {
      "cell_type": "code",
      "metadata": {
        "colab": {
          "base_uri": "https://localhost:8080/"
        },
        "id": "37roA6WLF8l6",
        "outputId": "2d68d45f-9370-4e73-f668-22c0b8f7bb6c"
      },
      "source": [
        "train_df.info()"
      ],
      "execution_count": null,
      "outputs": [
        {
          "output_type": "stream",
          "text": [
            "<class 'pandas.core.frame.DataFrame'>\n",
            "RangeIndex: 903653 entries, 0 to 903652\n",
            "Data columns (total 55 columns):\n",
            " #   Column                                             Non-Null Count   Dtype \n",
            "---  ------                                             --------------   ----- \n",
            " 0   channelGrouping                                    903653 non-null  object\n",
            " 1   date                                               903653 non-null  int64 \n",
            " 2   fullVisitorId                                      903653 non-null  object\n",
            " 3   sessionId                                          903653 non-null  object\n",
            " 4   socialEngagementType                               903653 non-null  object\n",
            " 5   visitId                                            903653 non-null  int64 \n",
            " 6   visitNumber                                        903653 non-null  int64 \n",
            " 7   visitStartTime                                     903653 non-null  int64 \n",
            " 8   device.browser                                     903653 non-null  object\n",
            " 9   device.browserVersion                              903653 non-null  object\n",
            " 10  device.browserSize                                 903653 non-null  object\n",
            " 11  device.operatingSystem                             903653 non-null  object\n",
            " 12  device.operatingSystemVersion                      903653 non-null  object\n",
            " 13  device.isMobile                                    903653 non-null  bool  \n",
            " 14  device.mobileDeviceBranding                        903653 non-null  object\n",
            " 15  device.mobileDeviceModel                           903653 non-null  object\n",
            " 16  device.mobileInputSelector                         903653 non-null  object\n",
            " 17  device.mobileDeviceInfo                            903653 non-null  object\n",
            " 18  device.mobileDeviceMarketingName                   903653 non-null  object\n",
            " 19  device.flashVersion                                903653 non-null  object\n",
            " 20  device.language                                    903653 non-null  object\n",
            " 21  device.screenColors                                903653 non-null  object\n",
            " 22  device.screenResolution                            903653 non-null  object\n",
            " 23  device.deviceCategory                              903653 non-null  object\n",
            " 24  geoNetwork.continent                               903653 non-null  object\n",
            " 25  geoNetwork.subContinent                            903653 non-null  object\n",
            " 26  geoNetwork.country                                 903653 non-null  object\n",
            " 27  geoNetwork.region                                  903653 non-null  object\n",
            " 28  geoNetwork.metro                                   903653 non-null  object\n",
            " 29  geoNetwork.city                                    903653 non-null  object\n",
            " 30  geoNetwork.cityId                                  903653 non-null  object\n",
            " 31  geoNetwork.networkDomain                           903653 non-null  object\n",
            " 32  geoNetwork.latitude                                903653 non-null  object\n",
            " 33  geoNetwork.longitude                               903653 non-null  object\n",
            " 34  geoNetwork.networkLocation                         903653 non-null  object\n",
            " 35  totals.visits                                      903653 non-null  object\n",
            " 36  totals.hits                                        903653 non-null  object\n",
            " 37  totals.pageviews                                   903553 non-null  object\n",
            " 38  totals.bounces                                     450630 non-null  object\n",
            " 39  totals.newVisits                                   703060 non-null  object\n",
            " 40  totals.transactionRevenue                          11515 non-null   object\n",
            " 41  trafficSource.campaign                             903653 non-null  object\n",
            " 42  trafficSource.source                               903653 non-null  object\n",
            " 43  trafficSource.medium                               903653 non-null  object\n",
            " 44  trafficSource.keyword                              400724 non-null  object\n",
            " 45  trafficSource.adwordsClickInfo.criteriaParameters  903653 non-null  object\n",
            " 46  trafficSource.isTrueDirect                         274005 non-null  object\n",
            " 47  trafficSource.referralPath                         330941 non-null  object\n",
            " 48  trafficSource.adwordsClickInfo.page                21460 non-null   object\n",
            " 49  trafficSource.adwordsClickInfo.slot                21460 non-null   object\n",
            " 50  trafficSource.adwordsClickInfo.gclId               21561 non-null   object\n",
            " 51  trafficSource.adwordsClickInfo.adNetworkType       21460 non-null   object\n",
            " 52  trafficSource.adwordsClickInfo.isVideoAd           21460 non-null   object\n",
            " 53  trafficSource.adContent                            10946 non-null   object\n",
            " 54  trafficSource.campaignCode                         1 non-null       object\n",
            "dtypes: bool(1), int64(4), object(50)\n",
            "memory usage: 373.2+ MB\n"
          ],
          "name": "stdout"
        }
      ]
    },
    {
      "cell_type": "code",
      "metadata": {
        "id": "klUIyLqV__0T",
        "colab": {
          "base_uri": "https://localhost:8080/",
          "height": 297
        },
        "outputId": "2433b25d-79aa-4957-a36d-cd67ea91986f"
      },
      "source": [
        "train_df.describe()"
      ],
      "execution_count": null,
      "outputs": [
        {
          "output_type": "execute_result",
          "data": {
            "text/html": [
              "<div>\n",
              "<style scoped>\n",
              "    .dataframe tbody tr th:only-of-type {\n",
              "        vertical-align: middle;\n",
              "    }\n",
              "\n",
              "    .dataframe tbody tr th {\n",
              "        vertical-align: top;\n",
              "    }\n",
              "\n",
              "    .dataframe thead th {\n",
              "        text-align: right;\n",
              "    }\n",
              "</style>\n",
              "<table border=\"1\" class=\"dataframe\">\n",
              "  <thead>\n",
              "    <tr style=\"text-align: right;\">\n",
              "      <th></th>\n",
              "      <th>date</th>\n",
              "      <th>visitId</th>\n",
              "      <th>visitNumber</th>\n",
              "      <th>visitStartTime</th>\n",
              "    </tr>\n",
              "  </thead>\n",
              "  <tbody>\n",
              "    <tr>\n",
              "      <th>count</th>\n",
              "      <td>9.036530e+05</td>\n",
              "      <td>9.036530e+05</td>\n",
              "      <td>903653.000000</td>\n",
              "      <td>9.036530e+05</td>\n",
              "    </tr>\n",
              "    <tr>\n",
              "      <th>mean</th>\n",
              "      <td>2.016589e+07</td>\n",
              "      <td>1.485007e+09</td>\n",
              "      <td>2.264897</td>\n",
              "      <td>1.485007e+09</td>\n",
              "    </tr>\n",
              "    <tr>\n",
              "      <th>std</th>\n",
              "      <td>4.697698e+03</td>\n",
              "      <td>9.022124e+06</td>\n",
              "      <td>9.283735</td>\n",
              "      <td>9.022124e+06</td>\n",
              "    </tr>\n",
              "    <tr>\n",
              "      <th>min</th>\n",
              "      <td>2.016080e+07</td>\n",
              "      <td>1.470035e+09</td>\n",
              "      <td>1.000000</td>\n",
              "      <td>1.470035e+09</td>\n",
              "    </tr>\n",
              "    <tr>\n",
              "      <th>25%</th>\n",
              "      <td>2.016103e+07</td>\n",
              "      <td>1.477561e+09</td>\n",
              "      <td>1.000000</td>\n",
              "      <td>1.477561e+09</td>\n",
              "    </tr>\n",
              "    <tr>\n",
              "      <th>50%</th>\n",
              "      <td>2.017011e+07</td>\n",
              "      <td>1.483949e+09</td>\n",
              "      <td>1.000000</td>\n",
              "      <td>1.483949e+09</td>\n",
              "    </tr>\n",
              "    <tr>\n",
              "      <th>75%</th>\n",
              "      <td>2.017042e+07</td>\n",
              "      <td>1.492759e+09</td>\n",
              "      <td>1.000000</td>\n",
              "      <td>1.492759e+09</td>\n",
              "    </tr>\n",
              "    <tr>\n",
              "      <th>max</th>\n",
              "      <td>2.017080e+07</td>\n",
              "      <td>1.501657e+09</td>\n",
              "      <td>395.000000</td>\n",
              "      <td>1.501657e+09</td>\n",
              "    </tr>\n",
              "  </tbody>\n",
              "</table>\n",
              "</div>"
            ],
            "text/plain": [
              "               date       visitId    visitNumber  visitStartTime\n",
              "count  9.036530e+05  9.036530e+05  903653.000000    9.036530e+05\n",
              "mean   2.016589e+07  1.485007e+09       2.264897    1.485007e+09\n",
              "std    4.697698e+03  9.022124e+06       9.283735    9.022124e+06\n",
              "min    2.016080e+07  1.470035e+09       1.000000    1.470035e+09\n",
              "25%    2.016103e+07  1.477561e+09       1.000000    1.477561e+09\n",
              "50%    2.017011e+07  1.483949e+09       1.000000    1.483949e+09\n",
              "75%    2.017042e+07  1.492759e+09       1.000000    1.492759e+09\n",
              "max    2.017080e+07  1.501657e+09     395.000000    1.501657e+09"
            ]
          },
          "metadata": {
            "tags": []
          },
          "execution_count": 20
        }
      ]
    },
    {
      "cell_type": "code",
      "metadata": {
        "id": "h20nHXie__5y",
        "colab": {
          "base_uri": "https://localhost:8080/"
        },
        "outputId": "d4ce04da-4a9c-43d6-a013-0b0a22818776"
      },
      "source": [
        "print(\"The dataset consists of {} entries and {} features\".format(train_df.shape[0], train_df.shape[1]))"
      ],
      "execution_count": null,
      "outputs": [
        {
          "output_type": "stream",
          "text": [
            "The dataset consists of 903653 entries and 55 features\n"
          ],
          "name": "stdout"
        }
      ]
    },
    {
      "cell_type": "markdown",
      "metadata": {
        "id": "azrJ03VQUJ83"
      },
      "source": [
        "**Dataset Preprocessing**"
      ]
    },
    {
      "cell_type": "code",
      "metadata": {
        "id": "UXl1n0krzV4v"
      },
      "source": [
        "cols = train_df.columns\n",
        "num_cols = train_df._get_numeric_data().columns\n",
        "obj_cols = list(set(cols) - set(num_cols))"
      ],
      "execution_count": null,
      "outputs": []
    },
    {
      "cell_type": "code",
      "metadata": {
        "id": "lKm4rrOrbRww"
      },
      "source": [
        "train_df[\"totals.transactionRevenue\"].fillna(0,inplace=True)"
      ],
      "execution_count": null,
      "outputs": []
    },
    {
      "cell_type": "code",
      "metadata": {
        "colab": {
          "base_uri": "https://localhost:8080/",
          "height": 1000
        },
        "id": "4Lealq2uWii0",
        "outputId": "16204604-05cf-4b6d-f7d6-8b465a7fc42f"
      },
      "source": [
        "total_test = train_df[obj_cols].isnull().sum().sort_values(ascending=False)\n",
        "percent = (train_df[obj_cols].isnull().sum()/train_df[obj_cols].isnull().count()).sort_values(ascending=False)*100\n",
        "data_to_be_removed = pd.concat([total_test, percent], axis=1,join='outer', keys=['Missing Value Count', 'Percentage of Missing Values'])\n",
        "data_to_be_removed.index.name ='Features'\n",
        "data_to_be_removed"
      ],
      "execution_count": null,
      "outputs": [
        {
          "output_type": "execute_result",
          "data": {
            "text/html": [
              "<div>\n",
              "<style scoped>\n",
              "    .dataframe tbody tr th:only-of-type {\n",
              "        vertical-align: middle;\n",
              "    }\n",
              "\n",
              "    .dataframe tbody tr th {\n",
              "        vertical-align: top;\n",
              "    }\n",
              "\n",
              "    .dataframe thead th {\n",
              "        text-align: right;\n",
              "    }\n",
              "</style>\n",
              "<table border=\"1\" class=\"dataframe\">\n",
              "  <thead>\n",
              "    <tr style=\"text-align: right;\">\n",
              "      <th></th>\n",
              "      <th>Missing Value Count</th>\n",
              "      <th>Percentage of Missing Values</th>\n",
              "    </tr>\n",
              "    <tr>\n",
              "      <th>Features</th>\n",
              "      <th></th>\n",
              "      <th></th>\n",
              "    </tr>\n",
              "  </thead>\n",
              "  <tbody>\n",
              "    <tr>\n",
              "      <th>trafficSource.campaignCode</th>\n",
              "      <td>903652</td>\n",
              "      <td>99.999889</td>\n",
              "    </tr>\n",
              "    <tr>\n",
              "      <th>trafficSource.adContent</th>\n",
              "      <td>892707</td>\n",
              "      <td>98.788694</td>\n",
              "    </tr>\n",
              "    <tr>\n",
              "      <th>trafficSource.adwordsClickInfo.isVideoAd</th>\n",
              "      <td>882193</td>\n",
              "      <td>97.625195</td>\n",
              "    </tr>\n",
              "    <tr>\n",
              "      <th>trafficSource.adwordsClickInfo.page</th>\n",
              "      <td>882193</td>\n",
              "      <td>97.625195</td>\n",
              "    </tr>\n",
              "    <tr>\n",
              "      <th>trafficSource.adwordsClickInfo.adNetworkType</th>\n",
              "      <td>882193</td>\n",
              "      <td>97.625195</td>\n",
              "    </tr>\n",
              "    <tr>\n",
              "      <th>trafficSource.adwordsClickInfo.slot</th>\n",
              "      <td>882193</td>\n",
              "      <td>97.625195</td>\n",
              "    </tr>\n",
              "    <tr>\n",
              "      <th>trafficSource.adwordsClickInfo.gclId</th>\n",
              "      <td>882092</td>\n",
              "      <td>97.614018</td>\n",
              "    </tr>\n",
              "    <tr>\n",
              "      <th>trafficSource.isTrueDirect</th>\n",
              "      <td>629648</td>\n",
              "      <td>69.678073</td>\n",
              "    </tr>\n",
              "    <tr>\n",
              "      <th>trafficSource.referralPath</th>\n",
              "      <td>572712</td>\n",
              "      <td>63.377425</td>\n",
              "    </tr>\n",
              "    <tr>\n",
              "      <th>trafficSource.keyword</th>\n",
              "      <td>502929</td>\n",
              "      <td>55.655102</td>\n",
              "    </tr>\n",
              "    <tr>\n",
              "      <th>totals.bounces</th>\n",
              "      <td>453023</td>\n",
              "      <td>50.132407</td>\n",
              "    </tr>\n",
              "    <tr>\n",
              "      <th>totals.newVisits</th>\n",
              "      <td>200593</td>\n",
              "      <td>22.198012</td>\n",
              "    </tr>\n",
              "    <tr>\n",
              "      <th>totals.pageviews</th>\n",
              "      <td>100</td>\n",
              "      <td>0.011066</td>\n",
              "    </tr>\n",
              "    <tr>\n",
              "      <th>geoNetwork.country</th>\n",
              "      <td>0</td>\n",
              "      <td>0.000000</td>\n",
              "    </tr>\n",
              "    <tr>\n",
              "      <th>device.browserSize</th>\n",
              "      <td>0</td>\n",
              "      <td>0.000000</td>\n",
              "    </tr>\n",
              "    <tr>\n",
              "      <th>geoNetwork.city</th>\n",
              "      <td>0</td>\n",
              "      <td>0.000000</td>\n",
              "    </tr>\n",
              "    <tr>\n",
              "      <th>geoNetwork.longitude</th>\n",
              "      <td>0</td>\n",
              "      <td>0.000000</td>\n",
              "    </tr>\n",
              "    <tr>\n",
              "      <th>device.language</th>\n",
              "      <td>0</td>\n",
              "      <td>0.000000</td>\n",
              "    </tr>\n",
              "    <tr>\n",
              "      <th>geoNetwork.subContinent</th>\n",
              "      <td>0</td>\n",
              "      <td>0.000000</td>\n",
              "    </tr>\n",
              "    <tr>\n",
              "      <th>device.operatingSystem</th>\n",
              "      <td>0</td>\n",
              "      <td>0.000000</td>\n",
              "    </tr>\n",
              "    <tr>\n",
              "      <th>device.browserVersion</th>\n",
              "      <td>0</td>\n",
              "      <td>0.000000</td>\n",
              "    </tr>\n",
              "    <tr>\n",
              "      <th>device.mobileDeviceModel</th>\n",
              "      <td>0</td>\n",
              "      <td>0.000000</td>\n",
              "    </tr>\n",
              "    <tr>\n",
              "      <th>device.mobileDeviceInfo</th>\n",
              "      <td>0</td>\n",
              "      <td>0.000000</td>\n",
              "    </tr>\n",
              "    <tr>\n",
              "      <th>device.flashVersion</th>\n",
              "      <td>0</td>\n",
              "      <td>0.000000</td>\n",
              "    </tr>\n",
              "    <tr>\n",
              "      <th>geoNetwork.metro</th>\n",
              "      <td>0</td>\n",
              "      <td>0.000000</td>\n",
              "    </tr>\n",
              "    <tr>\n",
              "      <th>trafficSource.source</th>\n",
              "      <td>0</td>\n",
              "      <td>0.000000</td>\n",
              "    </tr>\n",
              "    <tr>\n",
              "      <th>totals.hits</th>\n",
              "      <td>0</td>\n",
              "      <td>0.000000</td>\n",
              "    </tr>\n",
              "    <tr>\n",
              "      <th>geoNetwork.networkDomain</th>\n",
              "      <td>0</td>\n",
              "      <td>0.000000</td>\n",
              "    </tr>\n",
              "    <tr>\n",
              "      <th>geoNetwork.latitude</th>\n",
              "      <td>0</td>\n",
              "      <td>0.000000</td>\n",
              "    </tr>\n",
              "    <tr>\n",
              "      <th>device.screenColors</th>\n",
              "      <td>0</td>\n",
              "      <td>0.000000</td>\n",
              "    </tr>\n",
              "    <tr>\n",
              "      <th>geoNetwork.cityId</th>\n",
              "      <td>0</td>\n",
              "      <td>0.000000</td>\n",
              "    </tr>\n",
              "    <tr>\n",
              "      <th>fullVisitorId</th>\n",
              "      <td>0</td>\n",
              "      <td>0.000000</td>\n",
              "    </tr>\n",
              "    <tr>\n",
              "      <th>geoNetwork.region</th>\n",
              "      <td>0</td>\n",
              "      <td>0.000000</td>\n",
              "    </tr>\n",
              "    <tr>\n",
              "      <th>trafficSource.medium</th>\n",
              "      <td>0</td>\n",
              "      <td>0.000000</td>\n",
              "    </tr>\n",
              "    <tr>\n",
              "      <th>channelGrouping</th>\n",
              "      <td>0</td>\n",
              "      <td>0.000000</td>\n",
              "    </tr>\n",
              "    <tr>\n",
              "      <th>socialEngagementType</th>\n",
              "      <td>0</td>\n",
              "      <td>0.000000</td>\n",
              "    </tr>\n",
              "    <tr>\n",
              "      <th>device.mobileDeviceMarketingName</th>\n",
              "      <td>0</td>\n",
              "      <td>0.000000</td>\n",
              "    </tr>\n",
              "    <tr>\n",
              "      <th>device.deviceCategory</th>\n",
              "      <td>0</td>\n",
              "      <td>0.000000</td>\n",
              "    </tr>\n",
              "    <tr>\n",
              "      <th>device.mobileDeviceBranding</th>\n",
              "      <td>0</td>\n",
              "      <td>0.000000</td>\n",
              "    </tr>\n",
              "    <tr>\n",
              "      <th>totals.transactionRevenue</th>\n",
              "      <td>0</td>\n",
              "      <td>0.000000</td>\n",
              "    </tr>\n",
              "    <tr>\n",
              "      <th>device.screenResolution</th>\n",
              "      <td>0</td>\n",
              "      <td>0.000000</td>\n",
              "    </tr>\n",
              "    <tr>\n",
              "      <th>geoNetwork.networkLocation</th>\n",
              "      <td>0</td>\n",
              "      <td>0.000000</td>\n",
              "    </tr>\n",
              "    <tr>\n",
              "      <th>device.browser</th>\n",
              "      <td>0</td>\n",
              "      <td>0.000000</td>\n",
              "    </tr>\n",
              "    <tr>\n",
              "      <th>device.mobileInputSelector</th>\n",
              "      <td>0</td>\n",
              "      <td>0.000000</td>\n",
              "    </tr>\n",
              "    <tr>\n",
              "      <th>geoNetwork.continent</th>\n",
              "      <td>0</td>\n",
              "      <td>0.000000</td>\n",
              "    </tr>\n",
              "    <tr>\n",
              "      <th>trafficSource.adwordsClickInfo.criteriaParameters</th>\n",
              "      <td>0</td>\n",
              "      <td>0.000000</td>\n",
              "    </tr>\n",
              "    <tr>\n",
              "      <th>trafficSource.campaign</th>\n",
              "      <td>0</td>\n",
              "      <td>0.000000</td>\n",
              "    </tr>\n",
              "    <tr>\n",
              "      <th>sessionId</th>\n",
              "      <td>0</td>\n",
              "      <td>0.000000</td>\n",
              "    </tr>\n",
              "    <tr>\n",
              "      <th>device.operatingSystemVersion</th>\n",
              "      <td>0</td>\n",
              "      <td>0.000000</td>\n",
              "    </tr>\n",
              "    <tr>\n",
              "      <th>totals.visits</th>\n",
              "      <td>0</td>\n",
              "      <td>0.000000</td>\n",
              "    </tr>\n",
              "  </tbody>\n",
              "</table>\n",
              "</div>"
            ],
            "text/plain": [
              "                                                   Missing Value Count  Percentage of Missing Values\n",
              "Features                                                                                            \n",
              "trafficSource.campaignCode                                      903652                     99.999889\n",
              "trafficSource.adContent                                         892707                     98.788694\n",
              "trafficSource.adwordsClickInfo.isVideoAd                        882193                     97.625195\n",
              "trafficSource.adwordsClickInfo.page                             882193                     97.625195\n",
              "trafficSource.adwordsClickInfo.adNetworkType                    882193                     97.625195\n",
              "trafficSource.adwordsClickInfo.slot                             882193                     97.625195\n",
              "trafficSource.adwordsClickInfo.gclId                            882092                     97.614018\n",
              "trafficSource.isTrueDirect                                      629648                     69.678073\n",
              "trafficSource.referralPath                                      572712                     63.377425\n",
              "trafficSource.keyword                                           502929                     55.655102\n",
              "totals.bounces                                                  453023                     50.132407\n",
              "totals.newVisits                                                200593                     22.198012\n",
              "totals.pageviews                                                   100                      0.011066\n",
              "geoNetwork.country                                                   0                      0.000000\n",
              "device.browserSize                                                   0                      0.000000\n",
              "geoNetwork.city                                                      0                      0.000000\n",
              "geoNetwork.longitude                                                 0                      0.000000\n",
              "device.language                                                      0                      0.000000\n",
              "geoNetwork.subContinent                                              0                      0.000000\n",
              "device.operatingSystem                                               0                      0.000000\n",
              "device.browserVersion                                                0                      0.000000\n",
              "device.mobileDeviceModel                                             0                      0.000000\n",
              "device.mobileDeviceInfo                                              0                      0.000000\n",
              "device.flashVersion                                                  0                      0.000000\n",
              "geoNetwork.metro                                                     0                      0.000000\n",
              "trafficSource.source                                                 0                      0.000000\n",
              "totals.hits                                                          0                      0.000000\n",
              "geoNetwork.networkDomain                                             0                      0.000000\n",
              "geoNetwork.latitude                                                  0                      0.000000\n",
              "device.screenColors                                                  0                      0.000000\n",
              "geoNetwork.cityId                                                    0                      0.000000\n",
              "fullVisitorId                                                        0                      0.000000\n",
              "geoNetwork.region                                                    0                      0.000000\n",
              "trafficSource.medium                                                 0                      0.000000\n",
              "channelGrouping                                                      0                      0.000000\n",
              "socialEngagementType                                                 0                      0.000000\n",
              "device.mobileDeviceMarketingName                                     0                      0.000000\n",
              "device.deviceCategory                                                0                      0.000000\n",
              "device.mobileDeviceBranding                                          0                      0.000000\n",
              "totals.transactionRevenue                                            0                      0.000000\n",
              "device.screenResolution                                              0                      0.000000\n",
              "geoNetwork.networkLocation                                           0                      0.000000\n",
              "device.browser                                                       0                      0.000000\n",
              "device.mobileInputSelector                                           0                      0.000000\n",
              "geoNetwork.continent                                                 0                      0.000000\n",
              "trafficSource.adwordsClickInfo.criteriaParameters                    0                      0.000000\n",
              "trafficSource.campaign                                               0                      0.000000\n",
              "sessionId                                                            0                      0.000000\n",
              "device.operatingSystemVersion                                        0                      0.000000\n",
              "totals.visits                                                        0                      0.000000"
            ]
          },
          "metadata": {
            "tags": []
          },
          "execution_count": 24
        }
      ]
    },
    {
      "cell_type": "code",
      "metadata": {
        "id": "qmzVnABtzWDc",
        "colab": {
          "base_uri": "https://localhost:8080/",
          "height": 312
        },
        "outputId": "9cb05f0d-92ac-4578-f350-459f845d1840"
      },
      "source": [
        "sns.barplot(y = data_to_be_removed.index[:15],x = data_to_be_removed['Percentage of Missing Values'][:15],color='blue').set_title(\"Missing Values in Categorical Features\")"
      ],
      "execution_count": null,
      "outputs": [
        {
          "output_type": "execute_result",
          "data": {
            "text/plain": [
              "Text(0.5, 1.0, 'Missing Values in Categorical Features')"
            ]
          },
          "metadata": {
            "tags": []
          },
          "execution_count": 25
        },
        {
          "output_type": "display_data",
          "data": {
            "image/png": "[encoded data removed]",
            "text/plain": [
              "<Figure size 432x288 with 1 Axes>"
            ]
          },
          "metadata": {
            "tags": [],
            "needs_background": "light"
          }
        }
      ]
    },
    {
      "cell_type": "code",
      "metadata": {
        "id": "NkyfxcOIY3C2"
      },
      "source": [
        "missing_cols = list(data_to_be_removed[data_to_be_removed['Percentage of Missing Values']>50.0].iloc[:,1].index)"
      ],
      "execution_count": null,
      "outputs": []
    },
    {
      "cell_type": "code",
      "metadata": {
        "id": "Ggt1JyQnzWYL",
        "colab": {
          "base_uri": "https://localhost:8080/",
          "height": 235
        },
        "outputId": "f26197c1-1305-4abe-9d8d-7bc51bdaf839"
      },
      "source": [
        "\n",
        "total_test1 = train_df[num_cols].isnull().sum().sort_values(ascending=False)\n",
        "percent1 = (train_df[num_cols].isnull().sum()/train_df[num_cols].isnull().count()).sort_values(ascending=False)*100\n",
        "data_to_be_removed1 = pd.concat([total_test1, percent1], axis=1,join='outer', keys=['Missing Value Count', 'Percentage of Missing Values'])\n",
        "data_to_be_removed1.index.name ='Features'\n",
        "data_to_be_removed1"
      ],
      "execution_count": null,
      "outputs": [
        {
          "output_type": "execute_result",
          "data": {
            "text/html": [
              "<div>\n",
              "<style scoped>\n",
              "    .dataframe tbody tr th:only-of-type {\n",
              "        vertical-align: middle;\n",
              "    }\n",
              "\n",
              "    .dataframe tbody tr th {\n",
              "        vertical-align: top;\n",
              "    }\n",
              "\n",
              "    .dataframe thead th {\n",
              "        text-align: right;\n",
              "    }\n",
              "</style>\n",
              "<table border=\"1\" class=\"dataframe\">\n",
              "  <thead>\n",
              "    <tr style=\"text-align: right;\">\n",
              "      <th></th>\n",
              "      <th>Missing Value Count</th>\n",
              "      <th>Percentage of Missing Values</th>\n",
              "    </tr>\n",
              "    <tr>\n",
              "      <th>Features</th>\n",
              "      <th></th>\n",
              "      <th></th>\n",
              "    </tr>\n",
              "  </thead>\n",
              "  <tbody>\n",
              "    <tr>\n",
              "      <th>device.isMobile</th>\n",
              "      <td>0</td>\n",
              "      <td>0.0</td>\n",
              "    </tr>\n",
              "    <tr>\n",
              "      <th>visitStartTime</th>\n",
              "      <td>0</td>\n",
              "      <td>0.0</td>\n",
              "    </tr>\n",
              "    <tr>\n",
              "      <th>visitNumber</th>\n",
              "      <td>0</td>\n",
              "      <td>0.0</td>\n",
              "    </tr>\n",
              "    <tr>\n",
              "      <th>visitId</th>\n",
              "      <td>0</td>\n",
              "      <td>0.0</td>\n",
              "    </tr>\n",
              "    <tr>\n",
              "      <th>date</th>\n",
              "      <td>0</td>\n",
              "      <td>0.0</td>\n",
              "    </tr>\n",
              "  </tbody>\n",
              "</table>\n",
              "</div>"
            ],
            "text/plain": [
              "                 Missing Value Count  Percentage of Missing Values\n",
              "Features                                                          \n",
              "device.isMobile                    0                           0.0\n",
              "visitStartTime                     0                           0.0\n",
              "visitNumber                        0                           0.0\n",
              "visitId                            0                           0.0\n",
              "date                               0                           0.0"
            ]
          },
          "metadata": {
            "tags": []
          },
          "execution_count": 27
        }
      ]
    },
    {
      "cell_type": "markdown",
      "metadata": {
        "id": "gLH4XfICb_tj"
      },
      "source": [
        "**Removing Categorical features with just 1 level**\n"
      ]
    },
    {
      "cell_type": "code",
      "metadata": {
        "colab": {
          "base_uri": "https://localhost:8080/"
        },
        "id": "_kB-pQSeZkES",
        "outputId": "cc3e785e-2c90-49ea-ab02-9aedc85feab6"
      },
      "source": [
        "single_level_cols = [cols for cols in train_df[obj_cols].columns if train_df[cols].nunique(dropna=False)==1 ]\n",
        "train_df.drop(single_level_cols,axis=1,inplace=True)\n",
        "print(train_df.shape)"
      ],
      "execution_count": null,
      "outputs": [
        {
          "output_type": "stream",
          "text": [
            "(903653, 36)\n"
          ],
          "name": "stdout"
        }
      ]
    },
    {
      "cell_type": "code",
      "metadata": {
        "colab": {
          "base_uri": "https://localhost:8080/"
        },
        "id": "DsNNMl4ag5nv",
        "outputId": "25c5e445-0b94-45e4-cb3c-c9198c32f563"
      },
      "source": [
        "print(train_df.info())"
      ],
      "execution_count": null,
      "outputs": [
        {
          "output_type": "stream",
          "text": [
            "<class 'pandas.core.frame.DataFrame'>\n",
            "RangeIndex: 903653 entries, 0 to 903652\n",
            "Data columns (total 36 columns):\n",
            " #   Column                                        Non-Null Count   Dtype \n",
            "---  ------                                        --------------   ----- \n",
            " 0   channelGrouping                               903653 non-null  object\n",
            " 1   date                                          903653 non-null  int64 \n",
            " 2   fullVisitorId                                 903653 non-null  object\n",
            " 3   sessionId                                     903653 non-null  object\n",
            " 4   visitId                                       903653 non-null  int64 \n",
            " 5   visitNumber                                   903653 non-null  int64 \n",
            " 6   visitStartTime                                903653 non-null  int64 \n",
            " 7   device.browser                                903653 non-null  object\n",
            " 8   device.operatingSystem                        903653 non-null  object\n",
            " 9   device.isMobile                               903653 non-null  bool  \n",
            " 10  device.deviceCategory                         903653 non-null  object\n",
            " 11  geoNetwork.continent                          903653 non-null  object\n",
            " 12  geoNetwork.subContinent                       903653 non-null  object\n",
            " 13  geoNetwork.country                            903653 non-null  object\n",
            " 14  geoNetwork.region                             903653 non-null  object\n",
            " 15  geoNetwork.metro                              903653 non-null  object\n",
            " 16  geoNetwork.city                               903653 non-null  object\n",
            " 17  geoNetwork.networkDomain                      903653 non-null  object\n",
            " 18  totals.hits                                   903653 non-null  object\n",
            " 19  totals.pageviews                              903553 non-null  object\n",
            " 20  totals.bounces                                450630 non-null  object\n",
            " 21  totals.newVisits                              703060 non-null  object\n",
            " 22  totals.transactionRevenue                     903653 non-null  object\n",
            " 23  trafficSource.campaign                        903653 non-null  object\n",
            " 24  trafficSource.source                          903653 non-null  object\n",
            " 25  trafficSource.medium                          903653 non-null  object\n",
            " 26  trafficSource.keyword                         400724 non-null  object\n",
            " 27  trafficSource.isTrueDirect                    274005 non-null  object\n",
            " 28  trafficSource.referralPath                    330941 non-null  object\n",
            " 29  trafficSource.adwordsClickInfo.page           21460 non-null   object\n",
            " 30  trafficSource.adwordsClickInfo.slot           21460 non-null   object\n",
            " 31  trafficSource.adwordsClickInfo.gclId          21561 non-null   object\n",
            " 32  trafficSource.adwordsClickInfo.adNetworkType  21460 non-null   object\n",
            " 33  trafficSource.adwordsClickInfo.isVideoAd      21460 non-null   object\n",
            " 34  trafficSource.adContent                       10946 non-null   object\n",
            " 35  trafficSource.campaignCode                    1 non-null       object\n",
            "dtypes: bool(1), int64(4), object(31)\n",
            "memory usage: 242.2+ MB\n",
            "None\n"
          ],
          "name": "stdout"
        }
      ]
    },
    {
      "cell_type": "markdown",
      "metadata": {
        "id": "5COAfNGEd1hb"
      },
      "source": [
        "**EDA**"
      ]
    },
    {
      "cell_type": "code",
      "metadata": {
        "id": "M3ercRzEetRN"
      },
      "source": [
        "train_df[\"totals.transactionRevenue\"] = train_df[\"totals.transactionRevenue\"].astype('float')"
      ],
      "execution_count": null,
      "outputs": []
    },
    {
      "cell_type": "code",
      "metadata": {
        "colab": {
          "base_uri": "https://localhost:8080/"
        },
        "id": "UcykXQNFd6Oj",
        "outputId": "d5e4281f-d12e-4180-99c4-cc3327879593"
      },
      "source": [
        "rev_total=train_df.groupby(\"fullVisitorId\")[\"totals.transactionRevenue\"].sum().reset_index()\n",
        "nrc = rev_total[rev_total['totals.transactionRevenue']==0]\n",
        "rc = rev_total[rev_total['totals.transactionRevenue']>0]\n",
        "print(\"The number of nonrevenue customers are \", len(nrc))\n",
        "print(\"The number of revenue generating customers are \", len(rc))\n",
        "print(\"the ratio of revenue generating customers are {0:0.4}%\".format(len(rc)/len(rev_total)*100))"
      ],
      "execution_count": null,
      "outputs": [
        {
          "output_type": "stream",
          "text": [
            "The number of nonrevenue customers are  704171\n",
            "The number of revenue generating customers are  9996\n",
            "the ratio of revenue generating customers are 1.4%\n"
          ],
          "name": "stdout"
        }
      ]
    },
    {
      "cell_type": "code",
      "metadata": {
        "colab": {
          "base_uri": "https://localhost:8080/",
          "height": 295
        },
        "id": "wU7yeayUcFF8",
        "outputId": "a936660b-d807-401d-93f7-5be9e2b24f0d"
      },
      "source": [
        "labels = ['Non revenue generating customers','revenue generating customers']\n",
        "values = [704171,9996]\n",
        "\n",
        "plt.axis(\"equal\")\n",
        "plt.pie(values, labels=labels, radius=1.5, autopct=\"%0.2f%%\",shadow=True, explode=[0,0.8], colors= ['lightskyblue','lightcoral'])\n",
        "plt.show()"
      ],
      "execution_count": null,
      "outputs": [
        {
          "output_type": "display_data",
          "data": {
            "image/png": "[encoded data removed]",
            "text/plain": [
              "<Figure size 432x288 with 1 Axes>"
            ]
          },
          "metadata": {
            "tags": []
          }
        }
      ]
    },
    {
      "cell_type": "code",
      "metadata": {
        "id": "4rqPYc41qtta"
      },
      "source": [
        ""
      ],
      "execution_count": null,
      "outputs": []
    },
    {
      "cell_type": "markdown",
      "metadata": {
        "id": "d8EbgWCeqmct"
      },
      "source": [
        "**Treat the date and hour columns**"
      ]
    },
    {
      "cell_type": "code",
      "metadata": {
        "colab": {
          "base_uri": "https://localhost:8080/",
          "height": 292
        },
        "id": "L-tbDhWDqwn_",
        "outputId": "4bd542ac-1f97-460c-c81c-17ed994df419"
      },
      "source": [
        "train_df.head()"
      ],
      "execution_count": null,
      "outputs": [
        {
          "output_type": "execute_result",
          "data": {
            "text/html": [
              "<div>\n",
              "<style scoped>\n",
              "    .dataframe tbody tr th:only-of-type {\n",
              "        vertical-align: middle;\n",
              "    }\n",
              "\n",
              "    .dataframe tbody tr th {\n",
              "        vertical-align: top;\n",
              "    }\n",
              "\n",
              "    .dataframe thead th {\n",
              "        text-align: right;\n",
              "    }\n",
              "</style>\n",
              "<table border=\"1\" class=\"dataframe\">\n",
              "  <thead>\n",
              "    <tr style=\"text-align: right;\">\n",
              "      <th></th>\n",
              "      <th>channelGrouping</th>\n",
              "      <th>date</th>\n",
              "      <th>fullVisitorId</th>\n",
              "      <th>sessionId</th>\n",
              "      <th>visitId</th>\n",
              "      <th>visitNumber</th>\n",
              "      <th>visitStartTime</th>\n",
              "      <th>device.browser</th>\n",
              "      <th>device.operatingSystem</th>\n",
              "      <th>device.isMobile</th>\n",
              "      <th>device.deviceCategory</th>\n",
              "      <th>geoNetwork.continent</th>\n",
              "      <th>geoNetwork.subContinent</th>\n",
              "      <th>geoNetwork.country</th>\n",
              "      <th>geoNetwork.region</th>\n",
              "      <th>geoNetwork.metro</th>\n",
              "      <th>geoNetwork.city</th>\n",
              "      <th>geoNetwork.networkDomain</th>\n",
              "      <th>totals.hits</th>\n",
              "      <th>totals.pageviews</th>\n",
              "      <th>totals.bounces</th>\n",
              "      <th>totals.newVisits</th>\n",
              "      <th>totals.transactionRevenue</th>\n",
              "      <th>trafficSource.campaign</th>\n",
              "      <th>trafficSource.source</th>\n",
              "      <th>trafficSource.medium</th>\n",
              "      <th>trafficSource.keyword</th>\n",
              "      <th>trafficSource.isTrueDirect</th>\n",
              "      <th>trafficSource.referralPath</th>\n",
              "      <th>trafficSource.adwordsClickInfo.page</th>\n",
              "      <th>trafficSource.adwordsClickInfo.slot</th>\n",
              "      <th>trafficSource.adwordsClickInfo.gclId</th>\n",
              "      <th>trafficSource.adwordsClickInfo.adNetworkType</th>\n",
              "      <th>trafficSource.adwordsClickInfo.isVideoAd</th>\n",
              "      <th>trafficSource.adContent</th>\n",
              "      <th>trafficSource.campaignCode</th>\n",
              "    </tr>\n",
              "  </thead>\n",
              "  <tbody>\n",
              "    <tr>\n",
              "      <th>0</th>\n",
              "      <td>Organic Search</td>\n",
              "      <td>20160902</td>\n",
              "      <td>1131660440785968503</td>\n",
              "      <td>1131660440785968503_1472830385</td>\n",
              "      <td>1472830385</td>\n",
              "      <td>1</td>\n",
              "      <td>1472830385</td>\n",
              "      <td>Chrome</td>\n",
              "      <td>Windows</td>\n",
              "      <td>False</td>\n",
              "      <td>desktop</td>\n",
              "      <td>Asia</td>\n",
              "      <td>Western Asia</td>\n",
              "      <td>Turkey</td>\n",
              "      <td>Izmir</td>\n",
              "      <td>(not set)</td>\n",
              "      <td>Izmir</td>\n",
              "      <td>ttnet.com.tr</td>\n",
              "      <td>1</td>\n",
              "      <td>1</td>\n",
              "      <td>1</td>\n",
              "      <td>1</td>\n",
              "      <td>0.0</td>\n",
              "      <td>(not set)</td>\n",
              "      <td>google</td>\n",
              "      <td>organic</td>\n",
              "      <td>(not provided)</td>\n",
              "      <td>NaN</td>\n",
              "      <td>NaN</td>\n",
              "      <td>NaN</td>\n",
              "      <td>NaN</td>\n",
              "      <td>NaN</td>\n",
              "      <td>NaN</td>\n",
              "      <td>NaN</td>\n",
              "      <td>NaN</td>\n",
              "      <td>NaN</td>\n",
              "    </tr>\n",
              "    <tr>\n",
              "      <th>1</th>\n",
              "      <td>Organic Search</td>\n",
              "      <td>20160902</td>\n",
              "      <td>377306020877927890</td>\n",
              "      <td>377306020877927890_1472880147</td>\n",
              "      <td>1472880147</td>\n",
              "      <td>1</td>\n",
              "      <td>1472880147</td>\n",
              "      <td>Firefox</td>\n",
              "      <td>Macintosh</td>\n",
              "      <td>False</td>\n",
              "      <td>desktop</td>\n",
              "      <td>Oceania</td>\n",
              "      <td>Australasia</td>\n",
              "      <td>Australia</td>\n",
              "      <td>not available in demo dataset</td>\n",
              "      <td>not available in demo dataset</td>\n",
              "      <td>not available in demo dataset</td>\n",
              "      <td>dodo.net.au</td>\n",
              "      <td>1</td>\n",
              "      <td>1</td>\n",
              "      <td>1</td>\n",
              "      <td>1</td>\n",
              "      <td>0.0</td>\n",
              "      <td>(not set)</td>\n",
              "      <td>google</td>\n",
              "      <td>organic</td>\n",
              "      <td>(not provided)</td>\n",
              "      <td>NaN</td>\n",
              "      <td>NaN</td>\n",
              "      <td>NaN</td>\n",
              "      <td>NaN</td>\n",
              "      <td>NaN</td>\n",
              "      <td>NaN</td>\n",
              "      <td>NaN</td>\n",
              "      <td>NaN</td>\n",
              "      <td>NaN</td>\n",
              "    </tr>\n",
              "    <tr>\n",
              "      <th>2</th>\n",
              "      <td>Organic Search</td>\n",
              "      <td>20160902</td>\n",
              "      <td>3895546263509774583</td>\n",
              "      <td>3895546263509774583_1472865386</td>\n",
              "      <td>1472865386</td>\n",
              "      <td>1</td>\n",
              "      <td>1472865386</td>\n",
              "      <td>Chrome</td>\n",
              "      <td>Windows</td>\n",
              "      <td>False</td>\n",
              "      <td>desktop</td>\n",
              "      <td>Europe</td>\n",
              "      <td>Southern Europe</td>\n",
              "      <td>Spain</td>\n",
              "      <td>Community of Madrid</td>\n",
              "      <td>(not set)</td>\n",
              "      <td>Madrid</td>\n",
              "      <td>unknown.unknown</td>\n",
              "      <td>1</td>\n",
              "      <td>1</td>\n",
              "      <td>1</td>\n",
              "      <td>1</td>\n",
              "      <td>0.0</td>\n",
              "      <td>(not set)</td>\n",
              "      <td>google</td>\n",
              "      <td>organic</td>\n",
              "      <td>(not provided)</td>\n",
              "      <td>NaN</td>\n",
              "      <td>NaN</td>\n",
              "      <td>NaN</td>\n",
              "      <td>NaN</td>\n",
              "      <td>NaN</td>\n",
              "      <td>NaN</td>\n",
              "      <td>NaN</td>\n",
              "      <td>NaN</td>\n",
              "      <td>NaN</td>\n",
              "    </tr>\n",
              "    <tr>\n",
              "      <th>3</th>\n",
              "      <td>Organic Search</td>\n",
              "      <td>20160902</td>\n",
              "      <td>4763447161404445595</td>\n",
              "      <td>4763447161404445595_1472881213</td>\n",
              "      <td>1472881213</td>\n",
              "      <td>1</td>\n",
              "      <td>1472881213</td>\n",
              "      <td>UC Browser</td>\n",
              "      <td>Linux</td>\n",
              "      <td>False</td>\n",
              "      <td>desktop</td>\n",
              "      <td>Asia</td>\n",
              "      <td>Southeast Asia</td>\n",
              "      <td>Indonesia</td>\n",
              "      <td>not available in demo dataset</td>\n",
              "      <td>not available in demo dataset</td>\n",
              "      <td>not available in demo dataset</td>\n",
              "      <td>unknown.unknown</td>\n",
              "      <td>1</td>\n",
              "      <td>1</td>\n",
              "      <td>1</td>\n",
              "      <td>1</td>\n",
              "      <td>0.0</td>\n",
              "      <td>(not set)</td>\n",
              "      <td>google</td>\n",
              "      <td>organic</td>\n",
              "      <td>google + online</td>\n",
              "      <td>NaN</td>\n",
              "      <td>NaN</td>\n",
              "      <td>NaN</td>\n",
              "      <td>NaN</td>\n",
              "      <td>NaN</td>\n",
              "      <td>NaN</td>\n",
              "      <td>NaN</td>\n",
              "      <td>NaN</td>\n",
              "      <td>NaN</td>\n",
              "    </tr>\n",
              "    <tr>\n",
              "      <th>4</th>\n",
              "      <td>Organic Search</td>\n",
              "      <td>20160902</td>\n",
              "      <td>27294437909732085</td>\n",
              "      <td>27294437909732085_1472822600</td>\n",
              "      <td>1472822600</td>\n",
              "      <td>2</td>\n",
              "      <td>1472822600</td>\n",
              "      <td>Chrome</td>\n",
              "      <td>Android</td>\n",
              "      <td>True</td>\n",
              "      <td>mobile</td>\n",
              "      <td>Europe</td>\n",
              "      <td>Northern Europe</td>\n",
              "      <td>United Kingdom</td>\n",
              "      <td>not available in demo dataset</td>\n",
              "      <td>not available in demo dataset</td>\n",
              "      <td>not available in demo dataset</td>\n",
              "      <td>unknown.unknown</td>\n",
              "      <td>1</td>\n",
              "      <td>1</td>\n",
              "      <td>1</td>\n",
              "      <td>NaN</td>\n",
              "      <td>0.0</td>\n",
              "      <td>(not set)</td>\n",
              "      <td>google</td>\n",
              "      <td>organic</td>\n",
              "      <td>(not provided)</td>\n",
              "      <td>True</td>\n",
              "      <td>NaN</td>\n",
              "      <td>NaN</td>\n",
              "      <td>NaN</td>\n",
              "      <td>NaN</td>\n",
              "      <td>NaN</td>\n",
              "      <td>NaN</td>\n",
              "      <td>NaN</td>\n",
              "      <td>NaN</td>\n",
              "    </tr>\n",
              "  </tbody>\n",
              "</table>\n",
              "</div>"
            ],
            "text/plain": [
              "  channelGrouping      date  ... trafficSource.adContent trafficSource.campaignCode\n",
              "0  Organic Search  20160902  ...                     NaN                        NaN\n",
              "1  Organic Search  20160902  ...                     NaN                        NaN\n",
              "2  Organic Search  20160902  ...                     NaN                        NaN\n",
              "3  Organic Search  20160902  ...                     NaN                        NaN\n",
              "4  Organic Search  20160902  ...                     NaN                        NaN\n",
              "\n",
              "[5 rows x 36 columns]"
            ]
          },
          "metadata": {
            "tags": []
          },
          "execution_count": 33
        }
      ]
    },
    {
      "cell_type": "code",
      "metadata": {
        "id": "zsPbCwJNfyRE"
      },
      "source": [
        "# library of datetime\n",
        "from datetime import datetime\n",
        "\n",
        "# This function is to extract date features\n",
        "def date_process(df):\n",
        "    df[\"date\"] = pd.to_datetime(df[\"date\"], format=\"%Y%m%d\") # seting the column as pandas datetime\n",
        "    df[\"_weekday\"] = df['date'].dt.day_name()#extracting week day\n",
        "    df[\"_day\"] = df['date'].dt.day # extracting day\n",
        "    df[\"_month\"] = df['date'].dt.month # extracting month\n",
        "    df[\"_year\"] = df['date'].dt.year # extracting day\n",
        "    df['_visitHour'] = (df['visitStartTime'].apply(lambda x: str(datetime.fromtimestamp(x).hour))).astype(int)\n",
        "    \n",
        "    return df #returning the df after the transformations"
      ],
      "execution_count": null,
      "outputs": []
    },
    {
      "cell_type": "code",
      "metadata": {
        "id": "JA0D2kqhfybl"
      },
      "source": [
        "train_df = date_process(train_df)"
      ],
      "execution_count": null,
      "outputs": []
    },
    {
      "cell_type": "markdown",
      "metadata": {
        "id": "oseS1wfbxTzT"
      },
      "source": [
        "**Exploring Date fields**"
      ]
    },
    {
      "cell_type": "code",
      "metadata": {
        "colab": {
          "base_uri": "https://localhost:8080/",
          "height": 517
        },
        "id": "dhBD-saWfylx",
        "outputId": "9197ebb4-2409-4ad6-ee81-ce1f9ba31f01"
      },
      "source": [
        "# Define order of day for better visualization\n",
        "day_order = ['Monday', 'Tuesday', 'Wednesday', 'Thursday', 'Friday', 'Saturday', 'Sunday']\n",
        "plt.figure(figsize=(14,8))\n",
        "sns.barplot(x=train_df['_weekday'], y=(train_df['totals.transactionRevenue']/ 10**6), data=train_df,order = day_order)\n",
        "plt.title(\"Transaction Revenue in Each Day of Week\", fontsize = 14, style = 'italic')\n",
        "plt.xlabel(\"Day of Week\", fontsize = 12, weight = 'bold')\n",
        "plt.ylabel(\"Transaction Revenue\", fontsize = 12, weight = 'bold')\n",
        "plt.show()"
      ],
      "execution_count": null,
      "outputs": [
        {
          "output_type": "display_data",
          "data": {
            "image/png": "[encoded data removed]",
            "text/plain": [
              "<Figure size 1008x576 with 1 Axes>"
            ]
          },
          "metadata": {
            "tags": [],
            "needs_background": "light"
          }
        }
      ]
    },
    {
      "cell_type": "markdown",
      "metadata": {
        "id": "PSru0sG4DT6i"
      },
      "source": [
        "On weekdays we can expect more sales\n",
        "On weekends sales are less"
      ]
    },
    {
      "cell_type": "code",
      "metadata": {
        "colab": {
          "base_uri": "https://localhost:8080/",
          "height": 408
        },
        "id": "a1WTEQ1aB3gP",
        "outputId": "2acfe395-7ce0-4020-e7d1-c4c21cf675ef"
      },
      "source": [
        "plt.figure(figsize=(12,6))\n",
        "sns.barplot(x=train_df[\"_month\"],y=train_df['totals.transactionRevenue'])\n",
        "plt.title(\"Transaction Revenue in Each Month\", fontsize = 14, style = 'italic')\n",
        "plt.xlabel(\"Month\", fontsize = 12, weight = 'bold')\n",
        "plt.ylabel(\"Transaction Revenue\", fontsize = 12, weight = 'bold')\n",
        "plt.show()"
      ],
      "execution_count": null,
      "outputs": [
        {
          "output_type": "display_data",
          "data": {
            "image/png": "[encoded data removed]",
            "text/plain": [
              "<Figure size 864x432 with 1 Axes>"
            ]
          },
          "metadata": {
            "tags": [],
            "needs_background": "light"
          }
        }
      ]
    },
    {
      "cell_type": "markdown",
      "metadata": {
        "id": "dkYUJHI9Lvw1"
      },
      "source": [
        "**Revenue peak on April**"
      ]
    },
    {
      "cell_type": "code",
      "metadata": {
        "colab": {
          "base_uri": "https://localhost:8080/",
          "height": 517
        },
        "id": "PMchHw6gB3jD",
        "outputId": "b71b7ae6-cf08-47b7-ae03-efced93f8909"
      },
      "source": [
        "plt.figure(figsize=(14,8))\n",
        "sns.barplot(data = train_df,\n",
        "            x = '_visitHour',\n",
        "            y = train_df['totals.transactionRevenue'])\n",
        "plt.title(\"Transaction Revenue in Each hour of day\", fontsize = 14, style = 'italic')\n",
        "plt.xlabel(\"Hour of day\", fontsize = 12, weight = 'bold')\n",
        "plt.ylabel(\"Transaction Revenue\", fontsize = 12, weight = 'bold')\n",
        "plt.ticklabel_format(style='plain', axis='y')\n",
        "plt.show()"
      ],
      "execution_count": null,
      "outputs": [
        {
          "output_type": "display_data",
          "data": {
            "image/png": "[encoded data removed]",
            "text/plain": [
              "<Figure size 1008x576 with 1 Axes>"
            ]
          },
          "metadata": {
            "tags": [],
            "needs_background": "light"
          }
        }
      ]
    },
    {
      "cell_type": "markdown",
      "metadata": {
        "id": "-Bg6kQXIO99F"
      },
      "source": [
        "Afternoon 2pm to night 11pm ,revenue generation is high\n",
        "Most revenue gain by visit in 20:00 (8:00pm)"
      ]
    },
    {
      "cell_type": "code",
      "metadata": {
        "colab": {
          "base_uri": "https://localhost:8080/",
          "height": 400
        },
        "id": "lsOZUfINB3pi",
        "outputId": "71ed3082-de02-4308-f5c6-5a9625717b8e"
      },
      "source": [
        "plt.figure(figsize=(12,6))\n",
        "sns.barplot(x=train_df['_day'], y=train_df['totals.transactionRevenue'], data=train_df)\n",
        "plt.show()"
      ],
      "execution_count": null,
      "outputs": [
        {
          "output_type": "display_data",
          "data": {
            "image/png": "[encoded data removed]",
            "text/plain": [
              "<Figure size 864x432 with 1 Axes>"
            ]
          },
          "metadata": {
            "tags": [],
            "needs_background": "light"
          }
        }
      ]
    },
    {
      "cell_type": "markdown",
      "metadata": {
        "id": "RYSE1YDyQqKf"
      },
      "source": [
        "**What device visitor use to visit Gstore**"
      ]
    },
    {
      "cell_type": "code",
      "metadata": {
        "colab": {
          "base_uri": "https://localhost:8080/",
          "height": 483
        },
        "id": "BugPanMHPVtV",
        "outputId": "70b232c0-28d0-45d6-94ca-89cfce808e55"
      },
      "source": [
        "device = train_df['device.deviceCategory'].value_counts()\n",
        "plt.figure(figsize=[14,8])\n",
        "plt.pie(device, labels = device.index, startangle = 90, autopct= '%1.2f%%', counterclock = False, textprops={'color':'white'});\n",
        "plt.legend(['Desktop', 'Mobile', 'Tablet'],\n",
        "           title='Device', \n",
        "           loc='upper right')\n",
        "plt.title('Distribution of Device Category', fontsize = 14,  style ='italic');"
      ],
      "execution_count": null,
      "outputs": [
        {
          "output_type": "display_data",
          "data": {
            "image/png": "[encoded data removed]",
            "text/plain": [
              "<Figure size 1008x576 with 1 Axes>"
            ]
          },
          "metadata": {
            "tags": []
          }
        }
      ]
    },
    {
      "cell_type": "code",
      "metadata": {
        "id": "EwuN-GKjPVwc"
      },
      "source": [
        "visitFreq_agg =train_df.groupby('fullVisitorId').agg(frequency = ('fullVisitorId', 'count') , \n",
        "                                                      transactions = ('totals.transactionRevenue', 'sum'))\n",
        "visitFreq_agg['visitRange'] =pd.cut(visitFreq_agg['frequency'], [-1, 1, 2, 3, 6, 10, 20, 40, 80, 400],\n",
        "                                     labels = ['1', '2', '3', '4-6', '7-10', '11-20', '21-40', '41-80', '81-400'])\n",
        "visitFreq_agg =visitFreq_agg.groupby('visitRange').agg(visit_frequency = ('frequency','count'),\n",
        "                                        Total_revenue =('transactions','sum'))\n",
        "visitFreq_agg[\"Total_revenue\"]=visitFreq_agg[\"Total_revenue\"]/10**6\n",
        "visitFreq_agg['frequency_%'] = (visitFreq_agg['visit_frequency']/sum(visitFreq_agg['visit_frequency'])).map(\"{:.2%}\".format)\n",
        "visitFreq_agg['Revenue%'] = (visitFreq_agg['Total_revenue']/sum(visitFreq_agg['Total_revenue'])).map(\"{:.2%}\".format)"
      ],
      "execution_count": null,
      "outputs": []
    },
    {
      "cell_type": "code",
      "metadata": {
        "colab": {
          "base_uri": "https://localhost:8080/",
          "height": 359
        },
        "id": "q4h3tphddI3q",
        "outputId": "fe7493f3-5f8c-41df-de11-56670e0f7242"
      },
      "source": [
        "visitFreq_agg"
      ],
      "execution_count": null,
      "outputs": [
        {
          "output_type": "execute_result",
          "data": {
            "text/html": [
              "<div>\n",
              "<style scoped>\n",
              "    .dataframe tbody tr th:only-of-type {\n",
              "        vertical-align: middle;\n",
              "    }\n",
              "\n",
              "    .dataframe tbody tr th {\n",
              "        vertical-align: top;\n",
              "    }\n",
              "\n",
              "    .dataframe thead th {\n",
              "        text-align: right;\n",
              "    }\n",
              "</style>\n",
              "<table border=\"1\" class=\"dataframe\">\n",
              "  <thead>\n",
              "    <tr style=\"text-align: right;\">\n",
              "      <th></th>\n",
              "      <th>visit_frequency</th>\n",
              "      <th>Total_revenue</th>\n",
              "      <th>frequency_%</th>\n",
              "      <th>Revenue%</th>\n",
              "    </tr>\n",
              "    <tr>\n",
              "      <th>visitRange</th>\n",
              "      <th></th>\n",
              "      <th></th>\n",
              "      <th></th>\n",
              "      <th></th>\n",
              "    </tr>\n",
              "  </thead>\n",
              "  <tbody>\n",
              "    <tr>\n",
              "      <th>1</th>\n",
              "      <td>620675</td>\n",
              "      <td>237084.23</td>\n",
              "      <td>86.91%</td>\n",
              "      <td>15.39%</td>\n",
              "    </tr>\n",
              "    <tr>\n",
              "      <th>2</th>\n",
              "      <td>58711</td>\n",
              "      <td>216987.94</td>\n",
              "      <td>8.22%</td>\n",
              "      <td>14.09%</td>\n",
              "    </tr>\n",
              "    <tr>\n",
              "      <th>3</th>\n",
              "      <td>17159</td>\n",
              "      <td>179655.30</td>\n",
              "      <td>2.40%</td>\n",
              "      <td>11.67%</td>\n",
              "    </tr>\n",
              "    <tr>\n",
              "      <th>4-6</th>\n",
              "      <td>13098</td>\n",
              "      <td>339408.88</td>\n",
              "      <td>1.83%</td>\n",
              "      <td>22.04%</td>\n",
              "    </tr>\n",
              "    <tr>\n",
              "      <th>7-10</th>\n",
              "      <td>2991</td>\n",
              "      <td>194089.12</td>\n",
              "      <td>0.42%</td>\n",
              "      <td>12.60%</td>\n",
              "    </tr>\n",
              "    <tr>\n",
              "      <th>11-20</th>\n",
              "      <td>1183</td>\n",
              "      <td>175814.36</td>\n",
              "      <td>0.17%</td>\n",
              "      <td>11.42%</td>\n",
              "    </tr>\n",
              "    <tr>\n",
              "      <th>21-40</th>\n",
              "      <td>266</td>\n",
              "      <td>108663.31</td>\n",
              "      <td>0.04%</td>\n",
              "      <td>7.06%</td>\n",
              "    </tr>\n",
              "    <tr>\n",
              "      <th>41-80</th>\n",
              "      <td>59</td>\n",
              "      <td>5484.42</td>\n",
              "      <td>0.01%</td>\n",
              "      <td>0.36%</td>\n",
              "    </tr>\n",
              "    <tr>\n",
              "      <th>81-400</th>\n",
              "      <td>25</td>\n",
              "      <td>82883.68</td>\n",
              "      <td>0.00%</td>\n",
              "      <td>5.38%</td>\n",
              "    </tr>\n",
              "  </tbody>\n",
              "</table>\n",
              "</div>"
            ],
            "text/plain": [
              "            visit_frequency  Total_revenue frequency_% Revenue%\n",
              "visitRange                                                     \n",
              "1                    620675      237084.23      86.91%   15.39%\n",
              "2                     58711      216987.94       8.22%   14.09%\n",
              "3                     17159      179655.30       2.40%   11.67%\n",
              "4-6                   13098      339408.88       1.83%   22.04%\n",
              "7-10                   2991      194089.12       0.42%   12.60%\n",
              "11-20                  1183      175814.36       0.17%   11.42%\n",
              "21-40                   266      108663.31       0.04%    7.06%\n",
              "41-80                    59        5484.42       0.01%    0.36%\n",
              "81-400                   25       82883.68       0.00%    5.38%"
            ]
          },
          "metadata": {
            "tags": []
          },
          "execution_count": 42
        }
      ]
    },
    {
      "cell_type": "code",
      "metadata": {
        "colab": {
          "base_uri": "https://localhost:8080/",
          "height": 280
        },
        "id": "fSMsMbZEPHbA",
        "outputId": "10c1d8b7-b128-44ed-d3b5-2c38b375c8dd"
      },
      "source": [
        "sns.barplot(x=visitFreq_agg[\"visit_frequency\"], y=visitFreq_agg.index, data=visitFreq_agg)\n",
        "plt.show()"
      ],
      "execution_count": null,
      "outputs": [
        {
          "output_type": "display_data",
          "data": {
            "image/png": "[encoded data removed]",
            "text/plain": [
              "<Figure size 432x288 with 1 Axes>"
            ]
          },
          "metadata": {
            "tags": [],
            "needs_background": "light"
          }
        }
      ]
    },
    {
      "cell_type": "code",
      "metadata": {
        "colab": {
          "base_uri": "https://localhost:8080/",
          "height": 280
        },
        "id": "fUDuCJ7COuxc",
        "outputId": "513330d7-4fb2-487c-d4f1-d97323efc3e3"
      },
      "source": [
        "sns.barplot(x=visitFreq_agg[\"Total_revenue\"], y=visitFreq_agg.index, data=visitFreq_agg)\n",
        "plt.show()"
      ],
      "execution_count": null,
      "outputs": [
        {
          "output_type": "display_data",
          "data": {
            "image/png": "[encoded data removed]",
            "text/plain": [
              "<Figure size 432x288 with 1 Axes>"
            ]
          },
          "metadata": {
            "tags": [],
            "needs_background": "light"
          }
        }
      ]
    },
    {
      "cell_type": "markdown",
      "metadata": {
        "id": "ThHG8qhue6rG"
      },
      "source": [
        "Most visitors (86.91%) only visit the website once\n",
        "For the visitors that visit the site for 4 - 6 times, they are the highest revenue generating group, \\ although they only account for 1.83% of total visitors, they contribute 22.04% of the total revenue (buying)"
      ]
    },
    {
      "cell_type": "code",
      "metadata": {
        "colab": {
          "base_uri": "https://localhost:8080/",
          "height": 287
        },
        "id": "CSIEj6bUgcFa",
        "outputId": "881440e3-bde3-4abe-db25-29e4a98c5508"
      },
      "source": [
        "gdata=train_df.groupby('date').agg(visitFreq = ('fullVisitorId', 'count'))\n",
        "fig, ax =  plt.subplots(1, 1, figsize = (20.70, 5.27))\n",
        "\n",
        "sns.lineplot(x=\"date\", y=\"visitFreq\", data=gdata)\n",
        "\n",
        "ax.set_title('Trend of Visit Frequency', fontsize = 14, style = 'italic');"
      ],
      "execution_count": null,
      "outputs": [
        {
          "output_type": "display_data",
          "data": {
            "image/png": "[encoded data removed]",
            "text/plain": [
              "<Figure size 1490.4x379.44 with 1 Axes>"
            ]
          },
          "metadata": {
            "tags": [],
            "needs_background": "light"
          }
        }
      ]
    },
    {
      "cell_type": "code",
      "metadata": {
        "colab": {
          "base_uri": "https://localhost:8080/",
          "height": 303
        },
        "id": "RRRQzIhmhGij",
        "outputId": "b6a063a5-8d18-455a-92f3-8532454f710f"
      },
      "source": [
        "GData=train_df.groupby('date').agg(visitFreq = ('fullVisitorId', 'count'),Revenue = ('totals.transactionRevenue', 'sum'))\n",
        "GData[\"Revenue\"]=GData[\"Revenue\"]/10**6\n",
        "## Graph for sum of Revenue (buying)\n",
        "fig, ax =  plt.subplots(1, 1, figsize = (20.70, 5.27))\n",
        "sns.lineplot(x=\"date\", y=\"Revenue\", data=GData)\n",
        "ax.set_title('Trend of Visit Frequency', fontsize = 14, style = 'italic')"
      ],
      "execution_count": null,
      "outputs": [
        {
          "output_type": "execute_result",
          "data": {
            "text/plain": [
              "Text(0.5, 1.0, 'Trend of Visit Frequency')"
            ]
          },
          "metadata": {
            "tags": []
          },
          "execution_count": 46
        },
        {
          "output_type": "display_data",
          "data": {
            "image/png": "[encoded data removed]",
            "text/plain": [
              "<Figure size 1490.4x379.44 with 1 Axes>"
            ]
          },
          "metadata": {
            "tags": [],
            "needs_background": "light"
          }
        }
      ]
    },
    {
      "cell_type": "markdown",
      "metadata": {
        "id": "mkE3jxCxCQRE"
      },
      "source": [
        "\n",
        "Data Finding: From 2016-10 to 2016-12, there was a period of significant increase in distinct number of visitors but not for the sum of transaction revenue. This could be possibly caused by an unsuccessful marketing compaign that brought in lots of visitors but low conversion rates or there was a surge of spam clicks/visitors."
      ]
    },
    {
      "cell_type": "markdown",
      "metadata": {
        "id": "7SEZUrxjj-Kt"
      },
      "source": [
        "**Exploring Geonetwork category**"
      ]
    },
    {
      "cell_type": "code",
      "metadata": {
        "colab": {
          "base_uri": "https://localhost:8080/",
          "height": 390
        },
        "id": "oDhb-vJTm0F5",
        "outputId": "7b9aa631-f2e7-45e2-f7c6-1b528d5539cd"
      },
      "source": [
        "country = train_df.groupby('geoNetwork.country').agg(visitFreq = ('fullVisitorId', 'count'),\n",
        "                                                     Total_revenue =('totals.transactionRevenue','sum'))\n",
        "country[\"Total_revenue\"]=country[\"Total_revenue\"]/10**6\n",
        "country['visit_Freq%'] = (country['visitFreq']/sum(country['visitFreq'])).map(\"{:.2%}\".format)\n",
        "country['Revenue%%'] = (country['Total_revenue']/sum(country['Total_revenue'])).map(\"{:.2%}\".format)\n",
        "\n",
        "country = country[['visitFreq','visit_Freq%','Total_revenue','Revenue%%']]\n",
        "country=country.sort_values(by=['visitFreq'],ascending = False).head(10)\n",
        "country"
      ],
      "execution_count": null,
      "outputs": [
        {
          "output_type": "execute_result",
          "data": {
            "text/html": [
              "<div>\n",
              "<style scoped>\n",
              "    .dataframe tbody tr th:only-of-type {\n",
              "        vertical-align: middle;\n",
              "    }\n",
              "\n",
              "    .dataframe tbody tr th {\n",
              "        vertical-align: top;\n",
              "    }\n",
              "\n",
              "    .dataframe thead th {\n",
              "        text-align: right;\n",
              "    }\n",
              "</style>\n",
              "<table border=\"1\" class=\"dataframe\">\n",
              "  <thead>\n",
              "    <tr style=\"text-align: right;\">\n",
              "      <th></th>\n",
              "      <th>visitFreq</th>\n",
              "      <th>visit_Freq%</th>\n",
              "      <th>Total_revenue</th>\n",
              "      <th>Revenue%%</th>\n",
              "    </tr>\n",
              "    <tr>\n",
              "      <th>geoNetwork.country</th>\n",
              "      <th></th>\n",
              "      <th></th>\n",
              "      <th></th>\n",
              "      <th></th>\n",
              "    </tr>\n",
              "  </thead>\n",
              "  <tbody>\n",
              "    <tr>\n",
              "      <th>United States</th>\n",
              "      <td>364744</td>\n",
              "      <td>40.36%</td>\n",
              "      <td>1452440.65</td>\n",
              "      <td>94.31%</td>\n",
              "    </tr>\n",
              "    <tr>\n",
              "      <th>India</th>\n",
              "      <td>51140</td>\n",
              "      <td>5.66%</td>\n",
              "      <td>696.66</td>\n",
              "      <td>0.05%</td>\n",
              "    </tr>\n",
              "    <tr>\n",
              "      <th>United Kingdom</th>\n",
              "      <td>37393</td>\n",
              "      <td>4.14%</td>\n",
              "      <td>1689.45</td>\n",
              "      <td>0.11%</td>\n",
              "    </tr>\n",
              "    <tr>\n",
              "      <th>Canada</th>\n",
              "      <td>25869</td>\n",
              "      <td>2.86%</td>\n",
              "      <td>32824.54</td>\n",
              "      <td>2.13%</td>\n",
              "    </tr>\n",
              "    <tr>\n",
              "      <th>Vietnam</th>\n",
              "      <td>24598</td>\n",
              "      <td>2.72%</td>\n",
              "      <td>0.00</td>\n",
              "      <td>0.00%</td>\n",
              "    </tr>\n",
              "    <tr>\n",
              "      <th>Turkey</th>\n",
              "      <td>20522</td>\n",
              "      <td>2.27%</td>\n",
              "      <td>102.41</td>\n",
              "      <td>0.01%</td>\n",
              "    </tr>\n",
              "    <tr>\n",
              "      <th>Thailand</th>\n",
              "      <td>20123</td>\n",
              "      <td>2.23%</td>\n",
              "      <td>462.71</td>\n",
              "      <td>0.03%</td>\n",
              "    </tr>\n",
              "    <tr>\n",
              "      <th>Germany</th>\n",
              "      <td>19980</td>\n",
              "      <td>2.21%</td>\n",
              "      <td>549.34</td>\n",
              "      <td>0.04%</td>\n",
              "    </tr>\n",
              "    <tr>\n",
              "      <th>Brazil</th>\n",
              "      <td>19783</td>\n",
              "      <td>2.19%</td>\n",
              "      <td>641.83</td>\n",
              "      <td>0.04%</td>\n",
              "    </tr>\n",
              "    <tr>\n",
              "      <th>Japan</th>\n",
              "      <td>19731</td>\n",
              "      <td>2.18%</td>\n",
              "      <td>6728.99</td>\n",
              "      <td>0.44%</td>\n",
              "    </tr>\n",
              "  </tbody>\n",
              "</table>\n",
              "</div>"
            ],
            "text/plain": [
              "                    visitFreq visit_Freq%  Total_revenue Revenue%%\n",
              "geoNetwork.country                                                \n",
              "United States          364744      40.36%     1452440.65    94.31%\n",
              "India                   51140       5.66%         696.66     0.05%\n",
              "United Kingdom          37393       4.14%        1689.45     0.11%\n",
              "Canada                  25869       2.86%       32824.54     2.13%\n",
              "Vietnam                 24598       2.72%           0.00     0.00%\n",
              "Turkey                  20522       2.27%         102.41     0.01%\n",
              "Thailand                20123       2.23%         462.71     0.03%\n",
              "Germany                 19980       2.21%         549.34     0.04%\n",
              "Brazil                  19783       2.19%         641.83     0.04%\n",
              "Japan                   19731       2.18%        6728.99     0.44%"
            ]
          },
          "metadata": {
            "tags": []
          },
          "execution_count": 47
        }
      ]
    },
    {
      "cell_type": "code",
      "metadata": {
        "colab": {
          "base_uri": "https://localhost:8080/",
          "height": 280
        },
        "id": "A_4W4hbHoaDi",
        "outputId": "6d31552b-192a-46a7-f4ab-bd6713df7a94"
      },
      "source": [
        "sns.barplot(x=country[\"Total_revenue\"].head(10), y=country.index[:10], data=country)\n",
        "plt.show()"
      ],
      "execution_count": null,
      "outputs": [
        {
          "output_type": "display_data",
          "data": {
            "image/png": "[encoded data removed]",
            "text/plain": [
              "<Figure size 432x288 with 1 Axes>"
            ]
          },
          "metadata": {
            "tags": [],
            "needs_background": "light"
          }
        }
      ]
    },
    {
      "cell_type": "code",
      "metadata": {
        "colab": {
          "base_uri": "https://localhost:8080/",
          "height": 279
        },
        "id": "AxaK8GVBqv9e",
        "outputId": "4ab063cc-92d7-4a56-c4a4-8ad768c2d6b5"
      },
      "source": [
        "sns.barplot(x=country[\"visitFreq\"].head(10), y=country.index[:10], data=country)\n",
        "plt.show()"
      ],
      "execution_count": null,
      "outputs": [
        {
          "output_type": "display_data",
          "data": {
            "image/png": "[encoded data removed]",
            "text/plain": [
              "<Figure size 432x288 with 1 Axes>"
            ]
          },
          "metadata": {
            "tags": [],
            "needs_background": "light"
          }
        }
      ]
    },
    {
      "cell_type": "markdown",
      "metadata": {
        "id": "dZEGc4cWoBX2"
      },
      "source": [
        "Most of the visits comes from united states, and nearly 95% of the Revenue comes from United States\n",
        "\n",
        "Except United States other subcontinents has countable number of revenue generating customers\n",
        "United States is the clear winner in generating revenue generation"
      ]
    },
    {
      "cell_type": "markdown",
      "metadata": {
        "id": "h2Vl6AoPrFwm"
      },
      "source": [
        "**Which part of the United State?**"
      ]
    },
    {
      "cell_type": "code",
      "metadata": {
        "colab": {
          "base_uri": "https://localhost:8080/",
          "height": 328
        },
        "id": "cG80DssqkCdl",
        "outputId": "f610d27d-f6be-4b37-d766-1ae45be243fa"
      },
      "source": [
        "city = train_df.groupby('geoNetwork.city').agg(visitFreq = ('fullVisitorId', 'count'),\n",
        "                                                     Total_revenue =('totals.transactionRevenue','sum'))\n",
        "city[\"Total_revenue\"]=city[\"Total_revenue\"]/10**6\n",
        "city['visit_Freq%'] = (city['visitFreq']/sum(city['visitFreq'])).map(\"{:.2%}\".format)\n",
        "city['Revenue%%'] = (city['Total_revenue']/sum(city['Total_revenue'])).map(\"{:.2%}\".format)\n",
        "\n",
        "city = city[['visitFreq','visit_Freq%','Total_revenue','Revenue%%']]\n",
        "city=city.sort_values(by=['visitFreq'],ascending = False).head(10)\n",
        "city.drop([\"not available in demo dataset\",\"(not set)\"],0,inplace=True)\n",
        "city"
      ],
      "execution_count": null,
      "outputs": [
        {
          "output_type": "execute_result",
          "data": {
            "text/html": [
              "<div>\n",
              "<style scoped>\n",
              "    .dataframe tbody tr th:only-of-type {\n",
              "        vertical-align: middle;\n",
              "    }\n",
              "\n",
              "    .dataframe tbody tr th {\n",
              "        vertical-align: top;\n",
              "    }\n",
              "\n",
              "    .dataframe thead th {\n",
              "        text-align: right;\n",
              "    }\n",
              "</style>\n",
              "<table border=\"1\" class=\"dataframe\">\n",
              "  <thead>\n",
              "    <tr style=\"text-align: right;\">\n",
              "      <th></th>\n",
              "      <th>visitFreq</th>\n",
              "      <th>visit_Freq%</th>\n",
              "      <th>Total_revenue</th>\n",
              "      <th>Revenue%%</th>\n",
              "    </tr>\n",
              "    <tr>\n",
              "      <th>geoNetwork.city</th>\n",
              "      <th></th>\n",
              "      <th></th>\n",
              "      <th></th>\n",
              "      <th></th>\n",
              "    </tr>\n",
              "  </thead>\n",
              "  <tbody>\n",
              "    <tr>\n",
              "      <th>Mountain View</th>\n",
              "      <td>40884</td>\n",
              "      <td>4.52%</td>\n",
              "      <td>126103.68</td>\n",
              "      <td>8.19%</td>\n",
              "    </tr>\n",
              "    <tr>\n",
              "      <th>New York</th>\n",
              "      <td>26371</td>\n",
              "      <td>2.92%</td>\n",
              "      <td>220143.51</td>\n",
              "      <td>14.29%</td>\n",
              "    </tr>\n",
              "    <tr>\n",
              "      <th>San Francisco</th>\n",
              "      <td>20329</td>\n",
              "      <td>2.25%</td>\n",
              "      <td>100873.96</td>\n",
              "      <td>6.55%</td>\n",
              "    </tr>\n",
              "    <tr>\n",
              "      <th>Sunnyvale</th>\n",
              "      <td>13086</td>\n",
              "      <td>1.45%</td>\n",
              "      <td>39393.58</td>\n",
              "      <td>2.56%</td>\n",
              "    </tr>\n",
              "    <tr>\n",
              "      <th>London</th>\n",
              "      <td>12607</td>\n",
              "      <td>1.40%</td>\n",
              "      <td>1460.00</td>\n",
              "      <td>0.09%</td>\n",
              "    </tr>\n",
              "    <tr>\n",
              "      <th>San Jose</th>\n",
              "      <td>10295</td>\n",
              "      <td>1.14%</td>\n",
              "      <td>18729.18</td>\n",
              "      <td>1.22%</td>\n",
              "    </tr>\n",
              "    <tr>\n",
              "      <th>Los Angeles</th>\n",
              "      <td>8670</td>\n",
              "      <td>0.96%</td>\n",
              "      <td>41896.33</td>\n",
              "      <td>2.72%</td>\n",
              "    </tr>\n",
              "    <tr>\n",
              "      <th>Bangkok</th>\n",
              "      <td>7709</td>\n",
              "      <td>0.85%</td>\n",
              "      <td>164.92</td>\n",
              "      <td>0.01%</td>\n",
              "    </tr>\n",
              "  </tbody>\n",
              "</table>\n",
              "</div>"
            ],
            "text/plain": [
              "                 visitFreq visit_Freq%  Total_revenue Revenue%%\n",
              "geoNetwork.city                                                \n",
              "Mountain View        40884       4.52%      126103.68     8.19%\n",
              "New York             26371       2.92%      220143.51    14.29%\n",
              "San Francisco        20329       2.25%      100873.96     6.55%\n",
              "Sunnyvale            13086       1.45%       39393.58     2.56%\n",
              "London               12607       1.40%        1460.00     0.09%\n",
              "San Jose             10295       1.14%       18729.18     1.22%\n",
              "Los Angeles           8670       0.96%       41896.33     2.72%\n",
              "Bangkok               7709       0.85%         164.92     0.01%"
            ]
          },
          "metadata": {
            "tags": []
          },
          "execution_count": 50
        }
      ]
    },
    {
      "cell_type": "markdown",
      "metadata": {
        "id": "9kTqe4A6u5pm"
      },
      "source": [
        "Interesting info: Mountain View,Sunnyvale,San Francisco and San Jose are cities loacted inside silicon valley, together they account for 9.3% of the total visit and 18.52% of the total revenue (buying) of Gstore"
      ]
    },
    {
      "cell_type": "code",
      "metadata": {
        "colab": {
          "base_uri": "https://localhost:8080/"
        },
        "id": "y5f6C_qTRit1",
        "outputId": "f0464c31-8b0a-451a-8f12-368b2b6b6f89"
      },
      "source": [
        "train_df.info()"
      ],
      "execution_count": null,
      "outputs": [
        {
          "output_type": "stream",
          "text": [
            "<class 'pandas.core.frame.DataFrame'>\n",
            "RangeIndex: 903653 entries, 0 to 903652\n",
            "Data columns (total 41 columns):\n",
            " #   Column                                        Non-Null Count   Dtype         \n",
            "---  ------                                        --------------   -----         \n",
            " 0   channelGrouping                               903653 non-null  object        \n",
            " 1   date                                          903653 non-null  datetime64[ns]\n",
            " 2   fullVisitorId                                 903653 non-null  object        \n",
            " 3   sessionId                                     903653 non-null  object        \n",
            " 4   visitId                                       903653 non-null  int64         \n",
            " 5   visitNumber                                   903653 non-null  int64         \n",
            " 6   visitStartTime                                903653 non-null  int64         \n",
            " 7   device.browser                                903653 non-null  object        \n",
            " 8   device.operatingSystem                        903653 non-null  object        \n",
            " 9   device.isMobile                               903653 non-null  bool          \n",
            " 10  device.deviceCategory                         903653 non-null  object        \n",
            " 11  geoNetwork.continent                          903653 non-null  object        \n",
            " 12  geoNetwork.subContinent                       903653 non-null  object        \n",
            " 13  geoNetwork.country                            903653 non-null  object        \n",
            " 14  geoNetwork.region                             903653 non-null  object        \n",
            " 15  geoNetwork.metro                              903653 non-null  object        \n",
            " 16  geoNetwork.city                               903653 non-null  object        \n",
            " 17  geoNetwork.networkDomain                      903653 non-null  object        \n",
            " 18  totals.hits                                   903653 non-null  object        \n",
            " 19  totals.pageviews                              903553 non-null  object        \n",
            " 20  totals.bounces                                450630 non-null  object        \n",
            " 21  totals.newVisits                              703060 non-null  object        \n",
            " 22  totals.transactionRevenue                     903653 non-null  float64       \n",
            " 23  trafficSource.campaign                        903653 non-null  object        \n",
            " 24  trafficSource.source                          903653 non-null  object        \n",
            " 25  trafficSource.medium                          903653 non-null  object        \n",
            " 26  trafficSource.keyword                         400724 non-null  object        \n",
            " 27  trafficSource.isTrueDirect                    274005 non-null  object        \n",
            " 28  trafficSource.referralPath                    330941 non-null  object        \n",
            " 29  trafficSource.adwordsClickInfo.page           21460 non-null   object        \n",
            " 30  trafficSource.adwordsClickInfo.slot           21460 non-null   object        \n",
            " 31  trafficSource.adwordsClickInfo.gclId          21561 non-null   object        \n",
            " 32  trafficSource.adwordsClickInfo.adNetworkType  21460 non-null   object        \n",
            " 33  trafficSource.adwordsClickInfo.isVideoAd      21460 non-null   object        \n",
            " 34  trafficSource.adContent                       10946 non-null   object        \n",
            " 35  trafficSource.campaignCode                    1 non-null       object        \n",
            " 36  _weekday                                      903653 non-null  object        \n",
            " 37  _day                                          903653 non-null  int64         \n",
            " 38  _month                                        903653 non-null  int64         \n",
            " 39  _year                                         903653 non-null  int64         \n",
            " 40  _visitHour                                    903653 non-null  int64         \n",
            "dtypes: bool(1), datetime64[ns](1), float64(1), int64(7), object(31)\n",
            "memory usage: 276.6+ MB\n"
          ],
          "name": "stdout"
        }
      ]
    },
    {
      "cell_type": "code",
      "metadata": {
        "id": "-uGnWB4bTSil"
      },
      "source": [
        "traffic=train_df.groupby('trafficSource.source').agg(visitFreq = ('fullVisitorId', 'count'),\n",
        "                                                     Total_revenue =('totals.transactionRevenue','sum'))\n",
        "traffic[\"Total_revenue\"]=traffic[\"Total_revenue\"]/10**6\n",
        "traffic['visit_Freq%'] = (traffic['visitFreq']/sum(traffic['visitFreq'])).map(\"{:.2%}\".format)\n",
        "traffic['Revenue%%'] = (traffic['Total_revenue']/sum(traffic['Total_revenue'])).map(\"{:.2%}\".format)\n",
        "\n",
        "traffic = traffic[['visitFreq','visit_Freq%','Total_revenue','Revenue%%']]\n",
        "traffic=traffic.sort_values(by=['Total_revenue'],ascending = False).head(10)"
      ],
      "execution_count": null,
      "outputs": []
    },
    {
      "cell_type": "code",
      "metadata": {
        "colab": {
          "base_uri": "https://localhost:8080/",
          "height": 390
        },
        "id": "AaDGfmfcWn9E",
        "outputId": "ea385d2d-c92e-4007-8a47-3df5c014314d"
      },
      "source": [
        "traffic"
      ],
      "execution_count": null,
      "outputs": [
        {
          "output_type": "execute_result",
          "data": {
            "text/html": [
              "<div>\n",
              "<style scoped>\n",
              "    .dataframe tbody tr th:only-of-type {\n",
              "        vertical-align: middle;\n",
              "    }\n",
              "\n",
              "    .dataframe tbody tr th {\n",
              "        vertical-align: top;\n",
              "    }\n",
              "\n",
              "    .dataframe thead th {\n",
              "        text-align: right;\n",
              "    }\n",
              "</style>\n",
              "<table border=\"1\" class=\"dataframe\">\n",
              "  <thead>\n",
              "    <tr style=\"text-align: right;\">\n",
              "      <th></th>\n",
              "      <th>visitFreq</th>\n",
              "      <th>visit_Freq%</th>\n",
              "      <th>Total_revenue</th>\n",
              "      <th>Revenue%%</th>\n",
              "    </tr>\n",
              "    <tr>\n",
              "      <th>trafficSource.source</th>\n",
              "      <th></th>\n",
              "      <th></th>\n",
              "      <th></th>\n",
              "      <th></th>\n",
              "    </tr>\n",
              "  </thead>\n",
              "  <tbody>\n",
              "    <tr>\n",
              "      <th>mall.googleplex.com</th>\n",
              "      <td>66416</td>\n",
              "      <td>7.35%</td>\n",
              "      <td>612968.03</td>\n",
              "      <td>39.80%</td>\n",
              "    </tr>\n",
              "    <tr>\n",
              "      <th>(direct)</th>\n",
              "      <td>143028</td>\n",
              "      <td>15.83%</td>\n",
              "      <td>434840.55</td>\n",
              "      <td>28.24%</td>\n",
              "    </tr>\n",
              "    <tr>\n",
              "      <th>google</th>\n",
              "      <td>400788</td>\n",
              "      <td>44.35%</td>\n",
              "      <td>368965.36</td>\n",
              "      <td>23.96%</td>\n",
              "    </tr>\n",
              "    <tr>\n",
              "      <th>dfa</th>\n",
              "      <td>5686</td>\n",
              "      <td>0.63%</td>\n",
              "      <td>76928.42</td>\n",
              "      <td>5.00%</td>\n",
              "    </tr>\n",
              "    <tr>\n",
              "      <th>mail.google.com</th>\n",
              "      <td>1457</td>\n",
              "      <td>0.16%</td>\n",
              "      <td>23327.91</td>\n",
              "      <td>1.51%</td>\n",
              "    </tr>\n",
              "    <tr>\n",
              "      <th>dealspotr.com</th>\n",
              "      <td>528</td>\n",
              "      <td>0.06%</td>\n",
              "      <td>5690.64</td>\n",
              "      <td>0.37%</td>\n",
              "    </tr>\n",
              "    <tr>\n",
              "      <th>sites.google.com</th>\n",
              "      <td>2983</td>\n",
              "      <td>0.33%</td>\n",
              "      <td>4390.78</td>\n",
              "      <td>0.29%</td>\n",
              "    </tr>\n",
              "    <tr>\n",
              "      <th>gdeals.googleplex.com</th>\n",
              "      <td>1063</td>\n",
              "      <td>0.12%</td>\n",
              "      <td>2175.54</td>\n",
              "      <td>0.14%</td>\n",
              "    </tr>\n",
              "    <tr>\n",
              "      <th>groups.google.com</th>\n",
              "      <td>1025</td>\n",
              "      <td>0.11%</td>\n",
              "      <td>1631.26</td>\n",
              "      <td>0.11%</td>\n",
              "    </tr>\n",
              "    <tr>\n",
              "      <th>yahoo</th>\n",
              "      <td>1480</td>\n",
              "      <td>0.16%</td>\n",
              "      <td>1374.96</td>\n",
              "      <td>0.09%</td>\n",
              "    </tr>\n",
              "  </tbody>\n",
              "</table>\n",
              "</div>"
            ],
            "text/plain": [
              "                       visitFreq visit_Freq%  Total_revenue Revenue%%\n",
              "trafficSource.source                                                 \n",
              "mall.googleplex.com        66416       7.35%      612968.03    39.80%\n",
              "(direct)                  143028      15.83%      434840.55    28.24%\n",
              "google                    400788      44.35%      368965.36    23.96%\n",
              "dfa                         5686       0.63%       76928.42     5.00%\n",
              "mail.google.com             1457       0.16%       23327.91     1.51%\n",
              "dealspotr.com                528       0.06%        5690.64     0.37%\n",
              "sites.google.com            2983       0.33%        4390.78     0.29%\n",
              "gdeals.googleplex.com       1063       0.12%        2175.54     0.14%\n",
              "groups.google.com           1025       0.11%        1631.26     0.11%\n",
              "yahoo                       1480       0.16%        1374.96     0.09%"
            ]
          },
          "metadata": {
            "tags": []
          },
          "execution_count": 53
        }
      ]
    },
    {
      "cell_type": "code",
      "metadata": {
        "id": "v76iPF2KYgrK"
      },
      "source": [
        "traffic1=traffic.sort_values(by=['visitFreq'],ascending = False).head(10)"
      ],
      "execution_count": null,
      "outputs": []
    },
    {
      "cell_type": "code",
      "metadata": {
        "colab": {
          "base_uri": "https://localhost:8080/",
          "height": 514
        },
        "id": "UDq7OT2OYPUx",
        "outputId": "51b16a43-3862-4321-a2e3-fd4a5f318eb1"
      },
      "source": [
        "plt.figure(figsize=[14,8])\n",
        "sns.barplot(x=traffic1[\"visitFreq\"], y=traffic1.index, data=traffic1)\n",
        "plt.title('Top 10 Sources of Traffic', fontsize = 14,  style ='italic')\n",
        "plt.show()"
      ],
      "execution_count": null,
      "outputs": [
        {
          "output_type": "display_data",
          "data": {
            "image/png": "[encoded data removed]",
            "text/plain": [
              "<Figure size 1008x576 with 1 Axes>"
            ]
          },
          "metadata": {
            "tags": [],
            "needs_background": "light"
          }
        }
      ]
    },
    {
      "cell_type": "code",
      "metadata": {
        "colab": {
          "base_uri": "https://localhost:8080/",
          "height": 515
        },
        "id": "TXquI9p1XnHS",
        "outputId": "f1cc03fc-3ff5-48d7-f0aa-5748f0bcc31e"
      },
      "source": [
        "plt.figure(figsize=[14,8])\n",
        "sns.barplot(x=traffic[\"Total_revenue\"], y=traffic.index, data=traffic)\n",
        "plt.title('Top 10 Revenue Generating Sources of Traffic', fontsize = 14,  style ='italic')\n",
        "plt.show()"
      ],
      "execution_count": null,
      "outputs": [
        {
          "output_type": "display_data",
          "data": {
            "image/png": "[encoded data removed]",
            "text/plain": [
              "<Figure size 1008x576 with 1 Axes>"
            ]
          },
          "metadata": {
            "tags": [],
            "needs_background": "light"
          }
        }
      ]
    },
    {
      "cell_type": "markdown",
      "metadata": {
        "id": "uGajpRFGxmF1"
      },
      "source": [
        "**Info we get from exploratory analysis**\n",
        "\n",
        "Most of the visitors (99%) only view and not buy.\n",
        "\n",
        "Main customer of the sites come from United State, and the biggest group comes from silicon valley (where the company of google located) and newyork.\n",
        "\n",
        "Most buying occured on weekdays and visit time after 5:00pm, possibly after the closing hours of office.\n",
        "\n",
        "The April and Dec months are hot season the sites been visited and buying occured \\ (maybe due to gifts of easter day (April) and Chrismas (December)?)"
      ]
    },
    {
      "cell_type": "code",
      "metadata": {
        "id": "KZvM_1hmMR4s"
      },
      "source": [
        ""
      ],
      "execution_count": null,
      "outputs": []
    },
    {
      "cell_type": "code",
      "metadata": {
        "colab": {
          "base_uri": "https://localhost:8080/",
          "height": 391
        },
        "id": "bUkgWdetuPYG",
        "outputId": "ff4e9471-825e-4139-f4a4-b532a3fad22e"
      },
      "source": [
        "train_df[\"totals.transactionRevenue\"] = train_df[\"totals.transactionRevenue\"].astype('float')\n",
        "tt = train_df.groupby(\"fullVisitorId\")[\"totals.transactionRevenue\"].sum().reset_index()\n",
        "\n",
        "plt.figure(figsize=(8,6))\n",
        "plt.scatter(range(tt.shape[0]), np.sort(np.log1p(tt[\"totals.transactionRevenue\"].values)))\n",
        "plt.xlabel('index', fontsize=12)\n",
        "plt.ylabel('TransactionRevenue', fontsize=12)\n",
        "plt.show()"
      ],
      "execution_count": null,
      "outputs": [
        {
          "output_type": "display_data",
          "data": {
            "image/png": "[encoded data removed]",
            "text/plain": [
              "<Figure size 576x432 with 1 Axes>"
            ]
          },
          "metadata": {
            "tags": [],
            "needs_background": "light"
          }
        }
      ]
    },
    {
      "cell_type": "markdown",
      "metadata": {
        "id": "0d5kUIQq1xbB"
      },
      "source": [
        "**Generating our target variable of interest : Flag indicating if a customer is a revenue generating customer or not**"
      ]
    },
    {
      "cell_type": "code",
      "metadata": {
        "id": "ubLdQoFX1v6s"
      },
      "source": [
        "group_cols = ['fullVisitorId']\n",
        "counted = 'totals.transactionRevenue'\n",
        "agg_name = 'totals.transactionRevenue_sum'\n",
        "gp = train_df[group_cols+[counted]].groupby(group_cols)[counted].sum().reset_index().rename(columns={counted:agg_name})"
      ],
      "execution_count": null,
      "outputs": []
    },
    {
      "cell_type": "code",
      "metadata": {
        "id": "A0KSEc1e2ZES"
      },
      "source": [
        "gp['Revenue_Generating_Flag'] = np.where(gp['totals.transactionRevenue_sum']>0,1,0)\n",
        "cols = ['fullVisitorId','Revenue_Generating_Flag']"
      ],
      "execution_count": null,
      "outputs": []
    },
    {
      "cell_type": "code",
      "metadata": {
        "id": "TeQtOeRh2zD_"
      },
      "source": [
        "train_df1 = pd.merge(train_df,gp[cols],on='fullVisitorId',how='inner')"
      ],
      "execution_count": null,
      "outputs": []
    },
    {
      "cell_type": "code",
      "metadata": {
        "colab": {
          "base_uri": "https://localhost:8080/"
        },
        "id": "fpdLk09V3I06",
        "outputId": "8b468e10-d79c-423f-cec1-82a55316f554"
      },
      "source": [
        "train_df1.Revenue_Generating_Flag.value_counts()"
      ],
      "execution_count": null,
      "outputs": [
        {
          "output_type": "execute_result",
          "data": {
            "text/plain": [
              "0    867543\n",
              "1     36110\n",
              "Name: Revenue_Generating_Flag, dtype: int64"
            ]
          },
          "metadata": {
            "tags": []
          },
          "execution_count": 61
        }
      ]
    },
    {
      "cell_type": "code",
      "metadata": {
        "id": "s5peb4IAo0eS"
      },
      "source": [
        ""
      ],
      "execution_count": null,
      "outputs": []
    },
    {
      "cell_type": "code",
      "metadata": {
        "id": "hKNXKlFBo0iX"
      },
      "source": [
        ""
      ],
      "execution_count": null,
      "outputs": []
    },
    {
      "cell_type": "code",
      "metadata": {
        "id": "Wf9bz5wZo0ms"
      },
      "source": [
        ""
      ],
      "execution_count": null,
      "outputs": []
    },
    {
      "cell_type": "code",
      "metadata": {
        "id": "_umy-Kfto0p1"
      },
      "source": [
        ""
      ],
      "execution_count": null,
      "outputs": []
    },
    {
      "cell_type": "code",
      "metadata": {
        "id": "rlfdSSClo0tC"
      },
      "source": [
        ""
      ],
      "execution_count": null,
      "outputs": []
    },
    {
      "cell_type": "code",
      "metadata": {
        "id": "4hDiocYUo0ve"
      },
      "source": [
        ""
      ],
      "execution_count": null,
      "outputs": []
    }
  ]
}