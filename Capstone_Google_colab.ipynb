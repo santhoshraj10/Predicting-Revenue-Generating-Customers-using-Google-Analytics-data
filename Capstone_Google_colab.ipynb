{
 "cells": [
  {
   "cell_type": "markdown",
   "metadata": {
    "colab_type": "text",
    "id": "view-in-github"
   },
   "source": [
    "<a href=\"https://colab.research.google.com/github/santhoshraj10/Generating-Keywords-for-Google-Ads/blob/master/Capstone_Google_colab.ipynb\" target=\"_parent\"><img src=\"https://colab.research.google.com/assets/colab-badge.svg\" alt=\"Open In Colab\"/></a>"
   ]
  },
  {
   "cell_type": "code",
   "execution_count": null,
   "metadata": {
    "id": "XfgDN7OHvfd0"
   },
   "outputs": [],
   "source": [
    "import pandas as pd\n",
    "import numpy as np\n",
    "import seaborn as sns\n",
    "import matplotlib.pyplot as plt\n",
    "import json \n",
    "from pandas.io.json import json_normalize\n",
    "import datetime\n",
    "pd.options.display.max_rows\n",
    "import warnings\n",
    "warnings.filterwarnings('ignore')"
   ]
  },
  {
   "cell_type": "code",
   "execution_count": null,
   "metadata": {
    "colab": {
     "base_uri": "https://localhost:8080/"
    },
    "id": "j-lRhxtFzRZg",
    "outputId": "aff1c7ee-8116-42ab-bd2d-c0494b2bd362"
   },
   "outputs": [],
   "source": [
    "from google.colab import drive\n",
    "drive.mount('/content/drive')"
   ]
  },
  {
   "cell_type": "code",
   "execution_count": null,
   "metadata": {
    "id": "iowiMljtv8SI"
   },
   "outputs": [],
   "source": [
    "#df=pd.read_csv('/content/drive/MyDrive/Capstone/train 5.csv')\n",
    "json_cols = ['device', 'geoNetwork', 'totals', 'trafficSource']\n",
    "df=pd.read_csv('/content/drive/MyDrive/Colab Notebooks/train 5.csv', converters={column: json.loads for column in json_cols})\n",
    "for column in json_cols:\n",
    "    column_as_df = json_normalize(df[column])\n",
    "    column_as_df.columns = [f\"{column}_{subcolumn}\" for subcolumn in column_as_df.columns]\n",
    "    df = df.drop(column, axis=1).merge(column_as_df, right_index=True, left_index=True)\n",
    "#df['fullVisitorId'] = df['fullVisitorId'].astype('str')"
   ]
  },
  {
   "cell_type": "code",
   "execution_count": null,
   "metadata": {
    "colab": {
     "base_uri": "https://localhost:8080/",
     "height": 301
    },
    "id": "yL81INTFwGUd",
    "outputId": "02188b10-8cad-4d1b-87bb-b431e94c1390"
   },
   "outputs": [],
   "source": [
    "df.head()"
   ]
  },
  {
   "cell_type": "code",
   "execution_count": null,
   "metadata": {
    "colab": {
     "base_uri": "https://localhost:8080/"
    },
    "id": "nDvs0Z4Y4thM",
    "outputId": "c48961b4-c596-4064-b2c4-de5a57c6d83b"
   },
   "outputs": [],
   "source": [
    "!nvidia-smi"
   ]
  },
  {
   "cell_type": "code",
   "execution_count": null,
   "metadata": {
    "colab": {
     "base_uri": "https://localhost:8080/"
    },
    "id": "AqFJOWOcwSPb",
    "outputId": "97903153-d5dc-43ee-d42f-1f15798412d2"
   },
   "outputs": [],
   "source": [
    "df.shape"
   ]
  },
  {
   "cell_type": "code",
   "execution_count": null,
   "metadata": {
    "id": "bv5qnvJcxVEB"
   },
   "outputs": [],
   "source": [
    "df[\"totals_transactionRevenue\"].fillna(0,inplace=True)"
   ]
  },
  {
   "cell_type": "code",
   "execution_count": null,
   "metadata": {
    "colab": {
     "base_uri": "https://localhost:8080/"
    },
    "id": "tJ9ugAfBxZ3q",
    "outputId": "f1a74bb1-adfb-49ed-8652-ef0363cfe5a9"
   },
   "outputs": [],
   "source": [
    "df.totals_transactionRevenue.value_counts()"
   ]
  },
  {
   "cell_type": "code",
   "execution_count": null,
   "metadata": {
    "id": "nHcguGfLxbxh"
   },
   "outputs": [],
   "source": [
    "for i in range(df.shape[0]):\n",
    "    if df.totals_transactionRevenue.iloc[i]!=0:\n",
    "        df.totals_transactionRevenue.iloc[i]=1"
   ]
  },
  {
   "cell_type": "code",
   "execution_count": null,
   "metadata": {
    "colab": {
     "base_uri": "https://localhost:8080/"
    },
    "id": "dGTNiPVhxeqx",
    "outputId": "f88d3ffe-cf6d-44e1-adb4-fcc14a1b95cd"
   },
   "outputs": [],
   "source": [
    "df.totals_transactionRevenue.value_counts()"
   ]
  },
  {
   "cell_type": "code",
   "execution_count": null,
   "metadata": {
    "colab": {
     "base_uri": "https://localhost:8080/"
    },
    "id": "SgycYDFVzTtf",
    "outputId": "9b7b8e04-a8b2-4c7b-c2b7-b51fc1a66325"
   },
   "outputs": [],
   "source": [
    "null_values=df.isnull().sum()/len(df)*100\n",
    "null_values"
   ]
  },
  {
   "cell_type": "code",
   "execution_count": null,
   "metadata": {
    "id": "LJXortxD3K_e"
   },
   "outputs": [],
   "source": [
    "null_value_Feat=null_values[null_values.values>=50]"
   ]
  },
  {
   "cell_type": "code",
   "execution_count": null,
   "metadata": {
    "colab": {
     "base_uri": "https://localhost:8080/"
    },
    "id": "yObVvf1N3tKJ",
    "outputId": "2451b187-dd6b-4e91-d44b-38a88c624392"
   },
   "outputs": [],
   "source": [
    "null_value_Feat"
   ]
  },
  {
   "cell_type": "code",
   "execution_count": null,
   "metadata": {
    "id": "tzfEKvhP2LAw"
   },
   "outputs": [],
   "source": [
    "df.drop(null_value_Feat.index,axis=1,inplace=True)"
   ]
  },
  {
   "cell_type": "code",
   "execution_count": null,
   "metadata": {
    "colab": {
     "base_uri": "https://localhost:8080/"
    },
    "id": "DwR0cEVM3GZf",
    "outputId": "1fbb24e1-0368-4131-d9d2-7c90cd876be2"
   },
   "outputs": [],
   "source": [
    "df.shape"
   ]
  },
  {
   "cell_type": "code",
   "execution_count": null,
   "metadata": {
    "colab": {
     "base_uri": "https://localhost:8080/"
    },
    "id": "OqFUmn9U4Lgn",
    "outputId": "54193ab9-0129-4fdc-c28a-fbcb1b543eb5"
   },
   "outputs": [],
   "source": [
    "df.info()"
   ]
  },
  {
   "cell_type": "markdown",
   "metadata": {
    "id": "ghENOJ8EwnNl"
   },
   "source": [
    "**Converting Categorical feature into numerical which is Actually Numerical**"
   ]
  },
  {
   "cell_type": "code",
   "execution_count": null,
   "metadata": {
    "id": "qQ0cRBfT5GTh"
   },
   "outputs": [],
   "source": [
    "df['totals_visits']=df['totals_visits'].astype(int)\n",
    "df['totals_hits']=df['totals_hits'].astype(int)\n",
    "#df['totals_pageviews']=df['totals_pageviews'].astype(int)\n",
    "#df['totals_newVisits']=df['totals_newVisits'].astype(int)\n",
    "df['totals_transactionRevenue']=df['totals_transactionRevenue'].astype(int)"
   ]
  },
  {
   "cell_type": "markdown",
   "metadata": {
    "id": "KlUbIaoSwuVf"
   },
   "source": [
    "**Handling NaN values**"
   ]
  },
  {
   "cell_type": "code",
   "execution_count": null,
   "metadata": {
    "colab": {
     "base_uri": "https://localhost:8080/"
    },
    "id": "kKppsSRsicxp",
    "outputId": "adc8b509-4557-493a-88d5-d6d72b8888e3"
   },
   "outputs": [],
   "source": [
    "df.isnull().sum()"
   ]
  },
  {
   "cell_type": "code",
   "execution_count": null,
   "metadata": {
    "colab": {
     "base_uri": "https://localhost:8080/"
    },
    "id": "w6ozHOpi5wQh",
    "outputId": "4928da41-5dc7-4de7-c34d-8cc82f214741"
   },
   "outputs": [],
   "source": [
    "null_columns=df.columns[df.isnull().sum().values!=0]\n",
    "df[null_columns].isnull().sum()"
   ]
  },
  {
   "cell_type": "code",
   "execution_count": null,
   "metadata": {
    "colab": {
     "base_uri": "https://localhost:8080/"
    },
    "id": "MniNGwVh5rfj",
    "outputId": "545e3eb2-07fe-4276-f6ed-57124b9e3420"
   },
   "outputs": [],
   "source": [
    "df['totals_pageviews'].skew()"
   ]
  },
  {
   "cell_type": "code",
   "execution_count": null,
   "metadata": {
    "colab": {
     "base_uri": "https://localhost:8080/",
     "height": 297
    },
    "id": "_FQ1jFcJ52QZ",
    "outputId": "0d0f38e8-128b-4b06-9f27-054d19404ed3"
   },
   "outputs": [],
   "source": [
    "sns.distplot(df['totals_pageviews'])"
   ]
  },
  {
   "cell_type": "code",
   "execution_count": null,
   "metadata": {
    "colab": {
     "base_uri": "https://localhost:8080/"
    },
    "id": "DnXpVGKv6R08",
    "outputId": "3dfc1ca6-d717-413d-ad0f-4e28ec2d05b0"
   },
   "outputs": [],
   "source": [
    "df['totals_pageviews'].value_counts(normalize=True)*100"
   ]
  },
  {
   "cell_type": "code",
   "execution_count": null,
   "metadata": {
    "colab": {
     "base_uri": "https://localhost:8080/"
    },
    "id": "VXGNywwN6oXD",
    "outputId": "f6f5d60d-3ab2-470f-c569-7567f4a2d672"
   },
   "outputs": [],
   "source": [
    "mode=df['totals_pageviews'].mode()\n",
    "mode"
   ]
  },
  {
   "cell_type": "code",
   "execution_count": null,
   "metadata": {
    "id": "pJv7iiQZ78X5"
   },
   "outputs": [],
   "source": [
    "#df['totals_pageviews'].fillna(mode,inplace=True)\n",
    "df['totals_pageviews'].fillna(1, inplace=True)"
   ]
  },
  {
   "cell_type": "code",
   "execution_count": null,
   "metadata": {
    "colab": {
     "base_uri": "https://localhost:8080/"
    },
    "id": "cDMu0KBJ7GyY",
    "outputId": "dbf1786d-bdd4-4542-dcb3-a29fb7526c9e"
   },
   "outputs": [],
   "source": [
    "df.isnull().sum()"
   ]
  },
  {
   "cell_type": "code",
   "execution_count": null,
   "metadata": {
    "colab": {
     "base_uri": "https://localhost:8080/"
    },
    "id": "LtY67zAN92eI",
    "outputId": "f833335d-ee75-454d-8edc-a4996ae1e8ab"
   },
   "outputs": [],
   "source": [
    "df.totals_newVisits.nunique()"
   ]
  },
  {
   "cell_type": "markdown",
   "metadata": {
    "id": "ibtndoYRxOge"
   },
   "source": [
    "**As all Contains same values we are going to drop this variable**"
   ]
  },
  {
   "cell_type": "code",
   "execution_count": null,
   "metadata": {
    "id": "8_x8We1J6r4a"
   },
   "outputs": [],
   "source": [
    "df=df.drop('totals_newVisits',axis=1)"
   ]
  },
  {
   "cell_type": "code",
   "execution_count": null,
   "metadata": {
    "colab": {
     "base_uri": "https://localhost:8080/"
    },
    "id": "ldy79GQy_K0s",
    "outputId": "4b2e465e-f9ed-49b6-d71e-764ce34486a2"
   },
   "outputs": [],
   "source": [
    "df.isnull().sum().sum()"
   ]
  },
  {
   "cell_type": "code",
   "execution_count": null,
   "metadata": {
    "id": "hiDR0TJYAnJk"
   },
   "outputs": [],
   "source": [
    "# df.to_csv('/content/drive/MyDrive/Colab Notebooks/Revenue_Without_null.csv')"
   ]
  },
  {
   "cell_type": "code",
   "execution_count": null,
   "metadata": {
    "id": "tlPQ488KBT49"
   },
   "outputs": [],
   "source": []
  },
  {
   "cell_type": "markdown",
   "metadata": {
    "id": "7ReVDRQ5xYCO"
   },
   "source": [
    "**Split numerical and categorical features from the dataframe**"
   ]
  },
  {
   "cell_type": "code",
   "execution_count": null,
   "metadata": {
    "colab": {
     "base_uri": "https://localhost:8080/"
    },
    "id": "lQ5G-_f1fd26",
    "outputId": "a8806485-b674-46bb-d1ca-d474caa138b9"
   },
   "outputs": [],
   "source": [
    "df.info()"
   ]
  },
  {
   "cell_type": "markdown",
   "metadata": {
    "id": "azELKWgaxu13"
   },
   "source": [
    "**As pageview is numerical we are convering into numerical**"
   ]
  },
  {
   "cell_type": "code",
   "execution_count": null,
   "metadata": {
    "id": "ld_2di7vgN-H"
   },
   "outputs": [],
   "source": [
    "df['totals_pageviews']=df['totals_pageviews'].astype(int)"
   ]
  },
  {
   "cell_type": "code",
   "execution_count": null,
   "metadata": {
    "id": "aTSH5f2q_QFA"
   },
   "outputs": [],
   "source": [
    "num=df.select_dtypes(include=np.number).columns.tolist()\n",
    "cat=df.select_dtypes(include=np.object).columns.tolist()\n",
    "bool=df.select_dtypes(include=np.bool).columns.tolist()"
   ]
  },
  {
   "cell_type": "code",
   "execution_count": null,
   "metadata": {
    "colab": {
     "base_uri": "https://localhost:8080/",
     "height": 161
    },
    "id": "jXx7oZFef8GV",
    "outputId": "d417a225-f5ae-4bcd-b11a-59d749f0f9cd"
   },
   "outputs": [],
   "source": [
    "df.head(2)"
   ]
  },
  {
   "cell_type": "markdown",
   "metadata": {
    "id": "LzkRMuCZx6Fb"
   },
   "source": [
    "**Handling Numerical values**"
   ]
  },
  {
   "cell_type": "code",
   "execution_count": null,
   "metadata": {
    "colab": {
     "base_uri": "https://localhost:8080/"
    },
    "id": "iLV-1c6ggfSh",
    "outputId": "43923840-2fdf-4248-db6c-350ca55bfc79"
   },
   "outputs": [],
   "source": [
    "for i in num:\n",
    "  print('Unique Values in ',i,'is',df[i].nunique())"
   ]
  },
  {
   "cell_type": "code",
   "execution_count": null,
   "metadata": {
    "colab": {
     "base_uri": "https://localhost:8080/"
    },
    "id": "KM-IzrEfglyy",
    "outputId": "8f2ded5e-b7a6-4859-f417-e14b43092658"
   },
   "outputs": [],
   "source": [
    "df.totals_visits.nunique()"
   ]
  },
  {
   "cell_type": "markdown",
   "metadata": {
    "id": "vBYh_Hr5yCxL"
   },
   "source": [
    "**We are dropping totals_visits as it contains only one value**"
   ]
  },
  {
   "cell_type": "code",
   "execution_count": null,
   "metadata": {
    "id": "N_Hob1BPhgAr"
   },
   "outputs": [],
   "source": [
    "df=df.drop('totals_visits',1)"
   ]
  },
  {
   "cell_type": "markdown",
   "metadata": {
    "id": "VOvenZkCyQlM"
   },
   "source": [
    "**Doing Statistical Analysis between visit StartTime and visitId**"
   ]
  },
  {
   "cell_type": "code",
   "execution_count": null,
   "metadata": {
    "colab": {
     "base_uri": "https://localhost:8080/",
     "height": 406
    },
    "id": "HWfhkhrOiRhp",
    "outputId": "3ebe9df0-ee54-451b-d8f3-f317b295f9d0"
   },
   "outputs": [],
   "source": [
    "df[['visitStartTime','visitId']]"
   ]
  },
  {
   "cell_type": "code",
   "execution_count": null,
   "metadata": {
    "colab": {
     "base_uri": "https://localhost:8080/"
    },
    "id": "g-j6GmUPjtfW",
    "outputId": "cdd86e29-5672-4dbc-94e3-d14101f01224"
   },
   "outputs": [],
   "source": [
    "df['visitStartTime'].nunique()"
   ]
  },
  {
   "cell_type": "code",
   "execution_count": null,
   "metadata": {
    "colab": {
     "base_uri": "https://localhost:8080/"
    },
    "id": "NeHwUGp_kClM",
    "outputId": "e5f9eb78-600b-48b5-f02b-9da6d6f2a7ee"
   },
   "outputs": [],
   "source": [
    "df['visitId'].nunique()"
   ]
  },
  {
   "cell_type": "code",
   "execution_count": null,
   "metadata": {
    "colab": {
     "base_uri": "https://localhost:8080/"
    },
    "id": "u_PT-v1KkEQS",
    "outputId": "fdad7526-e685-44d2-865f-f9260d313d38"
   },
   "outputs": [],
   "source": [
    "mu1=df['visitStartTime'].mean()\n",
    "mu1"
   ]
  },
  {
   "cell_type": "code",
   "execution_count": null,
   "metadata": {
    "colab": {
     "base_uri": "https://localhost:8080/"
    },
    "id": "wVG-wU2Mkbvg",
    "outputId": "838a0e2e-eba1-4ea9-fb5a-66bc85571cbb"
   },
   "outputs": [],
   "source": [
    "mu2=df['visitId'].mean()\n",
    "mu2"
   ]
  },
  {
   "cell_type": "code",
   "execution_count": null,
   "metadata": {
    "id": "oSAPImpulVG-"
   },
   "outputs": [],
   "source": [
    "# df_visitStartTime=df['visitStartTime'].apply(lambda x: np.log(x+1))\n",
    "# df_visitId=df['visitId'].apply(lambda x: np.log(x+1))"
   ]
  },
  {
   "cell_type": "markdown",
   "metadata": {
    "id": "WK3LSqHaylOF"
   },
   "source": [
    "**Checking Normality Check Shapiro Test**"
   ]
  },
  {
   "cell_type": "code",
   "execution_count": null,
   "metadata": {
    "id": "9kRqlVJqkh-W"
   },
   "outputs": [],
   "source": [
    "from scipy.stats import shapiro\n",
    "p_val1=shapiro(df['visitStartTime'][:5000])[1]"
   ]
  },
  {
   "cell_type": "code",
   "execution_count": null,
   "metadata": {
    "colab": {
     "base_uri": "https://localhost:8080/"
    },
    "id": "xPazAPECon_O",
    "outputId": "95406ea6-27e7-4940-f47a-bbf2c69ce904"
   },
   "outputs": [],
   "source": [
    "p_val1"
   ]
  },
  {
   "cell_type": "code",
   "execution_count": null,
   "metadata": {
    "colab": {
     "base_uri": "https://localhost:8080/"
    },
    "id": "gWlrSSzWlMP3",
    "outputId": "1e936d5c-fe0b-4603-cc12-5485f3dcf745"
   },
   "outputs": [],
   "source": [
    "p_val2=shapiro(df['visitId'][:5000])[1]\n",
    "p_val2"
   ]
  },
  {
   "cell_type": "code",
   "execution_count": null,
   "metadata": {
    "colab": {
     "base_uri": "https://localhost:8080/"
    },
    "id": "-vSDJll6o2Nc",
    "outputId": "624ac854-dae9-445e-8380-9f374236f161"
   },
   "outputs": [],
   "source": [
    "if p_val1<0.05:\n",
    "    print('Data is not Normally Distributed')\n",
    "else:\n",
    "    print('Data is Normally Distributed')"
   ]
  },
  {
   "cell_type": "code",
   "execution_count": null,
   "metadata": {
    "colab": {
     "base_uri": "https://localhost:8080/"
    },
    "id": "0uv8g-1Ro6qE",
    "outputId": "7a59ee12-b578-44d3-dfa2-24e86deeafc7"
   },
   "outputs": [],
   "source": [
    "if p_val2<0.05:\n",
    "    print('Data is not Normally Distributed')\n",
    "else:\n",
    "    print('Data is Normally Distributed')"
   ]
  },
  {
   "cell_type": "code",
   "execution_count": null,
   "metadata": {
    "colab": {
     "base_uri": "https://localhost:8080/"
    },
    "id": "hFZCVbEeo_nD",
    "outputId": "e2bb2051-d6fc-4b34-9a3d-000ab770ed04"
   },
   "outputs": [],
   "source": [
    "from scipy.stats import mannwhitneyu\n",
    "p_val=mannwhitneyu(df['visitStartTime'][:5000],df['visitId'][:5000])[1]\n",
    "p_val"
   ]
  },
  {
   "cell_type": "code",
   "execution_count": null,
   "metadata": {
    "colab": {
     "base_uri": "https://localhost:8080/"
    },
    "id": "oxsEVWYnpuA_",
    "outputId": "6765a16b-cf6a-4c36-a199-04acd9a5f881"
   },
   "outputs": [],
   "source": [
    "if p_val<0.05:\n",
    "    print('The mean weight of the two sample is different, accept Ha')\n",
    "else:\n",
    "    print('The mean weight of the two sample is same, accept Ho')"
   ]
  },
  {
   "cell_type": "markdown",
   "metadata": {
    "id": "UwVw7ucgy37M"
   },
   "source": [
    "**Since both Mean Weight are same hence we are dropping one variable**"
   ]
  },
  {
   "cell_type": "code",
   "execution_count": null,
   "metadata": {
    "colab": {
     "base_uri": "https://localhost:8080/"
    },
    "id": "hu_XFRhOqNRo",
    "outputId": "1726696d-9683-4f40-bedb-cd124e984f75"
   },
   "outputs": [],
   "source": [
    "df.corrwith(df['totals_transactionRevenue'])"
   ]
  },
  {
   "cell_type": "code",
   "execution_count": null,
   "metadata": {
    "id": "ss1wPfiVulal"
   },
   "outputs": [],
   "source": [
    "df=df.drop('visitId',1)"
   ]
  },
  {
   "cell_type": "markdown",
   "metadata": {
    "id": "WmLrgz-gzGw5"
   },
   "source": [
    "**Handling visitStartTime by epoch & unix timestamp conversion and fetching date, Month and Year columns**"
   ]
  },
  {
   "cell_type": "code",
   "execution_count": null,
   "metadata": {
    "colab": {
     "base_uri": "https://localhost:8080/"
    },
    "id": "DKRKm2h_v1C_",
    "outputId": "dd9338d6-50aa-4f56-bd49-88ef082c4cc1"
   },
   "outputs": [],
   "source": [
    "df.visitStartTime"
   ]
  },
  {
   "cell_type": "code",
   "execution_count": null,
   "metadata": {
    "id": "aJBYri8LvX5U"
   },
   "outputs": [],
   "source": [
    "visit_time=[]\n",
    "fmt = \"%Y-%m-%d\"\n",
    "for i in df.visitStartTime:\n",
    "     t = datetime.datetime.fromtimestamp(int(i))\n",
    "     visit_time.append(t.strftime(fmt))"
   ]
  },
  {
   "cell_type": "code",
   "execution_count": null,
   "metadata": {
    "id": "Nc3KCaQDwRQT"
   },
   "outputs": [],
   "source": [
    "time_df=pd.DataFrame(visit_time,columns=['Full_date'])"
   ]
  },
  {
   "cell_type": "code",
   "execution_count": null,
   "metadata": {
    "colab": {
     "base_uri": "https://localhost:8080/",
     "height": 107
    },
    "id": "RYM2VE8qwuMX",
    "outputId": "ffb32b17-abf1-4ac2-97d4-d68275b4837c"
   },
   "outputs": [],
   "source": [
    "time_df.head(2)"
   ]
  },
  {
   "cell_type": "code",
   "execution_count": null,
   "metadata": {
    "id": "rkgsESmGwlso"
   },
   "outputs": [],
   "source": [
    "time_df['Visit_Year']=time_df['Full_date'].str.split('-').str[0].astype(int)\n",
    "time_df['Visit_Month']=time_df['Full_date'].str.split('-').str[1].astype(int)\n",
    "time_df['Visit_Date']=time_df['Full_date'].str.split('-').str[2].astype(int)"
   ]
  },
  {
   "cell_type": "code",
   "execution_count": null,
   "metadata": {
    "colab": {
     "base_uri": "https://localhost:8080/",
     "height": 197
    },
    "id": "a9OYVXowx8wm",
    "outputId": "43e2d76b-7283-4559-8069-02e8044277a3"
   },
   "outputs": [],
   "source": [
    "time_df.head()"
   ]
  },
  {
   "cell_type": "code",
   "execution_count": null,
   "metadata": {
    "colab": {
     "base_uri": "https://localhost:8080/"
    },
    "id": "bskWKm1H20yY",
    "outputId": "e2b15772-c066-4a8a-a6dc-245826e084f4"
   },
   "outputs": [],
   "source": [
    "time_df.info()"
   ]
  },
  {
   "cell_type": "code",
   "execution_count": null,
   "metadata": {
    "id": "qWc13syPyAEj"
   },
   "outputs": [],
   "source": [
    "time_df=time_df.drop('Full_date',1)"
   ]
  },
  {
   "cell_type": "code",
   "execution_count": null,
   "metadata": {
    "id": "J3TPJKmCyJ2u"
   },
   "outputs": [],
   "source": [
    "df=pd.concat([df,time_df],axis=1)"
   ]
  },
  {
   "cell_type": "code",
   "execution_count": null,
   "metadata": {
    "id": "lJitvziyyWd3"
   },
   "outputs": [],
   "source": [
    "df=df.drop('visitStartTime',1)"
   ]
  },
  {
   "cell_type": "code",
   "execution_count": null,
   "metadata": {
    "colab": {
     "base_uri": "https://localhost:8080/"
    },
    "id": "v1HZktfVyvud",
    "outputId": "8de96e2d-cb61-4129-f69d-8e6630c85b5c"
   },
   "outputs": [],
   "source": [
    "df.shape"
   ]
  },
  {
   "cell_type": "code",
   "execution_count": null,
   "metadata": {
    "colab": {
     "base_uri": "https://localhost:8080/",
     "height": 161
    },
    "id": "ofBSaRZUywlL",
    "outputId": "5c53e8b6-ffe0-4e4d-defe-b4e9aff425d2"
   },
   "outputs": [],
   "source": [
    "df.head(2)"
   ]
  },
  {
   "cell_type": "markdown",
   "metadata": {
    "id": "WO0UuQFMz-98"
   },
   "source": [
    "**Handling Categorical values**"
   ]
  },
  {
   "cell_type": "code",
   "execution_count": null,
   "metadata": {
    "colab": {
     "base_uri": "https://localhost:8080/"
    },
    "id": "2BQcXG0F1li7",
    "outputId": "f3cadd90-3937-4513-a290-04bb4e5bff46"
   },
   "outputs": [],
   "source": [
    "for i in cat:\n",
    "  print('Unique Values in ',i,'is',df[i].nunique())"
   ]
  },
  {
   "cell_type": "markdown",
   "metadata": {
    "id": "mVQJQd1Y0Jff"
   },
   "source": [
    "**Dropping Categorical features which is having less than 10 unique values**"
   ]
  },
  {
   "cell_type": "code",
   "execution_count": null,
   "metadata": {
    "id": "W80KcxQA12Hh"
   },
   "outputs": [],
   "source": [
    "for i in cat:\n",
    "  if df[i].nunique()<=10:\n",
    "    df=df.drop(i,axis=1)"
   ]
  },
  {
   "cell_type": "code",
   "execution_count": null,
   "metadata": {
    "colab": {
     "base_uri": "https://localhost:8080/"
    },
    "id": "2CC2kpFa18fg",
    "outputId": "3c2f8e70-a309-4b28-e307-9bbc03031d09"
   },
   "outputs": [],
   "source": [
    "cat1=df.select_dtypes(include=np.object).columns.tolist()\n",
    "for i in cat1:\n",
    "  print('Unique Values in ',i,'is',df[i].nunique())"
   ]
  },
  {
   "cell_type": "markdown",
   "metadata": {
    "id": "MLZSSqt80V00"
   },
   "source": [
    "**sessionId contains lots of Unique values so we can drop it**"
   ]
  },
  {
   "cell_type": "code",
   "execution_count": null,
   "metadata": {
    "id": "Ttt8LxWx2UrG"
   },
   "outputs": [],
   "source": [
    "df=df.drop('sessionId',axis=1)"
   ]
  },
  {
   "cell_type": "code",
   "execution_count": null,
   "metadata": {
    "colab": {
     "base_uri": "https://localhost:8080/",
     "height": 144
    },
    "id": "wG1eMIt13RnN",
    "outputId": "659c1005-45c8-4ac9-d29a-c0232a70e0f3"
   },
   "outputs": [],
   "source": [
    "df.head(2)"
   ]
  },
  {
   "cell_type": "code",
   "execution_count": null,
   "metadata": {
    "colab": {
     "base_uri": "https://localhost:8080/"
    },
    "id": "9IJ-raNh4m_2",
    "outputId": "6a72d987-8421-437f-bca3-06a430068533"
   },
   "outputs": [],
   "source": [
    "df.shape"
   ]
  },
  {
   "cell_type": "markdown",
   "metadata": {
    "id": "grBQR_VV0cWe"
   },
   "source": [
    "**Handling date by epoch & unix timestamp conversion and fetching date, Month and Year columns but Year Month and date contains only same values so we are fetching Hrs, mins and secs** "
   ]
  },
  {
   "cell_type": "code",
   "execution_count": null,
   "metadata": {
    "id": "aFOSPH1G4qq7"
   },
   "outputs": [],
   "source": [
    "date=[]\n",
    "fmt = \"%H:%M:%S\"\n",
    "for i in df.date:\n",
    "     t = datetime.datetime.fromtimestamp(int(i))\n",
    "     date.append(t.strftime(fmt))"
   ]
  },
  {
   "cell_type": "code",
   "execution_count": null,
   "metadata": {
    "id": "cCWYOy0k44-q"
   },
   "outputs": [],
   "source": [
    "date_df=pd.DataFrame(date,columns=['Full_date'])"
   ]
  },
  {
   "cell_type": "code",
   "execution_count": null,
   "metadata": {
    "colab": {
     "base_uri": "https://localhost:8080/",
     "height": 137
    },
    "id": "e2ltwWLa49tB",
    "outputId": "dfb58b3e-4654-4f03-8955-2050be9c72fa"
   },
   "outputs": [],
   "source": [
    "date_df.head(3)"
   ]
  },
  {
   "cell_type": "code",
   "execution_count": null,
   "metadata": {
    "id": "Z9mJeshp4-3x"
   },
   "outputs": [],
   "source": [
    "date_df['Hours']=date_df['Full_date'].str.split(':').str[0].astype(int)\n",
    "date_df['Minutes']=date_df['Full_date'].str.split(':').str[1].astype(int)\n",
    "date_df['Seconds']=date_df['Full_date'].str.split(':').str[2].astype(int)"
   ]
  },
  {
   "cell_type": "code",
   "execution_count": null,
   "metadata": {
    "id": "jjTj8JTW5hv7"
   },
   "outputs": [],
   "source": [
    "date_df=date_df.drop('Full_date',1)"
   ]
  },
  {
   "cell_type": "code",
   "execution_count": null,
   "metadata": {
    "id": "_dA2lJb75hwE"
   },
   "outputs": [],
   "source": [
    "df=pd.concat([df,date_df],axis=1)"
   ]
  },
  {
   "cell_type": "code",
   "execution_count": null,
   "metadata": {
    "id": "u1CADMFW5hwE"
   },
   "outputs": [],
   "source": [
    "df=df.drop('date',1)"
   ]
  },
  {
   "cell_type": "code",
   "execution_count": null,
   "metadata": {
    "id": "Zf1WQ4fbWgkl"
   },
   "outputs": [],
   "source": [
    "df1=df.copy()"
   ]
  },
  {
   "cell_type": "code",
   "execution_count": null,
   "metadata": {
    "id": "xM8DDKRaWnqP"
   },
   "outputs": [],
   "source": [
    "df=df1.copy()"
   ]
  },
  {
   "cell_type": "markdown",
   "metadata": {
    "id": "IWffVzqN1F2g"
   },
   "source": [
    "**Handling Categorical values**"
   ]
  },
  {
   "cell_type": "code",
   "execution_count": null,
   "metadata": {
    "colab": {
     "base_uri": "https://localhost:8080/"
    },
    "id": "lfti96sX6CmE",
    "outputId": "b454cb30-7982-4fea-a62e-2f1e0276248a"
   },
   "outputs": [],
   "source": [
    "cat2=df.select_dtypes(include=np.object).columns.tolist()\n",
    "for i in cat2:\n",
    "  print('Unique Values in ',i,'is',df[i].nunique())"
   ]
  },
  {
   "cell_type": "code",
   "execution_count": null,
   "metadata": {
    "colab": {
     "base_uri": "https://localhost:8080/"
    },
    "id": "qeN9pfiD6L26",
    "outputId": "a157623a-72ff-4729-fac5-08bd1ca26efb"
   },
   "outputs": [],
   "source": [
    "df.geoNetwork_networkDomain.value_counts()"
   ]
  },
  {
   "cell_type": "code",
   "execution_count": null,
   "metadata": {
    "id": "TA70K2kM6Rk6"
   },
   "outputs": [],
   "source": [
    "# df[df['geoNetwork_networkDomain']=='(not set)']='Missing'\n",
    "# df[df['geoNetwork_networkDomain']=='unknown.unknown']='Missing'\n",
    "\n",
    "df[\"geoNetwork_networkDomain\"].replace({\"(not set)\": \"Missing\", \"unknown.unknown\": \"Missing\"}, inplace=True)"
   ]
  },
  {
   "cell_type": "code",
   "execution_count": null,
   "metadata": {
    "colab": {
     "base_uri": "https://localhost:8080/"
    },
    "id": "7Jha2_gQC0r0",
    "outputId": "b704443a-3884-4160-9c4d-bccc7e70c977"
   },
   "outputs": [],
   "source": [
    "df.geoNetwork_networkDomain.value_counts()"
   ]
  },
  {
   "cell_type": "code",
   "execution_count": null,
   "metadata": {
    "colab": {
     "base_uri": "https://localhost:8080/"
    },
    "id": "GzmFE52gLV0b",
    "outputId": "f67274cb-c2d9-4908-ab19-0db4711abfc9"
   },
   "outputs": [],
   "source": [
    "df.geoNetwork_networkDomain.value_counts(normalize=True)*100"
   ]
  },
  {
   "cell_type": "code",
   "execution_count": null,
   "metadata": {
    "colab": {
     "base_uri": "https://localhost:8080/"
    },
    "id": "SMPDyA8padbk",
    "outputId": "aaeaa134-f904-4f39-a25d-da4671d0d20b"
   },
   "outputs": [],
   "source": [
    "df.geoNetwork_subContinent.value_counts(normalize=True)*100"
   ]
  },
  {
   "cell_type": "code",
   "execution_count": null,
   "metadata": {
    "colab": {
     "base_uri": "https://localhost:8080/"
    },
    "id": "nN8LNREfbwrh",
    "outputId": "8ac41113-93c6-4515-fe31-54b12547615b"
   },
   "outputs": [],
   "source": [
    "df.geoNetwork_region.value_counts(normalize=True)*100"
   ]
  },
  {
   "cell_type": "code",
   "execution_count": null,
   "metadata": {
    "colab": {
     "base_uri": "https://localhost:8080/"
    },
    "id": "SeffqkMOaFKU",
    "outputId": "cc11a698-9f64-4db4-eb62-ba858e74881f"
   },
   "outputs": [],
   "source": [
    "df.geoNetwork_metro.value_counts(normalize=True)*100"
   ]
  },
  {
   "cell_type": "code",
   "execution_count": null,
   "metadata": {
    "colab": {
     "base_uri": "https://localhost:8080/"
    },
    "id": "LoOyO8SaaIKL",
    "outputId": "c86c1c25-ce08-4d02-ee4c-6b933375a6c8"
   },
   "outputs": [],
   "source": [
    "df.geoNetwork_city.value_counts(normalize=True)*100"
   ]
  },
  {
   "cell_type": "markdown",
   "metadata": {
    "id": "4-rm4UL21qYo"
   },
   "source": [
    "**Dropping [ 'geoNetwork_region' , 'geoNetwork_metro' , 'geoNetwork_city' ] these Features as they contain almost 50% of Missing values**"
   ]
  },
  {
   "cell_type": "code",
   "execution_count": null,
   "metadata": {
    "id": "bvgxDEqUaL3j"
   },
   "outputs": [],
   "source": [
    "df=df.drop(['geoNetwork_region','geoNetwork_metro','geoNetwork_city'],1)"
   ]
  },
  {
   "cell_type": "code",
   "execution_count": null,
   "metadata": {
    "id": "00SNp-tBbyAi"
   },
   "outputs": [],
   "source": []
  },
  {
   "cell_type": "markdown",
   "metadata": {
    "id": "t7sJQzsPb0OD"
   },
   "source": [
    "**Frequency Encoding**"
   ]
  },
  {
   "cell_type": "code",
   "execution_count": null,
   "metadata": {
    "id": "ZTFdXdR9XvvT"
   },
   "outputs": [],
   "source": [
    "# Handling geoNetwork_country, trafficSource_source, geoNetwork_networkDomain, device_browser"
   ]
  },
  {
   "cell_type": "code",
   "execution_count": null,
   "metadata": {
    "colab": {
     "base_uri": "https://localhost:8080/"
    },
    "id": "NVlA2E2WXoqy",
    "outputId": "be0e4dcf-d142-4be5-817a-6ff678fd7191"
   },
   "outputs": [],
   "source": [
    "df.geoNetwork_country.value_counts(normalize=True)*100"
   ]
  },
  {
   "cell_type": "code",
   "execution_count": null,
   "metadata": {
    "colab": {
     "base_uri": "https://localhost:8080/"
    },
    "id": "N_a6FmJWXrhQ",
    "outputId": "5019c6a8-86b4-4f37-f427-74a1e2b5761d"
   },
   "outputs": [],
   "source": [
    "df.trafficSource_source.value_counts(normalize=True)*100"
   ]
  },
  {
   "cell_type": "code",
   "execution_count": null,
   "metadata": {
    "colab": {
     "base_uri": "https://localhost:8080/"
    },
    "id": "TCmceCXvX6Y4",
    "outputId": "1f861213-cd3d-47bb-f4fd-fae475bbaa64"
   },
   "outputs": [],
   "source": [
    "df.columns"
   ]
  },
  {
   "cell_type": "code",
   "execution_count": null,
   "metadata": {
    "colab": {
     "base_uri": "https://localhost:8080/"
    },
    "id": "0O_SnkznXu2Y",
    "outputId": "4580c121-5272-4580-a9c8-475fc0e45b08"
   },
   "outputs": [],
   "source": [
    "# trafficSource_source\n",
    "traffix_src=df.groupby('trafficSource_source')['totals_transactionRevenue'].sum()\n",
    "traffix_src"
   ]
  },
  {
   "cell_type": "code",
   "execution_count": null,
   "metadata": {
    "id": "cLAwguOtbkPn"
   },
   "outputs": [],
   "source": [
    "df['trafficSource_source']=df['trafficSource_source'].map(traffix_src)"
   ]
  },
  {
   "cell_type": "code",
   "execution_count": null,
   "metadata": {
    "colab": {
     "base_uri": "https://localhost:8080/"
    },
    "id": "U_SNqmFfcxOs",
    "outputId": "87e2775a-bbda-49da-ec61-10ad8dbef958"
   },
   "outputs": [],
   "source": [
    "df.trafficSource_source.value_counts(normalize=True)*100"
   ]
  },
  {
   "cell_type": "code",
   "execution_count": null,
   "metadata": {
    "colab": {
     "base_uri": "https://localhost:8080/"
    },
    "id": "H1yr_b_cbuZW",
    "outputId": "a5172c9f-5897-4db4-de15-2fa578bdbdbd"
   },
   "outputs": [],
   "source": [
    "# geoNetwork_country\n",
    "geo_country=df.groupby('geoNetwork_country')['totals_transactionRevenue'].sum()\n",
    "geo_country.values"
   ]
  },
  {
   "cell_type": "code",
   "execution_count": null,
   "metadata": {
    "id": "gRiiLsezcGGw"
   },
   "outputs": [],
   "source": [
    "df['geoNetwork_country']=df['geoNetwork_country'].map(geo_country)"
   ]
  },
  {
   "cell_type": "code",
   "execution_count": null,
   "metadata": {
    "colab": {
     "base_uri": "https://localhost:8080/"
    },
    "id": "RBhGJgggXu5Q",
    "outputId": "4a769032-ea0d-4a95-f4dc-083d81e96db0"
   },
   "outputs": [],
   "source": [
    "df.geoNetwork_country.value_counts(normalize=True)*100"
   ]
  },
  {
   "cell_type": "code",
   "execution_count": null,
   "metadata": {
    "id": "gbXYscppdRDu"
   },
   "outputs": [],
   "source": []
  },
  {
   "cell_type": "code",
   "execution_count": null,
   "metadata": {
    "colab": {
     "base_uri": "https://localhost:8080/"
    },
    "id": "bbLQQ7WcduyG",
    "outputId": "6869d4d9-a1cf-49ba-afe3-6532f00c63c4"
   },
   "outputs": [],
   "source": [
    "# geoNetwork_networkDomain\n",
    "geo_domain=df.groupby('geoNetwork_networkDomain')['totals_transactionRevenue'].sum()\n",
    "geo_domain.values"
   ]
  },
  {
   "cell_type": "code",
   "execution_count": null,
   "metadata": {
    "id": "dkG0vyD8duyT"
   },
   "outputs": [],
   "source": [
    "df['geoNetwork_networkDomain']=df['geoNetwork_networkDomain'].map(geo_domain)"
   ]
  },
  {
   "cell_type": "code",
   "execution_count": null,
   "metadata": {
    "colab": {
     "base_uri": "https://localhost:8080/"
    },
    "id": "w6pZS-IWduyT",
    "outputId": "d02dbbb8-f14d-420a-d2d1-4eda8dcbd65d"
   },
   "outputs": [],
   "source": [
    "df.geoNetwork_networkDomain.value_counts(normalize=True)*100"
   ]
  },
  {
   "cell_type": "code",
   "execution_count": null,
   "metadata": {
    "id": "rqVib2kCdRK4"
   },
   "outputs": [],
   "source": []
  },
  {
   "cell_type": "code",
   "execution_count": null,
   "metadata": {
    "colab": {
     "base_uri": "https://localhost:8080/"
    },
    "id": "phHNc1khdv-1",
    "outputId": "ca7616ad-c3ab-4f93-c5e7-ceb3bd0d235d"
   },
   "outputs": [],
   "source": [
    "# device_browser\n",
    "dev_browser=df.groupby('device_browser')['totals_transactionRevenue'].sum()\n",
    "dev_browser"
   ]
  },
  {
   "cell_type": "code",
   "execution_count": null,
   "metadata": {
    "id": "8KjSOB7qdv-1"
   },
   "outputs": [],
   "source": [
    "df['device_browser']=df['device_browser'].map(dev_browser)"
   ]
  },
  {
   "cell_type": "code",
   "execution_count": null,
   "metadata": {
    "colab": {
     "base_uri": "https://localhost:8080/"
    },
    "id": "H1a3WQ94dv-1",
    "outputId": "1be71063-84f9-4103-e6aa-a63188bc462f"
   },
   "outputs": [],
   "source": [
    "df.device_browser.value_counts(normalize=True)*100"
   ]
  },
  {
   "cell_type": "code",
   "execution_count": null,
   "metadata": {
    "id": "4PGJHZ3UHmGR"
   },
   "outputs": [],
   "source": []
  },
  {
   "cell_type": "markdown",
   "metadata": {
    "id": "hakdwkaK2G2G"
   },
   "source": [
    "**Mapping geoNetwork_subContinent with 7 Continents { Africa, Antarctica, Asia, Australia/Oceania, Europe, North America, and South America }**\n",
    "\n"
   ]
  },
  {
   "cell_type": "code",
   "execution_count": null,
   "metadata": {
    "colab": {
     "base_uri": "https://localhost:8080/"
    },
    "id": "hA0b3Tjwcpmo",
    "outputId": "463e39c3-2227-4ed1-c78e-043506d094db"
   },
   "outputs": [],
   "source": [
    "df.geoNetwork_subContinent.value_counts(normalize=True)*100"
   ]
  },
  {
   "cell_type": "code",
   "execution_count": null,
   "metadata": {
    "id": "BxVBkqmhciq5"
   },
   "outputs": [],
   "source": [
    "df[\"geoNetwork_subContinent\"]=df[\"geoNetwork_subContinent\"].str.replace(r'(^.*Asia.*$)', \"Asia\")\n",
    "df[\"geoNetwork_subContinent\"]=df[\"geoNetwork_subContinent\"].str.replace(r'(^.*Europe.*$)', \"Europe\")\n",
    "df[\"geoNetwork_subContinent\"]=df[\"geoNetwork_subContinent\"].str.replace(r'(^.*Australasia.*$)', \"Australia\")\n",
    "df[\"geoNetwork_subContinent\"]=df[\"geoNetwork_subContinent\"].str.replace(r'(^.*Africa.*$)', \"Africa\")\n",
    "df[\"geoNetwork_subContinent\"]=df[\"geoNetwork_subContinent\"].str.replace(r'(^.*Melanesia.*$)', \"Pacific\")\n",
    "df[\"geoNetwork_subContinent\"]=df[\"geoNetwork_subContinent\"].str.replace(r'(^.*Micronesian.*$)', \"Pacific\")\n",
    "df[\"geoNetwork_subContinent\"]=df[\"geoNetwork_subContinent\"].str.replace(r'(^.*Polynesia.*$)', \"Pacific\")\n",
    "df[\"geoNetwork_subContinent\"]=df[\"geoNetwork_subContinent\"].str.replace(r'(^.*Caribbean.*$)', \"South America\")"
   ]
  },
  {
   "cell_type": "code",
   "execution_count": null,
   "metadata": {
    "colab": {
     "base_uri": "https://localhost:8080/"
    },
    "id": "wkYCr3_Gdd2r",
    "outputId": "4201191c-36d0-423e-a298-53d4bbb8d0d5"
   },
   "outputs": [],
   "source": [
    "df[\"geoNetwork_subContinent\"]"
   ]
  },
  {
   "cell_type": "code",
   "execution_count": null,
   "metadata": {
    "colab": {
     "base_uri": "https://localhost:8080/"
    },
    "id": "CVw8BGpXkohk",
    "outputId": "e1ed7a2a-e95f-4bd7-ed54-a925a8d75830"
   },
   "outputs": [],
   "source": [
    "df[\"geoNetwork_subContinent\"].value_counts(normalize=True)"
   ]
  },
  {
   "cell_type": "code",
   "execution_count": null,
   "metadata": {
    "id": "Z6OC3DwYdhAy"
   },
   "outputs": [],
   "source": [
    "df = df[df.geoNetwork_subContinent != '(not set)']"
   ]
  },
  {
   "cell_type": "code",
   "execution_count": null,
   "metadata": {
    "colab": {
     "base_uri": "https://localhost:8080/"
    },
    "id": "e0a_VyNjmxPr",
    "outputId": "9c7ec988-aa9b-4a39-b76d-f1617456bc44"
   },
   "outputs": [],
   "source": [
    "df[\"geoNetwork_subContinent\"].value_counts(normalize=True)"
   ]
  },
  {
   "cell_type": "code",
   "execution_count": null,
   "metadata": {
    "colab": {
     "base_uri": "https://localhost:8080/"
    },
    "id": "wAStch43m0ZL",
    "outputId": "6b9c1dd9-38ac-4fb2-e650-48a03789df0f"
   },
   "outputs": [],
   "source": [
    "df.Visit_Year.nunique()"
   ]
  },
  {
   "cell_type": "code",
   "execution_count": null,
   "metadata": {
    "colab": {
     "base_uri": "https://localhost:8080/"
    },
    "id": "9l592beBnFKy",
    "outputId": "94f4ae07-ca2e-495d-bf1a-fefb0f6cdf59"
   },
   "outputs": [],
   "source": [
    "df.Visit_Month.nunique()"
   ]
  },
  {
   "cell_type": "code",
   "execution_count": null,
   "metadata": {
    "colab": {
     "base_uri": "https://localhost:8080/"
    },
    "id": "qUV30QKonKEp",
    "outputId": "1a5de76f-dce7-4f8d-e2d2-e2a01e48774a"
   },
   "outputs": [],
   "source": [
    "df.Visit_Date.nunique()"
   ]
  },
  {
   "cell_type": "code",
   "execution_count": null,
   "metadata": {
    "colab": {
     "base_uri": "https://localhost:8080/"
    },
    "id": "WFDCn-X9wceF",
    "outputId": "e9b96dc2-7589-40d6-933d-f5bc1ce919de"
   },
   "outputs": [],
   "source": [
    "df.Hours.nunique()"
   ]
  },
  {
   "cell_type": "code",
   "execution_count": null,
   "metadata": {
    "colab": {
     "base_uri": "https://localhost:8080/"
    },
    "id": "jL-EewkK3UO9",
    "outputId": "3d5c85a3-e372-4dd2-dae4-48c334b96c06"
   },
   "outputs": [],
   "source": [
    "df.Minutes.nunique()"
   ]
  },
  {
   "cell_type": "code",
   "execution_count": null,
   "metadata": {
    "colab": {
     "base_uri": "https://localhost:8080/"
    },
    "id": "uqJlqwNz3SkH",
    "outputId": "74120924-eac7-4621-ec25-7aa1fac7bac9"
   },
   "outputs": [],
   "source": [
    "df.Seconds.nunique()"
   ]
  },
  {
   "cell_type": "markdown",
   "metadata": {
    "id": "NaqPmxSwTfU5"
   },
   "source": [
    "**Handling geoNetwork_networkDomain by Binary Encoding**\n",
    "\n",
    "\n"
   ]
  },
  {
   "cell_type": "code",
   "execution_count": null,
   "metadata": {
    "id": "Rww8IjYia_O8"
   },
   "outputs": [],
   "source": [
    "# print('Feature device_operatingSystem has ',df.device_operatingSystem.nunique(),' Unique Values')\n",
    "# print('Feature geoNetwork_subContinent has ',df.geoNetwork_subContinent.nunique(),' Unique Values')\n",
    "# print('Feature device_isMobile has ',df.device_isMobile.nunique(),' Unique Values')"
   ]
  },
  {
   "cell_type": "code",
   "execution_count": null,
   "metadata": {
    "id": "T6h8YaP067P4"
   },
   "outputs": [],
   "source": [
    "# pip install --upgrade category_encoders"
   ]
  },
  {
   "cell_type": "code",
   "execution_count": null,
   "metadata": {
    "id": "xlDWcp_23ZPs"
   },
   "outputs": [],
   "source": [
    "# import category_encoders as ce"
   ]
  },
  {
   "cell_type": "code",
   "execution_count": null,
   "metadata": {
    "id": "877LPLa_6xKx"
   },
   "outputs": [],
   "source": [
    "# encoder= ce.BinaryEncoder(cols=['geoNetwork_networkDomain'])"
   ]
  },
  {
   "cell_type": "code",
   "execution_count": null,
   "metadata": {
    "id": "MIG-e7R-7VW8"
   },
   "outputs": [],
   "source": [
    "# df=encoder.fit_transform(df) \n",
    "# df"
   ]
  },
  {
   "cell_type": "code",
   "execution_count": null,
   "metadata": {
    "id": "UfzQR4r27akj"
   },
   "outputs": [],
   "source": [
    "#df.geoNetwork_networkDomain.value_counts()"
   ]
  },
  {
   "cell_type": "code",
   "execution_count": null,
   "metadata": {
    "id": "-ew5MDqh7zFX"
   },
   "outputs": [],
   "source": [
    "df_fullVisitorId=df.fullVisitorId"
   ]
  },
  {
   "cell_type": "code",
   "execution_count": null,
   "metadata": {
    "id": "9-V7tuDs-uef"
   },
   "outputs": [],
   "source": [
    "df=df.drop('fullVisitorId',1)"
   ]
  },
  {
   "cell_type": "code",
   "execution_count": null,
   "metadata": {
    "colab": {
     "base_uri": "https://localhost:8080/",
     "height": 426
    },
    "id": "0yCb3uFA-vbv",
    "outputId": "458c78fa-b2a4-4b02-a35a-e32bfdd64560"
   },
   "outputs": [],
   "source": [
    "df"
   ]
  },
  {
   "cell_type": "code",
   "execution_count": null,
   "metadata": {
    "colab": {
     "base_uri": "https://localhost:8080/",
     "height": 406
    },
    "id": "kBi-EnPF-5W9",
    "outputId": "fe6e1a3a-d50c-48e7-9ec0-ed4bee81f336"
   },
   "outputs": [],
   "source": [
    "df.select_dtypes(include=np.object)"
   ]
  },
  {
   "cell_type": "markdown",
   "metadata": {
    "id": "LfUha1d6T6Dn"
   },
   "source": [
    "**Doing OHE with the Remaining Categorical Columns**"
   ]
  },
  {
   "cell_type": "code",
   "execution_count": null,
   "metadata": {
    "colab": {
     "base_uri": "https://localhost:8080/"
    },
    "id": "uS-LcOdQ_Jab",
    "outputId": "16e13702-eb67-4f38-8b80-c83bb6b08d0d"
   },
   "outputs": [],
   "source": [
    "# print(df.geoNetwork_networkDomain.nunique())\n",
    "print('Feature device_operatingSystem has ',df.device_operatingSystem.nunique(),' Unique Values')\n",
    "print('Feature geoNetwork_subContinent has ',df.geoNetwork_subContinent.nunique(),' Unique Values')\n",
    "print('Feature device_isMobile has ',df.device_isMobile.nunique(),' Unique Values')"
   ]
  },
  {
   "cell_type": "code",
   "execution_count": null,
   "metadata": {
    "id": "l42Lk0-r_Zl5"
   },
   "outputs": [],
   "source": [
    "ohe_df=pd.get_dummies(df[['device_operatingSystem','geoNetwork_subContinent','device_isMobile']],drop_first=True)"
   ]
  },
  {
   "cell_type": "code",
   "execution_count": null,
   "metadata": {
    "colab": {
     "base_uri": "https://localhost:8080/",
     "height": 443
    },
    "id": "sV--oxAH_8iP",
    "outputId": "c79cd7f0-1be5-46ac-ca21-ace466aa29a9"
   },
   "outputs": [],
   "source": [
    "ohe_df"
   ]
  },
  {
   "cell_type": "code",
   "execution_count": null,
   "metadata": {
    "id": "915eHDohAFUE"
   },
   "outputs": [],
   "source": [
    "df=pd.concat([df,ohe_df],1)"
   ]
  },
  {
   "cell_type": "code",
   "execution_count": null,
   "metadata": {
    "colab": {
     "base_uri": "https://localhost:8080/",
     "height": 443
    },
    "id": "s4wEQ5tFCCtA",
    "outputId": "035a202f-a484-4258-cd43-c457aacdf166"
   },
   "outputs": [],
   "source": [
    "df"
   ]
  },
  {
   "cell_type": "code",
   "execution_count": null,
   "metadata": {
    "id": "lcaTsTsQCDTX"
   },
   "outputs": [],
   "source": [
    "df=df.drop(['device_browser','device_operatingSystem','geoNetwork_subContinent','device_isMobile'],1)"
   ]
  },
  {
   "cell_type": "code",
   "execution_count": null,
   "metadata": {
    "colab": {
     "base_uri": "https://localhost:8080/",
     "height": 443
    },
    "id": "sc5-qMYtCVRN",
    "outputId": "d2133e83-0762-4447-d1b3-8596243077bf"
   },
   "outputs": [],
   "source": [
    "df"
   ]
  },
  {
   "cell_type": "code",
   "execution_count": null,
   "metadata": {
    "colab": {
     "base_uri": "https://localhost:8080/"
    },
    "id": "gsGFG9a9CV8F",
    "outputId": "f21cf4d4-43b6-4a82-b1f3-4f1ef6a4320b"
   },
   "outputs": [],
   "source": [
    "bool"
   ]
  },
  {
   "cell_type": "markdown",
   "metadata": {
    "id": "dm-Yg82KUFFl"
   },
   "source": [
    "**Checking Outliers**"
   ]
  },
  {
   "cell_type": "code",
   "execution_count": null,
   "metadata": {
    "colab": {
     "base_uri": "https://localhost:8080/"
    },
    "id": "rg4YkhOUEYl1",
    "outputId": "94e5a036-0a2b-4a68-979a-47f46a7500c2"
   },
   "outputs": [],
   "source": [
    "df.columns"
   ]
  },
  {
   "cell_type": "code",
   "execution_count": null,
   "metadata": {
    "colab": {
     "base_uri": "https://localhost:8080/"
    },
    "id": "2XmK56bMhSZB",
    "outputId": "8be489aa-e11f-4b4a-c6a2-d95e204b7b9f"
   },
   "outputs": [],
   "source": [
    "df.info()"
   ]
  },
  {
   "cell_type": "code",
   "execution_count": null,
   "metadata": {
    "colab": {
     "base_uri": "https://localhost:8080/"
    },
    "id": "GVtnlS7UiE9O",
    "outputId": "c3158424-3309-4329-96b6-2a692e211d0c"
   },
   "outputs": [],
   "source": [
    "df.dtypes.value_counts()"
   ]
  },
  {
   "cell_type": "code",
   "execution_count": null,
   "metadata": {
    "colab": {
     "base_uri": "https://localhost:8080/",
     "height": 1000
    },
    "id": "P0p4uWT7EqmR",
    "outputId": "41e7c83c-ba97-457f-aab5-39f7423fcc25"
   },
   "outputs": [],
   "source": [
    "for i in df.columns:\n",
    "  if df[i].dtypes=='int64':\n",
    "    sns.boxplot(df[i])\n",
    "    plt.show()"
   ]
  },
  {
   "cell_type": "markdown",
   "metadata": {
    "id": "HPdEZZRpUhBF"
   },
   "source": [
    "**These Three columns have OUTLIERS [ visitNumber , totals_hits, totals_page_views ]**"
   ]
  },
  {
   "cell_type": "code",
   "execution_count": null,
   "metadata": {
    "colab": {
     "base_uri": "https://localhost:8080/",
     "height": 804
    },
    "id": "vScJrR5kE6DA",
    "outputId": "2eac0578-fb64-4baf-9531-30755c054495"
   },
   "outputs": [],
   "source": [
    "outliers=['visitNumber', 'totals_hits', 'totals_pageviews']\n",
    "for i in outliers:\n",
    "  sns.boxplot(df[i])\n",
    "  plt.show()"
   ]
  },
  {
   "cell_type": "code",
   "execution_count": null,
   "metadata": {
    "colab": {
     "base_uri": "https://localhost:8080/",
     "height": 297
    },
    "id": "Y8b_E54MLqzG",
    "outputId": "cfb527b9-5a9f-4748-b6cf-ead65c6fd504"
   },
   "outputs": [],
   "source": [
    "sns.distplot(df.totals_pageviews,kde=False)"
   ]
  },
  {
   "cell_type": "markdown",
   "metadata": {
    "id": "ZjIE44DjU-aF"
   },
   "source": [
    "**Doing Power Transformation for outliers Data**"
   ]
  },
  {
   "cell_type": "code",
   "execution_count": null,
   "metadata": {
    "id": "Am5ZTifCMCX6"
   },
   "outputs": [],
   "source": [
    "# from sklearn.preprocessing import PowerTransformer\n",
    "# pt = PowerTransformer()\n",
    "# pt.fit([df.totals_pageviews])"
   ]
  },
  {
   "cell_type": "code",
   "execution_count": null,
   "metadata": {
    "id": "mPORZwf-MP6B"
   },
   "outputs": [],
   "source": [
    "# pt_df=pt.transform([df.totals_pageviews])"
   ]
  },
  {
   "cell_type": "code",
   "execution_count": null,
   "metadata": {
    "id": "oE4qNuIHXQbF"
   },
   "outputs": [],
   "source": [
    "# sns.distplot(pt_df)"
   ]
  },
  {
   "cell_type": "code",
   "execution_count": null,
   "metadata": {
    "id": "FAhr4z_RXuHn"
   },
   "outputs": [],
   "source": [
    "# sns.boxplot(pt_df)"
   ]
  },
  {
   "cell_type": "markdown",
   "metadata": {
    "id": "nCGpPIUYVJ3j"
   },
   "source": [
    "**Log Transformation**"
   ]
  },
  {
   "cell_type": "code",
   "execution_count": null,
   "metadata": {
    "id": "T7EadlEqX1xm"
   },
   "outputs": [],
   "source": [
    "outliers=['visitNumber', 'totals_hits', 'totals_pageviews']\n",
    "\n",
    "\n",
    "log_visit_no=df.visitNumber.apply(lambda x:np.log(x))\n",
    "log_tot_hits=df.totals_hits.apply(lambda x:np.log(x))\n",
    "log_tot_views=df.totals_pageviews.apply(lambda x:np.log(x))"
   ]
  },
  {
   "cell_type": "code",
   "execution_count": null,
   "metadata": {
    "colab": {
     "base_uri": "https://localhost:8080/",
     "height": 297
    },
    "id": "aLz_vPDeajRR",
    "outputId": "ace7efb9-c985-407e-d821-6f8eae426eed"
   },
   "outputs": [],
   "source": [
    "sns.distplot(log_tot_views)\n",
    "print('Skewness : ',log_tot_views.skew())"
   ]
  },
  {
   "cell_type": "code",
   "execution_count": null,
   "metadata": {
    "colab": {
     "base_uri": "https://localhost:8080/",
     "height": 297
    },
    "id": "M0oitNOCa0W5",
    "outputId": "f75a3b07-7314-4817-f51a-57c83365c1a7"
   },
   "outputs": [],
   "source": [
    "sns.distplot(log_tot_hits)\n",
    "print('Skewness : ',log_tot_hits.skew())"
   ]
  },
  {
   "cell_type": "code",
   "execution_count": null,
   "metadata": {
    "colab": {
     "base_uri": "https://localhost:8080/",
     "height": 296
    },
    "id": "P4fWsyU-a3Au",
    "outputId": "f5731332-3333-40bc-e095-ec82942deebb"
   },
   "outputs": [],
   "source": [
    "sns.distplot(log_visit_no)\n",
    "print('Skewness : ',log_visit_no.skew())"
   ]
  },
  {
   "cell_type": "markdown",
   "metadata": {
    "id": "wzKuwlAwVQx3"
   },
   "source": [
    "**BoxCox Transformation**"
   ]
  },
  {
   "cell_type": "code",
   "execution_count": null,
   "metadata": {
    "id": "aM6Ll5NTYfgh"
   },
   "outputs": [],
   "source": [
    "import scipy.stats as stats\n",
    "trans1,lam=stats.boxcox(df['visitNumber'])\n",
    "trans2,lam=stats.boxcox(df['totals_hits'])\n",
    "trans3,lam=stats.boxcox(df['totals_pageviews'])"
   ]
  },
  {
   "cell_type": "code",
   "execution_count": null,
   "metadata": {
    "colab": {
     "base_uri": "https://localhost:8080/",
     "height": 282
    },
    "id": "6dYQ2jeXZKoD",
    "outputId": "d53f0ead-344c-47c9-a076-528005e955bb"
   },
   "outputs": [],
   "source": [
    "sns.distplot(trans1)\n",
    "print('Skewness : ',pd.DataFrame(trans1).skew().values)\n",
    "plt.show()"
   ]
  },
  {
   "cell_type": "code",
   "execution_count": null,
   "metadata": {
    "colab": {
     "base_uri": "https://localhost:8080/",
     "height": 282
    },
    "id": "ym9SRLerdQqt",
    "outputId": "2c0da1e0-da26-4beb-dc21-c58737c33a68"
   },
   "outputs": [],
   "source": [
    "sns.distplot(trans2)\n",
    "print('Skewness : ',pd.DataFrame(trans2).skew().values)\n",
    "plt.show()"
   ]
  },
  {
   "cell_type": "code",
   "execution_count": null,
   "metadata": {
    "colab": {
     "base_uri": "https://localhost:8080/",
     "height": 283
    },
    "id": "0lV7APjfdRMg",
    "outputId": "ba58a04c-675c-4045-cfdf-19b37b27830e"
   },
   "outputs": [],
   "source": [
    "sns.distplot(trans3)\n",
    "print('Skewness : ',pd.DataFrame(trans3).skew().values)\n",
    "plt.show()"
   ]
  },
  {
   "cell_type": "markdown",
   "metadata": {
    "id": "IczOoGcvVaOs"
   },
   "source": [
    "**BOXCOX Transformation is performing better than LOG Transformation**"
   ]
  },
  {
   "cell_type": "markdown",
   "metadata": {
    "id": "g2B_70OoVl6L"
   },
   "source": [
    "**Creating Trans DataFrame to append all BoxCox Transformed Features**"
   ]
  },
  {
   "cell_type": "code",
   "execution_count": null,
   "metadata": {
    "id": "UvQCJynwdg7Z"
   },
   "outputs": [],
   "source": [
    "trans=pd.DataFrame(trans1,columns=['visitNumber'])"
   ]
  },
  {
   "cell_type": "code",
   "execution_count": null,
   "metadata": {
    "id": "AE-JvHmmdqp4"
   },
   "outputs": [],
   "source": [
    "#trans['visitNumber']=pd.DataFrame(trans1)\n",
    "trans['totals_hits']=pd.DataFrame(trans2)\n",
    "trans['totals_pageviews']=pd.DataFrame(trans3)"
   ]
  },
  {
   "cell_type": "code",
   "execution_count": null,
   "metadata": {
    "id": "P1mcV4edrcr9"
   },
   "outputs": [],
   "source": [
    "trans.reset_index(drop=True, inplace=True)"
   ]
  },
  {
   "cell_type": "code",
   "execution_count": null,
   "metadata": {
    "id": "p84Of5k1rkZk"
   },
   "outputs": [],
   "source": [
    "df.reset_index(drop=True, inplace=True)"
   ]
  },
  {
   "cell_type": "code",
   "execution_count": null,
   "metadata": {
    "colab": {
     "base_uri": "https://localhost:8080/",
     "height": 197
    },
    "id": "w2cMXSS6dvY3",
    "outputId": "d90bc12a-1655-4ac0-cbd0-aebcb84760ad"
   },
   "outputs": [],
   "source": [
    "trans.head()"
   ]
  },
  {
   "cell_type": "code",
   "execution_count": null,
   "metadata": {
    "colab": {
     "base_uri": "https://localhost:8080/",
     "height": 406
    },
    "id": "YSVhsAPbqh3a",
    "outputId": "c77e1512-98f9-4455-d1d6-e88305705f06"
   },
   "outputs": [],
   "source": [
    "trans"
   ]
  },
  {
   "cell_type": "code",
   "execution_count": null,
   "metadata": {
    "id": "WOwGtvsHeJ9y"
   },
   "outputs": [],
   "source": [
    "df=df.drop(['visitNumber','totals_hits','totals_pageviews'],1)"
   ]
  },
  {
   "cell_type": "markdown",
   "metadata": {
    "id": "W93H8Nu3V6_s"
   },
   "source": [
    "**Concating Tranformed features with the Dataframe**"
   ]
  },
  {
   "cell_type": "code",
   "execution_count": null,
   "metadata": {
    "id": "2YLF3q0Iel7p"
   },
   "outputs": [],
   "source": [
    "df=pd.concat([df,trans],axis=1)"
   ]
  },
  {
   "cell_type": "markdown",
   "metadata": {
    "id": "NyApdtmSa24J"
   },
   "source": [
    "**Base Model**"
   ]
  },
  {
   "cell_type": "code",
   "execution_count": null,
   "metadata": {
    "id": "048R48yUZhd0"
   },
   "outputs": [],
   "source": [
    "from sklearn.tree import DecisionTreeClassifier\n",
    "from sklearn.model_selection import train_test_split\n",
    "from sklearn.metrics import classification_report\n",
    "from sklearn.linear_model import LogisticRegression\n",
    "from sklearn.metrics import confusion_matrix"
   ]
  },
  {
   "cell_type": "code",
   "execution_count": null,
   "metadata": {
    "id": "pMp7HCHhbChj"
   },
   "outputs": [],
   "source": [
    "x=df.drop('totals_transactionRevenue',1)\n",
    "y=df['totals_transactionRevenue']"
   ]
  },
  {
   "cell_type": "code",
   "execution_count": null,
   "metadata": {
    "id": "YMyLb1NNbgAL"
   },
   "outputs": [],
   "source": [
    "x_train , x_test , y_train , y_test = train_test_split(x,y,test_size=0.3,random_state=10,stratify=y)"
   ]
  },
  {
   "cell_type": "code",
   "execution_count": null,
   "metadata": {
    "colab": {
     "base_uri": "https://localhost:8080/"
    },
    "id": "Gk-V5WbUEuCc",
    "outputId": "b4c60d07-bb76-48f3-ed64-b24db995f35c"
   },
   "outputs": [],
   "source": [
    "mod_logit=LogisticRegression(max_iter=2000)\n",
    "mod_logit.fit(x_train,y_train)"
   ]
  },
  {
   "cell_type": "code",
   "execution_count": null,
   "metadata": {
    "id": "eGEZT0Lva_bF"
   },
   "outputs": [],
   "source": [
    "# dt=DecisionTreeClassifier()\n",
    "# dt.fit(x_train,y_train)"
   ]
  },
  {
   "cell_type": "code",
   "execution_count": null,
   "metadata": {
    "id": "TFjAxKN3b_Mq"
   },
   "outputs": [],
   "source": [
    "# y_pred=dt.predict(x_test)\n",
    "y_pred=mod_logit.predict(x_test)"
   ]
  },
  {
   "cell_type": "code",
   "execution_count": null,
   "metadata": {
    "colab": {
     "base_uri": "https://localhost:8080/"
    },
    "id": "m1yg0hBYi-iC",
    "outputId": "587fdcc2-f978-491c-c7c7-555791437ad3"
   },
   "outputs": [],
   "source": [
    "print(classification_report(y_test,y_pred))"
   ]
  },
  {
   "cell_type": "code",
   "execution_count": null,
   "metadata": {
    "colab": {
     "base_uri": "https://localhost:8080/"
    },
    "id": "EGUgoMsJ9Ydg",
    "outputId": "2c5710a6-56c2-41e8-d94c-6d6118e74208"
   },
   "outputs": [],
   "source": [
    "print('       Actual       ')\n",
    "print('    ',0,'     ',1)\n",
    "print(confusion_matrix(y_test,y_pred))"
   ]
  },
  {
   "cell_type": "code",
   "execution_count": null,
   "metadata": {
    "colab": {
     "base_uri": "https://localhost:8080/"
    },
    "id": "0sUe36ej8eLa",
    "outputId": "1f03d99c-04fe-4611-e201-5a13fec15e4f"
   },
   "outputs": [],
   "source": [
    "485/(485+2968)"
   ]
  },
  {
   "cell_type": "code",
   "execution_count": null,
   "metadata": {
    "id": "tcLR3_fi-G14"
   },
   "outputs": [],
   "source": []
  },
  {
   "cell_type": "markdown",
   "metadata": {
    "id": "373OkTEadQNE"
   },
   "source": [
    "**Feature Importance**"
   ]
  },
  {
   "cell_type": "code",
   "execution_count": null,
   "metadata": {
    "id": "_8vKo4r2HkO1"
   },
   "outputs": [],
   "source": [
    "# Checking Feature Importance Using Decision tree"
   ]
  },
  {
   "cell_type": "code",
   "execution_count": null,
   "metadata": {
    "id": "7XwXCaoEG32o"
   },
   "outputs": [],
   "source": [
    "x=df.drop('totals_transactionRevenue',1)\n",
    "y=df['totals_transactionRevenue']"
   ]
  },
  {
   "cell_type": "code",
   "execution_count": null,
   "metadata": {
    "id": "lU2C4qsKG32p"
   },
   "outputs": [],
   "source": [
    "x_train , x_test , y_train , y_test = train_test_split(x,y,test_size=0.3,random_state=10,stratify=y)"
   ]
  },
  {
   "cell_type": "code",
   "execution_count": null,
   "metadata": {
    "colab": {
     "base_uri": "https://localhost:8080/"
    },
    "id": "HIuQ9cVbG32p",
    "outputId": "6421fcbd-0843-4fdf-fc10-0cb1d6079b27"
   },
   "outputs": [],
   "source": [
    "dt=DecisionTreeClassifier()\n",
    "dt.fit(x_train,y_train)"
   ]
  },
  {
   "cell_type": "code",
   "execution_count": null,
   "metadata": {
    "id": "yt7HWs6ZG32q"
   },
   "outputs": [],
   "source": [
    "y_pred=dt.predict(x_test)"
   ]
  },
  {
   "cell_type": "code",
   "execution_count": null,
   "metadata": {
    "colab": {
     "base_uri": "https://localhost:8080/"
    },
    "id": "n1HBiTIAG32q",
    "outputId": "946db584-c6c8-4c8b-d3f2-10bea5a45694"
   },
   "outputs": [],
   "source": [
    "print(classification_report(y_test,y_pred))"
   ]
  },
  {
   "cell_type": "code",
   "execution_count": null,
   "metadata": {
    "colab": {
     "base_uri": "https://localhost:8080/"
    },
    "id": "Q3_MzZnr_Nq1",
    "outputId": "26e7dcb3-ced3-4a3f-9044-5fd1a2516c77"
   },
   "outputs": [],
   "source": [
    "print(confusion_matrix(y_test,y_pred))"
   ]
  },
  {
   "cell_type": "code",
   "execution_count": null,
   "metadata": {
    "id": "AB5yf9z1HEaT"
   },
   "outputs": [],
   "source": [
    "# pd.Series(dt.feature_importances_, index=x_train.columns).plot(kind='barh')"
   ]
  },
  {
   "cell_type": "code",
   "execution_count": null,
   "metadata": {
    "id": "nUF9MajzHEd6"
   },
   "outputs": [],
   "source": [
    "# nlargest is used only for Series\n",
    "# pd.DataFrame(feat_importances,index=x_test.columns).plot(kind='barh')"
   ]
  },
  {
   "cell_type": "code",
   "execution_count": null,
   "metadata": {
    "colab": {
     "base_uri": "https://localhost:8080/",
     "height": 610
    },
    "id": "CN4pnP8-G32r",
    "outputId": "71d12c5f-eb1b-424e-a00b-e301a796c7ec"
   },
   "outputs": [],
   "source": [
    "#feat_importances.plot(kind='barh')\n",
    "\n",
    "plt.figure(figsize=(20,10))\n",
    "(pd.Series(dt.feature_importances_, index=x_train.columns)\n",
    "   .nlargest(50)\n",
    "   .plot(kind='barh'))"
   ]
  },
  {
   "cell_type": "code",
   "execution_count": null,
   "metadata": {
    "colab": {
     "base_uri": "https://localhost:8080/"
    },
    "id": "WDmIOQ8MjMe4",
    "outputId": "950e2f34-4bc7-46d8-ae51-93ff07732adb"
   },
   "outputs": [],
   "source": [
    "pd.Series(dt.feature_importances_, index=x_train.columns).nlargest(18).index"
   ]
  },
  {
   "cell_type": "markdown",
   "metadata": {
    "id": "IbE9tXtctIlL"
   },
   "source": [
    "#  Checking Mullticollinearity"
   ]
  },
  {
   "cell_type": "code",
   "execution_count": null,
   "metadata": {
    "id": "Ti_-bsUelOnX"
   },
   "outputs": [],
   "source": [
    "from statsmodels.stats.outliers_influence import variance_inflation_factor"
   ]
  },
  {
   "cell_type": "code",
   "execution_count": null,
   "metadata": {
    "colab": {
     "base_uri": "https://localhost:8080/",
     "height": 1000
    },
    "id": "pOQnT28plRjm",
    "outputId": "a190c989-1666-4267-eac9-ba55c368031e"
   },
   "outputs": [],
   "source": [
    "vif=pd.DataFrame()\n",
    "vif['VIF']=[variance_inflation_factor(df.values,i) for i in range(df.shape[1])]\n",
    "vif['feature']=df.columns\n",
    "vif.sort_values('VIF',ascending=False)"
   ]
  },
  {
   "cell_type": "code",
   "execution_count": null,
   "metadata": {
    "id": "gbzIPYXslzCK"
   },
   "outputs": [],
   "source": [
    "# df=df.drop('Hours',1)\n",
    "# df=df.drop('Visit_Year',1)\n",
    "# df=df.drop('totals_hits',1)\n",
    "# df=df.drop('geoNetwork_subContinent_Northern America',1) \n",
    "df=df.drop('device_operatingSystem_Windows',1)"
   ]
  },
  {
   "cell_type": "code",
   "execution_count": null,
   "metadata": {
    "colab": {
     "base_uri": "https://localhost:8080/"
    },
    "id": "VkVnnXm6nBrQ",
    "outputId": "eff10bd7-8f37-4e04-be06-069baff66651"
   },
   "outputs": [],
   "source": [
    "df.columns"
   ]
  },
  {
   "cell_type": "code",
   "execution_count": null,
   "metadata": {
    "colab": {
     "base_uri": "https://localhost:8080/"
    },
    "id": "GzzvXMjpshLJ",
    "outputId": "c3dbbe0c-840d-4e20-f218-5461533adc6a"
   },
   "outputs": [],
   "source": [
    "df.shape"
   ]
  },
  {
   "cell_type": "code",
   "execution_count": null,
   "metadata": {
    "id": "XwGR0dUkHyFV"
   },
   "outputs": [],
   "source": [
    "# Checking Model Performance After Removing Multicollinearity"
   ]
  },
  {
   "cell_type": "code",
   "execution_count": null,
   "metadata": {
    "id": "2h2zvJAxssbJ"
   },
   "outputs": [],
   "source": [
    "x=df.drop('totals_transactionRevenue',1)\n",
    "y=df['totals_transactionRevenue']"
   ]
  },
  {
   "cell_type": "code",
   "execution_count": null,
   "metadata": {
    "id": "QICmEMkOssbJ"
   },
   "outputs": [],
   "source": [
    "x_train , x_test , y_train , y_test = train_test_split(x,y,test_size=0.3,random_state=10,stratify=y)"
   ]
  },
  {
   "cell_type": "code",
   "execution_count": null,
   "metadata": {
    "colab": {
     "base_uri": "https://localhost:8080/"
    },
    "id": "aTnfSjeQssbK",
    "outputId": "24e1c649-78bd-4588-cd82-d0afa01db6f1"
   },
   "outputs": [],
   "source": [
    "dt=DecisionTreeClassifier()\n",
    "dt.fit(x_train,y_train)"
   ]
  },
  {
   "cell_type": "code",
   "execution_count": null,
   "metadata": {
    "id": "OUYhPdVissbK"
   },
   "outputs": [],
   "source": [
    "y_pred=dt.predict(x_test)"
   ]
  },
  {
   "cell_type": "code",
   "execution_count": null,
   "metadata": {
    "colab": {
     "base_uri": "https://localhost:8080/"
    },
    "id": "sFVur_tPssbK",
    "outputId": "82e2a8e5-0c60-4c65-dff0-26d89c51053b"
   },
   "outputs": [],
   "source": [
    "print(classification_report(y_test,y_pred))"
   ]
  },
  {
   "cell_type": "code",
   "execution_count": null,
   "metadata": {
    "colab": {
     "base_uri": "https://localhost:8080/",
     "height": 610
    },
    "id": "mMe9lyMAs0sS",
    "outputId": "da4c9741-1630-4eec-fa57-30d6214590e7"
   },
   "outputs": [],
   "source": [
    "plt.figure(figsize=(20,10))\n",
    "(pd.Series(dt.feature_importances_, index=x_train.columns)\n",
    "   .nlargest(50)\n",
    "   .plot(kind='barh'))"
   ]
  },
  {
   "cell_type": "code",
   "execution_count": null,
   "metadata": {
    "colab": {
     "base_uri": "https://localhost:8080/"
    },
    "id": "-t0uM57FtA_D",
    "outputId": "f0044915-a14e-40e0-d3b1-e72261845fb3"
   },
   "outputs": [],
   "source": [
    "selected_feat=pd.Series(dt.feature_importances_, index=x_train.columns).nlargest(14).index\n",
    "selected_feat"
   ]
  },
  {
   "cell_type": "code",
   "execution_count": null,
   "metadata": {
    "id": "OdbWc7KQCz2d"
   },
   "outputs": [],
   "source": [
    "df_imp=df[selected_feat]"
   ]
  },
  {
   "cell_type": "code",
   "execution_count": null,
   "metadata": {
    "colab": {
     "base_uri": "https://localhost:8080/",
     "height": 443
    },
    "id": "O-zLdQJ_C_Am",
    "outputId": "c634aff6-da9e-4204-da4b-597516a59857"
   },
   "outputs": [],
   "source": [
    "df_imp"
   ]
  },
  {
   "cell_type": "markdown",
   "metadata": {
    "id": "KWABzg8stYIP"
   },
   "source": [
    "# Handling Imbalance Problem"
   ]
  },
  {
   "cell_type": "code",
   "execution_count": null,
   "metadata": {
    "id": "3YCdKO9UtbYP"
   },
   "outputs": [],
   "source": [
    "from sklearn.metrics import recall_score"
   ]
  },
  {
   "cell_type": "code",
   "execution_count": null,
   "metadata": {
    "colab": {
     "base_uri": "https://localhost:8080/"
    },
    "id": "Y34u2akx2B70",
    "outputId": "c61c0a50-618d-4054-da53-2b201e8fd438"
   },
   "outputs": [],
   "source": [
    "recall_score(y_test,y_pred)"
   ]
  },
  {
   "cell_type": "code",
   "execution_count": null,
   "metadata": {
    "colab": {
     "base_uri": "https://localhost:8080/"
    },
    "id": "YDpfTqDo41Pk",
    "outputId": "8df2da0d-595b-4653-beda-78cc9d754f22"
   },
   "outputs": [],
   "source": [
    "df.totals_transactionRevenue.value_counts()"
   ]
  },
  {
   "cell_type": "code",
   "execution_count": null,
   "metadata": {
    "id": "C6akiCsz5ctX"
   },
   "outputs": [],
   "source": [
    "from imblearn.pipeline import make_pipeline\n",
    "from imblearn.over_sampling import SMOTE \n",
    "from imblearn.under_sampling import NearMiss"
   ]
  },
  {
   "cell_type": "code",
   "execution_count": null,
   "metadata": {
    "id": "j2RzrtbK2Hp7"
   },
   "outputs": [],
   "source": [
    "class_0=500000\n",
    "class_1=100000"
   ]
  },
  {
   "cell_type": "code",
   "execution_count": null,
   "metadata": {
    "id": "oR0fYOJG6Q-w"
   },
   "outputs": [],
   "source": [
    "# count_class_0 = 2000\n",
    "# count_class_1 = 2000\n",
    "# pipe = make_pipeline(SMOTE(sampling_strategy={1: count_class_1})\n",
    "#                     ,NearMiss(sampling_strategy={0: count_class_0}))\n",
    "\n",
    "# x_res, y_res = pipe.fit_resample(X, Y)"
   ]
  },
  {
   "cell_type": "code",
   "execution_count": null,
   "metadata": {
    "id": "g6uW_LXf64Eu"
   },
   "outputs": [],
   "source": [
    "x=df_imp\n",
    "y=df['totals_transactionRevenue']"
   ]
  },
  {
   "cell_type": "code",
   "execution_count": null,
   "metadata": {
    "id": "uk8rcew15DDi"
   },
   "outputs": [],
   "source": [
    "pipe=make_pipeline(SMOTE(sampling_strategy={1:class_1}),\n",
    "                         NearMiss(sampling_strategy={0:class_0}))"
   ]
  },
  {
   "cell_type": "code",
   "execution_count": null,
   "metadata": {
    "id": "BkUhkyQS6EHC"
   },
   "outputs": [],
   "source": [
    "# The Output will be in array\n",
    "x_bal, y_bal = pipe.fit_resample(x, y)"
   ]
  },
  {
   "cell_type": "code",
   "execution_count": null,
   "metadata": {
    "colab": {
     "base_uri": "https://localhost:8080/"
    },
    "id": "IoxlHEto8cYA",
    "outputId": "ea323b21-2178-47f6-e940-5987dbbe1fad"
   },
   "outputs": [],
   "source": [
    "x_bal.shape"
   ]
  },
  {
   "cell_type": "code",
   "execution_count": null,
   "metadata": {
    "colab": {
     "base_uri": "https://localhost:8080/"
    },
    "id": "huRVSk5b8e3Z",
    "outputId": "c7fbe5c6-db4f-4a9f-bd87-dc71fe990857"
   },
   "outputs": [],
   "source": [
    "y_bal.shape"
   ]
  },
  {
   "cell_type": "code",
   "execution_count": null,
   "metadata": {
    "id": "XYINx42F_uQg"
   },
   "outputs": [],
   "source": [
    "x_bal_df=pd.DataFrame(x_bal,columns=x.columns)\n",
    "# y can be array"
   ]
  },
  {
   "cell_type": "code",
   "execution_count": null,
   "metadata": {
    "id": "cIZenB-27pMM"
   },
   "outputs": [],
   "source": [
    "x_train , x_test , y_train , y_test = train_test_split(x_bal_df,y_bal,test_size=0.3,random_state=10,stratify=y_bal)"
   ]
  },
  {
   "cell_type": "code",
   "execution_count": null,
   "metadata": {
    "colab": {
     "base_uri": "https://localhost:8080/"
    },
    "id": "0OEW1vkO7pMR",
    "outputId": "8032e47f-4d95-4f90-c2c6-4623298b10f1"
   },
   "outputs": [],
   "source": [
    "dt=DecisionTreeClassifier()\n",
    "dt.fit(x_train,y_train)"
   ]
  },
  {
   "cell_type": "code",
   "execution_count": null,
   "metadata": {
    "id": "8jDLnxcQBlzq"
   },
   "outputs": [],
   "source": [
    "y_pred=dt.predict(x_test)"
   ]
  },
  {
   "cell_type": "code",
   "execution_count": null,
   "metadata": {
    "colab": {
     "base_uri": "https://localhost:8080/"
    },
    "id": "Ko3AbFFvDxII",
    "outputId": "b93fe73e-0c86-4a74-d6ec-0bb172cb420b"
   },
   "outputs": [],
   "source": [
    "print(classification_report(y_test,y_pred))"
   ]
  },
  {
   "cell_type": "code",
   "execution_count": null,
   "metadata": {
    "id": "0w3LsgoZJfim"
   },
   "outputs": [],
   "source": []
  },
  {
   "cell_type": "markdown",
   "metadata": {
    "id": "FyqYfdeoCWWO"
   },
   "source": [
    "**Checking with Multiple Models**"
   ]
  },
  {
   "cell_type": "code",
   "execution_count": null,
   "metadata": {
    "colab": {
     "base_uri": "https://localhost:8080/",
     "height": 174
    },
    "id": "vkS-2XLMEY6E",
    "outputId": "f9a67aae-e3ef-4d92-a47d-129c2a6c9273"
   },
   "outputs": [],
   "source": [
    "x_bal_df.head(3)"
   ]
  },
  {
   "cell_type": "code",
   "execution_count": null,
   "metadata": {
    "colab": {
     "base_uri": "https://localhost:8080/"
    },
    "id": "aBF4TVX4JxOO",
    "outputId": "5a94ba8f-148e-45a1-dffc-1d406f21bb84"
   },
   "outputs": [],
   "source": [
    "y_bal"
   ]
  },
  {
   "cell_type": "code",
   "execution_count": null,
   "metadata": {
    "id": "5vx0BHBxI2uu"
   },
   "outputs": [],
   "source": [
    "from sklearn.tree import DecisionTreeClassifier\n",
    "from sklearn.neighbors import KNeighborsClassifier\n",
    "from sklearn.linear_model import LogisticRegression\n",
    "from sklearn.ensemble import RandomForestClassifier\n",
    "from sklearn.naive_bayes import GaussianNB\n",
    "from sklearn.ensemble import BaggingClassifier\n",
    "from sklearn.model_selection import cross_val_score,KFold"
   ]
  },
  {
   "cell_type": "code",
   "execution_count": null,
   "metadata": {
    "id": "NOWC9HtUT6_p"
   },
   "outputs": [],
   "source": [
    "kf=KFold(n_splits=5,shuffle=True,random_state=0)"
   ]
  },
  {
   "cell_type": "code",
   "execution_count": null,
   "metadata": {
    "id": "wvoUFrVUI6Gc"
   },
   "outputs": [],
   "source": [
    "clf1 = DecisionTreeClassifier(random_state=0)"
   ]
  },
  {
   "cell_type": "code",
   "execution_count": null,
   "metadata": {
    "id": "-4-cMA0GI9xE"
   },
   "outputs": [],
   "source": [
    "bagging1 = BaggingClassifier(base_estimator=clf1, n_estimators=21, max_samples=0.8,oob_score=True, random_state=0)\n",
    "#bagging2 = BaggingClassifier(base_estimator=clf2, n_estimators=11, max_samples=0.8,oob_score=True, random_state=0)"
   ]
  },
  {
   "cell_type": "code",
   "execution_count": null,
   "metadata": {
    "id": "X3S1qmtWJQ6o"
   },
   "outputs": [],
   "source": [
    "from sklearn.metrics import make_scorer,recall_score\n",
    "\n",
    "scorer=make_scorer(recall_score,average='weighted')\n",
    "\n",
    "score1 = cross_val_score(clf1, x_bal_df, y_bal, cv=kf, scoring=scorer)\n",
    "score2 = cross_val_score(bagging1,x_bal_df, y_bal, cv=kf, scoring=scorer)\n",
    "#score3 = cross_val_score(bagging2,x_bal_df, y_bal, cv=kf, scoring=scorer)"
   ]
  },
  {
   "cell_type": "code",
   "execution_count": null,
   "metadata": {
    "colab": {
     "base_uri": "https://localhost:8080/"
    },
    "id": "gzdBdI-_NHjg",
    "outputId": "5d227bb1-4f5a-4003-c9ec-70688fa23588"
   },
   "outputs": [],
   "source": [
    "np.mean(score1), np.std(score1)"
   ]
  },
  {
   "cell_type": "code",
   "execution_count": null,
   "metadata": {
    "colab": {
     "base_uri": "https://localhost:8080/"
    },
    "id": "z_SIpuAhJckx",
    "outputId": "448b3a8e-0ed2-42b7-aac9-ff2a7d2d6c66"
   },
   "outputs": [],
   "source": [
    "np.mean(score2), np.std(score2)"
   ]
  },
  {
   "cell_type": "code",
   "execution_count": null,
   "metadata": {
    "id": "PYRhJURrOCOa"
   },
   "outputs": [],
   "source": [
    "from xgboost import XGBClassifier"
   ]
  },
  {
   "cell_type": "code",
   "execution_count": null,
   "metadata": {
    "id": "wUBA7V7QN1hd"
   },
   "outputs": [],
   "source": [
    "clf1 = RandomForestClassifier(random_state=0)\n",
    "clf2 = XGBClassifier(random_state=0)"
   ]
  },
  {
   "cell_type": "code",
   "execution_count": null,
   "metadata": {
    "colab": {
     "base_uri": "https://localhost:8080/"
    },
    "id": "0vM-2rVVOkgf",
    "outputId": "23ff6de5-7812-4182-b8c3-259b996d23b6"
   },
   "outputs": [],
   "source": [
    "for i,j in zip([clf1,clf2],['RF','XG']):\n",
    "    scorer=make_scorer(recall_score,average='weighted')\n",
    "    score_vot = cross_val_score(i, x_bal_df, y_bal, cv=kf, scoring=scorer)\n",
    "    print(j,np.mean(score_vot),np.std(score_vot))"
   ]
  },
  {
   "cell_type": "code",
   "execution_count": null,
   "metadata": {
    "id": "DSbRB9GUUQJ6"
   },
   "outputs": [],
   "source": []
  },
  {
   "cell_type": "code",
   "execution_count": null,
   "metadata": {
    "id": "C5Nx6xfnP1q2"
   },
   "outputs": [],
   "source": []
  },
  {
   "cell_type": "markdown",
   "metadata": {
    "id": "1v4GxDreCSLM"
   },
   "source": [
    "**HyperParameter Tuning**"
   ]
  },
  {
   "cell_type": "code",
   "execution_count": null,
   "metadata": {
    "colab": {
     "base_uri": "https://localhost:8080/"
    },
    "id": "1qFSXr_HxDLd",
    "outputId": "5f86d9f0-d2a5-4e20-9735-91eb301d2b83"
   },
   "outputs": [],
   "source": [
    "x_bal_df=pd.DataFrame(x_bal,columns=x.columns)\n",
    "y_bal"
   ]
  },
  {
   "cell_type": "code",
   "execution_count": null,
   "metadata": {
    "colab": {
     "base_uri": "https://localhost:8080/"
    },
    "id": "ad9RWR9Awrbc",
    "outputId": "2d42da03-d477-435b-9939-822f1d20a6a4"
   },
   "outputs": [],
   "source": [
    "# Parameter Tuning\n",
    "be=[]\n",
    "ve=[]\n",
    "for i in [5,10,20,40,60,80,100,120,150,200,250,300,400]:\n",
    "    #for j in [10,15,20,30]:\n",
    "    rf=RandomForestClassifier(n_estimators=i,random_state=48)\n",
    "    #scorer = make_scorer(f1_score, average = 'weighted')\n",
    "    score=cross_val_score(rf,x_bal_df,y_bal,cv=kf,scoring='recall')\n",
    "    print('n_estimator:',i)\n",
    "    print('Bias Error',1-np.mean(score))\n",
    "    print('Variance Error',np.std(score)/np.mean(score))\n",
    "    be.append(1-np.mean(score))\n",
    "    ve.append(np.std(score)/np.mean(score))"
   ]
  },
  {
   "cell_type": "code",
   "execution_count": null,
   "metadata": {
    "id": "ixLXm5QeWXuF"
   },
   "outputs": [],
   "source": [
    "# from sklearn.model_selection import GridSearchCV\n",
    "\n",
    "# params={#'n_estimators':[50,80,100,120,140,190,200,210],\n",
    "#         'max_features':['auto','sqrt','log2'],\n",
    "#         'criterion':['gini','entropy'],\n",
    "#         'max_depth':[10,15,20,25,30]}"
   ]
  },
  {
   "cell_type": "code",
   "execution_count": null,
   "metadata": {
    "id": "_MKc_jXMPTFU"
   },
   "outputs": [],
   "source": [
    "# rf=RandomForestClassifier()\n",
    "# hyp_mod=GridSearchCV(rf,param_grid=params,scoring='recall')"
   ]
  },
  {
   "cell_type": "code",
   "execution_count": null,
   "metadata": {
    "id": "eHffUkiaPTIU"
   },
   "outputs": [],
   "source": [
    "# tun_mod=hyp_mod.fit(x_bal_df, y_bal)"
   ]
  },
  {
   "cell_type": "code",
   "execution_count": null,
   "metadata": {
    "colab": {
     "base_uri": "https://localhost:8080/"
    },
    "id": "fE_xqg6qPTOv",
    "outputId": "9035696a-3da3-4be1-b24a-0e36d6123b48"
   },
   "outputs": [],
   "source": [
    "# tun_mod.best_params_"
   ]
  },
  {
   "cell_type": "code",
   "execution_count": null,
   "metadata": {
    "id": "1tdAq6Tn8lad"
   },
   "outputs": [],
   "source": [
    "# Best Parameters => {'criterion': 'gini', 'max_depth': 20, 'max_features': 'sqrt'}"
   ]
  },
  {
   "cell_type": "code",
   "execution_count": null,
   "metadata": {
    "colab": {
     "base_uri": "https://localhost:8080/"
    },
    "id": "S_Ti8Rs68qtk",
    "outputId": "b9803a61-afbf-4943-9035-d14a0aa47a40"
   },
   "outputs": [],
   "source": [
    "# tun_mod.best_score_"
   ]
  },
  {
   "cell_type": "markdown",
   "metadata": {
    "id": "V72oat0dCL6B"
   },
   "source": [
    "**PCA**"
   ]
  },
  {
   "cell_type": "code",
   "execution_count": null,
   "metadata": {
    "colab": {
     "base_uri": "https://localhost:8080/"
    },
    "id": "VYmokg_sWZ6a",
    "outputId": "bf12abd2-2ec5-4b78-a176-80ad38084dc7"
   },
   "outputs": [],
   "source": [
    "x_bal_df=pd.DataFrame(x_bal,columns=x.columns)\n",
    "y_bal"
   ]
  },
  {
   "cell_type": "code",
   "execution_count": null,
   "metadata": {
    "id": "pY29nl4S4GUC"
   },
   "outputs": [],
   "source": [
    "x=x_bal_df\n",
    "y=y_bal"
   ]
  },
  {
   "cell_type": "code",
   "execution_count": null,
   "metadata": {
    "colab": {
     "base_uri": "https://localhost:8080/",
     "height": 234
    },
    "id": "VxDaycU09qXW",
    "outputId": "0187cc8a-5896-4026-c128-4b24d61ba3a8"
   },
   "outputs": [],
   "source": [
    "x.head()"
   ]
  },
  {
   "cell_type": "code",
   "execution_count": null,
   "metadata": {
    "id": "-8Tp8l4h4GYs"
   },
   "outputs": [],
   "source": [
    "from sklearn.preprocessing import StandardScaler\n",
    "sc=StandardScaler()\n",
    "inp_sc=sc.fit_transform(x)\n",
    "inp_sc=pd.DataFrame(inp_sc,columns=x.columns)"
   ]
  },
  {
   "cell_type": "code",
   "execution_count": null,
   "metadata": {
    "id": "xxWoU7359_gZ"
   },
   "outputs": [],
   "source": [
    "from sklearn.decomposition import PCA"
   ]
  },
  {
   "cell_type": "code",
   "execution_count": null,
   "metadata": {
    "id": "omClGKxe4Gc3"
   },
   "outputs": [],
   "source": [
    "pca_mod=PCA(x.shape[1])\n",
    "pcadata=pca_mod.fit_transform(inp_sc)"
   ]
  },
  {
   "cell_type": "code",
   "execution_count": null,
   "metadata": {
    "id": "B6uW48Fh4Gfy"
   },
   "outputs": [],
   "source": [
    "pcadata=pd.DataFrame(pcadata,columns=['PC1','PC2','PC3','PC4',\n",
    "                                      'PC5','PC6','PC7','PC8',\n",
    "                                      'PC9','PC10','PC11','PC12',\n",
    "                                      'PC13','PC14'])"
   ]
  },
  {
   "cell_type": "code",
   "execution_count": null,
   "metadata": {
    "id": "JA5jb6dy44qQ"
   },
   "outputs": [],
   "source": [
    "exp_var=pca_mod.explained_variance_ratio_"
   ]
  },
  {
   "cell_type": "code",
   "execution_count": null,
   "metadata": {
    "colab": {
     "base_uri": "https://localhost:8080/"
    },
    "id": "-j9hSqeC44t5",
    "outputId": "5644ab2a-94d7-4625-ef9b-b1a328bc8863"
   },
   "outputs": [],
   "source": [
    "cum_var=exp_var[0]\n",
    "itr=2\n",
    "for j in exp_var[1:]:\n",
    "    cum_var=cum_var+j\n",
    "    if cum_var>0.95:\n",
    "        break\n",
    "    itr=itr+1\n",
    "\n",
    "print('The 95 percent of varaince is explained by',itr, ' Principle components')"
   ]
  },
  {
   "cell_type": "code",
   "execution_count": null,
   "metadata": {
    "colab": {
     "base_uri": "https://localhost:8080/",
     "height": 285
    },
    "id": "s-yAvguT44y8",
    "outputId": "1897fcc1-58b8-482e-9163-c4d999d2abe5"
   },
   "outputs": [],
   "source": [
    "pd.DataFrame(exp_var).plot(kind='bar')"
   ]
  },
  {
   "cell_type": "code",
   "execution_count": null,
   "metadata": {
    "id": "VoDRVvlE-6kl"
   },
   "outputs": [],
   "source": [
    "pcadata1=pcadata.iloc[:,:12]"
   ]
  },
  {
   "cell_type": "code",
   "execution_count": null,
   "metadata": {
    "colab": {
     "base_uri": "https://localhost:8080/",
     "height": 107
    },
    "id": "B00Ybt_7_Ftz",
    "outputId": "807555dd-58c2-4204-a572-473d75a8d24f"
   },
   "outputs": [],
   "source": [
    "pcadata1.head(2)"
   ]
  },
  {
   "cell_type": "code",
   "execution_count": null,
   "metadata": {
    "id": "SY4XoqgN-6wd"
   },
   "outputs": [],
   "source": [
    "xtrain,xtest,ytrain,ytest=train_test_split(x,y,test_size=0.3,random_state=48)\n",
    "xtrain1,xtest1,ytrain1,ytest1=train_test_split(pcadata1,y,test_size=0.3,random_state=48)"
   ]
  },
  {
   "cell_type": "code",
   "execution_count": null,
   "metadata": {
    "colab": {
     "base_uri": "https://localhost:8080/"
    },
    "id": "h8wOjw-k-6zw",
    "outputId": "d63dba82-54de-430c-ebb5-a92051db5adf"
   },
   "outputs": [],
   "source": [
    "mod=RandomForestClassifier(random_state=0)\n",
    "mod.fit(xtrain,ytrain)\n",
    "ypred=mod.predict(xtest)\n",
    "print(\"Without PCA\",recall_score(ytest,ypred))"
   ]
  },
  {
   "cell_type": "code",
   "execution_count": null,
   "metadata": {
    "colab": {
     "base_uri": "https://localhost:8080/"
    },
    "id": "JkmcOBj75HM6",
    "outputId": "5a1e2461-f4d3-4090-ff61-219892695ba8"
   },
   "outputs": [],
   "source": [
    "mod1=RandomForestClassifier(random_state=0)\n",
    "mod1.fit(xtrain1,ytrain1)\n",
    "ypred1=mod1.predict(xtest1)\n",
    "print(\"With PCA\",recall_score(ytest1,ypred1))"
   ]
  },
  {
   "cell_type": "code",
   "execution_count": null,
   "metadata": {
    "colab": {
     "base_uri": "https://localhost:8080/"
    },
    "id": "I8HWWLVs5HXL",
    "outputId": "8ff865c0-1d40-42bf-f41e-92d9bbb2c2b6"
   },
   "outputs": [],
   "source": [
    "x_bal_df.shape"
   ]
  },
  {
   "cell_type": "code",
   "execution_count": null,
   "metadata": {
    "id": "yh1BigXVWZ_G"
   },
   "outputs": [],
   "source": [
    "# Final Model"
   ]
  },
  {
   "cell_type": "code",
   "execution_count": null,
   "metadata": {
    "id": "Urfx117LCf0a"
   },
   "outputs": [],
   "source": [
    "x=x_bal_df\n",
    "y=y_bal"
   ]
  },
  {
   "cell_type": "code",
   "execution_count": null,
   "metadata": {
    "id": "39HqFgzCCmSj"
   },
   "outputs": [],
   "source": [
    "xtrain,xtest,ytrain,ytest=train_test_split(x,y,test_size=0.3,random_state=48,stratify=y)\n",
    "xtrain1,xtest1,ytrain1,ytest1=train_test_split(pcadata1,y,test_size=0.3,random_state=48,stratify=y)"
   ]
  },
  {
   "cell_type": "code",
   "execution_count": null,
   "metadata": {
    "id": "6ntITPJUCmWO"
   },
   "outputs": [],
   "source": [
    "# mod=RandomForestClassifier(**,random_state=0)\n",
    "# Best Parameters => {'criterion': 'gini', 'max_depth': 20, 'max_features': 'sqrt'}\n",
    "mod_final=RandomForestClassifier(n_estimators=200, criterion='gini', max_depth=20, max_features='sqrt', random_state=0)\n",
    "mod_final.fit(xtrain,ytrain)\n",
    "ypred=mod_final.predict(xtest)"
   ]
  },
  {
   "cell_type": "code",
   "execution_count": null,
   "metadata": {
    "colab": {
     "base_uri": "https://localhost:8080/"
    },
    "id": "vycc8KrCCxQQ",
    "outputId": "3b55cf81-ad82-47a4-97d3-732579d82e86"
   },
   "outputs": [],
   "source": [
    "print(\"Recall Score without PCA\",recall_score(ytest1,ypred))"
   ]
  },
  {
   "cell_type": "code",
   "execution_count": null,
   "metadata": {
    "id": "80IuUxsgGhjS"
   },
   "outputs": [],
   "source": [
    "mod_pca_final=RandomForestClassifier(n_estimators=200, criterion='gini', max_depth=20, max_features='sqrt', random_state=0)\n",
    "mod_pca_final.fit(xtrain1,ytrain1)\n",
    "ypred=mod_pca_final.predict(xtest1)"
   ]
  },
  {
   "cell_type": "code",
   "execution_count": null,
   "metadata": {
    "colab": {
     "base_uri": "https://localhost:8080/"
    },
    "id": "JNFp77ihBn-X",
    "outputId": "a4becdc2-4ba0-42ad-e29e-32e4c6a7787d"
   },
   "outputs": [],
   "source": [
    "print(\"Recall Score With PCA\",recall_score(ytest1,ypred))"
   ]
  },
  {
   "cell_type": "code",
   "execution_count": null,
   "metadata": {
    "colab": {
     "base_uri": "https://localhost:8080/"
    },
    "id": "hwkjvHO_EadO",
    "outputId": "a6e49890-1b47-4fab-f63e-27c3e196b065"
   },
   "outputs": [],
   "source": [
    "print(confusion_matrix(ytest1,ypred))"
   ]
  },
  {
   "cell_type": "code",
   "execution_count": null,
   "metadata": {
    "id": "7mClN5DhKRYj"
   },
   "outputs": [],
   "source": []
  }
 ],
 "metadata": {
  "accelerator": "GPU",
  "colab": {
   "collapsed_sections": [],
   "include_colab_link": true,
   "name": "Capstone_Google_colab.ipynb",
   "provenance": []
  },
  "kernelspec": {
   "display_name": "Python 3",
   "language": "python",
   "name": "python3"
  },
  "language_info": {
   "codemirror_mode": {
    "name": "ipython",
    "version": 3
   },
   "file_extension": ".py",
   "mimetype": "text/x-python",
   "name": "python",
   "nbconvert_exporter": "python",
   "pygments_lexer": "ipython3",
   "version": "3.7.6"
  }
 },
 "nbformat": 4,
 "nbformat_minor": 1
}
