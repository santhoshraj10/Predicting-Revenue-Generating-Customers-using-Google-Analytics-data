{
  "nbformat": 4,
  "nbformat_minor": 0,
  "metadata": {
    "accelerator": "GPU",
    "colab": {
      "name": "Capstone_Google_colab.ipynb",
      "provenance": [],
      "collapsed_sections": [],
      "include_colab_link": true
    },
    "kernelspec": {
      "display_name": "Python 3",
      "name": "python3"
    }
  },
  "cells": [
    {
      "cell_type": "markdown",
      "metadata": {
        "id": "view-in-github",
        "colab_type": "text"
      },
      "source": [
        "<a href=\"https://colab.research.google.com/github/santhoshraj10/Predicting-Revenue-Generating-Customers-using-Google-Analytics-data/blob/main/Capstone_Google_colab.ipynb\" target=\"_parent\"><img src=\"https://colab.research.google.com/assets/colab-badge.svg\" alt=\"Open In Colab\"/></a>"
      ]
    },
    {
      "cell_type": "code",
      "metadata": {
        "colab": {
          "background_save": true
        },
        "id": "XfgDN7OHvfd0"
      },
      "source": [
        "import pandas as pd\n",
        "import numpy as np\n",
        "import seaborn as sns\n",
        "import matplotlib.pyplot as plt\n",
        "import json \n",
        "from pandas.io.json import json_normalize\n",
        "import datetime\n",
        "pd.options.display.max_rows\n",
        "import warnings\n",
        "warnings.filterwarnings('ignore')"
      ],
      "execution_count": null,
      "outputs": []
    },
    {
      "cell_type": "code",
      "metadata": {
        "colab": {
          "base_uri": "https://localhost:8080/"
        },
        "id": "j-lRhxtFzRZg",
        "outputId": "a46ec08a-1093-4622-c776-c9a7ceeb6b9d"
      },
      "source": [
        "from google.colab import drive\n",
        "drive.mount('/content/drive')"
      ],
      "execution_count": null,
      "outputs": [
        {
          "output_type": "stream",
          "text": [
            "Mounted at /content/drive\n"
          ],
          "name": "stdout"
        }
      ]
    },
    {
      "cell_type": "code",
      "metadata": {
        "id": "iowiMljtv8SI"
      },
      "source": [
        "#df=pd.read_csv('/content/drive/MyDrive/Colab Notebooks/test_1.csv')\n",
        "json_cols = ['device', 'geoNetwork', 'totals', 'trafficSource']\n",
        "df=pd.read_csv('/content/drive/MyDrive/Colab Notebooks/train 5.csv', converters={column: json.loads for column in json_cols})\n",
        "for column in json_cols:\n",
        "    column_as_df = json_normalize(df[column])\n",
        "    column_as_df.columns = [f\"{column}_{subcolumn}\" for subcolumn in column_as_df.columns]\n",
        "    df = df.drop(column, axis=1).merge(column_as_df, right_index=True, left_index=True)\n",
        "#df['fullVisitorId'] = df['fullVisitorId'].astype('str')"
      ],
      "execution_count": null,
      "outputs": []
    },
    {
      "cell_type": "code",
      "metadata": {
        "colab": {
          "base_uri": "https://localhost:8080/",
          "height": 301
        },
        "id": "yL81INTFwGUd",
        "outputId": "09a82a03-5d13-4aa7-e7c1-2e7d19c29b97"
      },
      "source": [
        "df.head()"
      ],
      "execution_count": null,
      "outputs": [
        {
          "output_type": "execute_result",
          "data": {
            "text/html": [
              "<div>\n",
              "<style scoped>\n",
              "    .dataframe tbody tr th:only-of-type {\n",
              "        vertical-align: middle;\n",
              "    }\n",
              "\n",
              "    .dataframe tbody tr th {\n",
              "        vertical-align: top;\n",
              "    }\n",
              "\n",
              "    .dataframe thead th {\n",
              "        text-align: right;\n",
              "    }\n",
              "</style>\n",
              "<table border=\"1\" class=\"dataframe\">\n",
              "  <thead>\n",
              "    <tr style=\"text-align: right;\">\n",
              "      <th></th>\n",
              "      <th>channelGrouping</th>\n",
              "      <th>date</th>\n",
              "      <th>fullVisitorId</th>\n",
              "      <th>sessionId</th>\n",
              "      <th>socialEngagementType</th>\n",
              "      <th>visitId</th>\n",
              "      <th>visitNumber</th>\n",
              "      <th>visitStartTime</th>\n",
              "      <th>device_browser</th>\n",
              "      <th>device_browserVersion</th>\n",
              "      <th>device_browserSize</th>\n",
              "      <th>device_operatingSystem</th>\n",
              "      <th>device_operatingSystemVersion</th>\n",
              "      <th>device_isMobile</th>\n",
              "      <th>device_mobileDeviceBranding</th>\n",
              "      <th>device_mobileDeviceModel</th>\n",
              "      <th>device_mobileInputSelector</th>\n",
              "      <th>device_mobileDeviceInfo</th>\n",
              "      <th>device_mobileDeviceMarketingName</th>\n",
              "      <th>device_flashVersion</th>\n",
              "      <th>device_language</th>\n",
              "      <th>device_screenColors</th>\n",
              "      <th>device_screenResolution</th>\n",
              "      <th>device_deviceCategory</th>\n",
              "      <th>geoNetwork_continent</th>\n",
              "      <th>geoNetwork_subContinent</th>\n",
              "      <th>geoNetwork_country</th>\n",
              "      <th>geoNetwork_region</th>\n",
              "      <th>geoNetwork_metro</th>\n",
              "      <th>geoNetwork_city</th>\n",
              "      <th>geoNetwork_cityId</th>\n",
              "      <th>geoNetwork_networkDomain</th>\n",
              "      <th>geoNetwork_latitude</th>\n",
              "      <th>geoNetwork_longitude</th>\n",
              "      <th>geoNetwork_networkLocation</th>\n",
              "      <th>totals_visits</th>\n",
              "      <th>totals_hits</th>\n",
              "      <th>totals_pageviews</th>\n",
              "      <th>totals_bounces</th>\n",
              "      <th>totals_newVisits</th>\n",
              "      <th>totals_transactionRevenue</th>\n",
              "      <th>trafficSource_campaign</th>\n",
              "      <th>trafficSource_source</th>\n",
              "      <th>trafficSource_medium</th>\n",
              "      <th>trafficSource_keyword</th>\n",
              "      <th>trafficSource_adwordsClickInfo.criteriaParameters</th>\n",
              "      <th>trafficSource_isTrueDirect</th>\n",
              "      <th>trafficSource_referralPath</th>\n",
              "      <th>trafficSource_adwordsClickInfo.page</th>\n",
              "      <th>trafficSource_adwordsClickInfo.slot</th>\n",
              "      <th>trafficSource_adwordsClickInfo.gclId</th>\n",
              "      <th>trafficSource_adwordsClickInfo.adNetworkType</th>\n",
              "      <th>trafficSource_adwordsClickInfo.isVideoAd</th>\n",
              "      <th>trafficSource_adContent</th>\n",
              "      <th>trafficSource_campaignCode</th>\n",
              "    </tr>\n",
              "  </thead>\n",
              "  <tbody>\n",
              "    <tr>\n",
              "      <th>0</th>\n",
              "      <td>Organic Search</td>\n",
              "      <td>20160902</td>\n",
              "      <td>1131660440785968503</td>\n",
              "      <td>1131660440785968503_1472830385</td>\n",
              "      <td>Not Socially Engaged</td>\n",
              "      <td>1472830385</td>\n",
              "      <td>1</td>\n",
              "      <td>1472830385</td>\n",
              "      <td>Chrome</td>\n",
              "      <td>not available in demo dataset</td>\n",
              "      <td>not available in demo dataset</td>\n",
              "      <td>Windows</td>\n",
              "      <td>not available in demo dataset</td>\n",
              "      <td>False</td>\n",
              "      <td>not available in demo dataset</td>\n",
              "      <td>not available in demo dataset</td>\n",
              "      <td>not available in demo dataset</td>\n",
              "      <td>not available in demo dataset</td>\n",
              "      <td>not available in demo dataset</td>\n",
              "      <td>not available in demo dataset</td>\n",
              "      <td>not available in demo dataset</td>\n",
              "      <td>not available in demo dataset</td>\n",
              "      <td>not available in demo dataset</td>\n",
              "      <td>desktop</td>\n",
              "      <td>Asia</td>\n",
              "      <td>Western Asia</td>\n",
              "      <td>Turkey</td>\n",
              "      <td>Izmir</td>\n",
              "      <td>(not set)</td>\n",
              "      <td>Izmir</td>\n",
              "      <td>not available in demo dataset</td>\n",
              "      <td>ttnet.com.tr</td>\n",
              "      <td>not available in demo dataset</td>\n",
              "      <td>not available in demo dataset</td>\n",
              "      <td>not available in demo dataset</td>\n",
              "      <td>1</td>\n",
              "      <td>1</td>\n",
              "      <td>1</td>\n",
              "      <td>1</td>\n",
              "      <td>1</td>\n",
              "      <td>NaN</td>\n",
              "      <td>(not set)</td>\n",
              "      <td>google</td>\n",
              "      <td>organic</td>\n",
              "      <td>(not provided)</td>\n",
              "      <td>not available in demo dataset</td>\n",
              "      <td>NaN</td>\n",
              "      <td>NaN</td>\n",
              "      <td>NaN</td>\n",
              "      <td>NaN</td>\n",
              "      <td>NaN</td>\n",
              "      <td>NaN</td>\n",
              "      <td>NaN</td>\n",
              "      <td>NaN</td>\n",
              "      <td>NaN</td>\n",
              "    </tr>\n",
              "    <tr>\n",
              "      <th>1</th>\n",
              "      <td>Organic Search</td>\n",
              "      <td>20160902</td>\n",
              "      <td>377306020877927890</td>\n",
              "      <td>377306020877927890_1472880147</td>\n",
              "      <td>Not Socially Engaged</td>\n",
              "      <td>1472880147</td>\n",
              "      <td>1</td>\n",
              "      <td>1472880147</td>\n",
              "      <td>Firefox</td>\n",
              "      <td>not available in demo dataset</td>\n",
              "      <td>not available in demo dataset</td>\n",
              "      <td>Macintosh</td>\n",
              "      <td>not available in demo dataset</td>\n",
              "      <td>False</td>\n",
              "      <td>not available in demo dataset</td>\n",
              "      <td>not available in demo dataset</td>\n",
              "      <td>not available in demo dataset</td>\n",
              "      <td>not available in demo dataset</td>\n",
              "      <td>not available in demo dataset</td>\n",
              "      <td>not available in demo dataset</td>\n",
              "      <td>not available in demo dataset</td>\n",
              "      <td>not available in demo dataset</td>\n",
              "      <td>not available in demo dataset</td>\n",
              "      <td>desktop</td>\n",
              "      <td>Oceania</td>\n",
              "      <td>Australasia</td>\n",
              "      <td>Australia</td>\n",
              "      <td>not available in demo dataset</td>\n",
              "      <td>not available in demo dataset</td>\n",
              "      <td>not available in demo dataset</td>\n",
              "      <td>not available in demo dataset</td>\n",
              "      <td>dodo.net.au</td>\n",
              "      <td>not available in demo dataset</td>\n",
              "      <td>not available in demo dataset</td>\n",
              "      <td>not available in demo dataset</td>\n",
              "      <td>1</td>\n",
              "      <td>1</td>\n",
              "      <td>1</td>\n",
              "      <td>1</td>\n",
              "      <td>1</td>\n",
              "      <td>NaN</td>\n",
              "      <td>(not set)</td>\n",
              "      <td>google</td>\n",
              "      <td>organic</td>\n",
              "      <td>(not provided)</td>\n",
              "      <td>not available in demo dataset</td>\n",
              "      <td>NaN</td>\n",
              "      <td>NaN</td>\n",
              "      <td>NaN</td>\n",
              "      <td>NaN</td>\n",
              "      <td>NaN</td>\n",
              "      <td>NaN</td>\n",
              "      <td>NaN</td>\n",
              "      <td>NaN</td>\n",
              "      <td>NaN</td>\n",
              "    </tr>\n",
              "    <tr>\n",
              "      <th>2</th>\n",
              "      <td>Organic Search</td>\n",
              "      <td>20160902</td>\n",
              "      <td>3895546263509774583</td>\n",
              "      <td>3895546263509774583_1472865386</td>\n",
              "      <td>Not Socially Engaged</td>\n",
              "      <td>1472865386</td>\n",
              "      <td>1</td>\n",
              "      <td>1472865386</td>\n",
              "      <td>Chrome</td>\n",
              "      <td>not available in demo dataset</td>\n",
              "      <td>not available in demo dataset</td>\n",
              "      <td>Windows</td>\n",
              "      <td>not available in demo dataset</td>\n",
              "      <td>False</td>\n",
              "      <td>not available in demo dataset</td>\n",
              "      <td>not available in demo dataset</td>\n",
              "      <td>not available in demo dataset</td>\n",
              "      <td>not available in demo dataset</td>\n",
              "      <td>not available in demo dataset</td>\n",
              "      <td>not available in demo dataset</td>\n",
              "      <td>not available in demo dataset</td>\n",
              "      <td>not available in demo dataset</td>\n",
              "      <td>not available in demo dataset</td>\n",
              "      <td>desktop</td>\n",
              "      <td>Europe</td>\n",
              "      <td>Southern Europe</td>\n",
              "      <td>Spain</td>\n",
              "      <td>Community of Madrid</td>\n",
              "      <td>(not set)</td>\n",
              "      <td>Madrid</td>\n",
              "      <td>not available in demo dataset</td>\n",
              "      <td>unknown.unknown</td>\n",
              "      <td>not available in demo dataset</td>\n",
              "      <td>not available in demo dataset</td>\n",
              "      <td>not available in demo dataset</td>\n",
              "      <td>1</td>\n",
              "      <td>1</td>\n",
              "      <td>1</td>\n",
              "      <td>1</td>\n",
              "      <td>1</td>\n",
              "      <td>NaN</td>\n",
              "      <td>(not set)</td>\n",
              "      <td>google</td>\n",
              "      <td>organic</td>\n",
              "      <td>(not provided)</td>\n",
              "      <td>not available in demo dataset</td>\n",
              "      <td>NaN</td>\n",
              "      <td>NaN</td>\n",
              "      <td>NaN</td>\n",
              "      <td>NaN</td>\n",
              "      <td>NaN</td>\n",
              "      <td>NaN</td>\n",
              "      <td>NaN</td>\n",
              "      <td>NaN</td>\n",
              "      <td>NaN</td>\n",
              "    </tr>\n",
              "    <tr>\n",
              "      <th>3</th>\n",
              "      <td>Organic Search</td>\n",
              "      <td>20160902</td>\n",
              "      <td>4763447161404445595</td>\n",
              "      <td>4763447161404445595_1472881213</td>\n",
              "      <td>Not Socially Engaged</td>\n",
              "      <td>1472881213</td>\n",
              "      <td>1</td>\n",
              "      <td>1472881213</td>\n",
              "      <td>UC Browser</td>\n",
              "      <td>not available in demo dataset</td>\n",
              "      <td>not available in demo dataset</td>\n",
              "      <td>Linux</td>\n",
              "      <td>not available in demo dataset</td>\n",
              "      <td>False</td>\n",
              "      <td>not available in demo dataset</td>\n",
              "      <td>not available in demo dataset</td>\n",
              "      <td>not available in demo dataset</td>\n",
              "      <td>not available in demo dataset</td>\n",
              "      <td>not available in demo dataset</td>\n",
              "      <td>not available in demo dataset</td>\n",
              "      <td>not available in demo dataset</td>\n",
              "      <td>not available in demo dataset</td>\n",
              "      <td>not available in demo dataset</td>\n",
              "      <td>desktop</td>\n",
              "      <td>Asia</td>\n",
              "      <td>Southeast Asia</td>\n",
              "      <td>Indonesia</td>\n",
              "      <td>not available in demo dataset</td>\n",
              "      <td>not available in demo dataset</td>\n",
              "      <td>not available in demo dataset</td>\n",
              "      <td>not available in demo dataset</td>\n",
              "      <td>unknown.unknown</td>\n",
              "      <td>not available in demo dataset</td>\n",
              "      <td>not available in demo dataset</td>\n",
              "      <td>not available in demo dataset</td>\n",
              "      <td>1</td>\n",
              "      <td>1</td>\n",
              "      <td>1</td>\n",
              "      <td>1</td>\n",
              "      <td>1</td>\n",
              "      <td>NaN</td>\n",
              "      <td>(not set)</td>\n",
              "      <td>google</td>\n",
              "      <td>organic</td>\n",
              "      <td>google + online</td>\n",
              "      <td>not available in demo dataset</td>\n",
              "      <td>NaN</td>\n",
              "      <td>NaN</td>\n",
              "      <td>NaN</td>\n",
              "      <td>NaN</td>\n",
              "      <td>NaN</td>\n",
              "      <td>NaN</td>\n",
              "      <td>NaN</td>\n",
              "      <td>NaN</td>\n",
              "      <td>NaN</td>\n",
              "    </tr>\n",
              "    <tr>\n",
              "      <th>4</th>\n",
              "      <td>Organic Search</td>\n",
              "      <td>20160902</td>\n",
              "      <td>27294437909732085</td>\n",
              "      <td>27294437909732085_1472822600</td>\n",
              "      <td>Not Socially Engaged</td>\n",
              "      <td>1472822600</td>\n",
              "      <td>2</td>\n",
              "      <td>1472822600</td>\n",
              "      <td>Chrome</td>\n",
              "      <td>not available in demo dataset</td>\n",
              "      <td>not available in demo dataset</td>\n",
              "      <td>Android</td>\n",
              "      <td>not available in demo dataset</td>\n",
              "      <td>True</td>\n",
              "      <td>not available in demo dataset</td>\n",
              "      <td>not available in demo dataset</td>\n",
              "      <td>not available in demo dataset</td>\n",
              "      <td>not available in demo dataset</td>\n",
              "      <td>not available in demo dataset</td>\n",
              "      <td>not available in demo dataset</td>\n",
              "      <td>not available in demo dataset</td>\n",
              "      <td>not available in demo dataset</td>\n",
              "      <td>not available in demo dataset</td>\n",
              "      <td>mobile</td>\n",
              "      <td>Europe</td>\n",
              "      <td>Northern Europe</td>\n",
              "      <td>United Kingdom</td>\n",
              "      <td>not available in demo dataset</td>\n",
              "      <td>not available in demo dataset</td>\n",
              "      <td>not available in demo dataset</td>\n",
              "      <td>not available in demo dataset</td>\n",
              "      <td>unknown.unknown</td>\n",
              "      <td>not available in demo dataset</td>\n",
              "      <td>not available in demo dataset</td>\n",
              "      <td>not available in demo dataset</td>\n",
              "      <td>1</td>\n",
              "      <td>1</td>\n",
              "      <td>1</td>\n",
              "      <td>1</td>\n",
              "      <td>NaN</td>\n",
              "      <td>NaN</td>\n",
              "      <td>(not set)</td>\n",
              "      <td>google</td>\n",
              "      <td>organic</td>\n",
              "      <td>(not provided)</td>\n",
              "      <td>not available in demo dataset</td>\n",
              "      <td>True</td>\n",
              "      <td>NaN</td>\n",
              "      <td>NaN</td>\n",
              "      <td>NaN</td>\n",
              "      <td>NaN</td>\n",
              "      <td>NaN</td>\n",
              "      <td>NaN</td>\n",
              "      <td>NaN</td>\n",
              "      <td>NaN</td>\n",
              "    </tr>\n",
              "  </tbody>\n",
              "</table>\n",
              "</div>"
            ],
            "text/plain": [
              "  channelGrouping      date  ... trafficSource_adContent trafficSource_campaignCode\n",
              "0  Organic Search  20160902  ...                     NaN                        NaN\n",
              "1  Organic Search  20160902  ...                     NaN                        NaN\n",
              "2  Organic Search  20160902  ...                     NaN                        NaN\n",
              "3  Organic Search  20160902  ...                     NaN                        NaN\n",
              "4  Organic Search  20160902  ...                     NaN                        NaN\n",
              "\n",
              "[5 rows x 55 columns]"
            ]
          },
          "metadata": {
            "tags": []
          },
          "execution_count": 4
        }
      ]
    },
    {
      "cell_type": "code",
      "metadata": {
        "colab": {
          "base_uri": "https://localhost:8080/"
        },
        "id": "nDvs0Z4Y4thM",
        "outputId": "e9450310-bb38-4901-8ac3-a38c65bbd006"
      },
      "source": [
        "!nvidia-smi"
      ],
      "execution_count": null,
      "outputs": [
        {
          "output_type": "stream",
          "text": [
            "Mon Feb 22 18:28:35 2021       \n",
            "+-----------------------------------------------------------------------------+\n",
            "| NVIDIA-SMI 460.39       Driver Version: 460.32.03    CUDA Version: 11.2     |\n",
            "|-------------------------------+----------------------+----------------------+\n",
            "| GPU  Name        Persistence-M| Bus-Id        Disp.A | Volatile Uncorr. ECC |\n",
            "| Fan  Temp  Perf  Pwr:Usage/Cap|         Memory-Usage | GPU-Util  Compute M. |\n",
            "|                               |                      |               MIG M. |\n",
            "|===============================+======================+======================|\n",
            "|   0  Tesla T4            Off  | 00000000:00:04.0 Off |                    0 |\n",
            "| N/A   53C    P8    10W /  70W |      0MiB / 15109MiB |      0%      Default |\n",
            "|                               |                      |                  N/A |\n",
            "+-------------------------------+----------------------+----------------------+\n",
            "                                                                               \n",
            "+-----------------------------------------------------------------------------+\n",
            "| Processes:                                                                  |\n",
            "|  GPU   GI   CI        PID   Type   Process name                  GPU Memory |\n",
            "|        ID   ID                                                   Usage      |\n",
            "|=============================================================================|\n",
            "|  No running processes found                                                 |\n",
            "+-----------------------------------------------------------------------------+\n"
          ],
          "name": "stdout"
        }
      ]
    },
    {
      "cell_type": "code",
      "metadata": {
        "colab": {
          "base_uri": "https://localhost:8080/"
        },
        "id": "AqFJOWOcwSPb",
        "outputId": "9bab2984-9fc8-4310-d79d-1715e2bd13b4"
      },
      "source": [
        "df.shape"
      ],
      "execution_count": null,
      "outputs": [
        {
          "output_type": "execute_result",
          "data": {
            "text/plain": [
              "(903653, 55)"
            ]
          },
          "metadata": {
            "tags": []
          },
          "execution_count": 6
        }
      ]
    },
    {
      "cell_type": "code",
      "metadata": {
        "id": "bv5qnvJcxVEB"
      },
      "source": [
        "df[\"totals_transactionRevenue\"].fillna(0,inplace=True)"
      ],
      "execution_count": null,
      "outputs": []
    },
    {
      "cell_type": "code",
      "metadata": {
        "colab": {
          "base_uri": "https://localhost:8080/"
        },
        "id": "tJ9ugAfBxZ3q",
        "outputId": "4f4f7c26-4afa-4adb-825c-11c8fa6e8628"
      },
      "source": [
        "df.totals_transactionRevenue.value_counts()"
      ],
      "execution_count": null,
      "outputs": [
        {
          "output_type": "execute_result",
          "data": {
            "text/plain": [
              "0             892138\n",
              "16990000         256\n",
              "18990000         189\n",
              "33590000         187\n",
              "44790000         170\n",
              "               ...  \n",
              "1088680000         1\n",
              "436020000          1\n",
              "199940000          1\n",
              "8670000            1\n",
              "8020000            1\n",
              "Name: totals_transactionRevenue, Length: 5333, dtype: int64"
            ]
          },
          "metadata": {
            "tags": []
          },
          "execution_count": 8
        }
      ]
    },
    {
      "cell_type": "code",
      "metadata": {
        "id": "nHcguGfLxbxh"
      },
      "source": [
        "for i in range(df.shape[0]):\n",
        "    if df.totals_transactionRevenue.iloc[i]!=0:\n",
        "        df.totals_transactionRevenue.iloc[i]=1"
      ],
      "execution_count": null,
      "outputs": []
    },
    {
      "cell_type": "code",
      "metadata": {
        "colab": {
          "base_uri": "https://localhost:8080/"
        },
        "id": "dGTNiPVhxeqx",
        "outputId": "53f99f1e-70cb-40c7-8654-53fc9c89c608"
      },
      "source": [
        "df.totals_transactionRevenue.value_counts()"
      ],
      "execution_count": null,
      "outputs": [
        {
          "output_type": "execute_result",
          "data": {
            "text/plain": [
              "0    892138\n",
              "1     11515\n",
              "Name: totals_transactionRevenue, dtype: int64"
            ]
          },
          "metadata": {
            "tags": []
          },
          "execution_count": 10
        }
      ]
    },
    {
      "cell_type": "code",
      "metadata": {
        "colab": {
          "base_uri": "https://localhost:8080/"
        },
        "id": "SgycYDFVzTtf",
        "outputId": "632cf7f9-ba03-44c8-85c0-0a5e7ab6ad95"
      },
      "source": [
        "null_values=df.isnull().sum()/len(df)*100\n",
        "null_values"
      ],
      "execution_count": null,
      "outputs": [
        {
          "output_type": "execute_result",
          "data": {
            "text/plain": [
              "channelGrouping                                       0.000000\n",
              "date                                                  0.000000\n",
              "fullVisitorId                                         0.000000\n",
              "sessionId                                             0.000000\n",
              "socialEngagementType                                  0.000000\n",
              "visitId                                               0.000000\n",
              "visitNumber                                           0.000000\n",
              "visitStartTime                                        0.000000\n",
              "device_browser                                        0.000000\n",
              "device_browserVersion                                 0.000000\n",
              "device_browserSize                                    0.000000\n",
              "device_operatingSystem                                0.000000\n",
              "device_operatingSystemVersion                         0.000000\n",
              "device_isMobile                                       0.000000\n",
              "device_mobileDeviceBranding                           0.000000\n",
              "device_mobileDeviceModel                              0.000000\n",
              "device_mobileInputSelector                            0.000000\n",
              "device_mobileDeviceInfo                               0.000000\n",
              "device_mobileDeviceMarketingName                      0.000000\n",
              "device_flashVersion                                   0.000000\n",
              "device_language                                       0.000000\n",
              "device_screenColors                                   0.000000\n",
              "device_screenResolution                               0.000000\n",
              "device_deviceCategory                                 0.000000\n",
              "geoNetwork_continent                                  0.000000\n",
              "geoNetwork_subContinent                               0.000000\n",
              "geoNetwork_country                                    0.000000\n",
              "geoNetwork_region                                     0.000000\n",
              "geoNetwork_metro                                      0.000000\n",
              "geoNetwork_city                                       0.000000\n",
              "geoNetwork_cityId                                     0.000000\n",
              "geoNetwork_networkDomain                              0.000000\n",
              "geoNetwork_latitude                                   0.000000\n",
              "geoNetwork_longitude                                  0.000000\n",
              "geoNetwork_networkLocation                            0.000000\n",
              "totals_visits                                         0.000000\n",
              "totals_hits                                           0.000000\n",
              "totals_pageviews                                      0.011066\n",
              "totals_bounces                                       50.132407\n",
              "totals_newVisits                                     22.198012\n",
              "totals_transactionRevenue                             0.000000\n",
              "trafficSource_campaign                                0.000000\n",
              "trafficSource_source                                  0.000000\n",
              "trafficSource_medium                                  0.000000\n",
              "trafficSource_keyword                                55.655102\n",
              "trafficSource_adwordsClickInfo.criteriaParameters     0.000000\n",
              "trafficSource_isTrueDirect                           69.678073\n",
              "trafficSource_referralPath                           63.377425\n",
              "trafficSource_adwordsClickInfo.page                  97.625195\n",
              "trafficSource_adwordsClickInfo.slot                  97.625195\n",
              "trafficSource_adwordsClickInfo.gclId                 97.614018\n",
              "trafficSource_adwordsClickInfo.adNetworkType         97.625195\n",
              "trafficSource_adwordsClickInfo.isVideoAd             97.625195\n",
              "trafficSource_adContent                              98.788694\n",
              "trafficSource_campaignCode                           99.999889\n",
              "dtype: float64"
            ]
          },
          "metadata": {
            "tags": []
          },
          "execution_count": 11
        }
      ]
    },
    {
      "cell_type": "code",
      "metadata": {
        "id": "LJXortxD3K_e"
      },
      "source": [
        "null_value_Feat=null_values[null_values.values>=50]"
      ],
      "execution_count": null,
      "outputs": []
    },
    {
      "cell_type": "code",
      "metadata": {
        "colab": {
          "base_uri": "https://localhost:8080/"
        },
        "id": "yObVvf1N3tKJ",
        "outputId": "26f0487e-a768-43c5-f7ae-04aa8500e461"
      },
      "source": [
        "null_value_Feat"
      ],
      "execution_count": null,
      "outputs": [
        {
          "output_type": "execute_result",
          "data": {
            "text/plain": [
              "totals_bounces                                  50.132407\n",
              "trafficSource_keyword                           55.655102\n",
              "trafficSource_isTrueDirect                      69.678073\n",
              "trafficSource_referralPath                      63.377425\n",
              "trafficSource_adwordsClickInfo.page             97.625195\n",
              "trafficSource_adwordsClickInfo.slot             97.625195\n",
              "trafficSource_adwordsClickInfo.gclId            97.614018\n",
              "trafficSource_adwordsClickInfo.adNetworkType    97.625195\n",
              "trafficSource_adwordsClickInfo.isVideoAd        97.625195\n",
              "trafficSource_adContent                         98.788694\n",
              "trafficSource_campaignCode                      99.999889\n",
              "dtype: float64"
            ]
          },
          "metadata": {
            "tags": []
          },
          "execution_count": 13
        }
      ]
    },
    {
      "cell_type": "code",
      "metadata": {
        "id": "tzfEKvhP2LAw"
      },
      "source": [
        "df.drop(null_value_Feat.index,axis=1,inplace=True)"
      ],
      "execution_count": null,
      "outputs": []
    },
    {
      "cell_type": "code",
      "metadata": {
        "colab": {
          "base_uri": "https://localhost:8080/"
        },
        "id": "DwR0cEVM3GZf",
        "outputId": "8e6b7da4-ff49-4e54-9166-ad1b8b9bf357"
      },
      "source": [
        "df.shape"
      ],
      "execution_count": null,
      "outputs": [
        {
          "output_type": "execute_result",
          "data": {
            "text/plain": [
              "(903653, 44)"
            ]
          },
          "metadata": {
            "tags": []
          },
          "execution_count": 15
        }
      ]
    },
    {
      "cell_type": "code",
      "metadata": {
        "colab": {
          "base_uri": "https://localhost:8080/"
        },
        "id": "OqFUmn9U4Lgn",
        "outputId": "54e0aa0d-9224-4255-fa42-b0eba6b3768e"
      },
      "source": [
        "df.info()"
      ],
      "execution_count": null,
      "outputs": [
        {
          "output_type": "stream",
          "text": [
            "<class 'pandas.core.frame.DataFrame'>\n",
            "RangeIndex: 903653 entries, 0 to 903652\n",
            "Data columns (total 44 columns):\n",
            " #   Column                                             Non-Null Count   Dtype \n",
            "---  ------                                             --------------   ----- \n",
            " 0   channelGrouping                                    903653 non-null  object\n",
            " 1   date                                               903653 non-null  int64 \n",
            " 2   fullVisitorId                                      903653 non-null  object\n",
            " 3   sessionId                                          903653 non-null  object\n",
            " 4   socialEngagementType                               903653 non-null  object\n",
            " 5   visitId                                            903653 non-null  int64 \n",
            " 6   visitNumber                                        903653 non-null  int64 \n",
            " 7   visitStartTime                                     903653 non-null  int64 \n",
            " 8   device_browser                                     903653 non-null  object\n",
            " 9   device_browserVersion                              903653 non-null  object\n",
            " 10  device_browserSize                                 903653 non-null  object\n",
            " 11  device_operatingSystem                             903653 non-null  object\n",
            " 12  device_operatingSystemVersion                      903653 non-null  object\n",
            " 13  device_isMobile                                    903653 non-null  bool  \n",
            " 14  device_mobileDeviceBranding                        903653 non-null  object\n",
            " 15  device_mobileDeviceModel                           903653 non-null  object\n",
            " 16  device_mobileInputSelector                         903653 non-null  object\n",
            " 17  device_mobileDeviceInfo                            903653 non-null  object\n",
            " 18  device_mobileDeviceMarketingName                   903653 non-null  object\n",
            " 19  device_flashVersion                                903653 non-null  object\n",
            " 20  device_language                                    903653 non-null  object\n",
            " 21  device_screenColors                                903653 non-null  object\n",
            " 22  device_screenResolution                            903653 non-null  object\n",
            " 23  device_deviceCategory                              903653 non-null  object\n",
            " 24  geoNetwork_continent                               903653 non-null  object\n",
            " 25  geoNetwork_subContinent                            903653 non-null  object\n",
            " 26  geoNetwork_country                                 903653 non-null  object\n",
            " 27  geoNetwork_region                                  903653 non-null  object\n",
            " 28  geoNetwork_metro                                   903653 non-null  object\n",
            " 29  geoNetwork_city                                    903653 non-null  object\n",
            " 30  geoNetwork_cityId                                  903653 non-null  object\n",
            " 31  geoNetwork_networkDomain                           903653 non-null  object\n",
            " 32  geoNetwork_latitude                                903653 non-null  object\n",
            " 33  geoNetwork_longitude                               903653 non-null  object\n",
            " 34  geoNetwork_networkLocation                         903653 non-null  object\n",
            " 35  totals_visits                                      903653 non-null  object\n",
            " 36  totals_hits                                        903653 non-null  object\n",
            " 37  totals_pageviews                                   903553 non-null  object\n",
            " 38  totals_newVisits                                   703060 non-null  object\n",
            " 39  totals_transactionRevenue                          903653 non-null  object\n",
            " 40  trafficSource_campaign                             903653 non-null  object\n",
            " 41  trafficSource_source                               903653 non-null  object\n",
            " 42  trafficSource_medium                               903653 non-null  object\n",
            " 43  trafficSource_adwordsClickInfo.criteriaParameters  903653 non-null  object\n",
            "dtypes: bool(1), int64(4), object(39)\n",
            "memory usage: 297.3+ MB\n"
          ],
          "name": "stdout"
        }
      ]
    },
    {
      "cell_type": "markdown",
      "metadata": {
        "id": "ghENOJ8EwnNl"
      },
      "source": [
        "**Converting Categorical feature into numerical which is Actually Numerical**"
      ]
    },
    {
      "cell_type": "code",
      "metadata": {
        "id": "qQ0cRBfT5GTh"
      },
      "source": [
        "df['totals_visits']=df['totals_visits'].astype(int)\n",
        "df['totals_hits']=df['totals_hits'].astype(int)\n",
        "#df['totals_pageviews']=df['totals_pageviews'].astype(int)\n",
        "#df['totals_newVisits']=df['totals_newVisits'].astype(int)\n",
        "df['totals_transactionRevenue']=df['totals_transactionRevenue'].astype(int)"
      ],
      "execution_count": null,
      "outputs": []
    },
    {
      "cell_type": "markdown",
      "metadata": {
        "id": "KlUbIaoSwuVf"
      },
      "source": [
        "**Handling NaN values**"
      ]
    },
    {
      "cell_type": "code",
      "metadata": {
        "colab": {
          "base_uri": "https://localhost:8080/"
        },
        "id": "kKppsSRsicxp",
        "outputId": "a16a6229-292f-477c-c479-5b5fcc91c881"
      },
      "source": [
        "df.isnull().sum()"
      ],
      "execution_count": null,
      "outputs": [
        {
          "output_type": "execute_result",
          "data": {
            "text/plain": [
              "channelGrouping                                           0\n",
              "date                                                      0\n",
              "fullVisitorId                                             0\n",
              "sessionId                                                 0\n",
              "socialEngagementType                                      0\n",
              "visitId                                                   0\n",
              "visitNumber                                               0\n",
              "visitStartTime                                            0\n",
              "device_browser                                            0\n",
              "device_browserVersion                                     0\n",
              "device_browserSize                                        0\n",
              "device_operatingSystem                                    0\n",
              "device_operatingSystemVersion                             0\n",
              "device_isMobile                                           0\n",
              "device_mobileDeviceBranding                               0\n",
              "device_mobileDeviceModel                                  0\n",
              "device_mobileInputSelector                                0\n",
              "device_mobileDeviceInfo                                   0\n",
              "device_mobileDeviceMarketingName                          0\n",
              "device_flashVersion                                       0\n",
              "device_language                                           0\n",
              "device_screenColors                                       0\n",
              "device_screenResolution                                   0\n",
              "device_deviceCategory                                     0\n",
              "geoNetwork_continent                                      0\n",
              "geoNetwork_subContinent                                   0\n",
              "geoNetwork_country                                        0\n",
              "geoNetwork_region                                         0\n",
              "geoNetwork_metro                                          0\n",
              "geoNetwork_city                                           0\n",
              "geoNetwork_cityId                                         0\n",
              "geoNetwork_networkDomain                                  0\n",
              "geoNetwork_latitude                                       0\n",
              "geoNetwork_longitude                                      0\n",
              "geoNetwork_networkLocation                                0\n",
              "totals_visits                                             0\n",
              "totals_hits                                               0\n",
              "totals_pageviews                                        100\n",
              "totals_newVisits                                     200593\n",
              "totals_transactionRevenue                                 0\n",
              "trafficSource_campaign                                    0\n",
              "trafficSource_source                                      0\n",
              "trafficSource_medium                                      0\n",
              "trafficSource_adwordsClickInfo.criteriaParameters         0\n",
              "dtype: int64"
            ]
          },
          "metadata": {
            "tags": []
          },
          "execution_count": 18
        }
      ]
    },
    {
      "cell_type": "code",
      "metadata": {
        "colab": {
          "base_uri": "https://localhost:8080/"
        },
        "id": "w6ozHOpi5wQh",
        "outputId": "297fcfe7-c2ce-4ca7-e54f-e46abf81b930"
      },
      "source": [
        "null_columns=df.columns[df.isnull().sum().values!=0]\n",
        "df[null_columns].isnull().sum()"
      ],
      "execution_count": null,
      "outputs": [
        {
          "output_type": "execute_result",
          "data": {
            "text/plain": [
              "totals_pageviews       100\n",
              "totals_newVisits    200593\n",
              "dtype: int64"
            ]
          },
          "metadata": {
            "tags": []
          },
          "execution_count": 19
        }
      ]
    },
    {
      "cell_type": "code",
      "metadata": {
        "colab": {
          "base_uri": "https://localhost:8080/"
        },
        "id": "MniNGwVh5rfj",
        "outputId": "8fee5eb3-b7a7-4f79-86fd-9defc7f184e2"
      },
      "source": [
        "df['totals_pageviews'].skew()"
      ],
      "execution_count": null,
      "outputs": [
        {
          "output_type": "execute_result",
          "data": {
            "text/plain": [
              "9.215055489104996"
            ]
          },
          "metadata": {
            "tags": []
          },
          "execution_count": 20
        }
      ]
    },
    {
      "cell_type": "code",
      "metadata": {
        "colab": {
          "base_uri": "https://localhost:8080/",
          "height": 297
        },
        "id": "_FQ1jFcJ52QZ",
        "outputId": "6f104afb-34d7-4f3b-9f9c-2ec46ed4fe1d"
      },
      "source": [
        "sns.distplot(df['totals_pageviews'])"
      ],
      "execution_count": null,
      "outputs": [
        {
          "output_type": "execute_result",
          "data": {
            "text/plain": [
              "<matplotlib.axes._subplots.AxesSubplot at 0x7efebc565198>"
            ]
          },
          "metadata": {
            "tags": []
          },
          "execution_count": 21
        },
        {
          "output_type": "display_data",
          "data": {
            "image/png": "[encoded data removed]",
            "text/plain": [
              "<Figure size 432x288 with 1 Axes>"
            ]
          },
          "metadata": {
            "tags": []
          }
        }
      ]
    },
    {
      "cell_type": "code",
      "metadata": {
        "colab": {
          "base_uri": "https://localhost:8080/"
        },
        "id": "DnXpVGKv6R08",
        "outputId": "8dd0aefc-dc33-4827-e2d8-1a22c4036cdf"
      },
      "source": [
        "df['totals_pageviews'].value_counts(normalize=True)*100"
      ],
      "execution_count": null,
      "outputs": [
        {
          "output_type": "execute_result",
          "data": {
            "text/plain": [
              "1      50.082508\n",
              "2      15.911629\n",
              "3       8.171629\n",
              "4       5.001588\n",
              "5       3.697735\n",
              "         ...    \n",
              "324     0.000111\n",
              "429     0.000111\n",
              "195     0.000111\n",
              "233     0.000111\n",
              "166     0.000111\n",
              "Name: totals_pageviews, Length: 213, dtype: float64"
            ]
          },
          "metadata": {
            "tags": []
          },
          "execution_count": 22
        }
      ]
    },
    {
      "cell_type": "code",
      "metadata": {
        "colab": {
          "base_uri": "https://localhost:8080/"
        },
        "id": "VXGNywwN6oXD",
        "outputId": "80c9e09b-f9ec-42bc-c03d-74e7f7e247d5"
      },
      "source": [
        "mode=df['totals_pageviews'].mode()\n",
        "mode"
      ],
      "execution_count": null,
      "outputs": [
        {
          "output_type": "execute_result",
          "data": {
            "text/plain": [
              "0    1\n",
              "dtype: object"
            ]
          },
          "metadata": {
            "tags": []
          },
          "execution_count": 23
        }
      ]
    },
    {
      "cell_type": "code",
      "metadata": {
        "id": "pJv7iiQZ78X5"
      },
      "source": [
        "#df['totals_pageviews'].fillna(mode,inplace=True)\n",
        "df['totals_pageviews'].fillna(1, inplace=True)"
      ],
      "execution_count": null,
      "outputs": []
    },
    {
      "cell_type": "code",
      "metadata": {
        "colab": {
          "base_uri": "https://localhost:8080/"
        },
        "id": "cDMu0KBJ7GyY",
        "outputId": "8d808ff6-bce9-413a-925b-7f25d35599e6"
      },
      "source": [
        "df.isnull().sum()"
      ],
      "execution_count": null,
      "outputs": [
        {
          "output_type": "execute_result",
          "data": {
            "text/plain": [
              "channelGrouping                                           0\n",
              "date                                                      0\n",
              "fullVisitorId                                             0\n",
              "sessionId                                                 0\n",
              "socialEngagementType                                      0\n",
              "visitId                                                   0\n",
              "visitNumber                                               0\n",
              "visitStartTime                                            0\n",
              "device_browser                                            0\n",
              "device_browserVersion                                     0\n",
              "device_browserSize                                        0\n",
              "device_operatingSystem                                    0\n",
              "device_operatingSystemVersion                             0\n",
              "device_isMobile                                           0\n",
              "device_mobileDeviceBranding                               0\n",
              "device_mobileDeviceModel                                  0\n",
              "device_mobileInputSelector                                0\n",
              "device_mobileDeviceInfo                                   0\n",
              "device_mobileDeviceMarketingName                          0\n",
              "device_flashVersion                                       0\n",
              "device_language                                           0\n",
              "device_screenColors                                       0\n",
              "device_screenResolution                                   0\n",
              "device_deviceCategory                                     0\n",
              "geoNetwork_continent                                      0\n",
              "geoNetwork_subContinent                                   0\n",
              "geoNetwork_country                                        0\n",
              "geoNetwork_region                                         0\n",
              "geoNetwork_metro                                          0\n",
              "geoNetwork_city                                           0\n",
              "geoNetwork_cityId                                         0\n",
              "geoNetwork_networkDomain                                  0\n",
              "geoNetwork_latitude                                       0\n",
              "geoNetwork_longitude                                      0\n",
              "geoNetwork_networkLocation                                0\n",
              "totals_visits                                             0\n",
              "totals_hits                                               0\n",
              "totals_pageviews                                          0\n",
              "totals_newVisits                                     200593\n",
              "totals_transactionRevenue                                 0\n",
              "trafficSource_campaign                                    0\n",
              "trafficSource_source                                      0\n",
              "trafficSource_medium                                      0\n",
              "trafficSource_adwordsClickInfo.criteriaParameters         0\n",
              "dtype: int64"
            ]
          },
          "metadata": {
            "tags": []
          },
          "execution_count": 25
        }
      ]
    },
    {
      "cell_type": "code",
      "metadata": {
        "colab": {
          "base_uri": "https://localhost:8080/"
        },
        "id": "LtY67zAN92eI",
        "outputId": "e4630ad3-19ee-4f53-8e27-13595a7d6d32"
      },
      "source": [
        "df.totals_newVisits.nunique()"
      ],
      "execution_count": null,
      "outputs": [
        {
          "output_type": "execute_result",
          "data": {
            "text/plain": [
              "1"
            ]
          },
          "metadata": {
            "tags": []
          },
          "execution_count": 26
        }
      ]
    },
    {
      "cell_type": "markdown",
      "metadata": {
        "id": "ibtndoYRxOge"
      },
      "source": [
        "**As all Contains same values we are going to drop this variable**"
      ]
    },
    {
      "cell_type": "code",
      "metadata": {
        "id": "8_x8We1J6r4a"
      },
      "source": [
        "df=df.drop('totals_newVisits',axis=1)"
      ],
      "execution_count": null,
      "outputs": []
    },
    {
      "cell_type": "code",
      "metadata": {
        "colab": {
          "base_uri": "https://localhost:8080/"
        },
        "id": "ldy79GQy_K0s",
        "outputId": "c3233091-5ff0-424a-b3c6-f5a60fff6690"
      },
      "source": [
        "df.isnull().sum().sum()"
      ],
      "execution_count": null,
      "outputs": [
        {
          "output_type": "execute_result",
          "data": {
            "text/plain": [
              "0"
            ]
          },
          "metadata": {
            "tags": []
          },
          "execution_count": 28
        }
      ]
    },
    {
      "cell_type": "code",
      "metadata": {
        "id": "hiDR0TJYAnJk"
      },
      "source": [
        "# df.to_csv('/content/drive/MyDrive/Colab Notebooks/Revenue_Without_null.csv')"
      ],
      "execution_count": null,
      "outputs": []
    },
    {
      "cell_type": "code",
      "metadata": {
        "id": "tlPQ488KBT49"
      },
      "source": [
        ""
      ],
      "execution_count": null,
      "outputs": []
    },
    {
      "cell_type": "markdown",
      "metadata": {
        "id": "7ReVDRQ5xYCO"
      },
      "source": [
        "**Split numerical and categorical features from the dataframe**"
      ]
    },
    {
      "cell_type": "code",
      "metadata": {
        "colab": {
          "base_uri": "https://localhost:8080/"
        },
        "id": "lQ5G-_f1fd26",
        "outputId": "b47bcd79-b95a-4cd7-e8ad-c2899fbf36ab"
      },
      "source": [
        "df.info()"
      ],
      "execution_count": null,
      "outputs": [
        {
          "output_type": "stream",
          "text": [
            "<class 'pandas.core.frame.DataFrame'>\n",
            "RangeIndex: 903653 entries, 0 to 903652\n",
            "Data columns (total 43 columns):\n",
            " #   Column                                             Non-Null Count   Dtype \n",
            "---  ------                                             --------------   ----- \n",
            " 0   channelGrouping                                    903653 non-null  object\n",
            " 1   date                                               903653 non-null  int64 \n",
            " 2   fullVisitorId                                      903653 non-null  object\n",
            " 3   sessionId                                          903653 non-null  object\n",
            " 4   socialEngagementType                               903653 non-null  object\n",
            " 5   visitId                                            903653 non-null  int64 \n",
            " 6   visitNumber                                        903653 non-null  int64 \n",
            " 7   visitStartTime                                     903653 non-null  int64 \n",
            " 8   device_browser                                     903653 non-null  object\n",
            " 9   device_browserVersion                              903653 non-null  object\n",
            " 10  device_browserSize                                 903653 non-null  object\n",
            " 11  device_operatingSystem                             903653 non-null  object\n",
            " 12  device_operatingSystemVersion                      903653 non-null  object\n",
            " 13  device_isMobile                                    903653 non-null  bool  \n",
            " 14  device_mobileDeviceBranding                        903653 non-null  object\n",
            " 15  device_mobileDeviceModel                           903653 non-null  object\n",
            " 16  device_mobileInputSelector                         903653 non-null  object\n",
            " 17  device_mobileDeviceInfo                            903653 non-null  object\n",
            " 18  device_mobileDeviceMarketingName                   903653 non-null  object\n",
            " 19  device_flashVersion                                903653 non-null  object\n",
            " 20  device_language                                    903653 non-null  object\n",
            " 21  device_screenColors                                903653 non-null  object\n",
            " 22  device_screenResolution                            903653 non-null  object\n",
            " 23  device_deviceCategory                              903653 non-null  object\n",
            " 24  geoNetwork_continent                               903653 non-null  object\n",
            " 25  geoNetwork_subContinent                            903653 non-null  object\n",
            " 26  geoNetwork_country                                 903653 non-null  object\n",
            " 27  geoNetwork_region                                  903653 non-null  object\n",
            " 28  geoNetwork_metro                                   903653 non-null  object\n",
            " 29  geoNetwork_city                                    903653 non-null  object\n",
            " 30  geoNetwork_cityId                                  903653 non-null  object\n",
            " 31  geoNetwork_networkDomain                           903653 non-null  object\n",
            " 32  geoNetwork_latitude                                903653 non-null  object\n",
            " 33  geoNetwork_longitude                               903653 non-null  object\n",
            " 34  geoNetwork_networkLocation                         903653 non-null  object\n",
            " 35  totals_visits                                      903653 non-null  int64 \n",
            " 36  totals_hits                                        903653 non-null  int64 \n",
            " 37  totals_pageviews                                   903653 non-null  object\n",
            " 38  totals_transactionRevenue                          903653 non-null  int64 \n",
            " 39  trafficSource_campaign                             903653 non-null  object\n",
            " 40  trafficSource_source                               903653 non-null  object\n",
            " 41  trafficSource_medium                               903653 non-null  object\n",
            " 42  trafficSource_adwordsClickInfo.criteriaParameters  903653 non-null  object\n",
            "dtypes: bool(1), int64(7), object(35)\n",
            "memory usage: 290.4+ MB\n"
          ],
          "name": "stdout"
        }
      ]
    },
    {
      "cell_type": "markdown",
      "metadata": {
        "id": "azELKWgaxu13"
      },
      "source": [
        "**As pageview is numerical we are convering into numerical**"
      ]
    },
    {
      "cell_type": "code",
      "metadata": {
        "id": "ld_2di7vgN-H"
      },
      "source": [
        "df['totals_pageviews']=df['totals_pageviews'].astype(int)"
      ],
      "execution_count": null,
      "outputs": []
    },
    {
      "cell_type": "code",
      "metadata": {
        "id": "aTSH5f2q_QFA"
      },
      "source": [
        "num=df.select_dtypes(include=np.number).columns.tolist()\n",
        "cat=df.select_dtypes(include=np.object).columns.tolist()\n",
        "bool=df.select_dtypes(include=np.bool).columns.tolist()"
      ],
      "execution_count": null,
      "outputs": []
    },
    {
      "cell_type": "code",
      "metadata": {
        "colab": {
          "base_uri": "https://localhost:8080/",
          "height": 161
        },
        "id": "jXx7oZFef8GV",
        "outputId": "4a32fd31-c623-47da-b42b-66d9ea51c841"
      },
      "source": [
        "df.head(2)"
      ],
      "execution_count": null,
      "outputs": [
        {
          "output_type": "execute_result",
          "data": {
            "text/html": [
              "<div>\n",
              "<style scoped>\n",
              "    .dataframe tbody tr th:only-of-type {\n",
              "        vertical-align: middle;\n",
              "    }\n",
              "\n",
              "    .dataframe tbody tr th {\n",
              "        vertical-align: top;\n",
              "    }\n",
              "\n",
              "    .dataframe thead th {\n",
              "        text-align: right;\n",
              "    }\n",
              "</style>\n",
              "<table border=\"1\" class=\"dataframe\">\n",
              "  <thead>\n",
              "    <tr style=\"text-align: right;\">\n",
              "      <th></th>\n",
              "      <th>channelGrouping</th>\n",
              "      <th>date</th>\n",
              "      <th>fullVisitorId</th>\n",
              "      <th>sessionId</th>\n",
              "      <th>socialEngagementType</th>\n",
              "      <th>visitId</th>\n",
              "      <th>visitNumber</th>\n",
              "      <th>visitStartTime</th>\n",
              "      <th>device_browser</th>\n",
              "      <th>device_browserVersion</th>\n",
              "      <th>device_browserSize</th>\n",
              "      <th>device_operatingSystem</th>\n",
              "      <th>device_operatingSystemVersion</th>\n",
              "      <th>device_isMobile</th>\n",
              "      <th>device_mobileDeviceBranding</th>\n",
              "      <th>device_mobileDeviceModel</th>\n",
              "      <th>device_mobileInputSelector</th>\n",
              "      <th>device_mobileDeviceInfo</th>\n",
              "      <th>device_mobileDeviceMarketingName</th>\n",
              "      <th>device_flashVersion</th>\n",
              "      <th>device_language</th>\n",
              "      <th>device_screenColors</th>\n",
              "      <th>device_screenResolution</th>\n",
              "      <th>device_deviceCategory</th>\n",
              "      <th>geoNetwork_continent</th>\n",
              "      <th>geoNetwork_subContinent</th>\n",
              "      <th>geoNetwork_country</th>\n",
              "      <th>geoNetwork_region</th>\n",
              "      <th>geoNetwork_metro</th>\n",
              "      <th>geoNetwork_city</th>\n",
              "      <th>geoNetwork_cityId</th>\n",
              "      <th>geoNetwork_networkDomain</th>\n",
              "      <th>geoNetwork_latitude</th>\n",
              "      <th>geoNetwork_longitude</th>\n",
              "      <th>geoNetwork_networkLocation</th>\n",
              "      <th>totals_visits</th>\n",
              "      <th>totals_hits</th>\n",
              "      <th>totals_pageviews</th>\n",
              "      <th>totals_transactionRevenue</th>\n",
              "      <th>trafficSource_campaign</th>\n",
              "      <th>trafficSource_source</th>\n",
              "      <th>trafficSource_medium</th>\n",
              "      <th>trafficSource_adwordsClickInfo.criteriaParameters</th>\n",
              "    </tr>\n",
              "  </thead>\n",
              "  <tbody>\n",
              "    <tr>\n",
              "      <th>0</th>\n",
              "      <td>Organic Search</td>\n",
              "      <td>20160902</td>\n",
              "      <td>1131660440785968503</td>\n",
              "      <td>1131660440785968503_1472830385</td>\n",
              "      <td>Not Socially Engaged</td>\n",
              "      <td>1472830385</td>\n",
              "      <td>1</td>\n",
              "      <td>1472830385</td>\n",
              "      <td>Chrome</td>\n",
              "      <td>not available in demo dataset</td>\n",
              "      <td>not available in demo dataset</td>\n",
              "      <td>Windows</td>\n",
              "      <td>not available in demo dataset</td>\n",
              "      <td>False</td>\n",
              "      <td>not available in demo dataset</td>\n",
              "      <td>not available in demo dataset</td>\n",
              "      <td>not available in demo dataset</td>\n",
              "      <td>not available in demo dataset</td>\n",
              "      <td>not available in demo dataset</td>\n",
              "      <td>not available in demo dataset</td>\n",
              "      <td>not available in demo dataset</td>\n",
              "      <td>not available in demo dataset</td>\n",
              "      <td>not available in demo dataset</td>\n",
              "      <td>desktop</td>\n",
              "      <td>Asia</td>\n",
              "      <td>Western Asia</td>\n",
              "      <td>Turkey</td>\n",
              "      <td>Izmir</td>\n",
              "      <td>(not set)</td>\n",
              "      <td>Izmir</td>\n",
              "      <td>not available in demo dataset</td>\n",
              "      <td>ttnet.com.tr</td>\n",
              "      <td>not available in demo dataset</td>\n",
              "      <td>not available in demo dataset</td>\n",
              "      <td>not available in demo dataset</td>\n",
              "      <td>1</td>\n",
              "      <td>1</td>\n",
              "      <td>1</td>\n",
              "      <td>0</td>\n",
              "      <td>(not set)</td>\n",
              "      <td>google</td>\n",
              "      <td>organic</td>\n",
              "      <td>not available in demo dataset</td>\n",
              "    </tr>\n",
              "    <tr>\n",
              "      <th>1</th>\n",
              "      <td>Organic Search</td>\n",
              "      <td>20160902</td>\n",
              "      <td>377306020877927890</td>\n",
              "      <td>377306020877927890_1472880147</td>\n",
              "      <td>Not Socially Engaged</td>\n",
              "      <td>1472880147</td>\n",
              "      <td>1</td>\n",
              "      <td>1472880147</td>\n",
              "      <td>Firefox</td>\n",
              "      <td>not available in demo dataset</td>\n",
              "      <td>not available in demo dataset</td>\n",
              "      <td>Macintosh</td>\n",
              "      <td>not available in demo dataset</td>\n",
              "      <td>False</td>\n",
              "      <td>not available in demo dataset</td>\n",
              "      <td>not available in demo dataset</td>\n",
              "      <td>not available in demo dataset</td>\n",
              "      <td>not available in demo dataset</td>\n",
              "      <td>not available in demo dataset</td>\n",
              "      <td>not available in demo dataset</td>\n",
              "      <td>not available in demo dataset</td>\n",
              "      <td>not available in demo dataset</td>\n",
              "      <td>not available in demo dataset</td>\n",
              "      <td>desktop</td>\n",
              "      <td>Oceania</td>\n",
              "      <td>Australasia</td>\n",
              "      <td>Australia</td>\n",
              "      <td>not available in demo dataset</td>\n",
              "      <td>not available in demo dataset</td>\n",
              "      <td>not available in demo dataset</td>\n",
              "      <td>not available in demo dataset</td>\n",
              "      <td>dodo.net.au</td>\n",
              "      <td>not available in demo dataset</td>\n",
              "      <td>not available in demo dataset</td>\n",
              "      <td>not available in demo dataset</td>\n",
              "      <td>1</td>\n",
              "      <td>1</td>\n",
              "      <td>1</td>\n",
              "      <td>0</td>\n",
              "      <td>(not set)</td>\n",
              "      <td>google</td>\n",
              "      <td>organic</td>\n",
              "      <td>not available in demo dataset</td>\n",
              "    </tr>\n",
              "  </tbody>\n",
              "</table>\n",
              "</div>"
            ],
            "text/plain": [
              "  channelGrouping  ...  trafficSource_adwordsClickInfo.criteriaParameters\n",
              "0  Organic Search  ...                      not available in demo dataset\n",
              "1  Organic Search  ...                      not available in demo dataset\n",
              "\n",
              "[2 rows x 43 columns]"
            ]
          },
          "metadata": {
            "tags": []
          },
          "execution_count": 33
        }
      ]
    },
    {
      "cell_type": "markdown",
      "metadata": {
        "id": "LzkRMuCZx6Fb"
      },
      "source": [
        "**Handling Numerical values**"
      ]
    },
    {
      "cell_type": "code",
      "metadata": {
        "id": "ZOcgQzCR9j_m"
      },
      "source": [
        ""
      ],
      "execution_count": null,
      "outputs": []
    },
    {
      "cell_type": "code",
      "metadata": {
        "colab": {
          "base_uri": "https://localhost:8080/"
        },
        "id": "iLV-1c6ggfSh",
        "outputId": "668c8699-518b-44ea-9408-24efffff440a"
      },
      "source": [
        "for i in num:\n",
        "  print('Unique Values in ',i,'is',df[i].nunique())"
      ],
      "execution_count": null,
      "outputs": [
        {
          "output_type": "stream",
          "text": [
            "Unique Values in  date is 366\n",
            "Unique Values in  visitId is 886303\n",
            "Unique Values in  visitNumber is 384\n",
            "Unique Values in  visitStartTime is 887159\n",
            "Unique Values in  totals_visits is 1\n",
            "Unique Values in  totals_hits is 274\n",
            "Unique Values in  totals_pageviews is 213\n",
            "Unique Values in  totals_transactionRevenue is 2\n"
          ],
          "name": "stdout"
        }
      ]
    },
    {
      "cell_type": "code",
      "metadata": {
        "colab": {
          "base_uri": "https://localhost:8080/"
        },
        "id": "KM-IzrEfglyy",
        "outputId": "2da2e179-8a41-44c9-967a-e794ba494fc4"
      },
      "source": [
        "df.totals_visits.nunique()"
      ],
      "execution_count": null,
      "outputs": [
        {
          "output_type": "execute_result",
          "data": {
            "text/plain": [
              "1"
            ]
          },
          "metadata": {
            "tags": []
          },
          "execution_count": 35
        }
      ]
    },
    {
      "cell_type": "markdown",
      "metadata": {
        "id": "vBYh_Hr5yCxL"
      },
      "source": [
        "**We are dropping totals_visits as it contains only one value**"
      ]
    },
    {
      "cell_type": "code",
      "metadata": {
        "id": "N_Hob1BPhgAr"
      },
      "source": [
        "df=df.drop('totals_visits',1)"
      ],
      "execution_count": null,
      "outputs": []
    },
    {
      "cell_type": "markdown",
      "metadata": {
        "id": "VOvenZkCyQlM"
      },
      "source": [
        "**Doing Statistical Analysis between visit StartTime and visitId**"
      ]
    },
    {
      "cell_type": "code",
      "metadata": {
        "colab": {
          "base_uri": "https://localhost:8080/",
          "height": 406
        },
        "id": "HWfhkhrOiRhp",
        "outputId": "35a43135-d899-46a0-edda-764ace76762a"
      },
      "source": [
        "df[['visitStartTime','visitId']]"
      ],
      "execution_count": null,
      "outputs": [
        {
          "output_type": "execute_result",
          "data": {
            "text/html": [
              "<div>\n",
              "<style scoped>\n",
              "    .dataframe tbody tr th:only-of-type {\n",
              "        vertical-align: middle;\n",
              "    }\n",
              "\n",
              "    .dataframe tbody tr th {\n",
              "        vertical-align: top;\n",
              "    }\n",
              "\n",
              "    .dataframe thead th {\n",
              "        text-align: right;\n",
              "    }\n",
              "</style>\n",
              "<table border=\"1\" class=\"dataframe\">\n",
              "  <thead>\n",
              "    <tr style=\"text-align: right;\">\n",
              "      <th></th>\n",
              "      <th>visitStartTime</th>\n",
              "      <th>visitId</th>\n",
              "    </tr>\n",
              "  </thead>\n",
              "  <tbody>\n",
              "    <tr>\n",
              "      <th>0</th>\n",
              "      <td>1472830385</td>\n",
              "      <td>1472830385</td>\n",
              "    </tr>\n",
              "    <tr>\n",
              "      <th>1</th>\n",
              "      <td>1472880147</td>\n",
              "      <td>1472880147</td>\n",
              "    </tr>\n",
              "    <tr>\n",
              "      <th>2</th>\n",
              "      <td>1472865386</td>\n",
              "      <td>1472865386</td>\n",
              "    </tr>\n",
              "    <tr>\n",
              "      <th>3</th>\n",
              "      <td>1472881213</td>\n",
              "      <td>1472881213</td>\n",
              "    </tr>\n",
              "    <tr>\n",
              "      <th>4</th>\n",
              "      <td>1472822600</td>\n",
              "      <td>1472822600</td>\n",
              "    </tr>\n",
              "    <tr>\n",
              "      <th>...</th>\n",
              "      <td>...</td>\n",
              "      <td>...</td>\n",
              "    </tr>\n",
              "    <tr>\n",
              "      <th>903648</th>\n",
              "      <td>1483554750</td>\n",
              "      <td>1483554750</td>\n",
              "    </tr>\n",
              "    <tr>\n",
              "      <th>903649</th>\n",
              "      <td>1483543798</td>\n",
              "      <td>1483543798</td>\n",
              "    </tr>\n",
              "    <tr>\n",
              "      <th>903650</th>\n",
              "      <td>1483526434</td>\n",
              "      <td>1483526434</td>\n",
              "    </tr>\n",
              "    <tr>\n",
              "      <th>903651</th>\n",
              "      <td>1483592864</td>\n",
              "      <td>1483592857</td>\n",
              "    </tr>\n",
              "    <tr>\n",
              "      <th>903652</th>\n",
              "      <td>1483574474</td>\n",
              "      <td>1483574474</td>\n",
              "    </tr>\n",
              "  </tbody>\n",
              "</table>\n",
              "<p>903653 rows × 2 columns</p>\n",
              "</div>"
            ],
            "text/plain": [
              "        visitStartTime     visitId\n",
              "0           1472830385  1472830385\n",
              "1           1472880147  1472880147\n",
              "2           1472865386  1472865386\n",
              "3           1472881213  1472881213\n",
              "4           1472822600  1472822600\n",
              "...                ...         ...\n",
              "903648      1483554750  1483554750\n",
              "903649      1483543798  1483543798\n",
              "903650      1483526434  1483526434\n",
              "903651      1483592864  1483592857\n",
              "903652      1483574474  1483574474\n",
              "\n",
              "[903653 rows x 2 columns]"
            ]
          },
          "metadata": {
            "tags": []
          },
          "execution_count": 37
        }
      ]
    },
    {
      "cell_type": "code",
      "metadata": {
        "colab": {
          "base_uri": "https://localhost:8080/"
        },
        "id": "g-j6GmUPjtfW",
        "outputId": "84f4f66c-c15b-461a-cf88-3a709307f30c"
      },
      "source": [
        "df['visitStartTime'].nunique()"
      ],
      "execution_count": null,
      "outputs": [
        {
          "output_type": "execute_result",
          "data": {
            "text/plain": [
              "887159"
            ]
          },
          "metadata": {
            "tags": []
          },
          "execution_count": 38
        }
      ]
    },
    {
      "cell_type": "code",
      "metadata": {
        "colab": {
          "base_uri": "https://localhost:8080/"
        },
        "id": "NeHwUGp_kClM",
        "outputId": "a15846f3-6f00-434f-cccf-4bfebc208136"
      },
      "source": [
        "df['visitId'].nunique()"
      ],
      "execution_count": null,
      "outputs": [
        {
          "output_type": "execute_result",
          "data": {
            "text/plain": [
              "886303"
            ]
          },
          "metadata": {
            "tags": []
          },
          "execution_count": 39
        }
      ]
    },
    {
      "cell_type": "code",
      "metadata": {
        "colab": {
          "base_uri": "https://localhost:8080/"
        },
        "id": "u_PT-v1KkEQS",
        "outputId": "2bcecd83-23b7-429f-ef6d-500c757a21c6"
      },
      "source": [
        "mu1=df['visitStartTime'].mean()\n",
        "mu1"
      ],
      "execution_count": null,
      "outputs": [
        {
          "output_type": "execute_result",
          "data": {
            "text/plain": [
              "1485007290.0595284"
            ]
          },
          "metadata": {
            "tags": []
          },
          "execution_count": 40
        }
      ]
    },
    {
      "cell_type": "code",
      "metadata": {
        "colab": {
          "base_uri": "https://localhost:8080/"
        },
        "id": "wVG-wU2Mkbvg",
        "outputId": "0c020928-d72b-4333-d921-887ef7dc6c7b"
      },
      "source": [
        "mu2=df['visitId'].mean()\n",
        "mu2"
      ],
      "execution_count": null,
      "outputs": [
        {
          "output_type": "execute_result",
          "data": {
            "text/plain": [
              "1485007289.0645623"
            ]
          },
          "metadata": {
            "tags": []
          },
          "execution_count": 41
        }
      ]
    },
    {
      "cell_type": "code",
      "metadata": {
        "id": "oSAPImpulVG-"
      },
      "source": [
        "# df_visitStartTime=df['visitStartTime'].apply(lambda x: np.log(x+1))\n",
        "# df_visitId=df['visitId'].apply(lambda x: np.log(x+1))"
      ],
      "execution_count": null,
      "outputs": []
    },
    {
      "cell_type": "markdown",
      "metadata": {
        "id": "WK3LSqHaylOF"
      },
      "source": [
        "**Checking Normality Check Shapiro Test**"
      ]
    },
    {
      "cell_type": "code",
      "metadata": {
        "id": "9kRqlVJqkh-W"
      },
      "source": [
        "from scipy.stats import shapiro\n",
        "p_val1=shapiro(df['visitStartTime'][:5000])[1]"
      ],
      "execution_count": null,
      "outputs": []
    },
    {
      "cell_type": "code",
      "metadata": {
        "colab": {
          "base_uri": "https://localhost:8080/"
        },
        "id": "xPazAPECon_O",
        "outputId": "e427db65-ceae-4a4d-ffd2-fa0d112f5953"
      },
      "source": [
        "p_val1"
      ],
      "execution_count": null,
      "outputs": [
        {
          "output_type": "execute_result",
          "data": {
            "text/plain": [
              "0.0"
            ]
          },
          "metadata": {
            "tags": []
          },
          "execution_count": 44
        }
      ]
    },
    {
      "cell_type": "code",
      "metadata": {
        "colab": {
          "base_uri": "https://localhost:8080/"
        },
        "id": "gWlrSSzWlMP3",
        "outputId": "c029cdc8-b728-4918-bb68-7608cc656e03"
      },
      "source": [
        "p_val2=shapiro(df['visitId'][:5000])[1]\n",
        "p_val2"
      ],
      "execution_count": null,
      "outputs": [
        {
          "output_type": "execute_result",
          "data": {
            "text/plain": [
              "0.0"
            ]
          },
          "metadata": {
            "tags": []
          },
          "execution_count": 45
        }
      ]
    },
    {
      "cell_type": "code",
      "metadata": {
        "colab": {
          "base_uri": "https://localhost:8080/"
        },
        "id": "-vSDJll6o2Nc",
        "outputId": "5e52a363-709c-414c-c380-9bde6cab51da"
      },
      "source": [
        "if p_val1<0.05:\n",
        "    print('Data is not Normally Distributed')\n",
        "else:\n",
        "    print('Data is Normally Distributed')"
      ],
      "execution_count": null,
      "outputs": [
        {
          "output_type": "stream",
          "text": [
            "Data is not Normally Distributed\n"
          ],
          "name": "stdout"
        }
      ]
    },
    {
      "cell_type": "code",
      "metadata": {
        "colab": {
          "base_uri": "https://localhost:8080/"
        },
        "id": "0uv8g-1Ro6qE",
        "outputId": "62fe2f34-bac2-4a0f-b154-29cee32423c1"
      },
      "source": [
        "if p_val2<0.05:\n",
        "    print('Data is not Normally Distributed')\n",
        "else:\n",
        "    print('Data is Normally Distributed')"
      ],
      "execution_count": null,
      "outputs": [
        {
          "output_type": "stream",
          "text": [
            "Data is not Normally Distributed\n"
          ],
          "name": "stdout"
        }
      ]
    },
    {
      "cell_type": "code",
      "metadata": {
        "colab": {
          "base_uri": "https://localhost:8080/"
        },
        "id": "hFZCVbEeo_nD",
        "outputId": "92a5e794-ed63-4cc1-f124-49220760e923"
      },
      "source": [
        "from scipy.stats import mannwhitneyu\n",
        "p_val=mannwhitneyu(df['visitStartTime'][:5000],df['visitId'][:5000])[1]\n",
        "p_val"
      ],
      "execution_count": null,
      "outputs": [
        {
          "output_type": "execute_result",
          "data": {
            "text/plain": [
              "0.4997056537232027"
            ]
          },
          "metadata": {
            "tags": []
          },
          "execution_count": 48
        }
      ]
    },
    {
      "cell_type": "code",
      "metadata": {
        "colab": {
          "base_uri": "https://localhost:8080/"
        },
        "id": "oxsEVWYnpuA_",
        "outputId": "1f7f134c-d564-412b-cb7a-248ebc3c97a6"
      },
      "source": [
        "if p_val<0.05:\n",
        "    print('The mean weight of the two sample is different, accept Ha')\n",
        "else:\n",
        "    print('The mean weight of the two sample is same, accept Ho')"
      ],
      "execution_count": null,
      "outputs": [
        {
          "output_type": "stream",
          "text": [
            "The mean weight of the two sample is same, accept Ho\n"
          ],
          "name": "stdout"
        }
      ]
    },
    {
      "cell_type": "markdown",
      "metadata": {
        "id": "UwVw7ucgy37M"
      },
      "source": [
        "**Since both Mean Weight are same hence we are dropping one variable**"
      ]
    },
    {
      "cell_type": "code",
      "metadata": {
        "colab": {
          "base_uri": "https://localhost:8080/"
        },
        "id": "hu_XFRhOqNRo",
        "outputId": "212253a1-c49f-4dd5-ae76-10efd5e029e1"
      },
      "source": [
        "df.corrwith(df['totals_transactionRevenue'])"
      ],
      "execution_count": null,
      "outputs": [
        {
          "output_type": "execute_result",
          "data": {
            "text/plain": [
              "date                         0.008139\n",
              "visitId                      0.010937\n",
              "visitNumber                  0.022251\n",
              "visitStartTime               0.010937\n",
              "device_isMobile             -0.045337\n",
              "totals_hits                  0.373274\n",
              "totals_pageviews             0.395915\n",
              "totals_transactionRevenue    1.000000\n",
              "dtype: float64"
            ]
          },
          "metadata": {
            "tags": []
          },
          "execution_count": 50
        }
      ]
    },
    {
      "cell_type": "code",
      "metadata": {
        "id": "ss1wPfiVulal"
      },
      "source": [
        "df=df.drop('visitId',1)"
      ],
      "execution_count": null,
      "outputs": []
    },
    {
      "cell_type": "markdown",
      "metadata": {
        "id": "WmLrgz-gzGw5"
      },
      "source": [
        "**Handling visitStartTime by epoch & unix timestamp conversion and fetching date, Month and Year columns**"
      ]
    },
    {
      "cell_type": "code",
      "metadata": {
        "colab": {
          "base_uri": "https://localhost:8080/"
        },
        "id": "DKRKm2h_v1C_",
        "outputId": "6759d1bf-9d13-4586-8710-2e64ee8185db"
      },
      "source": [
        "df.visitStartTime"
      ],
      "execution_count": null,
      "outputs": [
        {
          "output_type": "execute_result",
          "data": {
            "text/plain": [
              "0         1472830385\n",
              "1         1472880147\n",
              "2         1472865386\n",
              "3         1472881213\n",
              "4         1472822600\n",
              "             ...    \n",
              "903648    1483554750\n",
              "903649    1483543798\n",
              "903650    1483526434\n",
              "903651    1483592864\n",
              "903652    1483574474\n",
              "Name: visitStartTime, Length: 903653, dtype: int64"
            ]
          },
          "metadata": {
            "tags": []
          },
          "execution_count": 52
        }
      ]
    },
    {
      "cell_type": "code",
      "metadata": {
        "id": "aJBYri8LvX5U"
      },
      "source": [
        "visit_time=[]\n",
        "fmt = \"%Y-%m-%d\"\n",
        "for i in df.visitStartTime:\n",
        "     t = datetime.datetime.fromtimestamp(int(i))\n",
        "     visit_time.append(t.strftime(fmt))"
      ],
      "execution_count": null,
      "outputs": []
    },
    {
      "cell_type": "code",
      "metadata": {
        "id": "Nc3KCaQDwRQT"
      },
      "source": [
        "time_df=pd.DataFrame(visit_time,columns=['Full_date'])"
      ],
      "execution_count": null,
      "outputs": []
    },
    {
      "cell_type": "code",
      "metadata": {
        "colab": {
          "base_uri": "https://localhost:8080/",
          "height": 107
        },
        "id": "RYM2VE8qwuMX",
        "outputId": "df1fd1be-7071-465b-c1f2-6d27752ecf79"
      },
      "source": [
        "time_df.head(2)"
      ],
      "execution_count": null,
      "outputs": [
        {
          "output_type": "execute_result",
          "data": {
            "text/html": [
              "<div>\n",
              "<style scoped>\n",
              "    .dataframe tbody tr th:only-of-type {\n",
              "        vertical-align: middle;\n",
              "    }\n",
              "\n",
              "    .dataframe tbody tr th {\n",
              "        vertical-align: top;\n",
              "    }\n",
              "\n",
              "    .dataframe thead th {\n",
              "        text-align: right;\n",
              "    }\n",
              "</style>\n",
              "<table border=\"1\" class=\"dataframe\">\n",
              "  <thead>\n",
              "    <tr style=\"text-align: right;\">\n",
              "      <th></th>\n",
              "      <th>Full_date</th>\n",
              "    </tr>\n",
              "  </thead>\n",
              "  <tbody>\n",
              "    <tr>\n",
              "      <th>0</th>\n",
              "      <td>2016-09-02</td>\n",
              "    </tr>\n",
              "    <tr>\n",
              "      <th>1</th>\n",
              "      <td>2016-09-03</td>\n",
              "    </tr>\n",
              "  </tbody>\n",
              "</table>\n",
              "</div>"
            ],
            "text/plain": [
              "    Full_date\n",
              "0  2016-09-02\n",
              "1  2016-09-03"
            ]
          },
          "metadata": {
            "tags": []
          },
          "execution_count": 55
        }
      ]
    },
    {
      "cell_type": "code",
      "metadata": {
        "id": "rkgsESmGwlso"
      },
      "source": [
        "time_df['Visit_Year']=time_df['Full_date'].str.split('-').str[0].astype(int)\n",
        "time_df['Visit_Month']=time_df['Full_date'].str.split('-').str[1].astype(int)\n",
        "time_df['Visit_Date']=time_df['Full_date'].str.split('-').str[2].astype(int)"
      ],
      "execution_count": null,
      "outputs": []
    },
    {
      "cell_type": "code",
      "metadata": {
        "colab": {
          "base_uri": "https://localhost:8080/",
          "height": 197
        },
        "id": "a9OYVXowx8wm",
        "outputId": "1f53fd90-b13d-4908-dac3-f1519dc5f91f"
      },
      "source": [
        "time_df.head()"
      ],
      "execution_count": null,
      "outputs": [
        {
          "output_type": "execute_result",
          "data": {
            "text/html": [
              "<div>\n",
              "<style scoped>\n",
              "    .dataframe tbody tr th:only-of-type {\n",
              "        vertical-align: middle;\n",
              "    }\n",
              "\n",
              "    .dataframe tbody tr th {\n",
              "        vertical-align: top;\n",
              "    }\n",
              "\n",
              "    .dataframe thead th {\n",
              "        text-align: right;\n",
              "    }\n",
              "</style>\n",
              "<table border=\"1\" class=\"dataframe\">\n",
              "  <thead>\n",
              "    <tr style=\"text-align: right;\">\n",
              "      <th></th>\n",
              "      <th>Full_date</th>\n",
              "      <th>Visit_Year</th>\n",
              "      <th>Visit_Month</th>\n",
              "      <th>Visit_Date</th>\n",
              "    </tr>\n",
              "  </thead>\n",
              "  <tbody>\n",
              "    <tr>\n",
              "      <th>0</th>\n",
              "      <td>2016-09-02</td>\n",
              "      <td>2016</td>\n",
              "      <td>9</td>\n",
              "      <td>2</td>\n",
              "    </tr>\n",
              "    <tr>\n",
              "      <th>1</th>\n",
              "      <td>2016-09-03</td>\n",
              "      <td>2016</td>\n",
              "      <td>9</td>\n",
              "      <td>3</td>\n",
              "    </tr>\n",
              "    <tr>\n",
              "      <th>2</th>\n",
              "      <td>2016-09-03</td>\n",
              "      <td>2016</td>\n",
              "      <td>9</td>\n",
              "      <td>3</td>\n",
              "    </tr>\n",
              "    <tr>\n",
              "      <th>3</th>\n",
              "      <td>2016-09-03</td>\n",
              "      <td>2016</td>\n",
              "      <td>9</td>\n",
              "      <td>3</td>\n",
              "    </tr>\n",
              "    <tr>\n",
              "      <th>4</th>\n",
              "      <td>2016-09-02</td>\n",
              "      <td>2016</td>\n",
              "      <td>9</td>\n",
              "      <td>2</td>\n",
              "    </tr>\n",
              "  </tbody>\n",
              "</table>\n",
              "</div>"
            ],
            "text/plain": [
              "    Full_date  Visit_Year  Visit_Month  Visit_Date\n",
              "0  2016-09-02        2016            9           2\n",
              "1  2016-09-03        2016            9           3\n",
              "2  2016-09-03        2016            9           3\n",
              "3  2016-09-03        2016            9           3\n",
              "4  2016-09-02        2016            9           2"
            ]
          },
          "metadata": {
            "tags": []
          },
          "execution_count": 57
        }
      ]
    },
    {
      "cell_type": "code",
      "metadata": {
        "colab": {
          "base_uri": "https://localhost:8080/"
        },
        "id": "bskWKm1H20yY",
        "outputId": "8286737f-00b9-4531-aa39-1a8ec965c27e"
      },
      "source": [
        "time_df.info()"
      ],
      "execution_count": null,
      "outputs": [
        {
          "output_type": "stream",
          "text": [
            "<class 'pandas.core.frame.DataFrame'>\n",
            "RangeIndex: 903653 entries, 0 to 903652\n",
            "Data columns (total 4 columns):\n",
            " #   Column       Non-Null Count   Dtype \n",
            "---  ------       --------------   ----- \n",
            " 0   Full_date    903653 non-null  object\n",
            " 1   Visit_Year   903653 non-null  int64 \n",
            " 2   Visit_Month  903653 non-null  int64 \n",
            " 3   Visit_Date   903653 non-null  int64 \n",
            "dtypes: int64(3), object(1)\n",
            "memory usage: 27.6+ MB\n"
          ],
          "name": "stdout"
        }
      ]
    },
    {
      "cell_type": "code",
      "metadata": {
        "id": "qWc13syPyAEj"
      },
      "source": [
        "time_df=time_df.drop('Full_date',1)"
      ],
      "execution_count": null,
      "outputs": []
    },
    {
      "cell_type": "code",
      "metadata": {
        "id": "J3TPJKmCyJ2u"
      },
      "source": [
        "df=pd.concat([df,time_df],axis=1)"
      ],
      "execution_count": null,
      "outputs": []
    },
    {
      "cell_type": "code",
      "metadata": {
        "id": "lJitvziyyWd3"
      },
      "source": [
        "df=df.drop('visitStartTime',1)"
      ],
      "execution_count": null,
      "outputs": []
    },
    {
      "cell_type": "code",
      "metadata": {
        "colab": {
          "base_uri": "https://localhost:8080/"
        },
        "id": "v1HZktfVyvud",
        "outputId": "e8242064-c523-4ea1-88fb-395928b6169c"
      },
      "source": [
        "df.shape"
      ],
      "execution_count": null,
      "outputs": [
        {
          "output_type": "execute_result",
          "data": {
            "text/plain": [
              "(903653, 43)"
            ]
          },
          "metadata": {
            "tags": []
          },
          "execution_count": 62
        }
      ]
    },
    {
      "cell_type": "code",
      "metadata": {
        "colab": {
          "base_uri": "https://localhost:8080/",
          "height": 161
        },
        "id": "ofBSaRZUywlL",
        "outputId": "ee665513-b526-4749-d3b1-527ded30052c"
      },
      "source": [
        "df.head(2)"
      ],
      "execution_count": null,
      "outputs": [
        {
          "output_type": "execute_result",
          "data": {
            "text/html": [
              "<div>\n",
              "<style scoped>\n",
              "    .dataframe tbody tr th:only-of-type {\n",
              "        vertical-align: middle;\n",
              "    }\n",
              "\n",
              "    .dataframe tbody tr th {\n",
              "        vertical-align: top;\n",
              "    }\n",
              "\n",
              "    .dataframe thead th {\n",
              "        text-align: right;\n",
              "    }\n",
              "</style>\n",
              "<table border=\"1\" class=\"dataframe\">\n",
              "  <thead>\n",
              "    <tr style=\"text-align: right;\">\n",
              "      <th></th>\n",
              "      <th>channelGrouping</th>\n",
              "      <th>date</th>\n",
              "      <th>fullVisitorId</th>\n",
              "      <th>sessionId</th>\n",
              "      <th>socialEngagementType</th>\n",
              "      <th>visitNumber</th>\n",
              "      <th>device_browser</th>\n",
              "      <th>device_browserVersion</th>\n",
              "      <th>device_browserSize</th>\n",
              "      <th>device_operatingSystem</th>\n",
              "      <th>device_operatingSystemVersion</th>\n",
              "      <th>device_isMobile</th>\n",
              "      <th>device_mobileDeviceBranding</th>\n",
              "      <th>device_mobileDeviceModel</th>\n",
              "      <th>device_mobileInputSelector</th>\n",
              "      <th>device_mobileDeviceInfo</th>\n",
              "      <th>device_mobileDeviceMarketingName</th>\n",
              "      <th>device_flashVersion</th>\n",
              "      <th>device_language</th>\n",
              "      <th>device_screenColors</th>\n",
              "      <th>device_screenResolution</th>\n",
              "      <th>device_deviceCategory</th>\n",
              "      <th>geoNetwork_continent</th>\n",
              "      <th>geoNetwork_subContinent</th>\n",
              "      <th>geoNetwork_country</th>\n",
              "      <th>geoNetwork_region</th>\n",
              "      <th>geoNetwork_metro</th>\n",
              "      <th>geoNetwork_city</th>\n",
              "      <th>geoNetwork_cityId</th>\n",
              "      <th>geoNetwork_networkDomain</th>\n",
              "      <th>geoNetwork_latitude</th>\n",
              "      <th>geoNetwork_longitude</th>\n",
              "      <th>geoNetwork_networkLocation</th>\n",
              "      <th>totals_hits</th>\n",
              "      <th>totals_pageviews</th>\n",
              "      <th>totals_transactionRevenue</th>\n",
              "      <th>trafficSource_campaign</th>\n",
              "      <th>trafficSource_source</th>\n",
              "      <th>trafficSource_medium</th>\n",
              "      <th>trafficSource_adwordsClickInfo.criteriaParameters</th>\n",
              "      <th>Visit_Year</th>\n",
              "      <th>Visit_Month</th>\n",
              "      <th>Visit_Date</th>\n",
              "    </tr>\n",
              "  </thead>\n",
              "  <tbody>\n",
              "    <tr>\n",
              "      <th>0</th>\n",
              "      <td>Organic Search</td>\n",
              "      <td>20160902</td>\n",
              "      <td>1131660440785968503</td>\n",
              "      <td>1131660440785968503_1472830385</td>\n",
              "      <td>Not Socially Engaged</td>\n",
              "      <td>1</td>\n",
              "      <td>Chrome</td>\n",
              "      <td>not available in demo dataset</td>\n",
              "      <td>not available in demo dataset</td>\n",
              "      <td>Windows</td>\n",
              "      <td>not available in demo dataset</td>\n",
              "      <td>False</td>\n",
              "      <td>not available in demo dataset</td>\n",
              "      <td>not available in demo dataset</td>\n",
              "      <td>not available in demo dataset</td>\n",
              "      <td>not available in demo dataset</td>\n",
              "      <td>not available in demo dataset</td>\n",
              "      <td>not available in demo dataset</td>\n",
              "      <td>not available in demo dataset</td>\n",
              "      <td>not available in demo dataset</td>\n",
              "      <td>not available in demo dataset</td>\n",
              "      <td>desktop</td>\n",
              "      <td>Asia</td>\n",
              "      <td>Western Asia</td>\n",
              "      <td>Turkey</td>\n",
              "      <td>Izmir</td>\n",
              "      <td>(not set)</td>\n",
              "      <td>Izmir</td>\n",
              "      <td>not available in demo dataset</td>\n",
              "      <td>ttnet.com.tr</td>\n",
              "      <td>not available in demo dataset</td>\n",
              "      <td>not available in demo dataset</td>\n",
              "      <td>not available in demo dataset</td>\n",
              "      <td>1</td>\n",
              "      <td>1</td>\n",
              "      <td>0</td>\n",
              "      <td>(not set)</td>\n",
              "      <td>google</td>\n",
              "      <td>organic</td>\n",
              "      <td>not available in demo dataset</td>\n",
              "      <td>2016</td>\n",
              "      <td>9</td>\n",
              "      <td>2</td>\n",
              "    </tr>\n",
              "    <tr>\n",
              "      <th>1</th>\n",
              "      <td>Organic Search</td>\n",
              "      <td>20160902</td>\n",
              "      <td>377306020877927890</td>\n",
              "      <td>377306020877927890_1472880147</td>\n",
              "      <td>Not Socially Engaged</td>\n",
              "      <td>1</td>\n",
              "      <td>Firefox</td>\n",
              "      <td>not available in demo dataset</td>\n",
              "      <td>not available in demo dataset</td>\n",
              "      <td>Macintosh</td>\n",
              "      <td>not available in demo dataset</td>\n",
              "      <td>False</td>\n",
              "      <td>not available in demo dataset</td>\n",
              "      <td>not available in demo dataset</td>\n",
              "      <td>not available in demo dataset</td>\n",
              "      <td>not available in demo dataset</td>\n",
              "      <td>not available in demo dataset</td>\n",
              "      <td>not available in demo dataset</td>\n",
              "      <td>not available in demo dataset</td>\n",
              "      <td>not available in demo dataset</td>\n",
              "      <td>not available in demo dataset</td>\n",
              "      <td>desktop</td>\n",
              "      <td>Oceania</td>\n",
              "      <td>Australasia</td>\n",
              "      <td>Australia</td>\n",
              "      <td>not available in demo dataset</td>\n",
              "      <td>not available in demo dataset</td>\n",
              "      <td>not available in demo dataset</td>\n",
              "      <td>not available in demo dataset</td>\n",
              "      <td>dodo.net.au</td>\n",
              "      <td>not available in demo dataset</td>\n",
              "      <td>not available in demo dataset</td>\n",
              "      <td>not available in demo dataset</td>\n",
              "      <td>1</td>\n",
              "      <td>1</td>\n",
              "      <td>0</td>\n",
              "      <td>(not set)</td>\n",
              "      <td>google</td>\n",
              "      <td>organic</td>\n",
              "      <td>not available in demo dataset</td>\n",
              "      <td>2016</td>\n",
              "      <td>9</td>\n",
              "      <td>3</td>\n",
              "    </tr>\n",
              "  </tbody>\n",
              "</table>\n",
              "</div>"
            ],
            "text/plain": [
              "  channelGrouping      date  ... Visit_Month Visit_Date\n",
              "0  Organic Search  20160902  ...           9          2\n",
              "1  Organic Search  20160902  ...           9          3\n",
              "\n",
              "[2 rows x 43 columns]"
            ]
          },
          "metadata": {
            "tags": []
          },
          "execution_count": 63
        }
      ]
    },
    {
      "cell_type": "markdown",
      "metadata": {
        "id": "WO0UuQFMz-98"
      },
      "source": [
        "**Handling Categorical values**"
      ]
    },
    {
      "cell_type": "code",
      "metadata": {
        "colab": {
          "base_uri": "https://localhost:8080/"
        },
        "id": "2BQcXG0F1li7",
        "outputId": "dc8430e7-714c-41ac-b5c4-bde0165ce985"
      },
      "source": [
        "for i in cat:\n",
        "  print('Unique Values in ',i,'is',df[i].nunique())"
      ],
      "execution_count": null,
      "outputs": [
        {
          "output_type": "stream",
          "text": [
            "Unique Values in  channelGrouping is 8\n",
            "Unique Values in  fullVisitorId is 742735\n",
            "Unique Values in  sessionId is 902755\n",
            "Unique Values in  socialEngagementType is 1\n",
            "Unique Values in  device_browser is 54\n",
            "Unique Values in  device_browserVersion is 1\n",
            "Unique Values in  device_browserSize is 1\n",
            "Unique Values in  device_operatingSystem is 20\n",
            "Unique Values in  device_operatingSystemVersion is 1\n",
            "Unique Values in  device_mobileDeviceBranding is 1\n",
            "Unique Values in  device_mobileDeviceModel is 1\n",
            "Unique Values in  device_mobileInputSelector is 1\n",
            "Unique Values in  device_mobileDeviceInfo is 1\n",
            "Unique Values in  device_mobileDeviceMarketingName is 1\n",
            "Unique Values in  device_flashVersion is 1\n",
            "Unique Values in  device_language is 1\n",
            "Unique Values in  device_screenColors is 1\n",
            "Unique Values in  device_screenResolution is 1\n",
            "Unique Values in  device_deviceCategory is 3\n",
            "Unique Values in  geoNetwork_continent is 6\n",
            "Unique Values in  geoNetwork_subContinent is 23\n",
            "Unique Values in  geoNetwork_country is 222\n",
            "Unique Values in  geoNetwork_region is 376\n",
            "Unique Values in  geoNetwork_metro is 94\n",
            "Unique Values in  geoNetwork_city is 649\n",
            "Unique Values in  geoNetwork_cityId is 1\n",
            "Unique Values in  geoNetwork_networkDomain is 28064\n",
            "Unique Values in  geoNetwork_latitude is 1\n",
            "Unique Values in  geoNetwork_longitude is 1\n",
            "Unique Values in  geoNetwork_networkLocation is 1\n",
            "Unique Values in  trafficSource_campaign is 10\n",
            "Unique Values in  trafficSource_source is 380\n",
            "Unique Values in  trafficSource_medium is 7\n",
            "Unique Values in  trafficSource_adwordsClickInfo.criteriaParameters is 1\n"
          ],
          "name": "stdout"
        }
      ]
    },
    {
      "cell_type": "markdown",
      "metadata": {
        "id": "mVQJQd1Y0Jff"
      },
      "source": [
        "**Dropping Categorical features which is having less than 10 unique values**"
      ]
    },
    {
      "cell_type": "code",
      "metadata": {
        "id": "W80KcxQA12Hh"
      },
      "source": [
        "for i in cat:\n",
        "  if df[i].nunique()<=10:\n",
        "    df=df.drop(i,axis=1)"
      ],
      "execution_count": null,
      "outputs": []
    },
    {
      "cell_type": "code",
      "metadata": {
        "colab": {
          "base_uri": "https://localhost:8080/"
        },
        "id": "2CC2kpFa18fg",
        "outputId": "00c38fa3-4075-4835-9a4f-3c8d593d89c7"
      },
      "source": [
        "cat1=df.select_dtypes(include=np.object).columns.tolist()\n",
        "for i in cat1:\n",
        "  print('Unique Values in ',i,'is',df[i].nunique())"
      ],
      "execution_count": null,
      "outputs": [
        {
          "output_type": "stream",
          "text": [
            "Unique Values in  fullVisitorId is 742735\n",
            "Unique Values in  sessionId is 902755\n",
            "Unique Values in  device_browser is 54\n",
            "Unique Values in  device_operatingSystem is 20\n",
            "Unique Values in  geoNetwork_subContinent is 23\n",
            "Unique Values in  geoNetwork_country is 222\n",
            "Unique Values in  geoNetwork_region is 376\n",
            "Unique Values in  geoNetwork_metro is 94\n",
            "Unique Values in  geoNetwork_city is 649\n",
            "Unique Values in  geoNetwork_networkDomain is 28064\n",
            "Unique Values in  trafficSource_source is 380\n"
          ],
          "name": "stdout"
        }
      ]
    },
    {
      "cell_type": "markdown",
      "metadata": {
        "id": "MLZSSqt80V00"
      },
      "source": [
        "**sessionId contains lots of Unique values so we can drop it**"
      ]
    },
    {
      "cell_type": "code",
      "metadata": {
        "id": "Ttt8LxWx2UrG"
      },
      "source": [
        "df=df.drop('sessionId',axis=1)"
      ],
      "execution_count": null,
      "outputs": []
    },
    {
      "cell_type": "code",
      "metadata": {
        "colab": {
          "base_uri": "https://localhost:8080/",
          "height": 144
        },
        "id": "wG1eMIt13RnN",
        "outputId": "0eb9ce29-659a-44db-fc49-46280ca04ae4"
      },
      "source": [
        "df.head(2)"
      ],
      "execution_count": null,
      "outputs": [
        {
          "output_type": "execute_result",
          "data": {
            "text/html": [
              "<div>\n",
              "<style scoped>\n",
              "    .dataframe tbody tr th:only-of-type {\n",
              "        vertical-align: middle;\n",
              "    }\n",
              "\n",
              "    .dataframe tbody tr th {\n",
              "        vertical-align: top;\n",
              "    }\n",
              "\n",
              "    .dataframe thead th {\n",
              "        text-align: right;\n",
              "    }\n",
              "</style>\n",
              "<table border=\"1\" class=\"dataframe\">\n",
              "  <thead>\n",
              "    <tr style=\"text-align: right;\">\n",
              "      <th></th>\n",
              "      <th>date</th>\n",
              "      <th>fullVisitorId</th>\n",
              "      <th>visitNumber</th>\n",
              "      <th>device_browser</th>\n",
              "      <th>device_operatingSystem</th>\n",
              "      <th>device_isMobile</th>\n",
              "      <th>geoNetwork_subContinent</th>\n",
              "      <th>geoNetwork_country</th>\n",
              "      <th>geoNetwork_region</th>\n",
              "      <th>geoNetwork_metro</th>\n",
              "      <th>geoNetwork_city</th>\n",
              "      <th>geoNetwork_networkDomain</th>\n",
              "      <th>totals_hits</th>\n",
              "      <th>totals_pageviews</th>\n",
              "      <th>totals_transactionRevenue</th>\n",
              "      <th>trafficSource_source</th>\n",
              "      <th>Visit_Year</th>\n",
              "      <th>Visit_Month</th>\n",
              "      <th>Visit_Date</th>\n",
              "    </tr>\n",
              "  </thead>\n",
              "  <tbody>\n",
              "    <tr>\n",
              "      <th>0</th>\n",
              "      <td>20160902</td>\n",
              "      <td>1131660440785968503</td>\n",
              "      <td>1</td>\n",
              "      <td>Chrome</td>\n",
              "      <td>Windows</td>\n",
              "      <td>False</td>\n",
              "      <td>Western Asia</td>\n",
              "      <td>Turkey</td>\n",
              "      <td>Izmir</td>\n",
              "      <td>(not set)</td>\n",
              "      <td>Izmir</td>\n",
              "      <td>ttnet.com.tr</td>\n",
              "      <td>1</td>\n",
              "      <td>1</td>\n",
              "      <td>0</td>\n",
              "      <td>google</td>\n",
              "      <td>2016</td>\n",
              "      <td>9</td>\n",
              "      <td>2</td>\n",
              "    </tr>\n",
              "    <tr>\n",
              "      <th>1</th>\n",
              "      <td>20160902</td>\n",
              "      <td>377306020877927890</td>\n",
              "      <td>1</td>\n",
              "      <td>Firefox</td>\n",
              "      <td>Macintosh</td>\n",
              "      <td>False</td>\n",
              "      <td>Australasia</td>\n",
              "      <td>Australia</td>\n",
              "      <td>not available in demo dataset</td>\n",
              "      <td>not available in demo dataset</td>\n",
              "      <td>not available in demo dataset</td>\n",
              "      <td>dodo.net.au</td>\n",
              "      <td>1</td>\n",
              "      <td>1</td>\n",
              "      <td>0</td>\n",
              "      <td>google</td>\n",
              "      <td>2016</td>\n",
              "      <td>9</td>\n",
              "      <td>3</td>\n",
              "    </tr>\n",
              "  </tbody>\n",
              "</table>\n",
              "</div>"
            ],
            "text/plain": [
              "       date        fullVisitorId  ...  Visit_Month Visit_Date\n",
              "0  20160902  1131660440785968503  ...            9          2\n",
              "1  20160902   377306020877927890  ...            9          3\n",
              "\n",
              "[2 rows x 19 columns]"
            ]
          },
          "metadata": {
            "tags": []
          },
          "execution_count": 68
        }
      ]
    },
    {
      "cell_type": "code",
      "metadata": {
        "colab": {
          "base_uri": "https://localhost:8080/"
        },
        "id": "9IJ-raNh4m_2",
        "outputId": "e1d920af-6358-4b52-d26e-9b6a85138d67"
      },
      "source": [
        "df.shape"
      ],
      "execution_count": null,
      "outputs": [
        {
          "output_type": "execute_result",
          "data": {
            "text/plain": [
              "(903653, 19)"
            ]
          },
          "metadata": {
            "tags": []
          },
          "execution_count": 69
        }
      ]
    },
    {
      "cell_type": "markdown",
      "metadata": {
        "id": "grBQR_VV0cWe"
      },
      "source": [
        "**Handling date by epoch & unix timestamp conversion and fetching date, Month and Year columns but Year Month and date contains only same values so we are fetching Hrs, mins and secs** "
      ]
    },
    {
      "cell_type": "code",
      "metadata": {
        "id": "aFOSPH1G4qq7"
      },
      "source": [
        "date=[]\n",
        "fmt = \"%H:%M:%S\"\n",
        "for i in df.date:\n",
        "     t = datetime.datetime.fromtimestamp(int(i))\n",
        "     date.append(t.strftime(fmt))"
      ],
      "execution_count": null,
      "outputs": []
    },
    {
      "cell_type": "code",
      "metadata": {
        "id": "cCWYOy0k44-q"
      },
      "source": [
        "date_df=pd.DataFrame(date,columns=['Full_date'])"
      ],
      "execution_count": null,
      "outputs": []
    },
    {
      "cell_type": "code",
      "metadata": {
        "colab": {
          "base_uri": "https://localhost:8080/",
          "height": 137
        },
        "id": "e2ltwWLa49tB",
        "outputId": "5db14606-5dd1-4b70-b89e-fb89a509d90a"
      },
      "source": [
        "date_df.head(3)"
      ],
      "execution_count": null,
      "outputs": [
        {
          "output_type": "execute_result",
          "data": {
            "text/html": [
              "<div>\n",
              "<style scoped>\n",
              "    .dataframe tbody tr th:only-of-type {\n",
              "        vertical-align: middle;\n",
              "    }\n",
              "\n",
              "    .dataframe tbody tr th {\n",
              "        vertical-align: top;\n",
              "    }\n",
              "\n",
              "    .dataframe thead th {\n",
              "        text-align: right;\n",
              "    }\n",
              "</style>\n",
              "<table border=\"1\" class=\"dataframe\">\n",
              "  <thead>\n",
              "    <tr style=\"text-align: right;\">\n",
              "      <th></th>\n",
              "      <th>Full_date</th>\n",
              "    </tr>\n",
              "  </thead>\n",
              "  <tbody>\n",
              "    <tr>\n",
              "      <th>0</th>\n",
              "      <td>08:15:02</td>\n",
              "    </tr>\n",
              "    <tr>\n",
              "      <th>1</th>\n",
              "      <td>08:15:02</td>\n",
              "    </tr>\n",
              "    <tr>\n",
              "      <th>2</th>\n",
              "      <td>08:15:02</td>\n",
              "    </tr>\n",
              "  </tbody>\n",
              "</table>\n",
              "</div>"
            ],
            "text/plain": [
              "  Full_date\n",
              "0  08:15:02\n",
              "1  08:15:02\n",
              "2  08:15:02"
            ]
          },
          "metadata": {
            "tags": []
          },
          "execution_count": 72
        }
      ]
    },
    {
      "cell_type": "code",
      "metadata": {
        "id": "Z9mJeshp4-3x"
      },
      "source": [
        "date_df['Hours']=date_df['Full_date'].str.split(':').str[0].astype(int)\n",
        "date_df['Minutes']=date_df['Full_date'].str.split(':').str[1].astype(int)\n",
        "date_df['Seconds']=date_df['Full_date'].str.split(':').str[2].astype(int)"
      ],
      "execution_count": null,
      "outputs": []
    },
    {
      "cell_type": "code",
      "metadata": {
        "id": "jjTj8JTW5hv7"
      },
      "source": [
        "date_df=date_df.drop('Full_date',1)"
      ],
      "execution_count": null,
      "outputs": []
    },
    {
      "cell_type": "code",
      "metadata": {
        "id": "_dA2lJb75hwE"
      },
      "source": [
        "df=pd.concat([df,date_df],axis=1)"
      ],
      "execution_count": null,
      "outputs": []
    },
    {
      "cell_type": "code",
      "metadata": {
        "id": "u1CADMFW5hwE"
      },
      "source": [
        "df=df.drop('date',1)"
      ],
      "execution_count": null,
      "outputs": []
    },
    {
      "cell_type": "code",
      "metadata": {
        "id": "Zf1WQ4fbWgkl"
      },
      "source": [
        "df1=df.copy()"
      ],
      "execution_count": null,
      "outputs": []
    },
    {
      "cell_type": "code",
      "metadata": {
        "id": "xM8DDKRaWnqP"
      },
      "source": [
        "df=df1.copy()"
      ],
      "execution_count": null,
      "outputs": []
    },
    {
      "cell_type": "markdown",
      "metadata": {
        "id": "IWffVzqN1F2g"
      },
      "source": [
        "**Handling Categorical values**"
      ]
    },
    {
      "cell_type": "code",
      "metadata": {
        "colab": {
          "base_uri": "https://localhost:8080/"
        },
        "id": "lfti96sX6CmE",
        "outputId": "e53a8dc4-c991-4e51-9d0b-afd93201732b"
      },
      "source": [
        "cat2=df.select_dtypes(include=np.object).columns.tolist()\n",
        "for i in cat2:\n",
        "  print('Unique Values in ',i,'is',df[i].nunique())"
      ],
      "execution_count": null,
      "outputs": [
        {
          "output_type": "stream",
          "text": [
            "Unique Values in  fullVisitorId is 742735\n",
            "Unique Values in  device_browser is 54\n",
            "Unique Values in  device_operatingSystem is 20\n",
            "Unique Values in  geoNetwork_subContinent is 23\n",
            "Unique Values in  geoNetwork_country is 222\n",
            "Unique Values in  geoNetwork_region is 376\n",
            "Unique Values in  geoNetwork_metro is 94\n",
            "Unique Values in  geoNetwork_city is 649\n",
            "Unique Values in  geoNetwork_networkDomain is 28064\n",
            "Unique Values in  trafficSource_source is 380\n"
          ],
          "name": "stdout"
        }
      ]
    },
    {
      "cell_type": "code",
      "metadata": {
        "colab": {
          "base_uri": "https://localhost:8080/"
        },
        "id": "qeN9pfiD6L26",
        "outputId": "51e01a95-6f57-414f-fde5-f26ca1d757bf"
      },
      "source": [
        "df.geoNetwork_networkDomain.value_counts()"
      ],
      "execution_count": null,
      "outputs": [
        {
          "output_type": "execute_result",
          "data": {
            "text/plain": [
              "(not set)          244881\n",
              "unknown.unknown    146034\n",
              "comcast.net         28743\n",
              "rr.com              14827\n",
              "verizon.net         13637\n",
              "                    ...  \n",
              "gzr.hr                  1\n",
              "gatineau.qc.ca          1\n",
              "jeld-wen.net            1\n",
              "hnb.lk                  1\n",
              "corehr.com              1\n",
              "Name: geoNetwork_networkDomain, Length: 28064, dtype: int64"
            ]
          },
          "metadata": {
            "tags": []
          },
          "execution_count": 80
        }
      ]
    },
    {
      "cell_type": "code",
      "metadata": {
        "id": "TA70K2kM6Rk6"
      },
      "source": [
        "# df[df['geoNetwork_networkDomain']=='(not set)']='Missing'\n",
        "# df[df['geoNetwork_networkDomain']=='unknown.unknown']='Missing'\n",
        "\n",
        "df[\"geoNetwork_networkDomain\"].replace({\"(not set)\": \"Missing\", \"unknown.unknown\": \"Missing\"}, inplace=True)"
      ],
      "execution_count": null,
      "outputs": []
    },
    {
      "cell_type": "code",
      "metadata": {
        "colab": {
          "base_uri": "https://localhost:8080/"
        },
        "id": "7Jha2_gQC0r0",
        "outputId": "f9991af4-56a8-4b65-a90a-031ca1e1a0cb"
      },
      "source": [
        "df.geoNetwork_networkDomain.value_counts()"
      ],
      "execution_count": null,
      "outputs": [
        {
          "output_type": "execute_result",
          "data": {
            "text/plain": [
              "Missing           390915\n",
              "comcast.net        28743\n",
              "rr.com             14827\n",
              "verizon.net        13637\n",
              "ttnet.com.tr       13228\n",
              "                   ...  \n",
              "gzr.hr                 1\n",
              "gatineau.qc.ca         1\n",
              "jeld-wen.net           1\n",
              "hnb.lk                 1\n",
              "corehr.com             1\n",
              "Name: geoNetwork_networkDomain, Length: 28063, dtype: int64"
            ]
          },
          "metadata": {
            "tags": []
          },
          "execution_count": 82
        }
      ]
    },
    {
      "cell_type": "code",
      "metadata": {
        "colab": {
          "base_uri": "https://localhost:8080/"
        },
        "id": "GzmFE52gLV0b",
        "outputId": "07548c71-fc54-4748-9d12-29cb11e29da5"
      },
      "source": [
        "df.geoNetwork_networkDomain.value_counts(normalize=True)*100"
      ],
      "execution_count": null,
      "outputs": [
        {
          "output_type": "execute_result",
          "data": {
            "text/plain": [
              "Missing           43.259415\n",
              "comcast.net        3.180756\n",
              "rr.com             1.640785\n",
              "verizon.net        1.509097\n",
              "ttnet.com.tr       1.463836\n",
              "                    ...    \n",
              "gzr.hr             0.000111\n",
              "gatineau.qc.ca     0.000111\n",
              "jeld-wen.net       0.000111\n",
              "hnb.lk             0.000111\n",
              "corehr.com         0.000111\n",
              "Name: geoNetwork_networkDomain, Length: 28063, dtype: float64"
            ]
          },
          "metadata": {
            "tags": []
          },
          "execution_count": 83
        }
      ]
    },
    {
      "cell_type": "code",
      "metadata": {
        "colab": {
          "base_uri": "https://localhost:8080/"
        },
        "id": "SMPDyA8padbk",
        "outputId": "f64112f1-4227-4df0-947e-a4f6b01af691"
      },
      "source": [
        "df.geoNetwork_subContinent.value_counts(normalize=True)*100"
      ],
      "execution_count": null,
      "outputs": [
        {
          "output_type": "execute_result",
          "data": {
            "text/plain": [
              "Northern America      43.230864\n",
              "Southeast Asia         8.609499\n",
              "Southern Asia          6.564577\n",
              "Western Europe         6.541670\n",
              "Northern Europe        6.436984\n",
              "Eastern Asia           5.192148\n",
              "Eastern Europe         5.007342\n",
              "South America          4.618034\n",
              "Western Asia           4.254177\n",
              "Southern Europe        3.959484\n",
              "Central America        1.724445\n",
              "Australasia            1.648088\n",
              "Northern Africa        0.850216\n",
              "Western Africa         0.284733\n",
              "Caribbean              0.266253\n",
              "Southern Africa        0.240026\n",
              "Eastern Africa         0.213246\n",
              "(not set)              0.162452\n",
              "Central Asia           0.134454\n",
              "Middle Africa          0.043490\n",
              "Melanesia              0.008964\n",
              "Micronesian Region     0.006086\n",
              "Polynesia              0.002767\n",
              "Name: geoNetwork_subContinent, dtype: float64"
            ]
          },
          "metadata": {
            "tags": []
          },
          "execution_count": 84
        }
      ]
    },
    {
      "cell_type": "code",
      "metadata": {
        "colab": {
          "base_uri": "https://localhost:8080/"
        },
        "id": "nN8LNREfbwrh",
        "outputId": "707760a3-11d0-492d-d4a8-5fbfe5bafc72"
      },
      "source": [
        "df.geoNetwork_region.value_counts(normalize=True)*100"
      ],
      "execution_count": null,
      "outputs": [
        {
          "output_type": "execute_result",
          "data": {
            "text/plain": [
              "not available in demo dataset    56.241610\n",
              "California                       11.895606\n",
              "(not set)                         3.079390\n",
              "New York                          2.925127\n",
              "England                           1.460516\n",
              "                                   ...    \n",
              "Sonora                            0.000664\n",
              "Erzurum                           0.000664\n",
              "San Salvador Department           0.000553\n",
              "Kumamoto Prefecture               0.000553\n",
              "Montana                           0.000332\n",
              "Name: geoNetwork_region, Length: 376, dtype: float64"
            ]
          },
          "metadata": {
            "tags": []
          },
          "execution_count": 85
        }
      ]
    },
    {
      "cell_type": "code",
      "metadata": {
        "colab": {
          "base_uri": "https://localhost:8080/"
        },
        "id": "SeffqkMOaFKU",
        "outputId": "c371fce6-f510-4925-89b6-3eff653a5ea5"
      },
      "source": [
        "df.geoNetwork_metro.value_counts(normalize=True)*100"
      ],
      "execution_count": null,
      "outputs": [
        {
          "output_type": "execute_result",
          "data": {
            "text/plain": [
              "not available in demo dataset        56.241610\n",
              "(not set)                            22.327818\n",
              "San Francisco-Oakland-San Jose CA    10.613919\n",
              "New York NY                           2.978688\n",
              "London                                1.391131\n",
              "                                       ...    \n",
              "Tallahassee FL-Thomasville GA         0.000664\n",
              "Chattanooga TN                        0.000664\n",
              "Springfield-Holyoke MA                0.000664\n",
              "Boise ID                              0.000332\n",
              "Butte-Bozeman MT                      0.000332\n",
              "Name: geoNetwork_metro, Length: 94, dtype: float64"
            ]
          },
          "metadata": {
            "tags": []
          },
          "execution_count": 86
        }
      ]
    },
    {
      "cell_type": "code",
      "metadata": {
        "colab": {
          "base_uri": "https://localhost:8080/"
        },
        "id": "LoOyO8SaaIKL",
        "outputId": "bdbba5ce-6bef-4aa9-b780-255a598d1047"
      },
      "source": [
        "df.geoNetwork_city.value_counts(normalize=True)*100"
      ],
      "execution_count": null,
      "outputs": [
        {
          "output_type": "execute_result",
          "data": {
            "text/plain": [
              "not available in demo dataset    56.241610\n",
              "Mountain View                     4.524303\n",
              "(not set)                         3.791500\n",
              "New York                          2.918266\n",
              "San Francisco                     2.249647\n",
              "                                   ...    \n",
              "San Salvador                      0.000553\n",
              "Kumamoto                          0.000553\n",
              "Daly City                         0.000443\n",
              "Bozeman                           0.000332\n",
              "Boise                             0.000332\n",
              "Name: geoNetwork_city, Length: 649, dtype: float64"
            ]
          },
          "metadata": {
            "tags": []
          },
          "execution_count": 87
        }
      ]
    },
    {
      "cell_type": "markdown",
      "metadata": {
        "id": "4-rm4UL21qYo"
      },
      "source": [
        "**Dropping [ 'geoNetwork_region' , 'geoNetwork_metro' , 'geoNetwork_city' ] these Features as they contain almost 50% of Missing values**"
      ]
    },
    {
      "cell_type": "code",
      "metadata": {
        "id": "bvgxDEqUaL3j"
      },
      "source": [
        "df=df.drop(['geoNetwork_region','geoNetwork_metro','geoNetwork_city'],1)"
      ],
      "execution_count": null,
      "outputs": []
    },
    {
      "cell_type": "code",
      "metadata": {
        "id": "00SNp-tBbyAi"
      },
      "source": [
        ""
      ],
      "execution_count": null,
      "outputs": []
    },
    {
      "cell_type": "markdown",
      "metadata": {
        "id": "t7sJQzsPb0OD"
      },
      "source": [
        "**Frequency Encoding**"
      ]
    },
    {
      "cell_type": "code",
      "metadata": {
        "id": "ZTFdXdR9XvvT"
      },
      "source": [
        "# Handling geoNetwork_country, trafficSource_source, geoNetwork_networkDomain, device_browser"
      ],
      "execution_count": null,
      "outputs": []
    },
    {
      "cell_type": "code",
      "metadata": {
        "colab": {
          "base_uri": "https://localhost:8080/"
        },
        "id": "NVlA2E2WXoqy",
        "outputId": "6e7a2386-14e6-4e32-bece-e646d9326479"
      },
      "source": [
        "df.geoNetwork_country.value_counts(normalize=True)*100"
      ],
      "execution_count": null,
      "outputs": [
        {
          "output_type": "execute_result",
          "data": {
            "text/plain": [
              "United States            40.363281\n",
              "India                     5.659252\n",
              "United Kingdom            4.137982\n",
              "Canada                    2.862714\n",
              "Vietnam                   2.722063\n",
              "                           ...    \n",
              "Samoa                     0.000111\n",
              "Åland Islands             0.000111\n",
              "São Tomé & Príncipe       0.000111\n",
              "St. Pierre & Miquelon     0.000111\n",
              "Anguilla                  0.000111\n",
              "Name: geoNetwork_country, Length: 222, dtype: float64"
            ]
          },
          "metadata": {
            "tags": []
          },
          "execution_count": 90
        }
      ]
    },
    {
      "cell_type": "code",
      "metadata": {
        "colab": {
          "base_uri": "https://localhost:8080/"
        },
        "id": "N_a6FmJWXrhQ",
        "outputId": "a310f02d-57d4-405d-e3c1-b9acdaf90666"
      },
      "source": [
        "df.trafficSource_source.value_counts(normalize=True)*100"
      ],
      "execution_count": null,
      "outputs": [
        {
          "output_type": "execute_result",
          "data": {
            "text/plain": [
              "google                                               44.351980\n",
              "youtube.com                                          23.526951\n",
              "(direct)                                             15.827757\n",
              "mall.googleplex.com                                   7.349724\n",
              "Partners                                              1.816073\n",
              "                                                       ...    \n",
              "fr.yhs4.search.yahoo.com                              0.000111\n",
              "google.ro                                             0.000111\n",
              "0.shared.bow.cat2.ads-bow.yw.borg.google.com:9851     0.000111\n",
              "mx.search.yahoo.com                                   0.000111\n",
              "0.shared.bow.cat2.ads-bow.vk.borg.google.com:9878     0.000111\n",
              "Name: trafficSource_source, Length: 380, dtype: float64"
            ]
          },
          "metadata": {
            "tags": []
          },
          "execution_count": 91
        }
      ]
    },
    {
      "cell_type": "code",
      "metadata": {
        "colab": {
          "base_uri": "https://localhost:8080/"
        },
        "id": "TCmceCXvX6Y4",
        "outputId": "a990d444-7827-4e0a-8e1f-ceb6d08b7e37"
      },
      "source": [
        "df.columns"
      ],
      "execution_count": null,
      "outputs": [
        {
          "output_type": "execute_result",
          "data": {
            "text/plain": [
              "Index(['fullVisitorId', 'visitNumber', 'device_browser',\n",
              "       'device_operatingSystem', 'device_isMobile', 'geoNetwork_subContinent',\n",
              "       'geoNetwork_country', 'geoNetwork_networkDomain', 'totals_hits',\n",
              "       'totals_pageviews', 'totals_transactionRevenue', 'trafficSource_source',\n",
              "       'Visit_Year', 'Visit_Month', 'Visit_Date', 'Hours', 'Minutes',\n",
              "       'Seconds'],\n",
              "      dtype='object')"
            ]
          },
          "metadata": {
            "tags": []
          },
          "execution_count": 92
        }
      ]
    },
    {
      "cell_type": "code",
      "metadata": {
        "colab": {
          "base_uri": "https://localhost:8080/"
        },
        "id": "0O_SnkznXu2Y",
        "outputId": "c3fda8fd-3272-453a-b447-5e9dbc42b569"
      },
      "source": [
        "# trafficSource_source\n",
        "traffix_src=df.groupby('trafficSource_source')['totals_transactionRevenue'].sum()\n",
        "traffix_src"
      ],
      "execution_count": null,
      "outputs": [
        {
          "output_type": "execute_result",
          "data": {
            "text/plain": [
              "trafficSource_source\n",
              "(direct)                                                        2042\n",
              "(not set)                                                          0\n",
              "0.muppet1.frontend.gws.muppet-exp.ij-q.borg.google.com:14634       0\n",
              "0.shared.bow.cat2.ads-bow.lf.borg.google.com:9817                  0\n",
              "0.shared.bow.cat2.ads-bow.lf.borg.google.com:9824                  0\n",
              "                                                                ... \n",
              "yahoo                                                             22\n",
              "yahoo.com                                                          0\n",
              "yandex                                                             0\n",
              "youtube.com                                                       11\n",
              "yt-go-12345.googleplex.com                                         0\n",
              "Name: totals_transactionRevenue, Length: 380, dtype: int64"
            ]
          },
          "metadata": {
            "tags": []
          },
          "execution_count": 93
        }
      ]
    },
    {
      "cell_type": "code",
      "metadata": {
        "id": "cLAwguOtbkPn"
      },
      "source": [
        "df['trafficSource_source']=df['trafficSource_source'].map(traffix_src)"
      ],
      "execution_count": null,
      "outputs": []
    },
    {
      "cell_type": "code",
      "metadata": {
        "colab": {
          "base_uri": "https://localhost:8080/"
        },
        "id": "U_SNqmFfcxOs",
        "outputId": "285ef722-3f77-4125-f9a1-eb60e578e29c"
      },
      "source": [
        "df.trafficSource_source.value_counts(normalize=True)*100"
      ],
      "execution_count": null,
      "outputs": [
        {
          "output_type": "execute_result",
          "data": {
            "text/plain": [
              "3879    44.351980\n",
              "11      23.526951\n",
              "2042    15.827757\n",
              "5103     7.349724\n",
              "0        3.048958\n",
              "9        1.816073\n",
              "123      0.629224\n",
              "6        0.629003\n",
              "5        0.574667\n",
              "1        0.544346\n",
              "42       0.330105\n",
              "20       0.254080\n",
              "21       0.169313\n",
              "7        0.169202\n",
              "22       0.163780\n",
              "62       0.161234\n",
              "18       0.117634\n",
              "38       0.113428\n",
              "13       0.087976\n",
              "40       0.058430\n",
              "4        0.054114\n",
              "2        0.011288\n",
              "3        0.010734\n",
              "Name: trafficSource_source, dtype: float64"
            ]
          },
          "metadata": {
            "tags": []
          },
          "execution_count": 95
        }
      ]
    },
    {
      "cell_type": "code",
      "metadata": {
        "colab": {
          "base_uri": "https://localhost:8080/"
        },
        "id": "H1yr_b_cbuZW",
        "outputId": "4ce9b37a-ce24-445d-91b0-25485ddac9bc"
      },
      "source": [
        "# geoNetwork_country\n",
        "geo_country=df.groupby('geoNetwork_country')['totals_transactionRevenue'].sum()\n",
        "geo_country.values"
      ],
      "execution_count": null,
      "outputs": [
        {
          "output_type": "execute_result",
          "data": {
            "text/plain": [
              "array([    6,     0,     0,     0,     0,     0,     0,     1,     0,\n",
              "           5,     1,     0,    13,     0,     0,     0,     0,     0,\n",
              "           0,     0,     5,     0,     0,     0,     0,     0,     0,\n",
              "           0,    10,     0,     0,     0,     0,     0,     0,     0,\n",
              "         190,     0,     0,     0,     0,     0,     5,     6,     8,\n",
              "           0,     0,     0,     0,     0,     0,     1,     1,     1,\n",
              "           0,     1,     0,     0,     0,     4,     1,     1,     0,\n",
              "           0,     0,     0,     0,     0,     2,     5,     0,     0,\n",
              "           0,     0,     2,     8,     0,     0,     3,     0,     0,\n",
              "           1,     0,     2,     0,     0,     0,     0,     0,     0,\n",
              "           9,     1,     0,    10,    11,     0,     0,     6,     0,\n",
              "           6,     2,     0,    17,     0,     0,     2,     3,     0,\n",
              "           2,     0,     0,     0,     1,     0,     0,     0,     0,\n",
              "           0,     0,     0,     0,     0,     0,     3,     0,     0,\n",
              "           0,     0,     0,     0,     0,     0,    20,     0,     0,\n",
              "           0,     0,     0,     0,     0,     0,     0,     3,     0,\n",
              "           1,     1,     0,     2,     0,     0,     0,     0,     1,\n",
              "           0,     2,     0,     0,     2,     3,     3,     1,    11,\n",
              "           0,     1,     4,     0,     0,     0,     0,     3,     0,\n",
              "           0,     0,     0,    10,     0,     0,     0,     0,     2,\n",
              "           8,     2,     0,     0,     0,     2,     0,     0,     0,\n",
              "           0,     0,     0,     2,     9,     0,     0,    19,     0,\n",
              "           0,     5,     0,     0,     0,     0,     2,     0,     0,\n",
              "           0,     0,     4,     3,    16, 10953,     1,     0,     0,\n",
              "          63,     0,     0,     0,     0,     0])"
            ]
          },
          "metadata": {
            "tags": []
          },
          "execution_count": 96
        }
      ]
    },
    {
      "cell_type": "code",
      "metadata": {
        "id": "gRiiLsezcGGw"
      },
      "source": [
        "df['geoNetwork_country']=df['geoNetwork_country'].map(geo_country)"
      ],
      "execution_count": null,
      "outputs": []
    },
    {
      "cell_type": "code",
      "metadata": {
        "colab": {
          "base_uri": "https://localhost:8080/"
        },
        "id": "RBhGJgggXu5Q",
        "outputId": "045bd1ca-f30c-4f40-ee6f-f6ef28016f6b"
      },
      "source": [
        "df.geoNetwork_country.value_counts(normalize=True)*100"
      ],
      "execution_count": null,
      "outputs": [
        {
          "output_type": "execute_result",
          "data": {
            "text/plain": [
              "10953    40.363281\n",
              "10        8.642145\n",
              "0         7.178972\n",
              "2         6.898112\n",
              "5         5.243606\n",
              "3         5.228334\n",
              "16        4.137982\n",
              "8         3.330593\n",
              "1         3.296619\n",
              "190       2.862714\n",
              "17        2.183471\n",
              "4         2.046139\n",
              "6         1.926071\n",
              "20        1.463504\n",
              "19        1.438163\n",
              "13        1.405185\n",
              "11        1.107173\n",
              "9         1.012004\n",
              "63        0.235931\n",
              "Name: geoNetwork_country, dtype: float64"
            ]
          },
          "metadata": {
            "tags": []
          },
          "execution_count": 98
        }
      ]
    },
    {
      "cell_type": "code",
      "metadata": {
        "id": "gbXYscppdRDu"
      },
      "source": [
        ""
      ],
      "execution_count": null,
      "outputs": []
    },
    {
      "cell_type": "code",
      "metadata": {
        "colab": {
          "base_uri": "https://localhost:8080/"
        },
        "id": "bbLQQ7WcduyG",
        "outputId": "e782a322-b2b6-44f3-a8ee-e04053c3df3f"
      },
      "source": [
        "# geoNetwork_networkDomain\n",
        "geo_domain=df.groupby('geoNetwork_networkDomain')['totals_transactionRevenue'].sum()\n",
        "geo_domain.values"
      ],
      "execution_count": null,
      "outputs": [
        {
          "output_type": "execute_result",
          "data": {
            "text/plain": [
              "array([0, 0, 0, ..., 0, 0, 0])"
            ]
          },
          "metadata": {
            "tags": []
          },
          "execution_count": 99
        }
      ]
    },
    {
      "cell_type": "code",
      "metadata": {
        "id": "dkG0vyD8duyT"
      },
      "source": [
        "df['geoNetwork_networkDomain']=df['geoNetwork_networkDomain'].map(geo_domain)"
      ],
      "execution_count": null,
      "outputs": []
    },
    {
      "cell_type": "code",
      "metadata": {
        "colab": {
          "base_uri": "https://localhost:8080/"
        },
        "id": "w6pZS-IWduyT",
        "outputId": "85b7220f-e444-4f70-e122-b97b37ddd03b"
      },
      "source": [
        "df.geoNetwork_networkDomain.value_counts(normalize=True)*100"
      ],
      "execution_count": null,
      "outputs": [
        {
          "output_type": "execute_result",
          "data": {
            "text/plain": [
              "7045    43.259415\n",
              "0       26.401395\n",
              "1        8.495296\n",
              "2        3.708392\n",
              "934      3.180756\n",
              "3        1.747905\n",
              "364      1.640785\n",
              "469      1.509097\n",
              "11       1.187403\n",
              "294      1.104960\n",
              "22       0.758256\n",
              "156      0.643167\n",
              "150      0.596247\n",
              "45       0.578762\n",
              "133      0.550211\n",
              "4        0.400264\n",
              "88       0.391079\n",
              "50       0.314833\n",
              "65       0.293365\n",
              "13       0.283184\n",
              "9        0.268798\n",
              "5        0.243678\n",
              "40       0.238145\n",
              "52       0.180711\n",
              "16       0.173961\n",
              "30       0.163005\n",
              "15       0.159464\n",
              "68       0.158579\n",
              "21       0.151939\n",
              "24       0.142311\n",
              "18       0.141869\n",
              "12       0.140319\n",
              "6        0.136004\n",
              "7        0.134897\n",
              "33       0.127483\n",
              "8        0.115199\n",
              "34       0.089636\n",
              "27       0.066065\n",
              "29       0.064405\n",
              "10       0.058761\n",
              "Name: geoNetwork_networkDomain, dtype: float64"
            ]
          },
          "metadata": {
            "tags": []
          },
          "execution_count": 101
        }
      ]
    },
    {
      "cell_type": "code",
      "metadata": {
        "id": "rqVib2kCdRK4"
      },
      "source": [
        ""
      ],
      "execution_count": null,
      "outputs": []
    },
    {
      "cell_type": "code",
      "metadata": {
        "colab": {
          "base_uri": "https://localhost:8080/"
        },
        "id": "phHNc1khdv-1",
        "outputId": "6274fbfa-be3a-40d7-caac-fcb20951a0a2"
      },
      "source": [
        "# device_browser\n",
        "dev_browser=df.groupby('device_browser')['totals_transactionRevenue'].sum()\n",
        "dev_browser"
      ],
      "execution_count": null,
      "outputs": [
        {
          "output_type": "execute_result",
          "data": {
            "text/plain": [
              "device_browser\n",
              "(not set)                                          0\n",
              "0                                                  0\n",
              "ADM                                                0\n",
              "Amazon Silk                                        1\n",
              "Android Browser                                    0\n",
              "Android Runtime                                    0\n",
              "Android Webview                                    6\n",
              "Apple-iPhone7C2                                    0\n",
              "BlackBerry                                         0\n",
              "CSM Click                                          0\n",
              "Changa 99695759                                    0\n",
              "Chrome                                         10353\n",
              "Coc Coc                                            0\n",
              "DASH_JR_3G                                         0\n",
              "DoCoMo                                             0\n",
              "Edge                                              58\n",
              "Firefox                                          191\n",
              "HTC802t_TD                                         0\n",
              "Hisense M20-M_LTE                                  0\n",
              "IE with Chrome Frame                               0\n",
              "Internet Explorer                                109\n",
              "Iron                                               0\n",
              "Konqueror                                          0\n",
              "LYF_LS_4002_11                                     0\n",
              "LYF_LS_4002_12                                     0\n",
              "Lunascape                                          0\n",
              "M5                                                 0\n",
              "MQQBrowser                                         0\n",
              "MRCHROME                                           0\n",
              "Maxthon                                            0\n",
              "Mozilla                                            0\n",
              "Mozilla Compatible Agent                           0\n",
              "Nichrome                                           0\n",
              "Nintendo Browser                                   0\n",
              "Nokia Browser                                      0\n",
              "NokiaE52-1                                         0\n",
              "Opera                                              5\n",
              "Opera Mini                                         0\n",
              "Puffin                                             0\n",
              "Reddit                                             0\n",
              "Safari                                           780\n",
              "Safari (in-app)                                   12\n",
              "SeaMonkey                                          0\n",
              "Seznam                                             0\n",
              "TCL P500M                                          0\n",
              "ThumbSniper                                        0\n",
              "UC Browser                                         0\n",
              "User Agent                                         0\n",
              "YE                                                 0\n",
              "YaBrowser                                          0\n",
              "[Use default User-agent string] LIVRENPOCHE        0\n",
              "no-ua                                              0\n",
              "osee2unifiedRelease                                0\n",
              "subjectAgent: NoticiasBoom                         0\n",
              "Name: totals_transactionRevenue, dtype: int64"
            ]
          },
          "metadata": {
            "tags": []
          },
          "execution_count": 102
        }
      ]
    },
    {
      "cell_type": "code",
      "metadata": {
        "id": "8KjSOB7qdv-1"
      },
      "source": [
        "df['device_browser']=df['device_browser'].map(dev_browser)"
      ],
      "execution_count": null,
      "outputs": []
    },
    {
      "cell_type": "code",
      "metadata": {
        "colab": {
          "base_uri": "https://localhost:8080/"
        },
        "id": "H1a3WQ94dv-1",
        "outputId": "3c0bcb6d-4bbc-479d-e3dc-6d2f9ed39ed4"
      },
      "source": [
        "df.device_browser.value_counts(normalize=True)*100"
      ],
      "execution_count": null,
      "outputs": [
        {
          "output_type": "execute_result",
          "data": {
            "text/plain": [
              "10353    68.650688\n",
              "780      20.167586\n",
              "191       4.102128\n",
              "109       2.144075\n",
              "0         1.491280\n",
              "58        1.129305\n",
              "6         0.870356\n",
              "12        0.758034\n",
              "5         0.624465\n",
              "1         0.062081\n",
              "Name: device_browser, dtype: float64"
            ]
          },
          "metadata": {
            "tags": []
          },
          "execution_count": 104
        }
      ]
    },
    {
      "cell_type": "code",
      "metadata": {
        "id": "4PGJHZ3UHmGR"
      },
      "source": [
        ""
      ],
      "execution_count": null,
      "outputs": []
    },
    {
      "cell_type": "markdown",
      "metadata": {
        "id": "hakdwkaK2G2G"
      },
      "source": [
        "**Mapping geoNetwork_subContinent with 7 Continents { Africa, Antarctica, Asia, Australia/Oceania, Europe, North America, and South America }**\n",
        "\n"
      ]
    },
    {
      "cell_type": "code",
      "metadata": {
        "colab": {
          "base_uri": "https://localhost:8080/"
        },
        "id": "hA0b3Tjwcpmo",
        "outputId": "9a1da4f0-d982-42c2-8e7b-5b06fd5f109c"
      },
      "source": [
        "df.geoNetwork_subContinent.value_counts(normalize=True)*100"
      ],
      "execution_count": null,
      "outputs": [
        {
          "output_type": "execute_result",
          "data": {
            "text/plain": [
              "Northern America      43.230864\n",
              "Southeast Asia         8.609499\n",
              "Southern Asia          6.564577\n",
              "Western Europe         6.541670\n",
              "Northern Europe        6.436984\n",
              "Eastern Asia           5.192148\n",
              "Eastern Europe         5.007342\n",
              "South America          4.618034\n",
              "Western Asia           4.254177\n",
              "Southern Europe        3.959484\n",
              "Central America        1.724445\n",
              "Australasia            1.648088\n",
              "Northern Africa        0.850216\n",
              "Western Africa         0.284733\n",
              "Caribbean              0.266253\n",
              "Southern Africa        0.240026\n",
              "Eastern Africa         0.213246\n",
              "(not set)              0.162452\n",
              "Central Asia           0.134454\n",
              "Middle Africa          0.043490\n",
              "Melanesia              0.008964\n",
              "Micronesian Region     0.006086\n",
              "Polynesia              0.002767\n",
              "Name: geoNetwork_subContinent, dtype: float64"
            ]
          },
          "metadata": {
            "tags": []
          },
          "execution_count": 105
        }
      ]
    },
    {
      "cell_type": "code",
      "metadata": {
        "id": "BxVBkqmhciq5"
      },
      "source": [
        "df[\"geoNetwork_subContinent\"]=df[\"geoNetwork_subContinent\"].str.replace(r'(^.*Asia.*$)', \"Asia\")\n",
        "df[\"geoNetwork_subContinent\"]=df[\"geoNetwork_subContinent\"].str.replace(r'(^.*Europe.*$)', \"Europe\")\n",
        "df[\"geoNetwork_subContinent\"]=df[\"geoNetwork_subContinent\"].str.replace(r'(^.*Australasia.*$)', \"Australia\")\n",
        "df[\"geoNetwork_subContinent\"]=df[\"geoNetwork_subContinent\"].str.replace(r'(^.*Africa.*$)', \"Africa\")\n",
        "df[\"geoNetwork_subContinent\"]=df[\"geoNetwork_subContinent\"].str.replace(r'(^.*Melanesia.*$)', \"Pacific\")\n",
        "df[\"geoNetwork_subContinent\"]=df[\"geoNetwork_subContinent\"].str.replace(r'(^.*Micronesian.*$)', \"Pacific\")\n",
        "df[\"geoNetwork_subContinent\"]=df[\"geoNetwork_subContinent\"].str.replace(r'(^.*Polynesia.*$)', \"Pacific\")\n",
        "df[\"geoNetwork_subContinent\"]=df[\"geoNetwork_subContinent\"].str.replace(r'(^.*Caribbean.*$)', \"South America\")"
      ],
      "execution_count": null,
      "outputs": []
    },
    {
      "cell_type": "code",
      "metadata": {
        "colab": {
          "base_uri": "https://localhost:8080/"
        },
        "id": "wkYCr3_Gdd2r",
        "outputId": "63aabebc-95be-4058-8b98-3c2d6cba5e62"
      },
      "source": [
        "df[\"geoNetwork_subContinent\"]"
      ],
      "execution_count": null,
      "outputs": [
        {
          "output_type": "execute_result",
          "data": {
            "text/plain": [
              "0                    Asia\n",
              "1               Australia\n",
              "2                  Europe\n",
              "3                    Asia\n",
              "4                  Europe\n",
              "               ...       \n",
              "903648      South America\n",
              "903649               Asia\n",
              "903650               Asia\n",
              "903651               Asia\n",
              "903652    Central America\n",
              "Name: geoNetwork_subContinent, Length: 903653, dtype: object"
            ]
          },
          "metadata": {
            "tags": []
          },
          "execution_count": 107
        }
      ]
    },
    {
      "cell_type": "code",
      "metadata": {
        "colab": {
          "base_uri": "https://localhost:8080/"
        },
        "id": "CVw8BGpXkohk",
        "outputId": "3e9a5af1-9026-4dc4-eeeb-29a25cc6c903"
      },
      "source": [
        "df[\"geoNetwork_subContinent\"].value_counts(normalize=True)"
      ],
      "execution_count": null,
      "outputs": [
        {
          "output_type": "execute_result",
          "data": {
            "text/plain": [
              "Northern America    0.432309\n",
              "Asia                0.247549\n",
              "Europe              0.219455\n",
              "South America       0.048843\n",
              "Central America     0.017244\n",
              "Australia           0.016481\n",
              "Africa              0.016317\n",
              "(not set)           0.001625\n",
              "Pacific             0.000178\n",
              "Name: geoNetwork_subContinent, dtype: float64"
            ]
          },
          "metadata": {
            "tags": []
          },
          "execution_count": 108
        }
      ]
    },
    {
      "cell_type": "code",
      "metadata": {
        "id": "Z6OC3DwYdhAy"
      },
      "source": [
        "df = df[df.geoNetwork_subContinent != '(not set)']"
      ],
      "execution_count": null,
      "outputs": []
    },
    {
      "cell_type": "code",
      "metadata": {
        "colab": {
          "base_uri": "https://localhost:8080/"
        },
        "id": "e0a_VyNjmxPr",
        "outputId": "121b81d9-d7f6-4682-d3ca-be10bf1a8aea"
      },
      "source": [
        "df[\"geoNetwork_subContinent\"].value_counts(normalize=True)"
      ],
      "execution_count": null,
      "outputs": [
        {
          "output_type": "execute_result",
          "data": {
            "text/plain": [
              "Northern America    0.433012\n",
              "Asia                0.247951\n",
              "Europe              0.219812\n",
              "South America       0.048922\n",
              "Central America     0.017273\n",
              "Australia           0.016508\n",
              "Africa              0.016344\n",
              "Pacific             0.000178\n",
              "Name: geoNetwork_subContinent, dtype: float64"
            ]
          },
          "metadata": {
            "tags": []
          },
          "execution_count": 110
        }
      ]
    },
    {
      "cell_type": "code",
      "metadata": {
        "colab": {
          "base_uri": "https://localhost:8080/"
        },
        "id": "wAStch43m0ZL",
        "outputId": "91f9637f-9a41-407c-8d34-9ecd298236b4"
      },
      "source": [
        "df.Visit_Year.nunique()"
      ],
      "execution_count": null,
      "outputs": [
        {
          "output_type": "execute_result",
          "data": {
            "text/plain": [
              "2"
            ]
          },
          "metadata": {
            "tags": []
          },
          "execution_count": 111
        }
      ]
    },
    {
      "cell_type": "code",
      "metadata": {
        "colab": {
          "base_uri": "https://localhost:8080/"
        },
        "id": "9l592beBnFKy",
        "outputId": "7dd84549-b13c-44e8-954f-eebdcd127bce"
      },
      "source": [
        "df.Visit_Month.nunique()"
      ],
      "execution_count": null,
      "outputs": [
        {
          "output_type": "execute_result",
          "data": {
            "text/plain": [
              "12"
            ]
          },
          "metadata": {
            "tags": []
          },
          "execution_count": 112
        }
      ]
    },
    {
      "cell_type": "code",
      "metadata": {
        "colab": {
          "base_uri": "https://localhost:8080/"
        },
        "id": "qUV30QKonKEp",
        "outputId": "c82855f6-09e8-4c0b-bd02-3a7ffe79a8e1"
      },
      "source": [
        "df.Visit_Date.nunique()"
      ],
      "execution_count": null,
      "outputs": [
        {
          "output_type": "execute_result",
          "data": {
            "text/plain": [
              "31"
            ]
          },
          "metadata": {
            "tags": []
          },
          "execution_count": 113
        }
      ]
    },
    {
      "cell_type": "code",
      "metadata": {
        "colab": {
          "base_uri": "https://localhost:8080/"
        },
        "id": "WFDCn-X9wceF",
        "outputId": "ac93348b-a2b7-4dd6-b3fa-eaf58b4e263f"
      },
      "source": [
        "df.Hours.nunique()"
      ],
      "execution_count": null,
      "outputs": [
        {
          "output_type": "execute_result",
          "data": {
            "text/plain": [
              "3"
            ]
          },
          "metadata": {
            "tags": []
          },
          "execution_count": 114
        }
      ]
    },
    {
      "cell_type": "code",
      "metadata": {
        "colab": {
          "base_uri": "https://localhost:8080/"
        },
        "id": "jL-EewkK3UO9",
        "outputId": "ee40b8b0-cdfc-4e2b-bd8a-62a05ae38bb2"
      },
      "source": [
        "df.Minutes.nunique()"
      ],
      "execution_count": null,
      "outputs": [
        {
          "output_type": "execute_result",
          "data": {
            "text/plain": [
              "16"
            ]
          },
          "metadata": {
            "tags": []
          },
          "execution_count": 115
        }
      ]
    },
    {
      "cell_type": "code",
      "metadata": {
        "colab": {
          "base_uri": "https://localhost:8080/"
        },
        "id": "uqJlqwNz3SkH",
        "outputId": "ee40c122-6c3a-48b9-ed60-0a2dd79d52aa"
      },
      "source": [
        "df.Seconds.nunique()"
      ],
      "execution_count": null,
      "outputs": [
        {
          "output_type": "execute_result",
          "data": {
            "text/plain": [
              "60"
            ]
          },
          "metadata": {
            "tags": []
          },
          "execution_count": 116
        }
      ]
    },
    {
      "cell_type": "markdown",
      "metadata": {
        "id": "NaqPmxSwTfU5"
      },
      "source": [
        "**Handling geoNetwork_networkDomain by Binary Encoding**\n",
        "\n",
        "\n"
      ]
    },
    {
      "cell_type": "code",
      "metadata": {
        "id": "Rww8IjYia_O8"
      },
      "source": [
        "# print('Feature device_operatingSystem has ',df.device_operatingSystem.nunique(),' Unique Values')\n",
        "# print('Feature geoNetwork_subContinent has ',df.geoNetwork_subContinent.nunique(),' Unique Values')\n",
        "# print('Feature device_isMobile has ',df.device_isMobile.nunique(),' Unique Values')"
      ],
      "execution_count": null,
      "outputs": []
    },
    {
      "cell_type": "code",
      "metadata": {
        "id": "T6h8YaP067P4"
      },
      "source": [
        "# pip install --upgrade category_encoders"
      ],
      "execution_count": null,
      "outputs": []
    },
    {
      "cell_type": "code",
      "metadata": {
        "id": "xlDWcp_23ZPs"
      },
      "source": [
        "# import category_encoders as ce"
      ],
      "execution_count": null,
      "outputs": []
    },
    {
      "cell_type": "code",
      "metadata": {
        "id": "877LPLa_6xKx"
      },
      "source": [
        "# encoder= ce.BinaryEncoder(cols=['geoNetwork_networkDomain'])"
      ],
      "execution_count": null,
      "outputs": []
    },
    {
      "cell_type": "code",
      "metadata": {
        "id": "MIG-e7R-7VW8"
      },
      "source": [
        "# df=encoder.fit_transform(df) \n",
        "# df"
      ],
      "execution_count": null,
      "outputs": []
    },
    {
      "cell_type": "code",
      "metadata": {
        "id": "UfzQR4r27akj"
      },
      "source": [
        "#df.geoNetwork_networkDomain.value_counts()"
      ],
      "execution_count": null,
      "outputs": []
    },
    {
      "cell_type": "code",
      "metadata": {
        "id": "-ew5MDqh7zFX"
      },
      "source": [
        "df_fullVisitorId=df.fullVisitorId"
      ],
      "execution_count": null,
      "outputs": []
    },
    {
      "cell_type": "code",
      "metadata": {
        "id": "9-V7tuDs-uef"
      },
      "source": [
        "df=df.drop('fullVisitorId',1)"
      ],
      "execution_count": null,
      "outputs": []
    },
    {
      "cell_type": "code",
      "metadata": {
        "colab": {
          "base_uri": "https://localhost:8080/",
          "height": 426
        },
        "id": "0yCb3uFA-vbv",
        "outputId": "1586ff95-944c-4ecf-c39e-2772b407bb49"
      },
      "source": [
        "df"
      ],
      "execution_count": null,
      "outputs": [
        {
          "output_type": "execute_result",
          "data": {
            "text/html": [
              "<div>\n",
              "<style scoped>\n",
              "    .dataframe tbody tr th:only-of-type {\n",
              "        vertical-align: middle;\n",
              "    }\n",
              "\n",
              "    .dataframe tbody tr th {\n",
              "        vertical-align: top;\n",
              "    }\n",
              "\n",
              "    .dataframe thead th {\n",
              "        text-align: right;\n",
              "    }\n",
              "</style>\n",
              "<table border=\"1\" class=\"dataframe\">\n",
              "  <thead>\n",
              "    <tr style=\"text-align: right;\">\n",
              "      <th></th>\n",
              "      <th>visitNumber</th>\n",
              "      <th>device_browser</th>\n",
              "      <th>device_operatingSystem</th>\n",
              "      <th>device_isMobile</th>\n",
              "      <th>geoNetwork_subContinent</th>\n",
              "      <th>geoNetwork_country</th>\n",
              "      <th>geoNetwork_networkDomain</th>\n",
              "      <th>totals_hits</th>\n",
              "      <th>totals_pageviews</th>\n",
              "      <th>totals_transactionRevenue</th>\n",
              "      <th>trafficSource_source</th>\n",
              "      <th>Visit_Year</th>\n",
              "      <th>Visit_Month</th>\n",
              "      <th>Visit_Date</th>\n",
              "      <th>Hours</th>\n",
              "      <th>Minutes</th>\n",
              "      <th>Seconds</th>\n",
              "    </tr>\n",
              "  </thead>\n",
              "  <tbody>\n",
              "    <tr>\n",
              "      <th>0</th>\n",
              "      <td>1</td>\n",
              "      <td>10353</td>\n",
              "      <td>Windows</td>\n",
              "      <td>False</td>\n",
              "      <td>Asia</td>\n",
              "      <td>2</td>\n",
              "      <td>1</td>\n",
              "      <td>1</td>\n",
              "      <td>1</td>\n",
              "      <td>0</td>\n",
              "      <td>3879</td>\n",
              "      <td>2016</td>\n",
              "      <td>9</td>\n",
              "      <td>2</td>\n",
              "      <td>8</td>\n",
              "      <td>15</td>\n",
              "      <td>2</td>\n",
              "    </tr>\n",
              "    <tr>\n",
              "      <th>1</th>\n",
              "      <td>1</td>\n",
              "      <td>191</td>\n",
              "      <td>Macintosh</td>\n",
              "      <td>False</td>\n",
              "      <td>Australia</td>\n",
              "      <td>13</td>\n",
              "      <td>1</td>\n",
              "      <td>1</td>\n",
              "      <td>1</td>\n",
              "      <td>0</td>\n",
              "      <td>3879</td>\n",
              "      <td>2016</td>\n",
              "      <td>9</td>\n",
              "      <td>3</td>\n",
              "      <td>8</td>\n",
              "      <td>15</td>\n",
              "      <td>2</td>\n",
              "    </tr>\n",
              "    <tr>\n",
              "      <th>2</th>\n",
              "      <td>1</td>\n",
              "      <td>10353</td>\n",
              "      <td>Windows</td>\n",
              "      <td>False</td>\n",
              "      <td>Europe</td>\n",
              "      <td>2</td>\n",
              "      <td>7045</td>\n",
              "      <td>1</td>\n",
              "      <td>1</td>\n",
              "      <td>0</td>\n",
              "      <td>3879</td>\n",
              "      <td>2016</td>\n",
              "      <td>9</td>\n",
              "      <td>3</td>\n",
              "      <td>8</td>\n",
              "      <td>15</td>\n",
              "      <td>2</td>\n",
              "    </tr>\n",
              "    <tr>\n",
              "      <th>3</th>\n",
              "      <td>1</td>\n",
              "      <td>0</td>\n",
              "      <td>Linux</td>\n",
              "      <td>False</td>\n",
              "      <td>Asia</td>\n",
              "      <td>11</td>\n",
              "      <td>7045</td>\n",
              "      <td>1</td>\n",
              "      <td>1</td>\n",
              "      <td>0</td>\n",
              "      <td>3879</td>\n",
              "      <td>2016</td>\n",
              "      <td>9</td>\n",
              "      <td>3</td>\n",
              "      <td>8</td>\n",
              "      <td>15</td>\n",
              "      <td>2</td>\n",
              "    </tr>\n",
              "    <tr>\n",
              "      <th>4</th>\n",
              "      <td>2</td>\n",
              "      <td>10353</td>\n",
              "      <td>Android</td>\n",
              "      <td>True</td>\n",
              "      <td>Europe</td>\n",
              "      <td>16</td>\n",
              "      <td>7045</td>\n",
              "      <td>1</td>\n",
              "      <td>1</td>\n",
              "      <td>0</td>\n",
              "      <td>3879</td>\n",
              "      <td>2016</td>\n",
              "      <td>9</td>\n",
              "      <td>2</td>\n",
              "      <td>8</td>\n",
              "      <td>15</td>\n",
              "      <td>2</td>\n",
              "    </tr>\n",
              "    <tr>\n",
              "      <th>...</th>\n",
              "      <td>...</td>\n",
              "      <td>...</td>\n",
              "      <td>...</td>\n",
              "      <td>...</td>\n",
              "      <td>...</td>\n",
              "      <td>...</td>\n",
              "      <td>...</td>\n",
              "      <td>...</td>\n",
              "      <td>...</td>\n",
              "      <td>...</td>\n",
              "      <td>...</td>\n",
              "      <td>...</td>\n",
              "      <td>...</td>\n",
              "      <td>...</td>\n",
              "      <td>...</td>\n",
              "      <td>...</td>\n",
              "      <td>...</td>\n",
              "    </tr>\n",
              "    <tr>\n",
              "      <th>903648</th>\n",
              "      <td>1</td>\n",
              "      <td>10353</td>\n",
              "      <td>Windows</td>\n",
              "      <td>False</td>\n",
              "      <td>South America</td>\n",
              "      <td>11</td>\n",
              "      <td>4</td>\n",
              "      <td>17</td>\n",
              "      <td>15</td>\n",
              "      <td>0</td>\n",
              "      <td>11</td>\n",
              "      <td>2017</td>\n",
              "      <td>1</td>\n",
              "      <td>4</td>\n",
              "      <td>10</td>\n",
              "      <td>48</td>\n",
              "      <td>24</td>\n",
              "    </tr>\n",
              "    <tr>\n",
              "      <th>903649</th>\n",
              "      <td>1</td>\n",
              "      <td>10353</td>\n",
              "      <td>Android</td>\n",
              "      <td>True</td>\n",
              "      <td>Asia</td>\n",
              "      <td>0</td>\n",
              "      <td>7045</td>\n",
              "      <td>18</td>\n",
              "      <td>13</td>\n",
              "      <td>0</td>\n",
              "      <td>11</td>\n",
              "      <td>2017</td>\n",
              "      <td>1</td>\n",
              "      <td>4</td>\n",
              "      <td>10</td>\n",
              "      <td>48</td>\n",
              "      <td>24</td>\n",
              "    </tr>\n",
              "    <tr>\n",
              "      <th>903650</th>\n",
              "      <td>1</td>\n",
              "      <td>6</td>\n",
              "      <td>Android</td>\n",
              "      <td>True</td>\n",
              "      <td>Asia</td>\n",
              "      <td>8</td>\n",
              "      <td>7045</td>\n",
              "      <td>24</td>\n",
              "      <td>21</td>\n",
              "      <td>0</td>\n",
              "      <td>11</td>\n",
              "      <td>2017</td>\n",
              "      <td>1</td>\n",
              "      <td>4</td>\n",
              "      <td>10</td>\n",
              "      <td>48</td>\n",
              "      <td>24</td>\n",
              "    </tr>\n",
              "    <tr>\n",
              "      <th>903651</th>\n",
              "      <td>1</td>\n",
              "      <td>10353</td>\n",
              "      <td>Windows</td>\n",
              "      <td>False</td>\n",
              "      <td>Asia</td>\n",
              "      <td>11</td>\n",
              "      <td>7045</td>\n",
              "      <td>24</td>\n",
              "      <td>22</td>\n",
              "      <td>0</td>\n",
              "      <td>20</td>\n",
              "      <td>2017</td>\n",
              "      <td>1</td>\n",
              "      <td>5</td>\n",
              "      <td>10</td>\n",
              "      <td>48</td>\n",
              "      <td>24</td>\n",
              "    </tr>\n",
              "    <tr>\n",
              "      <th>903652</th>\n",
              "      <td>1</td>\n",
              "      <td>10353</td>\n",
              "      <td>Android</td>\n",
              "      <td>True</td>\n",
              "      <td>Central America</td>\n",
              "      <td>20</td>\n",
              "      <td>0</td>\n",
              "      <td>31</td>\n",
              "      <td>31</td>\n",
              "      <td>0</td>\n",
              "      <td>11</td>\n",
              "      <td>2017</td>\n",
              "      <td>1</td>\n",
              "      <td>5</td>\n",
              "      <td>10</td>\n",
              "      <td>48</td>\n",
              "      <td>24</td>\n",
              "    </tr>\n",
              "  </tbody>\n",
              "</table>\n",
              "<p>902185 rows × 17 columns</p>\n",
              "</div>"
            ],
            "text/plain": [
              "        visitNumber  device_browser  ... Minutes  Seconds\n",
              "0                 1           10353  ...      15        2\n",
              "1                 1             191  ...      15        2\n",
              "2                 1           10353  ...      15        2\n",
              "3                 1               0  ...      15        2\n",
              "4                 2           10353  ...      15        2\n",
              "...             ...             ...  ...     ...      ...\n",
              "903648            1           10353  ...      48       24\n",
              "903649            1           10353  ...      48       24\n",
              "903650            1               6  ...      48       24\n",
              "903651            1           10353  ...      48       24\n",
              "903652            1           10353  ...      48       24\n",
              "\n",
              "[902185 rows x 17 columns]"
            ]
          },
          "metadata": {
            "tags": []
          },
          "execution_count": 125
        }
      ]
    },
    {
      "cell_type": "code",
      "metadata": {
        "colab": {
          "base_uri": "https://localhost:8080/",
          "height": 406
        },
        "id": "kBi-EnPF-5W9",
        "outputId": "4637fcb2-752c-411c-f3af-f0240b432d70"
      },
      "source": [
        "df.select_dtypes(include=np.object)"
      ],
      "execution_count": null,
      "outputs": [
        {
          "output_type": "execute_result",
          "data": {
            "text/html": [
              "<div>\n",
              "<style scoped>\n",
              "    .dataframe tbody tr th:only-of-type {\n",
              "        vertical-align: middle;\n",
              "    }\n",
              "\n",
              "    .dataframe tbody tr th {\n",
              "        vertical-align: top;\n",
              "    }\n",
              "\n",
              "    .dataframe thead th {\n",
              "        text-align: right;\n",
              "    }\n",
              "</style>\n",
              "<table border=\"1\" class=\"dataframe\">\n",
              "  <thead>\n",
              "    <tr style=\"text-align: right;\">\n",
              "      <th></th>\n",
              "      <th>device_operatingSystem</th>\n",
              "      <th>geoNetwork_subContinent</th>\n",
              "    </tr>\n",
              "  </thead>\n",
              "  <tbody>\n",
              "    <tr>\n",
              "      <th>0</th>\n",
              "      <td>Windows</td>\n",
              "      <td>Asia</td>\n",
              "    </tr>\n",
              "    <tr>\n",
              "      <th>1</th>\n",
              "      <td>Macintosh</td>\n",
              "      <td>Australia</td>\n",
              "    </tr>\n",
              "    <tr>\n",
              "      <th>2</th>\n",
              "      <td>Windows</td>\n",
              "      <td>Europe</td>\n",
              "    </tr>\n",
              "    <tr>\n",
              "      <th>3</th>\n",
              "      <td>Linux</td>\n",
              "      <td>Asia</td>\n",
              "    </tr>\n",
              "    <tr>\n",
              "      <th>4</th>\n",
              "      <td>Android</td>\n",
              "      <td>Europe</td>\n",
              "    </tr>\n",
              "    <tr>\n",
              "      <th>...</th>\n",
              "      <td>...</td>\n",
              "      <td>...</td>\n",
              "    </tr>\n",
              "    <tr>\n",
              "      <th>903648</th>\n",
              "      <td>Windows</td>\n",
              "      <td>South America</td>\n",
              "    </tr>\n",
              "    <tr>\n",
              "      <th>903649</th>\n",
              "      <td>Android</td>\n",
              "      <td>Asia</td>\n",
              "    </tr>\n",
              "    <tr>\n",
              "      <th>903650</th>\n",
              "      <td>Android</td>\n",
              "      <td>Asia</td>\n",
              "    </tr>\n",
              "    <tr>\n",
              "      <th>903651</th>\n",
              "      <td>Windows</td>\n",
              "      <td>Asia</td>\n",
              "    </tr>\n",
              "    <tr>\n",
              "      <th>903652</th>\n",
              "      <td>Android</td>\n",
              "      <td>Central America</td>\n",
              "    </tr>\n",
              "  </tbody>\n",
              "</table>\n",
              "<p>902185 rows × 2 columns</p>\n",
              "</div>"
            ],
            "text/plain": [
              "       device_operatingSystem geoNetwork_subContinent\n",
              "0                     Windows                    Asia\n",
              "1                   Macintosh               Australia\n",
              "2                     Windows                  Europe\n",
              "3                       Linux                    Asia\n",
              "4                     Android                  Europe\n",
              "...                       ...                     ...\n",
              "903648                Windows           South America\n",
              "903649                Android                    Asia\n",
              "903650                Android                    Asia\n",
              "903651                Windows                    Asia\n",
              "903652                Android         Central America\n",
              "\n",
              "[902185 rows x 2 columns]"
            ]
          },
          "metadata": {
            "tags": []
          },
          "execution_count": 126
        }
      ]
    },
    {
      "cell_type": "markdown",
      "metadata": {
        "id": "LfUha1d6T6Dn"
      },
      "source": [
        "**Doing OHE with the Remaining Categorical Columns**"
      ]
    },
    {
      "cell_type": "code",
      "metadata": {
        "colab": {
          "base_uri": "https://localhost:8080/"
        },
        "id": "uS-LcOdQ_Jab",
        "outputId": "572943f5-2c55-46c0-d88e-3c2c63917d49"
      },
      "source": [
        "# print(df.geoNetwork_networkDomain.nunique())\n",
        "print('Feature device_operatingSystem has ',df.device_operatingSystem.nunique(),' Unique Values')\n",
        "print('Feature geoNetwork_subContinent has ',df.geoNetwork_subContinent.nunique(),' Unique Values')\n",
        "print('Feature device_isMobile has ',df.device_isMobile.nunique(),' Unique Values')"
      ],
      "execution_count": null,
      "outputs": [
        {
          "output_type": "stream",
          "text": [
            "Feature device_operatingSystem has  20  Unique Values\n",
            "Feature geoNetwork_subContinent has  8  Unique Values\n",
            "Feature device_isMobile has  2  Unique Values\n"
          ],
          "name": "stdout"
        }
      ]
    },
    {
      "cell_type": "code",
      "metadata": {
        "id": "l42Lk0-r_Zl5"
      },
      "source": [
        "ohe_df=pd.get_dummies(df[['device_operatingSystem','geoNetwork_subContinent','device_isMobile']],drop_first=True)"
      ],
      "execution_count": null,
      "outputs": []
    },
    {
      "cell_type": "code",
      "metadata": {
        "colab": {
          "base_uri": "https://localhost:8080/",
          "height": 443
        },
        "id": "sV--oxAH_8iP",
        "outputId": "18491b28-b963-43e8-98b3-cd2918941943"
      },
      "source": [
        "ohe_df"
      ],
      "execution_count": null,
      "outputs": [
        {
          "output_type": "execute_result",
          "data": {
            "text/html": [
              "<div>\n",
              "<style scoped>\n",
              "    .dataframe tbody tr th:only-of-type {\n",
              "        vertical-align: middle;\n",
              "    }\n",
              "\n",
              "    .dataframe tbody tr th {\n",
              "        vertical-align: top;\n",
              "    }\n",
              "\n",
              "    .dataframe thead th {\n",
              "        text-align: right;\n",
              "    }\n",
              "</style>\n",
              "<table border=\"1\" class=\"dataframe\">\n",
              "  <thead>\n",
              "    <tr style=\"text-align: right;\">\n",
              "      <th></th>\n",
              "      <th>device_isMobile</th>\n",
              "      <th>device_operatingSystem_Android</th>\n",
              "      <th>device_operatingSystem_BlackBerry</th>\n",
              "      <th>device_operatingSystem_Chrome OS</th>\n",
              "      <th>device_operatingSystem_Firefox OS</th>\n",
              "      <th>device_operatingSystem_FreeBSD</th>\n",
              "      <th>device_operatingSystem_Linux</th>\n",
              "      <th>device_operatingSystem_Macintosh</th>\n",
              "      <th>device_operatingSystem_NTT DoCoMo</th>\n",
              "      <th>device_operatingSystem_Nintendo 3DS</th>\n",
              "      <th>device_operatingSystem_Nintendo Wii</th>\n",
              "      <th>device_operatingSystem_Nintendo WiiU</th>\n",
              "      <th>device_operatingSystem_Nokia</th>\n",
              "      <th>device_operatingSystem_OpenBSD</th>\n",
              "      <th>device_operatingSystem_Samsung</th>\n",
              "      <th>device_operatingSystem_SunOS</th>\n",
              "      <th>device_operatingSystem_Windows</th>\n",
              "      <th>device_operatingSystem_Windows Phone</th>\n",
              "      <th>device_operatingSystem_Xbox</th>\n",
              "      <th>device_operatingSystem_iOS</th>\n",
              "      <th>geoNetwork_subContinent_Asia</th>\n",
              "      <th>geoNetwork_subContinent_Australia</th>\n",
              "      <th>geoNetwork_subContinent_Central America</th>\n",
              "      <th>geoNetwork_subContinent_Europe</th>\n",
              "      <th>geoNetwork_subContinent_Northern America</th>\n",
              "      <th>geoNetwork_subContinent_Pacific</th>\n",
              "      <th>geoNetwork_subContinent_South America</th>\n",
              "    </tr>\n",
              "  </thead>\n",
              "  <tbody>\n",
              "    <tr>\n",
              "      <th>0</th>\n",
              "      <td>False</td>\n",
              "      <td>0</td>\n",
              "      <td>0</td>\n",
              "      <td>0</td>\n",
              "      <td>0</td>\n",
              "      <td>0</td>\n",
              "      <td>0</td>\n",
              "      <td>0</td>\n",
              "      <td>0</td>\n",
              "      <td>0</td>\n",
              "      <td>0</td>\n",
              "      <td>0</td>\n",
              "      <td>0</td>\n",
              "      <td>0</td>\n",
              "      <td>0</td>\n",
              "      <td>0</td>\n",
              "      <td>1</td>\n",
              "      <td>0</td>\n",
              "      <td>0</td>\n",
              "      <td>0</td>\n",
              "      <td>1</td>\n",
              "      <td>0</td>\n",
              "      <td>0</td>\n",
              "      <td>0</td>\n",
              "      <td>0</td>\n",
              "      <td>0</td>\n",
              "      <td>0</td>\n",
              "    </tr>\n",
              "    <tr>\n",
              "      <th>1</th>\n",
              "      <td>False</td>\n",
              "      <td>0</td>\n",
              "      <td>0</td>\n",
              "      <td>0</td>\n",
              "      <td>0</td>\n",
              "      <td>0</td>\n",
              "      <td>0</td>\n",
              "      <td>1</td>\n",
              "      <td>0</td>\n",
              "      <td>0</td>\n",
              "      <td>0</td>\n",
              "      <td>0</td>\n",
              "      <td>0</td>\n",
              "      <td>0</td>\n",
              "      <td>0</td>\n",
              "      <td>0</td>\n",
              "      <td>0</td>\n",
              "      <td>0</td>\n",
              "      <td>0</td>\n",
              "      <td>0</td>\n",
              "      <td>0</td>\n",
              "      <td>1</td>\n",
              "      <td>0</td>\n",
              "      <td>0</td>\n",
              "      <td>0</td>\n",
              "      <td>0</td>\n",
              "      <td>0</td>\n",
              "    </tr>\n",
              "    <tr>\n",
              "      <th>2</th>\n",
              "      <td>False</td>\n",
              "      <td>0</td>\n",
              "      <td>0</td>\n",
              "      <td>0</td>\n",
              "      <td>0</td>\n",
              "      <td>0</td>\n",
              "      <td>0</td>\n",
              "      <td>0</td>\n",
              "      <td>0</td>\n",
              "      <td>0</td>\n",
              "      <td>0</td>\n",
              "      <td>0</td>\n",
              "      <td>0</td>\n",
              "      <td>0</td>\n",
              "      <td>0</td>\n",
              "      <td>0</td>\n",
              "      <td>1</td>\n",
              "      <td>0</td>\n",
              "      <td>0</td>\n",
              "      <td>0</td>\n",
              "      <td>0</td>\n",
              "      <td>0</td>\n",
              "      <td>0</td>\n",
              "      <td>1</td>\n",
              "      <td>0</td>\n",
              "      <td>0</td>\n",
              "      <td>0</td>\n",
              "    </tr>\n",
              "    <tr>\n",
              "      <th>3</th>\n",
              "      <td>False</td>\n",
              "      <td>0</td>\n",
              "      <td>0</td>\n",
              "      <td>0</td>\n",
              "      <td>0</td>\n",
              "      <td>0</td>\n",
              "      <td>1</td>\n",
              "      <td>0</td>\n",
              "      <td>0</td>\n",
              "      <td>0</td>\n",
              "      <td>0</td>\n",
              "      <td>0</td>\n",
              "      <td>0</td>\n",
              "      <td>0</td>\n",
              "      <td>0</td>\n",
              "      <td>0</td>\n",
              "      <td>0</td>\n",
              "      <td>0</td>\n",
              "      <td>0</td>\n",
              "      <td>0</td>\n",
              "      <td>1</td>\n",
              "      <td>0</td>\n",
              "      <td>0</td>\n",
              "      <td>0</td>\n",
              "      <td>0</td>\n",
              "      <td>0</td>\n",
              "      <td>0</td>\n",
              "    </tr>\n",
              "    <tr>\n",
              "      <th>4</th>\n",
              "      <td>True</td>\n",
              "      <td>1</td>\n",
              "      <td>0</td>\n",
              "      <td>0</td>\n",
              "      <td>0</td>\n",
              "      <td>0</td>\n",
              "      <td>0</td>\n",
              "      <td>0</td>\n",
              "      <td>0</td>\n",
              "      <td>0</td>\n",
              "      <td>0</td>\n",
              "      <td>0</td>\n",
              "      <td>0</td>\n",
              "      <td>0</td>\n",
              "      <td>0</td>\n",
              "      <td>0</td>\n",
              "      <td>0</td>\n",
              "      <td>0</td>\n",
              "      <td>0</td>\n",
              "      <td>0</td>\n",
              "      <td>0</td>\n",
              "      <td>0</td>\n",
              "      <td>0</td>\n",
              "      <td>1</td>\n",
              "      <td>0</td>\n",
              "      <td>0</td>\n",
              "      <td>0</td>\n",
              "    </tr>\n",
              "    <tr>\n",
              "      <th>...</th>\n",
              "      <td>...</td>\n",
              "      <td>...</td>\n",
              "      <td>...</td>\n",
              "      <td>...</td>\n",
              "      <td>...</td>\n",
              "      <td>...</td>\n",
              "      <td>...</td>\n",
              "      <td>...</td>\n",
              "      <td>...</td>\n",
              "      <td>...</td>\n",
              "      <td>...</td>\n",
              "      <td>...</td>\n",
              "      <td>...</td>\n",
              "      <td>...</td>\n",
              "      <td>...</td>\n",
              "      <td>...</td>\n",
              "      <td>...</td>\n",
              "      <td>...</td>\n",
              "      <td>...</td>\n",
              "      <td>...</td>\n",
              "      <td>...</td>\n",
              "      <td>...</td>\n",
              "      <td>...</td>\n",
              "      <td>...</td>\n",
              "      <td>...</td>\n",
              "      <td>...</td>\n",
              "      <td>...</td>\n",
              "    </tr>\n",
              "    <tr>\n",
              "      <th>903648</th>\n",
              "      <td>False</td>\n",
              "      <td>0</td>\n",
              "      <td>0</td>\n",
              "      <td>0</td>\n",
              "      <td>0</td>\n",
              "      <td>0</td>\n",
              "      <td>0</td>\n",
              "      <td>0</td>\n",
              "      <td>0</td>\n",
              "      <td>0</td>\n",
              "      <td>0</td>\n",
              "      <td>0</td>\n",
              "      <td>0</td>\n",
              "      <td>0</td>\n",
              "      <td>0</td>\n",
              "      <td>0</td>\n",
              "      <td>1</td>\n",
              "      <td>0</td>\n",
              "      <td>0</td>\n",
              "      <td>0</td>\n",
              "      <td>0</td>\n",
              "      <td>0</td>\n",
              "      <td>0</td>\n",
              "      <td>0</td>\n",
              "      <td>0</td>\n",
              "      <td>0</td>\n",
              "      <td>1</td>\n",
              "    </tr>\n",
              "    <tr>\n",
              "      <th>903649</th>\n",
              "      <td>True</td>\n",
              "      <td>1</td>\n",
              "      <td>0</td>\n",
              "      <td>0</td>\n",
              "      <td>0</td>\n",
              "      <td>0</td>\n",
              "      <td>0</td>\n",
              "      <td>0</td>\n",
              "      <td>0</td>\n",
              "      <td>0</td>\n",
              "      <td>0</td>\n",
              "      <td>0</td>\n",
              "      <td>0</td>\n",
              "      <td>0</td>\n",
              "      <td>0</td>\n",
              "      <td>0</td>\n",
              "      <td>0</td>\n",
              "      <td>0</td>\n",
              "      <td>0</td>\n",
              "      <td>0</td>\n",
              "      <td>1</td>\n",
              "      <td>0</td>\n",
              "      <td>0</td>\n",
              "      <td>0</td>\n",
              "      <td>0</td>\n",
              "      <td>0</td>\n",
              "      <td>0</td>\n",
              "    </tr>\n",
              "    <tr>\n",
              "      <th>903650</th>\n",
              "      <td>True</td>\n",
              "      <td>1</td>\n",
              "      <td>0</td>\n",
              "      <td>0</td>\n",
              "      <td>0</td>\n",
              "      <td>0</td>\n",
              "      <td>0</td>\n",
              "      <td>0</td>\n",
              "      <td>0</td>\n",
              "      <td>0</td>\n",
              "      <td>0</td>\n",
              "      <td>0</td>\n",
              "      <td>0</td>\n",
              "      <td>0</td>\n",
              "      <td>0</td>\n",
              "      <td>0</td>\n",
              "      <td>0</td>\n",
              "      <td>0</td>\n",
              "      <td>0</td>\n",
              "      <td>0</td>\n",
              "      <td>1</td>\n",
              "      <td>0</td>\n",
              "      <td>0</td>\n",
              "      <td>0</td>\n",
              "      <td>0</td>\n",
              "      <td>0</td>\n",
              "      <td>0</td>\n",
              "    </tr>\n",
              "    <tr>\n",
              "      <th>903651</th>\n",
              "      <td>False</td>\n",
              "      <td>0</td>\n",
              "      <td>0</td>\n",
              "      <td>0</td>\n",
              "      <td>0</td>\n",
              "      <td>0</td>\n",
              "      <td>0</td>\n",
              "      <td>0</td>\n",
              "      <td>0</td>\n",
              "      <td>0</td>\n",
              "      <td>0</td>\n",
              "      <td>0</td>\n",
              "      <td>0</td>\n",
              "      <td>0</td>\n",
              "      <td>0</td>\n",
              "      <td>0</td>\n",
              "      <td>1</td>\n",
              "      <td>0</td>\n",
              "      <td>0</td>\n",
              "      <td>0</td>\n",
              "      <td>1</td>\n",
              "      <td>0</td>\n",
              "      <td>0</td>\n",
              "      <td>0</td>\n",
              "      <td>0</td>\n",
              "      <td>0</td>\n",
              "      <td>0</td>\n",
              "    </tr>\n",
              "    <tr>\n",
              "      <th>903652</th>\n",
              "      <td>True</td>\n",
              "      <td>1</td>\n",
              "      <td>0</td>\n",
              "      <td>0</td>\n",
              "      <td>0</td>\n",
              "      <td>0</td>\n",
              "      <td>0</td>\n",
              "      <td>0</td>\n",
              "      <td>0</td>\n",
              "      <td>0</td>\n",
              "      <td>0</td>\n",
              "      <td>0</td>\n",
              "      <td>0</td>\n",
              "      <td>0</td>\n",
              "      <td>0</td>\n",
              "      <td>0</td>\n",
              "      <td>0</td>\n",
              "      <td>0</td>\n",
              "      <td>0</td>\n",
              "      <td>0</td>\n",
              "      <td>0</td>\n",
              "      <td>0</td>\n",
              "      <td>1</td>\n",
              "      <td>0</td>\n",
              "      <td>0</td>\n",
              "      <td>0</td>\n",
              "      <td>0</td>\n",
              "    </tr>\n",
              "  </tbody>\n",
              "</table>\n",
              "<p>902185 rows × 27 columns</p>\n",
              "</div>"
            ],
            "text/plain": [
              "        device_isMobile  ...  geoNetwork_subContinent_South America\n",
              "0                 False  ...                                      0\n",
              "1                 False  ...                                      0\n",
              "2                 False  ...                                      0\n",
              "3                 False  ...                                      0\n",
              "4                  True  ...                                      0\n",
              "...                 ...  ...                                    ...\n",
              "903648            False  ...                                      1\n",
              "903649             True  ...                                      0\n",
              "903650             True  ...                                      0\n",
              "903651            False  ...                                      0\n",
              "903652             True  ...                                      0\n",
              "\n",
              "[902185 rows x 27 columns]"
            ]
          },
          "metadata": {
            "tags": []
          },
          "execution_count": 129
        }
      ]
    },
    {
      "cell_type": "code",
      "metadata": {
        "id": "915eHDohAFUE"
      },
      "source": [
        "df=pd.concat([df,ohe_df],1)"
      ],
      "execution_count": null,
      "outputs": []
    },
    {
      "cell_type": "code",
      "metadata": {
        "colab": {
          "base_uri": "https://localhost:8080/",
          "height": 443
        },
        "id": "s4wEQ5tFCCtA",
        "outputId": "cf8d6f25-1b75-4217-a681-c78965bc0ccb"
      },
      "source": [
        "df"
      ],
      "execution_count": null,
      "outputs": [
        {
          "output_type": "execute_result",
          "data": {
            "text/html": [
              "<div>\n",
              "<style scoped>\n",
              "    .dataframe tbody tr th:only-of-type {\n",
              "        vertical-align: middle;\n",
              "    }\n",
              "\n",
              "    .dataframe tbody tr th {\n",
              "        vertical-align: top;\n",
              "    }\n",
              "\n",
              "    .dataframe thead th {\n",
              "        text-align: right;\n",
              "    }\n",
              "</style>\n",
              "<table border=\"1\" class=\"dataframe\">\n",
              "  <thead>\n",
              "    <tr style=\"text-align: right;\">\n",
              "      <th></th>\n",
              "      <th>visitNumber</th>\n",
              "      <th>device_browser</th>\n",
              "      <th>device_operatingSystem</th>\n",
              "      <th>device_isMobile</th>\n",
              "      <th>geoNetwork_subContinent</th>\n",
              "      <th>geoNetwork_country</th>\n",
              "      <th>geoNetwork_networkDomain</th>\n",
              "      <th>totals_hits</th>\n",
              "      <th>totals_pageviews</th>\n",
              "      <th>totals_transactionRevenue</th>\n",
              "      <th>trafficSource_source</th>\n",
              "      <th>Visit_Year</th>\n",
              "      <th>Visit_Month</th>\n",
              "      <th>Visit_Date</th>\n",
              "      <th>Hours</th>\n",
              "      <th>Minutes</th>\n",
              "      <th>Seconds</th>\n",
              "      <th>device_isMobile</th>\n",
              "      <th>device_operatingSystem_Android</th>\n",
              "      <th>device_operatingSystem_BlackBerry</th>\n",
              "      <th>device_operatingSystem_Chrome OS</th>\n",
              "      <th>device_operatingSystem_Firefox OS</th>\n",
              "      <th>device_operatingSystem_FreeBSD</th>\n",
              "      <th>device_operatingSystem_Linux</th>\n",
              "      <th>device_operatingSystem_Macintosh</th>\n",
              "      <th>device_operatingSystem_NTT DoCoMo</th>\n",
              "      <th>device_operatingSystem_Nintendo 3DS</th>\n",
              "      <th>device_operatingSystem_Nintendo Wii</th>\n",
              "      <th>device_operatingSystem_Nintendo WiiU</th>\n",
              "      <th>device_operatingSystem_Nokia</th>\n",
              "      <th>device_operatingSystem_OpenBSD</th>\n",
              "      <th>device_operatingSystem_Samsung</th>\n",
              "      <th>device_operatingSystem_SunOS</th>\n",
              "      <th>device_operatingSystem_Windows</th>\n",
              "      <th>device_operatingSystem_Windows Phone</th>\n",
              "      <th>device_operatingSystem_Xbox</th>\n",
              "      <th>device_operatingSystem_iOS</th>\n",
              "      <th>geoNetwork_subContinent_Asia</th>\n",
              "      <th>geoNetwork_subContinent_Australia</th>\n",
              "      <th>geoNetwork_subContinent_Central America</th>\n",
              "      <th>geoNetwork_subContinent_Europe</th>\n",
              "      <th>geoNetwork_subContinent_Northern America</th>\n",
              "      <th>geoNetwork_subContinent_Pacific</th>\n",
              "      <th>geoNetwork_subContinent_South America</th>\n",
              "    </tr>\n",
              "  </thead>\n",
              "  <tbody>\n",
              "    <tr>\n",
              "      <th>0</th>\n",
              "      <td>1</td>\n",
              "      <td>10353</td>\n",
              "      <td>Windows</td>\n",
              "      <td>False</td>\n",
              "      <td>Asia</td>\n",
              "      <td>2</td>\n",
              "      <td>1</td>\n",
              "      <td>1</td>\n",
              "      <td>1</td>\n",
              "      <td>0</td>\n",
              "      <td>3879</td>\n",
              "      <td>2016</td>\n",
              "      <td>9</td>\n",
              "      <td>2</td>\n",
              "      <td>8</td>\n",
              "      <td>15</td>\n",
              "      <td>2</td>\n",
              "      <td>False</td>\n",
              "      <td>0</td>\n",
              "      <td>0</td>\n",
              "      <td>0</td>\n",
              "      <td>0</td>\n",
              "      <td>0</td>\n",
              "      <td>0</td>\n",
              "      <td>0</td>\n",
              "      <td>0</td>\n",
              "      <td>0</td>\n",
              "      <td>0</td>\n",
              "      <td>0</td>\n",
              "      <td>0</td>\n",
              "      <td>0</td>\n",
              "      <td>0</td>\n",
              "      <td>0</td>\n",
              "      <td>1</td>\n",
              "      <td>0</td>\n",
              "      <td>0</td>\n",
              "      <td>0</td>\n",
              "      <td>1</td>\n",
              "      <td>0</td>\n",
              "      <td>0</td>\n",
              "      <td>0</td>\n",
              "      <td>0</td>\n",
              "      <td>0</td>\n",
              "      <td>0</td>\n",
              "    </tr>\n",
              "    <tr>\n",
              "      <th>1</th>\n",
              "      <td>1</td>\n",
              "      <td>191</td>\n",
              "      <td>Macintosh</td>\n",
              "      <td>False</td>\n",
              "      <td>Australia</td>\n",
              "      <td>13</td>\n",
              "      <td>1</td>\n",
              "      <td>1</td>\n",
              "      <td>1</td>\n",
              "      <td>0</td>\n",
              "      <td>3879</td>\n",
              "      <td>2016</td>\n",
              "      <td>9</td>\n",
              "      <td>3</td>\n",
              "      <td>8</td>\n",
              "      <td>15</td>\n",
              "      <td>2</td>\n",
              "      <td>False</td>\n",
              "      <td>0</td>\n",
              "      <td>0</td>\n",
              "      <td>0</td>\n",
              "      <td>0</td>\n",
              "      <td>0</td>\n",
              "      <td>0</td>\n",
              "      <td>1</td>\n",
              "      <td>0</td>\n",
              "      <td>0</td>\n",
              "      <td>0</td>\n",
              "      <td>0</td>\n",
              "      <td>0</td>\n",
              "      <td>0</td>\n",
              "      <td>0</td>\n",
              "      <td>0</td>\n",
              "      <td>0</td>\n",
              "      <td>0</td>\n",
              "      <td>0</td>\n",
              "      <td>0</td>\n",
              "      <td>0</td>\n",
              "      <td>1</td>\n",
              "      <td>0</td>\n",
              "      <td>0</td>\n",
              "      <td>0</td>\n",
              "      <td>0</td>\n",
              "      <td>0</td>\n",
              "    </tr>\n",
              "    <tr>\n",
              "      <th>2</th>\n",
              "      <td>1</td>\n",
              "      <td>10353</td>\n",
              "      <td>Windows</td>\n",
              "      <td>False</td>\n",
              "      <td>Europe</td>\n",
              "      <td>2</td>\n",
              "      <td>7045</td>\n",
              "      <td>1</td>\n",
              "      <td>1</td>\n",
              "      <td>0</td>\n",
              "      <td>3879</td>\n",
              "      <td>2016</td>\n",
              "      <td>9</td>\n",
              "      <td>3</td>\n",
              "      <td>8</td>\n",
              "      <td>15</td>\n",
              "      <td>2</td>\n",
              "      <td>False</td>\n",
              "      <td>0</td>\n",
              "      <td>0</td>\n",
              "      <td>0</td>\n",
              "      <td>0</td>\n",
              "      <td>0</td>\n",
              "      <td>0</td>\n",
              "      <td>0</td>\n",
              "      <td>0</td>\n",
              "      <td>0</td>\n",
              "      <td>0</td>\n",
              "      <td>0</td>\n",
              "      <td>0</td>\n",
              "      <td>0</td>\n",
              "      <td>0</td>\n",
              "      <td>0</td>\n",
              "      <td>1</td>\n",
              "      <td>0</td>\n",
              "      <td>0</td>\n",
              "      <td>0</td>\n",
              "      <td>0</td>\n",
              "      <td>0</td>\n",
              "      <td>0</td>\n",
              "      <td>1</td>\n",
              "      <td>0</td>\n",
              "      <td>0</td>\n",
              "      <td>0</td>\n",
              "    </tr>\n",
              "    <tr>\n",
              "      <th>3</th>\n",
              "      <td>1</td>\n",
              "      <td>0</td>\n",
              "      <td>Linux</td>\n",
              "      <td>False</td>\n",
              "      <td>Asia</td>\n",
              "      <td>11</td>\n",
              "      <td>7045</td>\n",
              "      <td>1</td>\n",
              "      <td>1</td>\n",
              "      <td>0</td>\n",
              "      <td>3879</td>\n",
              "      <td>2016</td>\n",
              "      <td>9</td>\n",
              "      <td>3</td>\n",
              "      <td>8</td>\n",
              "      <td>15</td>\n",
              "      <td>2</td>\n",
              "      <td>False</td>\n",
              "      <td>0</td>\n",
              "      <td>0</td>\n",
              "      <td>0</td>\n",
              "      <td>0</td>\n",
              "      <td>0</td>\n",
              "      <td>1</td>\n",
              "      <td>0</td>\n",
              "      <td>0</td>\n",
              "      <td>0</td>\n",
              "      <td>0</td>\n",
              "      <td>0</td>\n",
              "      <td>0</td>\n",
              "      <td>0</td>\n",
              "      <td>0</td>\n",
              "      <td>0</td>\n",
              "      <td>0</td>\n",
              "      <td>0</td>\n",
              "      <td>0</td>\n",
              "      <td>0</td>\n",
              "      <td>1</td>\n",
              "      <td>0</td>\n",
              "      <td>0</td>\n",
              "      <td>0</td>\n",
              "      <td>0</td>\n",
              "      <td>0</td>\n",
              "      <td>0</td>\n",
              "    </tr>\n",
              "    <tr>\n",
              "      <th>4</th>\n",
              "      <td>2</td>\n",
              "      <td>10353</td>\n",
              "      <td>Android</td>\n",
              "      <td>True</td>\n",
              "      <td>Europe</td>\n",
              "      <td>16</td>\n",
              "      <td>7045</td>\n",
              "      <td>1</td>\n",
              "      <td>1</td>\n",
              "      <td>0</td>\n",
              "      <td>3879</td>\n",
              "      <td>2016</td>\n",
              "      <td>9</td>\n",
              "      <td>2</td>\n",
              "      <td>8</td>\n",
              "      <td>15</td>\n",
              "      <td>2</td>\n",
              "      <td>True</td>\n",
              "      <td>1</td>\n",
              "      <td>0</td>\n",
              "      <td>0</td>\n",
              "      <td>0</td>\n",
              "      <td>0</td>\n",
              "      <td>0</td>\n",
              "      <td>0</td>\n",
              "      <td>0</td>\n",
              "      <td>0</td>\n",
              "      <td>0</td>\n",
              "      <td>0</td>\n",
              "      <td>0</td>\n",
              "      <td>0</td>\n",
              "      <td>0</td>\n",
              "      <td>0</td>\n",
              "      <td>0</td>\n",
              "      <td>0</td>\n",
              "      <td>0</td>\n",
              "      <td>0</td>\n",
              "      <td>0</td>\n",
              "      <td>0</td>\n",
              "      <td>0</td>\n",
              "      <td>1</td>\n",
              "      <td>0</td>\n",
              "      <td>0</td>\n",
              "      <td>0</td>\n",
              "    </tr>\n",
              "    <tr>\n",
              "      <th>...</th>\n",
              "      <td>...</td>\n",
              "      <td>...</td>\n",
              "      <td>...</td>\n",
              "      <td>...</td>\n",
              "      <td>...</td>\n",
              "      <td>...</td>\n",
              "      <td>...</td>\n",
              "      <td>...</td>\n",
              "      <td>...</td>\n",
              "      <td>...</td>\n",
              "      <td>...</td>\n",
              "      <td>...</td>\n",
              "      <td>...</td>\n",
              "      <td>...</td>\n",
              "      <td>...</td>\n",
              "      <td>...</td>\n",
              "      <td>...</td>\n",
              "      <td>...</td>\n",
              "      <td>...</td>\n",
              "      <td>...</td>\n",
              "      <td>...</td>\n",
              "      <td>...</td>\n",
              "      <td>...</td>\n",
              "      <td>...</td>\n",
              "      <td>...</td>\n",
              "      <td>...</td>\n",
              "      <td>...</td>\n",
              "      <td>...</td>\n",
              "      <td>...</td>\n",
              "      <td>...</td>\n",
              "      <td>...</td>\n",
              "      <td>...</td>\n",
              "      <td>...</td>\n",
              "      <td>...</td>\n",
              "      <td>...</td>\n",
              "      <td>...</td>\n",
              "      <td>...</td>\n",
              "      <td>...</td>\n",
              "      <td>...</td>\n",
              "      <td>...</td>\n",
              "      <td>...</td>\n",
              "      <td>...</td>\n",
              "      <td>...</td>\n",
              "      <td>...</td>\n",
              "    </tr>\n",
              "    <tr>\n",
              "      <th>903648</th>\n",
              "      <td>1</td>\n",
              "      <td>10353</td>\n",
              "      <td>Windows</td>\n",
              "      <td>False</td>\n",
              "      <td>South America</td>\n",
              "      <td>11</td>\n",
              "      <td>4</td>\n",
              "      <td>17</td>\n",
              "      <td>15</td>\n",
              "      <td>0</td>\n",
              "      <td>11</td>\n",
              "      <td>2017</td>\n",
              "      <td>1</td>\n",
              "      <td>4</td>\n",
              "      <td>10</td>\n",
              "      <td>48</td>\n",
              "      <td>24</td>\n",
              "      <td>False</td>\n",
              "      <td>0</td>\n",
              "      <td>0</td>\n",
              "      <td>0</td>\n",
              "      <td>0</td>\n",
              "      <td>0</td>\n",
              "      <td>0</td>\n",
              "      <td>0</td>\n",
              "      <td>0</td>\n",
              "      <td>0</td>\n",
              "      <td>0</td>\n",
              "      <td>0</td>\n",
              "      <td>0</td>\n",
              "      <td>0</td>\n",
              "      <td>0</td>\n",
              "      <td>0</td>\n",
              "      <td>1</td>\n",
              "      <td>0</td>\n",
              "      <td>0</td>\n",
              "      <td>0</td>\n",
              "      <td>0</td>\n",
              "      <td>0</td>\n",
              "      <td>0</td>\n",
              "      <td>0</td>\n",
              "      <td>0</td>\n",
              "      <td>0</td>\n",
              "      <td>1</td>\n",
              "    </tr>\n",
              "    <tr>\n",
              "      <th>903649</th>\n",
              "      <td>1</td>\n",
              "      <td>10353</td>\n",
              "      <td>Android</td>\n",
              "      <td>True</td>\n",
              "      <td>Asia</td>\n",
              "      <td>0</td>\n",
              "      <td>7045</td>\n",
              "      <td>18</td>\n",
              "      <td>13</td>\n",
              "      <td>0</td>\n",
              "      <td>11</td>\n",
              "      <td>2017</td>\n",
              "      <td>1</td>\n",
              "      <td>4</td>\n",
              "      <td>10</td>\n",
              "      <td>48</td>\n",
              "      <td>24</td>\n",
              "      <td>True</td>\n",
              "      <td>1</td>\n",
              "      <td>0</td>\n",
              "      <td>0</td>\n",
              "      <td>0</td>\n",
              "      <td>0</td>\n",
              "      <td>0</td>\n",
              "      <td>0</td>\n",
              "      <td>0</td>\n",
              "      <td>0</td>\n",
              "      <td>0</td>\n",
              "      <td>0</td>\n",
              "      <td>0</td>\n",
              "      <td>0</td>\n",
              "      <td>0</td>\n",
              "      <td>0</td>\n",
              "      <td>0</td>\n",
              "      <td>0</td>\n",
              "      <td>0</td>\n",
              "      <td>0</td>\n",
              "      <td>1</td>\n",
              "      <td>0</td>\n",
              "      <td>0</td>\n",
              "      <td>0</td>\n",
              "      <td>0</td>\n",
              "      <td>0</td>\n",
              "      <td>0</td>\n",
              "    </tr>\n",
              "    <tr>\n",
              "      <th>903650</th>\n",
              "      <td>1</td>\n",
              "      <td>6</td>\n",
              "      <td>Android</td>\n",
              "      <td>True</td>\n",
              "      <td>Asia</td>\n",
              "      <td>8</td>\n",
              "      <td>7045</td>\n",
              "      <td>24</td>\n",
              "      <td>21</td>\n",
              "      <td>0</td>\n",
              "      <td>11</td>\n",
              "      <td>2017</td>\n",
              "      <td>1</td>\n",
              "      <td>4</td>\n",
              "      <td>10</td>\n",
              "      <td>48</td>\n",
              "      <td>24</td>\n",
              "      <td>True</td>\n",
              "      <td>1</td>\n",
              "      <td>0</td>\n",
              "      <td>0</td>\n",
              "      <td>0</td>\n",
              "      <td>0</td>\n",
              "      <td>0</td>\n",
              "      <td>0</td>\n",
              "      <td>0</td>\n",
              "      <td>0</td>\n",
              "      <td>0</td>\n",
              "      <td>0</td>\n",
              "      <td>0</td>\n",
              "      <td>0</td>\n",
              "      <td>0</td>\n",
              "      <td>0</td>\n",
              "      <td>0</td>\n",
              "      <td>0</td>\n",
              "      <td>0</td>\n",
              "      <td>0</td>\n",
              "      <td>1</td>\n",
              "      <td>0</td>\n",
              "      <td>0</td>\n",
              "      <td>0</td>\n",
              "      <td>0</td>\n",
              "      <td>0</td>\n",
              "      <td>0</td>\n",
              "    </tr>\n",
              "    <tr>\n",
              "      <th>903651</th>\n",
              "      <td>1</td>\n",
              "      <td>10353</td>\n",
              "      <td>Windows</td>\n",
              "      <td>False</td>\n",
              "      <td>Asia</td>\n",
              "      <td>11</td>\n",
              "      <td>7045</td>\n",
              "      <td>24</td>\n",
              "      <td>22</td>\n",
              "      <td>0</td>\n",
              "      <td>20</td>\n",
              "      <td>2017</td>\n",
              "      <td>1</td>\n",
              "      <td>5</td>\n",
              "      <td>10</td>\n",
              "      <td>48</td>\n",
              "      <td>24</td>\n",
              "      <td>False</td>\n",
              "      <td>0</td>\n",
              "      <td>0</td>\n",
              "      <td>0</td>\n",
              "      <td>0</td>\n",
              "      <td>0</td>\n",
              "      <td>0</td>\n",
              "      <td>0</td>\n",
              "      <td>0</td>\n",
              "      <td>0</td>\n",
              "      <td>0</td>\n",
              "      <td>0</td>\n",
              "      <td>0</td>\n",
              "      <td>0</td>\n",
              "      <td>0</td>\n",
              "      <td>0</td>\n",
              "      <td>1</td>\n",
              "      <td>0</td>\n",
              "      <td>0</td>\n",
              "      <td>0</td>\n",
              "      <td>1</td>\n",
              "      <td>0</td>\n",
              "      <td>0</td>\n",
              "      <td>0</td>\n",
              "      <td>0</td>\n",
              "      <td>0</td>\n",
              "      <td>0</td>\n",
              "    </tr>\n",
              "    <tr>\n",
              "      <th>903652</th>\n",
              "      <td>1</td>\n",
              "      <td>10353</td>\n",
              "      <td>Android</td>\n",
              "      <td>True</td>\n",
              "      <td>Central America</td>\n",
              "      <td>20</td>\n",
              "      <td>0</td>\n",
              "      <td>31</td>\n",
              "      <td>31</td>\n",
              "      <td>0</td>\n",
              "      <td>11</td>\n",
              "      <td>2017</td>\n",
              "      <td>1</td>\n",
              "      <td>5</td>\n",
              "      <td>10</td>\n",
              "      <td>48</td>\n",
              "      <td>24</td>\n",
              "      <td>True</td>\n",
              "      <td>1</td>\n",
              "      <td>0</td>\n",
              "      <td>0</td>\n",
              "      <td>0</td>\n",
              "      <td>0</td>\n",
              "      <td>0</td>\n",
              "      <td>0</td>\n",
              "      <td>0</td>\n",
              "      <td>0</td>\n",
              "      <td>0</td>\n",
              "      <td>0</td>\n",
              "      <td>0</td>\n",
              "      <td>0</td>\n",
              "      <td>0</td>\n",
              "      <td>0</td>\n",
              "      <td>0</td>\n",
              "      <td>0</td>\n",
              "      <td>0</td>\n",
              "      <td>0</td>\n",
              "      <td>0</td>\n",
              "      <td>0</td>\n",
              "      <td>1</td>\n",
              "      <td>0</td>\n",
              "      <td>0</td>\n",
              "      <td>0</td>\n",
              "      <td>0</td>\n",
              "    </tr>\n",
              "  </tbody>\n",
              "</table>\n",
              "<p>902185 rows × 44 columns</p>\n",
              "</div>"
            ],
            "text/plain": [
              "        visitNumber  ...  geoNetwork_subContinent_South America\n",
              "0                 1  ...                                      0\n",
              "1                 1  ...                                      0\n",
              "2                 1  ...                                      0\n",
              "3                 1  ...                                      0\n",
              "4                 2  ...                                      0\n",
              "...             ...  ...                                    ...\n",
              "903648            1  ...                                      1\n",
              "903649            1  ...                                      0\n",
              "903650            1  ...                                      0\n",
              "903651            1  ...                                      0\n",
              "903652            1  ...                                      0\n",
              "\n",
              "[902185 rows x 44 columns]"
            ]
          },
          "metadata": {
            "tags": []
          },
          "execution_count": 131
        }
      ]
    },
    {
      "cell_type": "code",
      "metadata": {
        "id": "lcaTsTsQCDTX"
      },
      "source": [
        "df=df.drop(['device_browser','device_operatingSystem','geoNetwork_subContinent','device_isMobile'],1)"
      ],
      "execution_count": null,
      "outputs": []
    },
    {
      "cell_type": "code",
      "metadata": {
        "colab": {
          "base_uri": "https://localhost:8080/",
          "height": 443
        },
        "id": "sc5-qMYtCVRN",
        "outputId": "13787140-0875-4c36-bd07-937521c5e0e7"
      },
      "source": [
        "df"
      ],
      "execution_count": null,
      "outputs": [
        {
          "output_type": "execute_result",
          "data": {
            "text/html": [
              "<div>\n",
              "<style scoped>\n",
              "    .dataframe tbody tr th:only-of-type {\n",
              "        vertical-align: middle;\n",
              "    }\n",
              "\n",
              "    .dataframe tbody tr th {\n",
              "        vertical-align: top;\n",
              "    }\n",
              "\n",
              "    .dataframe thead th {\n",
              "        text-align: right;\n",
              "    }\n",
              "</style>\n",
              "<table border=\"1\" class=\"dataframe\">\n",
              "  <thead>\n",
              "    <tr style=\"text-align: right;\">\n",
              "      <th></th>\n",
              "      <th>visitNumber</th>\n",
              "      <th>geoNetwork_country</th>\n",
              "      <th>geoNetwork_networkDomain</th>\n",
              "      <th>totals_hits</th>\n",
              "      <th>totals_pageviews</th>\n",
              "      <th>totals_transactionRevenue</th>\n",
              "      <th>trafficSource_source</th>\n",
              "      <th>Visit_Year</th>\n",
              "      <th>Visit_Month</th>\n",
              "      <th>Visit_Date</th>\n",
              "      <th>Hours</th>\n",
              "      <th>Minutes</th>\n",
              "      <th>Seconds</th>\n",
              "      <th>device_operatingSystem_Android</th>\n",
              "      <th>device_operatingSystem_BlackBerry</th>\n",
              "      <th>device_operatingSystem_Chrome OS</th>\n",
              "      <th>device_operatingSystem_Firefox OS</th>\n",
              "      <th>device_operatingSystem_FreeBSD</th>\n",
              "      <th>device_operatingSystem_Linux</th>\n",
              "      <th>device_operatingSystem_Macintosh</th>\n",
              "      <th>device_operatingSystem_NTT DoCoMo</th>\n",
              "      <th>device_operatingSystem_Nintendo 3DS</th>\n",
              "      <th>device_operatingSystem_Nintendo Wii</th>\n",
              "      <th>device_operatingSystem_Nintendo WiiU</th>\n",
              "      <th>device_operatingSystem_Nokia</th>\n",
              "      <th>device_operatingSystem_OpenBSD</th>\n",
              "      <th>device_operatingSystem_Samsung</th>\n",
              "      <th>device_operatingSystem_SunOS</th>\n",
              "      <th>device_operatingSystem_Windows</th>\n",
              "      <th>device_operatingSystem_Windows Phone</th>\n",
              "      <th>device_operatingSystem_Xbox</th>\n",
              "      <th>device_operatingSystem_iOS</th>\n",
              "      <th>geoNetwork_subContinent_Asia</th>\n",
              "      <th>geoNetwork_subContinent_Australia</th>\n",
              "      <th>geoNetwork_subContinent_Central America</th>\n",
              "      <th>geoNetwork_subContinent_Europe</th>\n",
              "      <th>geoNetwork_subContinent_Northern America</th>\n",
              "      <th>geoNetwork_subContinent_Pacific</th>\n",
              "      <th>geoNetwork_subContinent_South America</th>\n",
              "    </tr>\n",
              "  </thead>\n",
              "  <tbody>\n",
              "    <tr>\n",
              "      <th>0</th>\n",
              "      <td>1</td>\n",
              "      <td>2</td>\n",
              "      <td>1</td>\n",
              "      <td>1</td>\n",
              "      <td>1</td>\n",
              "      <td>0</td>\n",
              "      <td>3879</td>\n",
              "      <td>2016</td>\n",
              "      <td>9</td>\n",
              "      <td>2</td>\n",
              "      <td>8</td>\n",
              "      <td>15</td>\n",
              "      <td>2</td>\n",
              "      <td>0</td>\n",
              "      <td>0</td>\n",
              "      <td>0</td>\n",
              "      <td>0</td>\n",
              "      <td>0</td>\n",
              "      <td>0</td>\n",
              "      <td>0</td>\n",
              "      <td>0</td>\n",
              "      <td>0</td>\n",
              "      <td>0</td>\n",
              "      <td>0</td>\n",
              "      <td>0</td>\n",
              "      <td>0</td>\n",
              "      <td>0</td>\n",
              "      <td>0</td>\n",
              "      <td>1</td>\n",
              "      <td>0</td>\n",
              "      <td>0</td>\n",
              "      <td>0</td>\n",
              "      <td>1</td>\n",
              "      <td>0</td>\n",
              "      <td>0</td>\n",
              "      <td>0</td>\n",
              "      <td>0</td>\n",
              "      <td>0</td>\n",
              "      <td>0</td>\n",
              "    </tr>\n",
              "    <tr>\n",
              "      <th>1</th>\n",
              "      <td>1</td>\n",
              "      <td>13</td>\n",
              "      <td>1</td>\n",
              "      <td>1</td>\n",
              "      <td>1</td>\n",
              "      <td>0</td>\n",
              "      <td>3879</td>\n",
              "      <td>2016</td>\n",
              "      <td>9</td>\n",
              "      <td>3</td>\n",
              "      <td>8</td>\n",
              "      <td>15</td>\n",
              "      <td>2</td>\n",
              "      <td>0</td>\n",
              "      <td>0</td>\n",
              "      <td>0</td>\n",
              "      <td>0</td>\n",
              "      <td>0</td>\n",
              "      <td>0</td>\n",
              "      <td>1</td>\n",
              "      <td>0</td>\n",
              "      <td>0</td>\n",
              "      <td>0</td>\n",
              "      <td>0</td>\n",
              "      <td>0</td>\n",
              "      <td>0</td>\n",
              "      <td>0</td>\n",
              "      <td>0</td>\n",
              "      <td>0</td>\n",
              "      <td>0</td>\n",
              "      <td>0</td>\n",
              "      <td>0</td>\n",
              "      <td>0</td>\n",
              "      <td>1</td>\n",
              "      <td>0</td>\n",
              "      <td>0</td>\n",
              "      <td>0</td>\n",
              "      <td>0</td>\n",
              "      <td>0</td>\n",
              "    </tr>\n",
              "    <tr>\n",
              "      <th>2</th>\n",
              "      <td>1</td>\n",
              "      <td>2</td>\n",
              "      <td>7045</td>\n",
              "      <td>1</td>\n",
              "      <td>1</td>\n",
              "      <td>0</td>\n",
              "      <td>3879</td>\n",
              "      <td>2016</td>\n",
              "      <td>9</td>\n",
              "      <td>3</td>\n",
              "      <td>8</td>\n",
              "      <td>15</td>\n",
              "      <td>2</td>\n",
              "      <td>0</td>\n",
              "      <td>0</td>\n",
              "      <td>0</td>\n",
              "      <td>0</td>\n",
              "      <td>0</td>\n",
              "      <td>0</td>\n",
              "      <td>0</td>\n",
              "      <td>0</td>\n",
              "      <td>0</td>\n",
              "      <td>0</td>\n",
              "      <td>0</td>\n",
              "      <td>0</td>\n",
              "      <td>0</td>\n",
              "      <td>0</td>\n",
              "      <td>0</td>\n",
              "      <td>1</td>\n",
              "      <td>0</td>\n",
              "      <td>0</td>\n",
              "      <td>0</td>\n",
              "      <td>0</td>\n",
              "      <td>0</td>\n",
              "      <td>0</td>\n",
              "      <td>1</td>\n",
              "      <td>0</td>\n",
              "      <td>0</td>\n",
              "      <td>0</td>\n",
              "    </tr>\n",
              "    <tr>\n",
              "      <th>3</th>\n",
              "      <td>1</td>\n",
              "      <td>11</td>\n",
              "      <td>7045</td>\n",
              "      <td>1</td>\n",
              "      <td>1</td>\n",
              "      <td>0</td>\n",
              "      <td>3879</td>\n",
              "      <td>2016</td>\n",
              "      <td>9</td>\n",
              "      <td>3</td>\n",
              "      <td>8</td>\n",
              "      <td>15</td>\n",
              "      <td>2</td>\n",
              "      <td>0</td>\n",
              "      <td>0</td>\n",
              "      <td>0</td>\n",
              "      <td>0</td>\n",
              "      <td>0</td>\n",
              "      <td>1</td>\n",
              "      <td>0</td>\n",
              "      <td>0</td>\n",
              "      <td>0</td>\n",
              "      <td>0</td>\n",
              "      <td>0</td>\n",
              "      <td>0</td>\n",
              "      <td>0</td>\n",
              "      <td>0</td>\n",
              "      <td>0</td>\n",
              "      <td>0</td>\n",
              "      <td>0</td>\n",
              "      <td>0</td>\n",
              "      <td>0</td>\n",
              "      <td>1</td>\n",
              "      <td>0</td>\n",
              "      <td>0</td>\n",
              "      <td>0</td>\n",
              "      <td>0</td>\n",
              "      <td>0</td>\n",
              "      <td>0</td>\n",
              "    </tr>\n",
              "    <tr>\n",
              "      <th>4</th>\n",
              "      <td>2</td>\n",
              "      <td>16</td>\n",
              "      <td>7045</td>\n",
              "      <td>1</td>\n",
              "      <td>1</td>\n",
              "      <td>0</td>\n",
              "      <td>3879</td>\n",
              "      <td>2016</td>\n",
              "      <td>9</td>\n",
              "      <td>2</td>\n",
              "      <td>8</td>\n",
              "      <td>15</td>\n",
              "      <td>2</td>\n",
              "      <td>1</td>\n",
              "      <td>0</td>\n",
              "      <td>0</td>\n",
              "      <td>0</td>\n",
              "      <td>0</td>\n",
              "      <td>0</td>\n",
              "      <td>0</td>\n",
              "      <td>0</td>\n",
              "      <td>0</td>\n",
              "      <td>0</td>\n",
              "      <td>0</td>\n",
              "      <td>0</td>\n",
              "      <td>0</td>\n",
              "      <td>0</td>\n",
              "      <td>0</td>\n",
              "      <td>0</td>\n",
              "      <td>0</td>\n",
              "      <td>0</td>\n",
              "      <td>0</td>\n",
              "      <td>0</td>\n",
              "      <td>0</td>\n",
              "      <td>0</td>\n",
              "      <td>1</td>\n",
              "      <td>0</td>\n",
              "      <td>0</td>\n",
              "      <td>0</td>\n",
              "    </tr>\n",
              "    <tr>\n",
              "      <th>...</th>\n",
              "      <td>...</td>\n",
              "      <td>...</td>\n",
              "      <td>...</td>\n",
              "      <td>...</td>\n",
              "      <td>...</td>\n",
              "      <td>...</td>\n",
              "      <td>...</td>\n",
              "      <td>...</td>\n",
              "      <td>...</td>\n",
              "      <td>...</td>\n",
              "      <td>...</td>\n",
              "      <td>...</td>\n",
              "      <td>...</td>\n",
              "      <td>...</td>\n",
              "      <td>...</td>\n",
              "      <td>...</td>\n",
              "      <td>...</td>\n",
              "      <td>...</td>\n",
              "      <td>...</td>\n",
              "      <td>...</td>\n",
              "      <td>...</td>\n",
              "      <td>...</td>\n",
              "      <td>...</td>\n",
              "      <td>...</td>\n",
              "      <td>...</td>\n",
              "      <td>...</td>\n",
              "      <td>...</td>\n",
              "      <td>...</td>\n",
              "      <td>...</td>\n",
              "      <td>...</td>\n",
              "      <td>...</td>\n",
              "      <td>...</td>\n",
              "      <td>...</td>\n",
              "      <td>...</td>\n",
              "      <td>...</td>\n",
              "      <td>...</td>\n",
              "      <td>...</td>\n",
              "      <td>...</td>\n",
              "      <td>...</td>\n",
              "    </tr>\n",
              "    <tr>\n",
              "      <th>903648</th>\n",
              "      <td>1</td>\n",
              "      <td>11</td>\n",
              "      <td>4</td>\n",
              "      <td>17</td>\n",
              "      <td>15</td>\n",
              "      <td>0</td>\n",
              "      <td>11</td>\n",
              "      <td>2017</td>\n",
              "      <td>1</td>\n",
              "      <td>4</td>\n",
              "      <td>10</td>\n",
              "      <td>48</td>\n",
              "      <td>24</td>\n",
              "      <td>0</td>\n",
              "      <td>0</td>\n",
              "      <td>0</td>\n",
              "      <td>0</td>\n",
              "      <td>0</td>\n",
              "      <td>0</td>\n",
              "      <td>0</td>\n",
              "      <td>0</td>\n",
              "      <td>0</td>\n",
              "      <td>0</td>\n",
              "      <td>0</td>\n",
              "      <td>0</td>\n",
              "      <td>0</td>\n",
              "      <td>0</td>\n",
              "      <td>0</td>\n",
              "      <td>1</td>\n",
              "      <td>0</td>\n",
              "      <td>0</td>\n",
              "      <td>0</td>\n",
              "      <td>0</td>\n",
              "      <td>0</td>\n",
              "      <td>0</td>\n",
              "      <td>0</td>\n",
              "      <td>0</td>\n",
              "      <td>0</td>\n",
              "      <td>1</td>\n",
              "    </tr>\n",
              "    <tr>\n",
              "      <th>903649</th>\n",
              "      <td>1</td>\n",
              "      <td>0</td>\n",
              "      <td>7045</td>\n",
              "      <td>18</td>\n",
              "      <td>13</td>\n",
              "      <td>0</td>\n",
              "      <td>11</td>\n",
              "      <td>2017</td>\n",
              "      <td>1</td>\n",
              "      <td>4</td>\n",
              "      <td>10</td>\n",
              "      <td>48</td>\n",
              "      <td>24</td>\n",
              "      <td>1</td>\n",
              "      <td>0</td>\n",
              "      <td>0</td>\n",
              "      <td>0</td>\n",
              "      <td>0</td>\n",
              "      <td>0</td>\n",
              "      <td>0</td>\n",
              "      <td>0</td>\n",
              "      <td>0</td>\n",
              "      <td>0</td>\n",
              "      <td>0</td>\n",
              "      <td>0</td>\n",
              "      <td>0</td>\n",
              "      <td>0</td>\n",
              "      <td>0</td>\n",
              "      <td>0</td>\n",
              "      <td>0</td>\n",
              "      <td>0</td>\n",
              "      <td>0</td>\n",
              "      <td>1</td>\n",
              "      <td>0</td>\n",
              "      <td>0</td>\n",
              "      <td>0</td>\n",
              "      <td>0</td>\n",
              "      <td>0</td>\n",
              "      <td>0</td>\n",
              "    </tr>\n",
              "    <tr>\n",
              "      <th>903650</th>\n",
              "      <td>1</td>\n",
              "      <td>8</td>\n",
              "      <td>7045</td>\n",
              "      <td>24</td>\n",
              "      <td>21</td>\n",
              "      <td>0</td>\n",
              "      <td>11</td>\n",
              "      <td>2017</td>\n",
              "      <td>1</td>\n",
              "      <td>4</td>\n",
              "      <td>10</td>\n",
              "      <td>48</td>\n",
              "      <td>24</td>\n",
              "      <td>1</td>\n",
              "      <td>0</td>\n",
              "      <td>0</td>\n",
              "      <td>0</td>\n",
              "      <td>0</td>\n",
              "      <td>0</td>\n",
              "      <td>0</td>\n",
              "      <td>0</td>\n",
              "      <td>0</td>\n",
              "      <td>0</td>\n",
              "      <td>0</td>\n",
              "      <td>0</td>\n",
              "      <td>0</td>\n",
              "      <td>0</td>\n",
              "      <td>0</td>\n",
              "      <td>0</td>\n",
              "      <td>0</td>\n",
              "      <td>0</td>\n",
              "      <td>0</td>\n",
              "      <td>1</td>\n",
              "      <td>0</td>\n",
              "      <td>0</td>\n",
              "      <td>0</td>\n",
              "      <td>0</td>\n",
              "      <td>0</td>\n",
              "      <td>0</td>\n",
              "    </tr>\n",
              "    <tr>\n",
              "      <th>903651</th>\n",
              "      <td>1</td>\n",
              "      <td>11</td>\n",
              "      <td>7045</td>\n",
              "      <td>24</td>\n",
              "      <td>22</td>\n",
              "      <td>0</td>\n",
              "      <td>20</td>\n",
              "      <td>2017</td>\n",
              "      <td>1</td>\n",
              "      <td>5</td>\n",
              "      <td>10</td>\n",
              "      <td>48</td>\n",
              "      <td>24</td>\n",
              "      <td>0</td>\n",
              "      <td>0</td>\n",
              "      <td>0</td>\n",
              "      <td>0</td>\n",
              "      <td>0</td>\n",
              "      <td>0</td>\n",
              "      <td>0</td>\n",
              "      <td>0</td>\n",
              "      <td>0</td>\n",
              "      <td>0</td>\n",
              "      <td>0</td>\n",
              "      <td>0</td>\n",
              "      <td>0</td>\n",
              "      <td>0</td>\n",
              "      <td>0</td>\n",
              "      <td>1</td>\n",
              "      <td>0</td>\n",
              "      <td>0</td>\n",
              "      <td>0</td>\n",
              "      <td>1</td>\n",
              "      <td>0</td>\n",
              "      <td>0</td>\n",
              "      <td>0</td>\n",
              "      <td>0</td>\n",
              "      <td>0</td>\n",
              "      <td>0</td>\n",
              "    </tr>\n",
              "    <tr>\n",
              "      <th>903652</th>\n",
              "      <td>1</td>\n",
              "      <td>20</td>\n",
              "      <td>0</td>\n",
              "      <td>31</td>\n",
              "      <td>31</td>\n",
              "      <td>0</td>\n",
              "      <td>11</td>\n",
              "      <td>2017</td>\n",
              "      <td>1</td>\n",
              "      <td>5</td>\n",
              "      <td>10</td>\n",
              "      <td>48</td>\n",
              "      <td>24</td>\n",
              "      <td>1</td>\n",
              "      <td>0</td>\n",
              "      <td>0</td>\n",
              "      <td>0</td>\n",
              "      <td>0</td>\n",
              "      <td>0</td>\n",
              "      <td>0</td>\n",
              "      <td>0</td>\n",
              "      <td>0</td>\n",
              "      <td>0</td>\n",
              "      <td>0</td>\n",
              "      <td>0</td>\n",
              "      <td>0</td>\n",
              "      <td>0</td>\n",
              "      <td>0</td>\n",
              "      <td>0</td>\n",
              "      <td>0</td>\n",
              "      <td>0</td>\n",
              "      <td>0</td>\n",
              "      <td>0</td>\n",
              "      <td>0</td>\n",
              "      <td>1</td>\n",
              "      <td>0</td>\n",
              "      <td>0</td>\n",
              "      <td>0</td>\n",
              "      <td>0</td>\n",
              "    </tr>\n",
              "  </tbody>\n",
              "</table>\n",
              "<p>902185 rows × 39 columns</p>\n",
              "</div>"
            ],
            "text/plain": [
              "        visitNumber  ...  geoNetwork_subContinent_South America\n",
              "0                 1  ...                                      0\n",
              "1                 1  ...                                      0\n",
              "2                 1  ...                                      0\n",
              "3                 1  ...                                      0\n",
              "4                 2  ...                                      0\n",
              "...             ...  ...                                    ...\n",
              "903648            1  ...                                      1\n",
              "903649            1  ...                                      0\n",
              "903650            1  ...                                      0\n",
              "903651            1  ...                                      0\n",
              "903652            1  ...                                      0\n",
              "\n",
              "[902185 rows x 39 columns]"
            ]
          },
          "metadata": {
            "tags": []
          },
          "execution_count": 133
        }
      ]
    },
    {
      "cell_type": "code",
      "metadata": {
        "colab": {
          "base_uri": "https://localhost:8080/"
        },
        "id": "gsGFG9a9CV8F",
        "outputId": "fc1ab0b3-5d3e-4a34-bac8-45b46559091e"
      },
      "source": [
        "bool"
      ],
      "execution_count": null,
      "outputs": [
        {
          "output_type": "execute_result",
          "data": {
            "text/plain": [
              "['device_isMobile']"
            ]
          },
          "metadata": {
            "tags": []
          },
          "execution_count": 134
        }
      ]
    },
    {
      "cell_type": "markdown",
      "metadata": {
        "id": "dm-Yg82KUFFl"
      },
      "source": [
        "**Checking Outliers**"
      ]
    },
    {
      "cell_type": "code",
      "metadata": {
        "colab": {
          "base_uri": "https://localhost:8080/"
        },
        "id": "rg4YkhOUEYl1",
        "outputId": "6ad7e87c-20bb-4aa7-a5f2-71d98b02b69e"
      },
      "source": [
        "df.columns"
      ],
      "execution_count": null,
      "outputs": [
        {
          "output_type": "execute_result",
          "data": {
            "text/plain": [
              "Index(['visitNumber', 'geoNetwork_country', 'geoNetwork_networkDomain',\n",
              "       'totals_hits', 'totals_pageviews', 'totals_transactionRevenue',\n",
              "       'trafficSource_source', 'Visit_Year', 'Visit_Month', 'Visit_Date',\n",
              "       'Hours', 'Minutes', 'Seconds', 'device_operatingSystem_Android',\n",
              "       'device_operatingSystem_BlackBerry', 'device_operatingSystem_Chrome OS',\n",
              "       'device_operatingSystem_Firefox OS', 'device_operatingSystem_FreeBSD',\n",
              "       'device_operatingSystem_Linux', 'device_operatingSystem_Macintosh',\n",
              "       'device_operatingSystem_NTT DoCoMo',\n",
              "       'device_operatingSystem_Nintendo 3DS',\n",
              "       'device_operatingSystem_Nintendo Wii',\n",
              "       'device_operatingSystem_Nintendo WiiU', 'device_operatingSystem_Nokia',\n",
              "       'device_operatingSystem_OpenBSD', 'device_operatingSystem_Samsung',\n",
              "       'device_operatingSystem_SunOS', 'device_operatingSystem_Windows',\n",
              "       'device_operatingSystem_Windows Phone', 'device_operatingSystem_Xbox',\n",
              "       'device_operatingSystem_iOS', 'geoNetwork_subContinent_Asia',\n",
              "       'geoNetwork_subContinent_Australia',\n",
              "       'geoNetwork_subContinent_Central America',\n",
              "       'geoNetwork_subContinent_Europe',\n",
              "       'geoNetwork_subContinent_Northern America',\n",
              "       'geoNetwork_subContinent_Pacific',\n",
              "       'geoNetwork_subContinent_South America'],\n",
              "      dtype='object')"
            ]
          },
          "metadata": {
            "tags": []
          },
          "execution_count": 135
        }
      ]
    },
    {
      "cell_type": "code",
      "metadata": {
        "colab": {
          "base_uri": "https://localhost:8080/"
        },
        "id": "2XmK56bMhSZB",
        "outputId": "3705a98c-6e5b-4199-93dd-b251228a74d6"
      },
      "source": [
        "df.info()"
      ],
      "execution_count": null,
      "outputs": [
        {
          "output_type": "stream",
          "text": [
            "<class 'pandas.core.frame.DataFrame'>\n",
            "Int64Index: 902185 entries, 0 to 903652\n",
            "Data columns (total 39 columns):\n",
            " #   Column                                    Non-Null Count   Dtype\n",
            "---  ------                                    --------------   -----\n",
            " 0   visitNumber                               902185 non-null  int64\n",
            " 1   geoNetwork_country                        902185 non-null  int64\n",
            " 2   geoNetwork_networkDomain                  902185 non-null  int64\n",
            " 3   totals_hits                               902185 non-null  int64\n",
            " 4   totals_pageviews                          902185 non-null  int64\n",
            " 5   totals_transactionRevenue                 902185 non-null  int64\n",
            " 6   trafficSource_source                      902185 non-null  int64\n",
            " 7   Visit_Year                                902185 non-null  int64\n",
            " 8   Visit_Month                               902185 non-null  int64\n",
            " 9   Visit_Date                                902185 non-null  int64\n",
            " 10  Hours                                     902185 non-null  int64\n",
            " 11  Minutes                                   902185 non-null  int64\n",
            " 12  Seconds                                   902185 non-null  int64\n",
            " 13  device_operatingSystem_Android            902185 non-null  uint8\n",
            " 14  device_operatingSystem_BlackBerry         902185 non-null  uint8\n",
            " 15  device_operatingSystem_Chrome OS          902185 non-null  uint8\n",
            " 16  device_operatingSystem_Firefox OS         902185 non-null  uint8\n",
            " 17  device_operatingSystem_FreeBSD            902185 non-null  uint8\n",
            " 18  device_operatingSystem_Linux              902185 non-null  uint8\n",
            " 19  device_operatingSystem_Macintosh          902185 non-null  uint8\n",
            " 20  device_operatingSystem_NTT DoCoMo         902185 non-null  uint8\n",
            " 21  device_operatingSystem_Nintendo 3DS       902185 non-null  uint8\n",
            " 22  device_operatingSystem_Nintendo Wii       902185 non-null  uint8\n",
            " 23  device_operatingSystem_Nintendo WiiU      902185 non-null  uint8\n",
            " 24  device_operatingSystem_Nokia              902185 non-null  uint8\n",
            " 25  device_operatingSystem_OpenBSD            902185 non-null  uint8\n",
            " 26  device_operatingSystem_Samsung            902185 non-null  uint8\n",
            " 27  device_operatingSystem_SunOS              902185 non-null  uint8\n",
            " 28  device_operatingSystem_Windows            902185 non-null  uint8\n",
            " 29  device_operatingSystem_Windows Phone      902185 non-null  uint8\n",
            " 30  device_operatingSystem_Xbox               902185 non-null  uint8\n",
            " 31  device_operatingSystem_iOS                902185 non-null  uint8\n",
            " 32  geoNetwork_subContinent_Asia              902185 non-null  uint8\n",
            " 33  geoNetwork_subContinent_Australia         902185 non-null  uint8\n",
            " 34  geoNetwork_subContinent_Central America   902185 non-null  uint8\n",
            " 35  geoNetwork_subContinent_Europe            902185 non-null  uint8\n",
            " 36  geoNetwork_subContinent_Northern America  902185 non-null  uint8\n",
            " 37  geoNetwork_subContinent_Pacific           902185 non-null  uint8\n",
            " 38  geoNetwork_subContinent_South America     902185 non-null  uint8\n",
            "dtypes: int64(13), uint8(26)\n",
            "memory usage: 118.7 MB\n"
          ],
          "name": "stdout"
        }
      ]
    },
    {
      "cell_type": "code",
      "metadata": {
        "colab": {
          "base_uri": "https://localhost:8080/"
        },
        "id": "GVtnlS7UiE9O",
        "outputId": "6b932b26-9fd5-4c74-b337-c2a2eebcab30"
      },
      "source": [
        "df.dtypes.value_counts()"
      ],
      "execution_count": null,
      "outputs": [
        {
          "output_type": "execute_result",
          "data": {
            "text/plain": [
              "uint8    26\n",
              "int64    13\n",
              "dtype: int64"
            ]
          },
          "metadata": {
            "tags": []
          },
          "execution_count": 137
        }
      ]
    },
    {
      "cell_type": "code",
      "metadata": {
        "colab": {
          "base_uri": "https://localhost:8080/",
          "height": 1000
        },
        "id": "P0p4uWT7EqmR",
        "outputId": "5f025e7f-8a27-402e-81e0-d22cda9335ce"
      },
      "source": [
        "for i in df.columns:\n",
        "  if df[i].dtypes=='int64':\n",
        "    sns.boxplot(df[i])\n",
        "    plt.show()"
      ],
      "execution_count": null,
      "outputs": [
        {
          "output_type": "display_data",
          "data": {
            "image/png": "[encoded data removed]",
            "text/plain": [
              "<Figure size 432x288 with 1 Axes>"
            ]
          },
          "metadata": {
            "tags": []
          }
        },
        {
          "output_type": "display_data",
          "data": {
            "image/png": "[encoded data removed]",
            "text/plain": [
              "<Figure size 432x288 with 1 Axes>"
            ]
          },
          "metadata": {
            "tags": []
          }
        },
        {
          "output_type": "display_data",
          "data": {
            "image/png": "[encoded data removed]",
            "text/plain": [
              "<Figure size 432x288 with 1 Axes>"
            ]
          },
          "metadata": {
            "tags": []
          }
        },
        {
          "output_type": "display_data",
          "data": {
            "image/png": "[encoded data removed]",
            "text/plain": [
              "<Figure size 432x288 with 1 Axes>"
            ]
          },
          "metadata": {
            "tags": []
          }
        },
        {
          "output_type": "display_data",
          "data": {
            "image/png": "[encoded data removed]",
            "text/plain": [
              "<Figure size 432x288 with 1 Axes>"
            ]
          },
          "metadata": {
            "tags": []
          }
        },
        {
          "output_type": "display_data",
          "data": {
            "image/png": "[encoded data removed]",
            "text/plain": [
              "<Figure size 432x288 with 1 Axes>"
            ]
          },
          "metadata": {
            "tags": []
          }
        },
        {
          "output_type": "display_data",
          "data": {
            "image/png": "[encoded data removed]",
            "text/plain": [
              "<Figure size 432x288 with 1 Axes>"
            ]
          },
          "metadata": {
            "tags": []
          }
        },
        {
          "output_type": "display_data",
          "data": {
            "image/png": "[encoded data removed]",
            "text/plain": [
              "<Figure size 432x288 with 1 Axes>"
            ]
          },
          "metadata": {
            "tags": []
          }
        },
        {
          "output_type": "display_data",
          "data": {
            "image/png": "[encoded data removed]",
            "text/plain": [
              "<Figure size 432x288 with 1 Axes>"
            ]
          },
          "metadata": {
            "tags": []
          }
        },
        {
          "output_type": "display_data",
          "data": {
            "image/png": "[encoded data removed]",
            "text/plain": [
              "<Figure size 432x288 with 1 Axes>"
            ]
          },
          "metadata": {
            "tags": []
          }
        },
        {
          "output_type": "display_data",
          "data": {
            "image/png": "[encoded data removed]",
            "text/plain": [
              "<Figure size 432x288 with 1 Axes>"
            ]
          },
          "metadata": {
            "tags": []
          }
        },
        {
          "output_type": "display_data",
          "data": {
            "image/png": "[encoded data removed]",
            "text/plain": [
              "<Figure size 432x288 with 1 Axes>"
            ]
          },
          "metadata": {
            "tags": []
          }
        },
        {
          "output_type": "display_data",
          "data": {
            "image/png": "[encoded data removed]",
            "text/plain": [
              "<Figure size 432x288 with 1 Axes>"
            ]
          },
          "metadata": {
            "tags": []
          }
        }
      ]
    },
    {
      "cell_type": "markdown",
      "metadata": {
        "id": "HPdEZZRpUhBF"
      },
      "source": [
        "**These Three columns have OUTLIERS [ visitNumber , totals_hits, totals_page_views ]**"
      ]
    },
    {
      "cell_type": "code",
      "metadata": {
        "colab": {
          "base_uri": "https://localhost:8080/",
          "height": 804
        },
        "id": "vScJrR5kE6DA",
        "outputId": "82cf3caf-c442-47a7-ec73-c16c93ebe3aa"
      },
      "source": [
        "outliers=['visitNumber', 'totals_hits', 'totals_pageviews']\n",
        "for i in outliers:\n",
        "  sns.boxplot(df[i])\n",
        "  plt.show()"
      ],
      "execution_count": null,
      "outputs": [
        {
          "output_type": "display_data",
          "data": {
            "image/png": "[encoded data removed]",
            "text/plain": [
              "<Figure size 432x288 with 1 Axes>"
            ]
          },
          "metadata": {
            "tags": []
          }
        },
        {
          "output_type": "display_data",
          "data": {
            "image/png": "[encoded data removed]",
            "text/plain": [
              "<Figure size 432x288 with 1 Axes>"
            ]
          },
          "metadata": {
            "tags": []
          }
        },
        {
          "output_type": "display_data",
          "data": {
            "image/png": "[encoded data removed]",
            "text/plain": [
              "<Figure size 432x288 with 1 Axes>"
            ]
          },
          "metadata": {
            "tags": []
          }
        }
      ]
    },
    {
      "cell_type": "code",
      "metadata": {
        "colab": {
          "base_uri": "https://localhost:8080/",
          "height": 297
        },
        "id": "Y8b_E54MLqzG",
        "outputId": "19274e44-5d8c-45cc-c6e0-7aa98fdcdfd4"
      },
      "source": [
        "sns.distplot(df.totals_pageviews,kde=False)"
      ],
      "execution_count": null,
      "outputs": [
        {
          "output_type": "execute_result",
          "data": {
            "text/plain": [
              "<matplotlib.axes._subplots.AxesSubplot at 0x7efebcc10898>"
            ]
          },
          "metadata": {
            "tags": []
          },
          "execution_count": 140
        },
        {
          "output_type": "display_data",
          "data": {
            "image/png": "[encoded data removed]",
            "text/plain": [
              "<Figure size 432x288 with 1 Axes>"
            ]
          },
          "metadata": {
            "tags": []
          }
        }
      ]
    },
    {
      "cell_type": "markdown",
      "metadata": {
        "id": "ZjIE44DjU-aF"
      },
      "source": [
        "**Doing Power Transformation for outliers Data**"
      ]
    },
    {
      "cell_type": "code",
      "metadata": {
        "id": "Am5ZTifCMCX6"
      },
      "source": [
        "# from sklearn.preprocessing import PowerTransformer\n",
        "# pt = PowerTransformer()\n",
        "# pt.fit([df.totals_pageviews])"
      ],
      "execution_count": null,
      "outputs": []
    },
    {
      "cell_type": "code",
      "metadata": {
        "id": "mPORZwf-MP6B"
      },
      "source": [
        "# pt_df=pt.transform([df.totals_pageviews])"
      ],
      "execution_count": null,
      "outputs": []
    },
    {
      "cell_type": "code",
      "metadata": {
        "id": "oE4qNuIHXQbF"
      },
      "source": [
        "# sns.distplot(pt_df)"
      ],
      "execution_count": null,
      "outputs": []
    },
    {
      "cell_type": "code",
      "metadata": {
        "id": "FAhr4z_RXuHn"
      },
      "source": [
        "# sns.boxplot(pt_df)"
      ],
      "execution_count": null,
      "outputs": []
    },
    {
      "cell_type": "markdown",
      "metadata": {
        "id": "nCGpPIUYVJ3j"
      },
      "source": [
        "**Log Transformation**"
      ]
    },
    {
      "cell_type": "code",
      "metadata": {
        "id": "T7EadlEqX1xm"
      },
      "source": [
        "outliers=['visitNumber', 'totals_hits', 'totals_pageviews']\n",
        "\n",
        "\n",
        "log_visit_no=df.visitNumber.apply(lambda x:np.log(x))\n",
        "log_tot_hits=df.totals_hits.apply(lambda x:np.log(x))\n",
        "log_tot_views=df.totals_pageviews.apply(lambda x:np.log(x))"
      ],
      "execution_count": null,
      "outputs": []
    },
    {
      "cell_type": "code",
      "metadata": {
        "colab": {
          "base_uri": "https://localhost:8080/",
          "height": 297
        },
        "id": "aLz_vPDeajRR",
        "outputId": "2685570e-6063-4b00-eb17-d05acce3ddec"
      },
      "source": [
        "sns.distplot(log_tot_views)\n",
        "print('Skewness : ',log_tot_views.skew())"
      ],
      "execution_count": null,
      "outputs": [
        {
          "output_type": "stream",
          "text": [
            "Skewness :  1.17948030444516\n"
          ],
          "name": "stdout"
        },
        {
          "output_type": "display_data",
          "data": {
            "image/png": "[encoded data removed]",
            "text/plain": [
              "<Figure size 432x288 with 1 Axes>"
            ]
          },
          "metadata": {
            "tags": []
          }
        }
      ]
    },
    {
      "cell_type": "code",
      "metadata": {
        "colab": {
          "base_uri": "https://localhost:8080/",
          "height": 297
        },
        "id": "M0oitNOCa0W5",
        "outputId": "274190af-6830-4c1b-b8d7-40457d66bf8f"
      },
      "source": [
        "sns.distplot(log_tot_hits)\n",
        "print('Skewness : ',log_tot_hits.skew())"
      ],
      "execution_count": null,
      "outputs": [
        {
          "output_type": "stream",
          "text": [
            "Skewness :  1.205645173942367\n"
          ],
          "name": "stdout"
        },
        {
          "output_type": "display_data",
          "data": {
            "image/png": "[encoded data removed]",
            "text/plain": [
              "<Figure size 432x288 with 1 Axes>"
            ]
          },
          "metadata": {
            "tags": []
          }
        }
      ]
    },
    {
      "cell_type": "code",
      "metadata": {
        "colab": {
          "base_uri": "https://localhost:8080/",
          "height": 296
        },
        "id": "P4fWsyU-a3Au",
        "outputId": "768a9fd6-1a03-4040-9dbe-8f189472abda"
      },
      "source": [
        "sns.distplot(log_visit_no)\n",
        "print('Skewness : ',log_visit_no.skew())"
      ],
      "execution_count": null,
      "outputs": [
        {
          "output_type": "stream",
          "text": [
            "Skewness :  3.173516602856689\n"
          ],
          "name": "stdout"
        },
        {
          "output_type": "display_data",
          "data": {
            "image/png": "[encoded data removed]",
            "text/plain": [
              "<Figure size 432x288 with 1 Axes>"
            ]
          },
          "metadata": {
            "tags": []
          }
        }
      ]
    },
    {
      "cell_type": "markdown",
      "metadata": {
        "id": "wzKuwlAwVQx3"
      },
      "source": [
        "**BoxCox Transformation**"
      ]
    },
    {
      "cell_type": "code",
      "metadata": {
        "id": "aM6Ll5NTYfgh"
      },
      "source": [
        "import scipy.stats as stats\n",
        "trans1,lam=stats.boxcox(df['visitNumber'])\n",
        "trans2,lam=stats.boxcox(df['totals_hits'])\n",
        "trans3,lam=stats.boxcox(df['totals_pageviews'])"
      ],
      "execution_count": null,
      "outputs": []
    },
    {
      "cell_type": "code",
      "metadata": {
        "colab": {
          "base_uri": "https://localhost:8080/",
          "height": 282
        },
        "id": "6dYQ2jeXZKoD",
        "outputId": "377e1b10-5342-4bcd-9aa5-01fff9da5c43"
      },
      "source": [
        "sns.distplot(trans1)\n",
        "print('Skewness : ',pd.DataFrame(trans1).skew().values)\n",
        "plt.show()"
      ],
      "execution_count": null,
      "outputs": [
        {
          "output_type": "stream",
          "text": [
            "Skewness :  [1.35269647]\n"
          ],
          "name": "stdout"
        },
        {
          "output_type": "display_data",
          "data": {
            "image/png": "[encoded data removed]",
            "text/plain": [
              "<Figure size 432x288 with 1 Axes>"
            ]
          },
          "metadata": {
            "tags": []
          }
        }
      ]
    },
    {
      "cell_type": "code",
      "metadata": {
        "colab": {
          "base_uri": "https://localhost:8080/",
          "height": 282
        },
        "id": "ym9SRLerdQqt",
        "outputId": "24399f09-03b4-4cb5-d0b2-5584fe3ed1c9"
      },
      "source": [
        "sns.distplot(trans2)\n",
        "print('Skewness : ',pd.DataFrame(trans2).skew().values)\n",
        "plt.show()"
      ],
      "execution_count": null,
      "outputs": [
        {
          "output_type": "stream",
          "text": [
            "Skewness :  [0.40007297]\n"
          ],
          "name": "stdout"
        },
        {
          "output_type": "display_data",
          "data": {
            "image/png": "[encoded data removed]",
            "text/plain": [
              "<Figure size 432x288 with 1 Axes>"
            ]
          },
          "metadata": {
            "tags": []
          }
        }
      ]
    },
    {
      "cell_type": "code",
      "metadata": {
        "colab": {
          "base_uri": "https://localhost:8080/",
          "height": 283
        },
        "id": "0lV7APjfdRMg",
        "outputId": "f0d17788-5670-4a96-aa69-923164b5ec40"
      },
      "source": [
        "sns.distplot(trans3)\n",
        "print('Skewness : ',pd.DataFrame(trans3).skew().values)\n",
        "plt.show()"
      ],
      "execution_count": null,
      "outputs": [
        {
          "output_type": "stream",
          "text": [
            "Skewness :  [0.39311631]\n"
          ],
          "name": "stdout"
        },
        {
          "output_type": "display_data",
          "data": {
            "image/png": "[encoded data removed]",
            "text/plain": [
              "<Figure size 432x288 with 1 Axes>"
            ]
          },
          "metadata": {
            "tags": []
          }
        }
      ]
    },
    {
      "cell_type": "markdown",
      "metadata": {
        "id": "IczOoGcvVaOs"
      },
      "source": [
        "**BOXCOX Transformation is performing better than LOG Transformation**"
      ]
    },
    {
      "cell_type": "markdown",
      "metadata": {
        "id": "g2B_70OoVl6L"
      },
      "source": [
        "**Creating Trans DataFrame to append all BoxCox Transformed Features**"
      ]
    },
    {
      "cell_type": "code",
      "metadata": {
        "id": "UvQCJynwdg7Z"
      },
      "source": [
        "trans=pd.DataFrame(trans1,columns=['visitNumber'])"
      ],
      "execution_count": null,
      "outputs": []
    },
    {
      "cell_type": "code",
      "metadata": {
        "id": "AE-JvHmmdqp4"
      },
      "source": [
        "#trans['visitNumber']=pd.DataFrame(trans1)\n",
        "trans['totals_hits']=pd.DataFrame(trans2)\n",
        "trans['totals_pageviews']=pd.DataFrame(trans3)"
      ],
      "execution_count": null,
      "outputs": []
    },
    {
      "cell_type": "code",
      "metadata": {
        "id": "P1mcV4edrcr9"
      },
      "source": [
        "trans.reset_index(drop=True, inplace=True)"
      ],
      "execution_count": null,
      "outputs": []
    },
    {
      "cell_type": "code",
      "metadata": {
        "id": "p84Of5k1rkZk"
      },
      "source": [
        "df.reset_index(drop=True, inplace=True)"
      ],
      "execution_count": null,
      "outputs": []
    },
    {
      "cell_type": "code",
      "metadata": {
        "colab": {
          "base_uri": "https://localhost:8080/",
          "height": 197
        },
        "id": "w2cMXSS6dvY3",
        "outputId": "db8671ff-bc63-40df-85ee-04e969cef286"
      },
      "source": [
        "trans.head()"
      ],
      "execution_count": null,
      "outputs": [
        {
          "output_type": "execute_result",
          "data": {
            "text/html": [
              "<div>\n",
              "<style scoped>\n",
              "    .dataframe tbody tr th:only-of-type {\n",
              "        vertical-align: middle;\n",
              "    }\n",
              "\n",
              "    .dataframe tbody tr th {\n",
              "        vertical-align: top;\n",
              "    }\n",
              "\n",
              "    .dataframe thead th {\n",
              "        text-align: right;\n",
              "    }\n",
              "</style>\n",
              "<table border=\"1\" class=\"dataframe\">\n",
              "  <thead>\n",
              "    <tr style=\"text-align: right;\">\n",
              "      <th></th>\n",
              "      <th>visitNumber</th>\n",
              "      <th>totals_hits</th>\n",
              "      <th>totals_pageviews</th>\n",
              "    </tr>\n",
              "  </thead>\n",
              "  <tbody>\n",
              "    <tr>\n",
              "      <th>0</th>\n",
              "      <td>0.000000</td>\n",
              "      <td>0.0</td>\n",
              "      <td>0.0</td>\n",
              "    </tr>\n",
              "    <tr>\n",
              "      <th>1</th>\n",
              "      <td>0.000000</td>\n",
              "      <td>0.0</td>\n",
              "      <td>0.0</td>\n",
              "    </tr>\n",
              "    <tr>\n",
              "      <th>2</th>\n",
              "      <td>0.000000</td>\n",
              "      <td>0.0</td>\n",
              "      <td>0.0</td>\n",
              "    </tr>\n",
              "    <tr>\n",
              "      <th>3</th>\n",
              "      <td>0.000000</td>\n",
              "      <td>0.0</td>\n",
              "      <td>0.0</td>\n",
              "    </tr>\n",
              "    <tr>\n",
              "      <th>4</th>\n",
              "      <td>0.291838</td>\n",
              "      <td>0.0</td>\n",
              "      <td>0.0</td>\n",
              "    </tr>\n",
              "  </tbody>\n",
              "</table>\n",
              "</div>"
            ],
            "text/plain": [
              "   visitNumber  totals_hits  totals_pageviews\n",
              "0     0.000000          0.0               0.0\n",
              "1     0.000000          0.0               0.0\n",
              "2     0.000000          0.0               0.0\n",
              "3     0.000000          0.0               0.0\n",
              "4     0.291838          0.0               0.0"
            ]
          },
          "metadata": {
            "tags": []
          },
          "execution_count": 157
        }
      ]
    },
    {
      "cell_type": "code",
      "metadata": {
        "colab": {
          "base_uri": "https://localhost:8080/",
          "height": 406
        },
        "id": "YSVhsAPbqh3a",
        "outputId": "b0e8c010-5a76-445f-daef-33f272dfa2f0"
      },
      "source": [
        "trans"
      ],
      "execution_count": null,
      "outputs": [
        {
          "output_type": "execute_result",
          "data": {
            "text/html": [
              "<div>\n",
              "<style scoped>\n",
              "    .dataframe tbody tr th:only-of-type {\n",
              "        vertical-align: middle;\n",
              "    }\n",
              "\n",
              "    .dataframe tbody tr th {\n",
              "        vertical-align: top;\n",
              "    }\n",
              "\n",
              "    .dataframe thead th {\n",
              "        text-align: right;\n",
              "    }\n",
              "</style>\n",
              "<table border=\"1\" class=\"dataframe\">\n",
              "  <thead>\n",
              "    <tr style=\"text-align: right;\">\n",
              "      <th></th>\n",
              "      <th>visitNumber</th>\n",
              "      <th>totals_hits</th>\n",
              "      <th>totals_pageviews</th>\n",
              "    </tr>\n",
              "  </thead>\n",
              "  <tbody>\n",
              "    <tr>\n",
              "      <th>0</th>\n",
              "      <td>0.000000</td>\n",
              "      <td>0.000000</td>\n",
              "      <td>0.000000</td>\n",
              "    </tr>\n",
              "    <tr>\n",
              "      <th>1</th>\n",
              "      <td>0.000000</td>\n",
              "      <td>0.000000</td>\n",
              "      <td>0.000000</td>\n",
              "    </tr>\n",
              "    <tr>\n",
              "      <th>2</th>\n",
              "      <td>0.000000</td>\n",
              "      <td>0.000000</td>\n",
              "      <td>0.000000</td>\n",
              "    </tr>\n",
              "    <tr>\n",
              "      <th>3</th>\n",
              "      <td>0.000000</td>\n",
              "      <td>0.000000</td>\n",
              "      <td>0.000000</td>\n",
              "    </tr>\n",
              "    <tr>\n",
              "      <th>4</th>\n",
              "      <td>0.291838</td>\n",
              "      <td>0.000000</td>\n",
              "      <td>0.000000</td>\n",
              "    </tr>\n",
              "    <tr>\n",
              "      <th>...</th>\n",
              "      <td>...</td>\n",
              "      <td>...</td>\n",
              "      <td>...</td>\n",
              "    </tr>\n",
              "    <tr>\n",
              "      <th>902180</th>\n",
              "      <td>0.000000</td>\n",
              "      <td>1.206281</td>\n",
              "      <td>1.142063</td>\n",
              "    </tr>\n",
              "    <tr>\n",
              "      <th>902181</th>\n",
              "      <td>0.000000</td>\n",
              "      <td>1.213527</td>\n",
              "      <td>1.123033</td>\n",
              "    </tr>\n",
              "    <tr>\n",
              "      <th>902182</th>\n",
              "      <td>0.000000</td>\n",
              "      <td>1.245787</td>\n",
              "      <td>1.179388</td>\n",
              "    </tr>\n",
              "    <tr>\n",
              "      <th>902183</th>\n",
              "      <td>0.000000</td>\n",
              "      <td>1.245787</td>\n",
              "      <td>1.183833</td>\n",
              "    </tr>\n",
              "    <tr>\n",
              "      <th>902184</th>\n",
              "      <td>0.000000</td>\n",
              "      <td>1.269365</td>\n",
              "      <td>1.212143</td>\n",
              "    </tr>\n",
              "  </tbody>\n",
              "</table>\n",
              "<p>902185 rows × 3 columns</p>\n",
              "</div>"
            ],
            "text/plain": [
              "        visitNumber  totals_hits  totals_pageviews\n",
              "0          0.000000     0.000000          0.000000\n",
              "1          0.000000     0.000000          0.000000\n",
              "2          0.000000     0.000000          0.000000\n",
              "3          0.000000     0.000000          0.000000\n",
              "4          0.291838     0.000000          0.000000\n",
              "...             ...          ...               ...\n",
              "902180     0.000000     1.206281          1.142063\n",
              "902181     0.000000     1.213527          1.123033\n",
              "902182     0.000000     1.245787          1.179388\n",
              "902183     0.000000     1.245787          1.183833\n",
              "902184     0.000000     1.269365          1.212143\n",
              "\n",
              "[902185 rows x 3 columns]"
            ]
          },
          "metadata": {
            "tags": []
          },
          "execution_count": 158
        }
      ]
    },
    {
      "cell_type": "code",
      "metadata": {
        "id": "WOwGtvsHeJ9y"
      },
      "source": [
        "df=df.drop(['visitNumber','totals_hits','totals_pageviews'],1)"
      ],
      "execution_count": null,
      "outputs": []
    },
    {
      "cell_type": "markdown",
      "metadata": {
        "id": "W93H8Nu3V6_s"
      },
      "source": [
        "**Concating Tranformed features with the Dataframe**"
      ]
    },
    {
      "cell_type": "code",
      "metadata": {
        "id": "2YLF3q0Iel7p"
      },
      "source": [
        "df=pd.concat([df,trans],axis=1)"
      ],
      "execution_count": null,
      "outputs": []
    },
    {
      "cell_type": "markdown",
      "metadata": {
        "id": "NyApdtmSa24J"
      },
      "source": [
        "**Base Model**"
      ]
    },
    {
      "cell_type": "code",
      "metadata": {
        "id": "048R48yUZhd0"
      },
      "source": [
        "from sklearn.tree import DecisionTreeClassifier\n",
        "from sklearn.model_selection import train_test_split\n",
        "from sklearn.metrics import classification_report\n",
        "from sklearn.linear_model import LogisticRegression\n",
        "from sklearn.metrics import confusion_matrix"
      ],
      "execution_count": null,
      "outputs": []
    },
    {
      "cell_type": "code",
      "metadata": {
        "id": "pMp7HCHhbChj"
      },
      "source": [
        "x=df.drop('totals_transactionRevenue',1)\n",
        "y=df['totals_transactionRevenue']"
      ],
      "execution_count": null,
      "outputs": []
    },
    {
      "cell_type": "code",
      "metadata": {
        "id": "YMyLb1NNbgAL"
      },
      "source": [
        "x_train , x_test , y_train , y_test = train_test_split(x,y,test_size=0.3,random_state=10,stratify=y)"
      ],
      "execution_count": null,
      "outputs": []
    },
    {
      "cell_type": "code",
      "metadata": {
        "colab": {
          "base_uri": "https://localhost:8080/"
        },
        "id": "Gk-V5WbUEuCc",
        "outputId": "7a0088d8-98e5-4ccf-b708-60c85315acf1"
      },
      "source": [
        "mod_logit=LogisticRegression(max_iter=2000)\n",
        "mod_logit.fit(x_train,y_train)"
      ],
      "execution_count": null,
      "outputs": [
        {
          "output_type": "execute_result",
          "data": {
            "text/plain": [
              "LogisticRegression(C=1.0, class_weight=None, dual=False, fit_intercept=True,\n",
              "                   intercept_scaling=1, l1_ratio=None, max_iter=2000,\n",
              "                   multi_class='auto', n_jobs=None, penalty='l2',\n",
              "                   random_state=None, solver='lbfgs', tol=0.0001, verbose=0,\n",
              "                   warm_start=False)"
            ]
          },
          "metadata": {
            "tags": []
          },
          "execution_count": 164
        }
      ]
    },
    {
      "cell_type": "code",
      "metadata": {
        "id": "eGEZT0Lva_bF"
      },
      "source": [
        "# dt=DecisionTreeClassifier()\n",
        "# dt.fit(x_train,y_train)"
      ],
      "execution_count": null,
      "outputs": []
    },
    {
      "cell_type": "code",
      "metadata": {
        "id": "TFjAxKN3b_Mq"
      },
      "source": [
        "# y_pred=dt.predict(x_test)\n",
        "y_pred=mod_logit.predict(x_test)"
      ],
      "execution_count": null,
      "outputs": []
    },
    {
      "cell_type": "code",
      "metadata": {
        "colab": {
          "base_uri": "https://localhost:8080/"
        },
        "id": "m1yg0hBYi-iC",
        "outputId": "afa2e862-3c5b-4a6a-db7a-865306683507"
      },
      "source": [
        "print(classification_report(y_test,y_pred))"
      ],
      "execution_count": null,
      "outputs": [
        {
          "output_type": "stream",
          "text": [
            "              precision    recall  f1-score   support\n",
            "\n",
            "           0       0.99      1.00      0.99    267203\n",
            "           1       0.52      0.14      0.22      3453\n",
            "\n",
            "    accuracy                           0.99    270656\n",
            "   macro avg       0.76      0.57      0.61    270656\n",
            "weighted avg       0.98      0.99      0.98    270656\n",
            "\n"
          ],
          "name": "stdout"
        }
      ]
    },
    {
      "cell_type": "code",
      "metadata": {
        "colab": {
          "base_uri": "https://localhost:8080/"
        },
        "id": "EGUgoMsJ9Ydg",
        "outputId": "9cab2957-83fc-4f99-f461-13675aa41b37"
      },
      "source": [
        "print('       Actual       ')\n",
        "print('    ',0,'     ',1)\n",
        "print(confusion_matrix(y_test,y_pred))"
      ],
      "execution_count": null,
      "outputs": [
        {
          "output_type": "stream",
          "text": [
            "       Actual       \n",
            "     0       1\n",
            "[[266758    445]\n",
            " [  2968    485]]\n"
          ],
          "name": "stdout"
        }
      ]
    },
    {
      "cell_type": "code",
      "metadata": {
        "colab": {
          "base_uri": "https://localhost:8080/"
        },
        "id": "0sUe36ej8eLa",
        "outputId": "76c05f4f-248e-4220-f374-8894c3a2f972"
      },
      "source": [
        "485/(485+2968)"
      ],
      "execution_count": null,
      "outputs": [
        {
          "output_type": "execute_result",
          "data": {
            "text/plain": [
              "0.140457573124819"
            ]
          },
          "metadata": {
            "tags": []
          },
          "execution_count": 169
        }
      ]
    },
    {
      "cell_type": "code",
      "metadata": {
        "id": "tcLR3_fi-G14"
      },
      "source": [
        ""
      ],
      "execution_count": null,
      "outputs": []
    },
    {
      "cell_type": "markdown",
      "metadata": {
        "id": "373OkTEadQNE"
      },
      "source": [
        "**Feature Importance**"
      ]
    },
    {
      "cell_type": "code",
      "metadata": {
        "id": "_8vKo4r2HkO1"
      },
      "source": [
        "# Checking Feature Importance Using Decision tree"
      ],
      "execution_count": null,
      "outputs": []
    },
    {
      "cell_type": "code",
      "metadata": {
        "id": "7XwXCaoEG32o"
      },
      "source": [
        "x=df.drop('totals_transactionRevenue',1)\n",
        "y=df['totals_transactionRevenue']"
      ],
      "execution_count": null,
      "outputs": []
    },
    {
      "cell_type": "code",
      "metadata": {
        "id": "lU2C4qsKG32p"
      },
      "source": [
        "x_train , x_test , y_train , y_test = train_test_split(x,y,test_size=0.3,random_state=10,stratify=y)"
      ],
      "execution_count": null,
      "outputs": []
    },
    {
      "cell_type": "code",
      "metadata": {
        "colab": {
          "base_uri": "https://localhost:8080/"
        },
        "id": "HIuQ9cVbG32p",
        "outputId": "534f5e2b-5e23-4e47-81ba-2f702145a124"
      },
      "source": [
        "dt=DecisionTreeClassifier()\n",
        "dt.fit(x_train,y_train)"
      ],
      "execution_count": null,
      "outputs": [
        {
          "output_type": "execute_result",
          "data": {
            "text/plain": [
              "DecisionTreeClassifier(ccp_alpha=0.0, class_weight=None, criterion='gini',\n",
              "                       max_depth=None, max_features=None, max_leaf_nodes=None,\n",
              "                       min_impurity_decrease=0.0, min_impurity_split=None,\n",
              "                       min_samples_leaf=1, min_samples_split=2,\n",
              "                       min_weight_fraction_leaf=0.0, presort='deprecated',\n",
              "                       random_state=None, splitter='best')"
            ]
          },
          "metadata": {
            "tags": []
          },
          "execution_count": 173
        }
      ]
    },
    {
      "cell_type": "code",
      "metadata": {
        "id": "yt7HWs6ZG32q"
      },
      "source": [
        "y_pred=dt.predict(x_test)"
      ],
      "execution_count": null,
      "outputs": []
    },
    {
      "cell_type": "code",
      "metadata": {
        "colab": {
          "base_uri": "https://localhost:8080/"
        },
        "id": "n1HBiTIAG32q",
        "outputId": "f16f2bdb-ba17-416b-a2ad-2400bb682efb"
      },
      "source": [
        "print(classification_report(y_test,y_pred))"
      ],
      "execution_count": null,
      "outputs": [
        {
          "output_type": "stream",
          "text": [
            "              precision    recall  f1-score   support\n",
            "\n",
            "           0       0.99      0.99      0.99    267203\n",
            "           1       0.35      0.38      0.36      3453\n",
            "\n",
            "    accuracy                           0.98    270656\n",
            "   macro avg       0.67      0.68      0.68    270656\n",
            "weighted avg       0.98      0.98      0.98    270656\n",
            "\n"
          ],
          "name": "stdout"
        }
      ]
    },
    {
      "cell_type": "code",
      "metadata": {
        "colab": {
          "base_uri": "https://localhost:8080/"
        },
        "id": "Q3_MzZnr_Nq1",
        "outputId": "805e148d-028a-4700-c6fe-373625bc655f"
      },
      "source": [
        "print(confusion_matrix(y_test,y_pred))"
      ],
      "execution_count": null,
      "outputs": [
        {
          "output_type": "stream",
          "text": [
            "[[264794   2409]\n",
            " [  2177   1276]]\n"
          ],
          "name": "stdout"
        }
      ]
    },
    {
      "cell_type": "code",
      "metadata": {
        "id": "AB5yf9z1HEaT"
      },
      "source": [
        "# pd.Series(dt.feature_importances_, index=x_train.columns).plot(kind='barh')"
      ],
      "execution_count": null,
      "outputs": []
    },
    {
      "cell_type": "code",
      "metadata": {
        "id": "nUF9MajzHEd6"
      },
      "source": [
        "# nlargest is used only for Series\n",
        "# pd.DataFrame(feat_importances,index=x_test.columns).plot(kind='barh')"
      ],
      "execution_count": null,
      "outputs": []
    },
    {
      "cell_type": "code",
      "metadata": {
        "colab": {
          "base_uri": "https://localhost:8080/",
          "height": 610
        },
        "id": "CN4pnP8-G32r",
        "outputId": "156d8225-7382-459b-84d0-274a64ed5c76"
      },
      "source": [
        "#feat_importances.plot(kind='barh')\n",
        "\n",
        "plt.figure(figsize=(20,10))\n",
        "(pd.Series(dt.feature_importances_, index=x_train.columns)\n",
        "   .nlargest(50)\n",
        "   .plot(kind='barh'))"
      ],
      "execution_count": null,
      "outputs": [
        {
          "output_type": "execute_result",
          "data": {
            "text/plain": [
              "<matplotlib.axes._subplots.AxesSubplot at 0x7efebc6af7b8>"
            ]
          },
          "metadata": {
            "tags": []
          },
          "execution_count": 176
        },
        {
          "output_type": "display_data",
          "data": {
            "image/png": "[encoded data removed]",
            "text/plain": [
              "<Figure size 1440x720 with 1 Axes>"
            ]
          },
          "metadata": {
            "tags": []
          }
        }
      ]
    },
    {
      "cell_type": "code",
      "metadata": {
        "colab": {
          "base_uri": "https://localhost:8080/"
        },
        "id": "WDmIOQ8MjMe4",
        "outputId": "d97ea1b3-091a-4c4e-c253-99538ac42898"
      },
      "source": [
        "pd.Series(dt.feature_importances_, index=x_train.columns).nlargest(18).index"
      ],
      "execution_count": null,
      "outputs": [
        {
          "output_type": "execute_result",
          "data": {
            "text/plain": [
              "Index(['totals_pageviews', 'Seconds', 'Visit_Date', 'totals_hits',\n",
              "       'geoNetwork_networkDomain', 'visitNumber', 'geoNetwork_country',\n",
              "       'Minutes', 'trafficSource_source', 'Visit_Month',\n",
              "       'device_operatingSystem_Macintosh', 'device_operatingSystem_Windows',\n",
              "       'device_operatingSystem_Chrome OS', 'device_operatingSystem_Linux',\n",
              "       'device_operatingSystem_iOS', 'device_operatingSystem_Android',\n",
              "       'Visit_Year', 'Hours'],\n",
              "      dtype='object')"
            ]
          },
          "metadata": {
            "tags": []
          },
          "execution_count": 177
        }
      ]
    },
    {
      "cell_type": "markdown",
      "metadata": {
        "id": "IbE9tXtctIlL"
      },
      "source": [
        "#  Checking Mullticollinearity"
      ]
    },
    {
      "cell_type": "code",
      "metadata": {
        "id": "Ti_-bsUelOnX"
      },
      "source": [
        "from statsmodels.stats.outliers_influence import variance_inflation_factor"
      ],
      "execution_count": null,
      "outputs": []
    },
    {
      "cell_type": "code",
      "metadata": {
        "colab": {
          "base_uri": "https://localhost:8080/",
          "height": 1000
        },
        "id": "pOQnT28plRjm",
        "outputId": "c40ddd1a-e118-4c14-d842-43d576d0990d"
      },
      "source": [
        "vif=pd.DataFrame()\n",
        "vif['VIF']=[variance_inflation_factor(df.values,i) for i in range(df.shape[1])]\n",
        "vif['feature']=df.columns\n",
        "vif.sort_values('VIF',ascending=False)"
      ],
      "execution_count": null,
      "outputs": [
        {
          "output_type": "execute_result",
          "data": {
            "text/html": [
              "<div>\n",
              "<style scoped>\n",
              "    .dataframe tbody tr th:only-of-type {\n",
              "        vertical-align: middle;\n",
              "    }\n",
              "\n",
              "    .dataframe tbody tr th {\n",
              "        vertical-align: top;\n",
              "    }\n",
              "\n",
              "    .dataframe thead th {\n",
              "        text-align: right;\n",
              "    }\n",
              "</style>\n",
              "<table border=\"1\" class=\"dataframe\">\n",
              "  <thead>\n",
              "    <tr style=\"text-align: right;\">\n",
              "      <th></th>\n",
              "      <th>VIF</th>\n",
              "      <th>feature</th>\n",
              "    </tr>\n",
              "  </thead>\n",
              "  <tbody>\n",
              "    <tr>\n",
              "      <th>0</th>\n",
              "      <td>7.671361</td>\n",
              "      <td>geoNetwork_country</td>\n",
              "    </tr>\n",
              "    <tr>\n",
              "      <th>6</th>\n",
              "      <td>6.907491</td>\n",
              "      <td>Minutes</td>\n",
              "    </tr>\n",
              "    <tr>\n",
              "      <th>4</th>\n",
              "      <td>6.798433</td>\n",
              "      <td>Visit_Month</td>\n",
              "    </tr>\n",
              "    <tr>\n",
              "      <th>26</th>\n",
              "      <td>4.701385</td>\n",
              "      <td>geoNetwork_subContinent_Asia</td>\n",
              "    </tr>\n",
              "    <tr>\n",
              "      <th>29</th>\n",
              "      <td>4.224201</td>\n",
              "      <td>geoNetwork_subContinent_Europe</td>\n",
              "    </tr>\n",
              "    <tr>\n",
              "      <th>5</th>\n",
              "      <td>4.123809</td>\n",
              "      <td>Visit_Date</td>\n",
              "    </tr>\n",
              "    <tr>\n",
              "      <th>7</th>\n",
              "      <td>3.895952</td>\n",
              "      <td>Seconds</td>\n",
              "    </tr>\n",
              "    <tr>\n",
              "      <th>3</th>\n",
              "      <td>3.579158</td>\n",
              "      <td>trafficSource_source</td>\n",
              "    </tr>\n",
              "    <tr>\n",
              "      <th>33</th>\n",
              "      <td>2.160005</td>\n",
              "      <td>totals_pageviews</td>\n",
              "    </tr>\n",
              "    <tr>\n",
              "      <th>1</th>\n",
              "      <td>1.985843</td>\n",
              "      <td>geoNetwork_networkDomain</td>\n",
              "    </tr>\n",
              "    <tr>\n",
              "      <th>14</th>\n",
              "      <td>1.825909</td>\n",
              "      <td>device_operatingSystem_Macintosh</td>\n",
              "    </tr>\n",
              "    <tr>\n",
              "      <th>31</th>\n",
              "      <td>1.713022</td>\n",
              "      <td>geoNetwork_subContinent_South America</td>\n",
              "    </tr>\n",
              "    <tr>\n",
              "      <th>25</th>\n",
              "      <td>1.399722</td>\n",
              "      <td>device_operatingSystem_iOS</td>\n",
              "    </tr>\n",
              "    <tr>\n",
              "      <th>8</th>\n",
              "      <td>1.394506</td>\n",
              "      <td>device_operatingSystem_Android</td>\n",
              "    </tr>\n",
              "    <tr>\n",
              "      <th>32</th>\n",
              "      <td>1.390835</td>\n",
              "      <td>visitNumber</td>\n",
              "    </tr>\n",
              "    <tr>\n",
              "      <th>27</th>\n",
              "      <td>1.254222</td>\n",
              "      <td>geoNetwork_subContinent_Australia</td>\n",
              "    </tr>\n",
              "    <tr>\n",
              "      <th>28</th>\n",
              "      <td>1.249960</td>\n",
              "      <td>geoNetwork_subContinent_Central America</td>\n",
              "    </tr>\n",
              "    <tr>\n",
              "      <th>13</th>\n",
              "      <td>1.159663</td>\n",
              "      <td>device_operatingSystem_Linux</td>\n",
              "    </tr>\n",
              "    <tr>\n",
              "      <th>10</th>\n",
              "      <td>1.124167</td>\n",
              "      <td>device_operatingSystem_Chrome OS</td>\n",
              "    </tr>\n",
              "    <tr>\n",
              "      <th>2</th>\n",
              "      <td>1.069485</td>\n",
              "      <td>totals_transactionRevenue</td>\n",
              "    </tr>\n",
              "    <tr>\n",
              "      <th>23</th>\n",
              "      <td>1.003714</td>\n",
              "      <td>device_operatingSystem_Windows Phone</td>\n",
              "    </tr>\n",
              "    <tr>\n",
              "      <th>30</th>\n",
              "      <td>1.002659</td>\n",
              "      <td>geoNetwork_subContinent_Pacific</td>\n",
              "    </tr>\n",
              "    <tr>\n",
              "      <th>21</th>\n",
              "      <td>1.001545</td>\n",
              "      <td>device_operatingSystem_Samsung</td>\n",
              "    </tr>\n",
              "    <tr>\n",
              "      <th>9</th>\n",
              "      <td>1.000907</td>\n",
              "      <td>device_operatingSystem_BlackBerry</td>\n",
              "    </tr>\n",
              "    <tr>\n",
              "      <th>11</th>\n",
              "      <td>1.000625</td>\n",
              "      <td>device_operatingSystem_Firefox OS</td>\n",
              "    </tr>\n",
              "    <tr>\n",
              "      <th>17</th>\n",
              "      <td>1.000390</td>\n",
              "      <td>device_operatingSystem_Nintendo Wii</td>\n",
              "    </tr>\n",
              "    <tr>\n",
              "      <th>24</th>\n",
              "      <td>1.000282</td>\n",
              "      <td>device_operatingSystem_Xbox</td>\n",
              "    </tr>\n",
              "    <tr>\n",
              "      <th>18</th>\n",
              "      <td>1.000198</td>\n",
              "      <td>device_operatingSystem_Nintendo WiiU</td>\n",
              "    </tr>\n",
              "    <tr>\n",
              "      <th>12</th>\n",
              "      <td>1.000055</td>\n",
              "      <td>device_operatingSystem_FreeBSD</td>\n",
              "    </tr>\n",
              "    <tr>\n",
              "      <th>20</th>\n",
              "      <td>1.000028</td>\n",
              "      <td>device_operatingSystem_OpenBSD</td>\n",
              "    </tr>\n",
              "    <tr>\n",
              "      <th>15</th>\n",
              "      <td>1.000018</td>\n",
              "      <td>device_operatingSystem_NTT DoCoMo</td>\n",
              "    </tr>\n",
              "    <tr>\n",
              "      <th>19</th>\n",
              "      <td>1.000017</td>\n",
              "      <td>device_operatingSystem_Nokia</td>\n",
              "    </tr>\n",
              "    <tr>\n",
              "      <th>22</th>\n",
              "      <td>1.000013</td>\n",
              "      <td>device_operatingSystem_SunOS</td>\n",
              "    </tr>\n",
              "    <tr>\n",
              "      <th>16</th>\n",
              "      <td>1.000011</td>\n",
              "      <td>device_operatingSystem_Nintendo 3DS</td>\n",
              "    </tr>\n",
              "  </tbody>\n",
              "</table>\n",
              "</div>"
            ],
            "text/plain": [
              "         VIF                                  feature\n",
              "0   7.671361                       geoNetwork_country\n",
              "6   6.907491                                  Minutes\n",
              "4   6.798433                              Visit_Month\n",
              "26  4.701385             geoNetwork_subContinent_Asia\n",
              "29  4.224201           geoNetwork_subContinent_Europe\n",
              "5   4.123809                               Visit_Date\n",
              "7   3.895952                                  Seconds\n",
              "3   3.579158                     trafficSource_source\n",
              "33  2.160005                         totals_pageviews\n",
              "1   1.985843                 geoNetwork_networkDomain\n",
              "14  1.825909         device_operatingSystem_Macintosh\n",
              "31  1.713022    geoNetwork_subContinent_South America\n",
              "25  1.399722               device_operatingSystem_iOS\n",
              "8   1.394506           device_operatingSystem_Android\n",
              "32  1.390835                              visitNumber\n",
              "27  1.254222        geoNetwork_subContinent_Australia\n",
              "28  1.249960  geoNetwork_subContinent_Central America\n",
              "13  1.159663             device_operatingSystem_Linux\n",
              "10  1.124167         device_operatingSystem_Chrome OS\n",
              "2   1.069485                totals_transactionRevenue\n",
              "23  1.003714     device_operatingSystem_Windows Phone\n",
              "30  1.002659          geoNetwork_subContinent_Pacific\n",
              "21  1.001545           device_operatingSystem_Samsung\n",
              "9   1.000907        device_operatingSystem_BlackBerry\n",
              "11  1.000625        device_operatingSystem_Firefox OS\n",
              "17  1.000390      device_operatingSystem_Nintendo Wii\n",
              "24  1.000282              device_operatingSystem_Xbox\n",
              "18  1.000198     device_operatingSystem_Nintendo WiiU\n",
              "12  1.000055           device_operatingSystem_FreeBSD\n",
              "20  1.000028           device_operatingSystem_OpenBSD\n",
              "15  1.000018        device_operatingSystem_NTT DoCoMo\n",
              "19  1.000017             device_operatingSystem_Nokia\n",
              "22  1.000013             device_operatingSystem_SunOS\n",
              "16  1.000011      device_operatingSystem_Nintendo 3DS"
            ]
          },
          "metadata": {
            "tags": []
          },
          "execution_count": 184
        }
      ]
    },
    {
      "cell_type": "code",
      "metadata": {
        "id": "gbzIPYXslzCK"
      },
      "source": [
        "df=df.drop('Hours',1)\n",
        "df=df.drop('Visit_Year',1)\n",
        "df=df.drop('totals_hits',1)\n",
        "df=df.drop('geoNetwork_subContinent_Northern America',1) \n",
        "df=df.drop('device_operatingSystem_Windows',1)"
      ],
      "execution_count": null,
      "outputs": []
    },
    {
      "cell_type": "code",
      "metadata": {
        "colab": {
          "base_uri": "https://localhost:8080/"
        },
        "id": "VkVnnXm6nBrQ",
        "outputId": "948d2890-d55e-4af1-aea7-41b439ecc04e"
      },
      "source": [
        "df.columns"
      ],
      "execution_count": null,
      "outputs": [
        {
          "output_type": "execute_result",
          "data": {
            "text/plain": [
              "Index(['geoNetwork_country', 'geoNetwork_networkDomain',\n",
              "       'totals_transactionRevenue', 'trafficSource_source', 'Visit_Month',\n",
              "       'Visit_Date', 'Minutes', 'Seconds', 'device_operatingSystem_Android',\n",
              "       'device_operatingSystem_BlackBerry', 'device_operatingSystem_Chrome OS',\n",
              "       'device_operatingSystem_Firefox OS', 'device_operatingSystem_FreeBSD',\n",
              "       'device_operatingSystem_Linux', 'device_operatingSystem_Macintosh',\n",
              "       'device_operatingSystem_NTT DoCoMo',\n",
              "       'device_operatingSystem_Nintendo 3DS',\n",
              "       'device_operatingSystem_Nintendo Wii',\n",
              "       'device_operatingSystem_Nintendo WiiU', 'device_operatingSystem_Nokia',\n",
              "       'device_operatingSystem_OpenBSD', 'device_operatingSystem_Samsung',\n",
              "       'device_operatingSystem_SunOS', 'device_operatingSystem_Windows Phone',\n",
              "       'device_operatingSystem_Xbox', 'device_operatingSystem_iOS',\n",
              "       'geoNetwork_subContinent_Asia', 'geoNetwork_subContinent_Australia',\n",
              "       'geoNetwork_subContinent_Central America',\n",
              "       'geoNetwork_subContinent_Europe', 'geoNetwork_subContinent_Pacific',\n",
              "       'geoNetwork_subContinent_South America', 'visitNumber',\n",
              "       'totals_pageviews'],\n",
              "      dtype='object')"
            ]
          },
          "metadata": {
            "tags": []
          },
          "execution_count": 179
        }
      ]
    },
    {
      "cell_type": "code",
      "metadata": {
        "colab": {
          "base_uri": "https://localhost:8080/"
        },
        "id": "GzzvXMjpshLJ",
        "outputId": "136940da-19af-4fe6-c796-cdd41bee502f"
      },
      "source": [
        "df.shape"
      ],
      "execution_count": null,
      "outputs": [
        {
          "output_type": "execute_result",
          "data": {
            "text/plain": [
              "(902185, 34)"
            ]
          },
          "metadata": {
            "tags": []
          },
          "execution_count": 187
        }
      ]
    },
    {
      "cell_type": "code",
      "metadata": {
        "id": "XwGR0dUkHyFV"
      },
      "source": [
        "# Checking Model Performance After Removing Multicollinearity"
      ],
      "execution_count": null,
      "outputs": []
    },
    {
      "cell_type": "code",
      "metadata": {
        "id": "2h2zvJAxssbJ"
      },
      "source": [
        "x=df.drop('totals_transactionRevenue',1)\n",
        "y=df['totals_transactionRevenue']"
      ],
      "execution_count": null,
      "outputs": []
    },
    {
      "cell_type": "code",
      "metadata": {
        "id": "QICmEMkOssbJ"
      },
      "source": [
        "x_train , x_test , y_train , y_test = train_test_split(x,y,test_size=0.3,random_state=10,stratify=y)"
      ],
      "execution_count": null,
      "outputs": []
    },
    {
      "cell_type": "code",
      "metadata": {
        "colab": {
          "base_uri": "https://localhost:8080/"
        },
        "id": "aTnfSjeQssbK",
        "outputId": "4427dbde-e536-42e7-94a1-98248e573232"
      },
      "source": [
        "dt=DecisionTreeClassifier()\n",
        "dt.fit(x_train,y_train)"
      ],
      "execution_count": null,
      "outputs": [
        {
          "output_type": "execute_result",
          "data": {
            "text/plain": [
              "DecisionTreeClassifier(ccp_alpha=0.0, class_weight=None, criterion='gini',\n",
              "                       max_depth=None, max_features=None, max_leaf_nodes=None,\n",
              "                       min_impurity_decrease=0.0, min_impurity_split=None,\n",
              "                       min_samples_leaf=1, min_samples_split=2,\n",
              "                       min_weight_fraction_leaf=0.0, presort='deprecated',\n",
              "                       random_state=None, splitter='best')"
            ]
          },
          "metadata": {
            "tags": []
          },
          "execution_count": 182
        }
      ]
    },
    {
      "cell_type": "code",
      "metadata": {
        "id": "OUYhPdVissbK"
      },
      "source": [
        "y_pred=dt.predict(x_test)"
      ],
      "execution_count": null,
      "outputs": []
    },
    {
      "cell_type": "code",
      "metadata": {
        "colab": {
          "base_uri": "https://localhost:8080/"
        },
        "id": "sFVur_tPssbK",
        "outputId": "0ae2b6c1-40f7-402c-e438-a27b91089a53"
      },
      "source": [
        "print(classification_report(y_test,y_pred))"
      ],
      "execution_count": null,
      "outputs": [
        {
          "output_type": "stream",
          "text": [
            "              precision    recall  f1-score   support\n",
            "\n",
            "           0       0.99      0.99      0.99    267203\n",
            "           1       0.33      0.34      0.33      3453\n",
            "\n",
            "    accuracy                           0.98    270656\n",
            "   macro avg       0.66      0.66      0.66    270656\n",
            "weighted avg       0.98      0.98      0.98    270656\n",
            "\n"
          ],
          "name": "stdout"
        }
      ]
    },
    {
      "cell_type": "code",
      "metadata": {
        "colab": {
          "base_uri": "https://localhost:8080/",
          "height": 610
        },
        "id": "mMe9lyMAs0sS",
        "outputId": "a461d928-238c-4982-c7d1-920a6367ab4d"
      },
      "source": [
        "plt.figure(figsize=(16,10))\n",
        "(pd.Series(dt.feature_importances_, index=x_train.columns)\n",
        "   .nlargest(50)\n",
        "   .plot(kind='barh'))"
      ],
      "execution_count": null,
      "outputs": [
        {
          "output_type": "execute_result",
          "data": {
            "text/plain": [
              "<matplotlib.axes._subplots.AxesSubplot at 0x7efebc8956d8>"
            ]
          },
          "metadata": {
            "tags": []
          },
          "execution_count": 185
        },
        {
          "output_type": "display_data",
          "data": {
            "image/png": "[encoded data removed]",
            "text/plain": [
              "<Figure size 1152x720 with 1 Axes>"
            ]
          },
          "metadata": {
            "tags": []
          }
        }
      ]
    },
    {
      "cell_type": "code",
      "metadata": {
        "colab": {
          "base_uri": "https://localhost:8080/"
        },
        "id": "-t0uM57FtA_D",
        "outputId": "4bdc700d-5395-42a3-ce0e-bc09c7f1bbbe"
      },
      "source": [
        "selected_feat=pd.Series(dt.feature_importances_, index=x_train.columns).nlargest(14).index\n",
        "selected_feat"
      ],
      "execution_count": null,
      "outputs": [
        {
          "output_type": "execute_result",
          "data": {
            "text/plain": [
              "Index(['totals_pageviews', 'Seconds', 'Visit_Date', 'geoNetwork_networkDomain',\n",
              "       'visitNumber', 'geoNetwork_country', 'Minutes', 'trafficSource_source',\n",
              "       'Visit_Month', 'device_operatingSystem_Macintosh',\n",
              "       'device_operatingSystem_Linux', 'device_operatingSystem_Chrome OS',\n",
              "       'device_operatingSystem_Android', 'device_operatingSystem_iOS'],\n",
              "      dtype='object')"
            ]
          },
          "metadata": {
            "tags": []
          },
          "execution_count": 186
        }
      ]
    },
    {
      "cell_type": "code",
      "metadata": {
        "id": "OdbWc7KQCz2d"
      },
      "source": [
        "df_imp=df[selected_feat]"
      ],
      "execution_count": null,
      "outputs": []
    },
    {
      "cell_type": "code",
      "metadata": {
        "colab": {
          "base_uri": "https://localhost:8080/",
          "height": 443
        },
        "id": "O-zLdQJ_C_Am",
        "outputId": "fe9efbd0-f028-4ce5-f02b-570a6bb146ad"
      },
      "source": [
        "df_imp"
      ],
      "execution_count": null,
      "outputs": [
        {
          "output_type": "execute_result",
          "data": {
            "text/html": [
              "<div>\n",
              "<style scoped>\n",
              "    .dataframe tbody tr th:only-of-type {\n",
              "        vertical-align: middle;\n",
              "    }\n",
              "\n",
              "    .dataframe tbody tr th {\n",
              "        vertical-align: top;\n",
              "    }\n",
              "\n",
              "    .dataframe thead th {\n",
              "        text-align: right;\n",
              "    }\n",
              "</style>\n",
              "<table border=\"1\" class=\"dataframe\">\n",
              "  <thead>\n",
              "    <tr style=\"text-align: right;\">\n",
              "      <th></th>\n",
              "      <th>totals_pageviews</th>\n",
              "      <th>Seconds</th>\n",
              "      <th>Visit_Date</th>\n",
              "      <th>geoNetwork_networkDomain</th>\n",
              "      <th>visitNumber</th>\n",
              "      <th>geoNetwork_country</th>\n",
              "      <th>Minutes</th>\n",
              "      <th>trafficSource_source</th>\n",
              "      <th>Visit_Month</th>\n",
              "      <th>device_operatingSystem_Macintosh</th>\n",
              "      <th>device_operatingSystem_Linux</th>\n",
              "      <th>device_operatingSystem_Chrome OS</th>\n",
              "      <th>device_operatingSystem_Android</th>\n",
              "      <th>device_operatingSystem_iOS</th>\n",
              "    </tr>\n",
              "  </thead>\n",
              "  <tbody>\n",
              "    <tr>\n",
              "      <th>0</th>\n",
              "      <td>0.000000</td>\n",
              "      <td>2</td>\n",
              "      <td>2</td>\n",
              "      <td>1</td>\n",
              "      <td>0.000000</td>\n",
              "      <td>2</td>\n",
              "      <td>15</td>\n",
              "      <td>3879</td>\n",
              "      <td>9</td>\n",
              "      <td>0</td>\n",
              "      <td>0</td>\n",
              "      <td>0</td>\n",
              "      <td>0</td>\n",
              "      <td>0</td>\n",
              "    </tr>\n",
              "    <tr>\n",
              "      <th>1</th>\n",
              "      <td>0.000000</td>\n",
              "      <td>2</td>\n",
              "      <td>3</td>\n",
              "      <td>1</td>\n",
              "      <td>0.000000</td>\n",
              "      <td>13</td>\n",
              "      <td>15</td>\n",
              "      <td>3879</td>\n",
              "      <td>9</td>\n",
              "      <td>1</td>\n",
              "      <td>0</td>\n",
              "      <td>0</td>\n",
              "      <td>0</td>\n",
              "      <td>0</td>\n",
              "    </tr>\n",
              "    <tr>\n",
              "      <th>2</th>\n",
              "      <td>0.000000</td>\n",
              "      <td>2</td>\n",
              "      <td>3</td>\n",
              "      <td>7045</td>\n",
              "      <td>0.000000</td>\n",
              "      <td>2</td>\n",
              "      <td>15</td>\n",
              "      <td>3879</td>\n",
              "      <td>9</td>\n",
              "      <td>0</td>\n",
              "      <td>0</td>\n",
              "      <td>0</td>\n",
              "      <td>0</td>\n",
              "      <td>0</td>\n",
              "    </tr>\n",
              "    <tr>\n",
              "      <th>3</th>\n",
              "      <td>0.000000</td>\n",
              "      <td>2</td>\n",
              "      <td>3</td>\n",
              "      <td>7045</td>\n",
              "      <td>0.000000</td>\n",
              "      <td>11</td>\n",
              "      <td>15</td>\n",
              "      <td>3879</td>\n",
              "      <td>9</td>\n",
              "      <td>0</td>\n",
              "      <td>1</td>\n",
              "      <td>0</td>\n",
              "      <td>0</td>\n",
              "      <td>0</td>\n",
              "    </tr>\n",
              "    <tr>\n",
              "      <th>4</th>\n",
              "      <td>0.000000</td>\n",
              "      <td>2</td>\n",
              "      <td>2</td>\n",
              "      <td>7045</td>\n",
              "      <td>0.291838</td>\n",
              "      <td>16</td>\n",
              "      <td>15</td>\n",
              "      <td>3879</td>\n",
              "      <td>9</td>\n",
              "      <td>0</td>\n",
              "      <td>0</td>\n",
              "      <td>0</td>\n",
              "      <td>1</td>\n",
              "      <td>0</td>\n",
              "    </tr>\n",
              "    <tr>\n",
              "      <th>...</th>\n",
              "      <td>...</td>\n",
              "      <td>...</td>\n",
              "      <td>...</td>\n",
              "      <td>...</td>\n",
              "      <td>...</td>\n",
              "      <td>...</td>\n",
              "      <td>...</td>\n",
              "      <td>...</td>\n",
              "      <td>...</td>\n",
              "      <td>...</td>\n",
              "      <td>...</td>\n",
              "      <td>...</td>\n",
              "      <td>...</td>\n",
              "      <td>...</td>\n",
              "    </tr>\n",
              "    <tr>\n",
              "      <th>902180</th>\n",
              "      <td>1.142063</td>\n",
              "      <td>24</td>\n",
              "      <td>4</td>\n",
              "      <td>4</td>\n",
              "      <td>0.000000</td>\n",
              "      <td>11</td>\n",
              "      <td>48</td>\n",
              "      <td>11</td>\n",
              "      <td>1</td>\n",
              "      <td>0</td>\n",
              "      <td>0</td>\n",
              "      <td>0</td>\n",
              "      <td>0</td>\n",
              "      <td>0</td>\n",
              "    </tr>\n",
              "    <tr>\n",
              "      <th>902181</th>\n",
              "      <td>1.123033</td>\n",
              "      <td>24</td>\n",
              "      <td>4</td>\n",
              "      <td>7045</td>\n",
              "      <td>0.000000</td>\n",
              "      <td>0</td>\n",
              "      <td>48</td>\n",
              "      <td>11</td>\n",
              "      <td>1</td>\n",
              "      <td>0</td>\n",
              "      <td>0</td>\n",
              "      <td>0</td>\n",
              "      <td>1</td>\n",
              "      <td>0</td>\n",
              "    </tr>\n",
              "    <tr>\n",
              "      <th>902182</th>\n",
              "      <td>1.179388</td>\n",
              "      <td>24</td>\n",
              "      <td>4</td>\n",
              "      <td>7045</td>\n",
              "      <td>0.000000</td>\n",
              "      <td>8</td>\n",
              "      <td>48</td>\n",
              "      <td>11</td>\n",
              "      <td>1</td>\n",
              "      <td>0</td>\n",
              "      <td>0</td>\n",
              "      <td>0</td>\n",
              "      <td>1</td>\n",
              "      <td>0</td>\n",
              "    </tr>\n",
              "    <tr>\n",
              "      <th>902183</th>\n",
              "      <td>1.183833</td>\n",
              "      <td>24</td>\n",
              "      <td>5</td>\n",
              "      <td>7045</td>\n",
              "      <td>0.000000</td>\n",
              "      <td>11</td>\n",
              "      <td>48</td>\n",
              "      <td>20</td>\n",
              "      <td>1</td>\n",
              "      <td>0</td>\n",
              "      <td>0</td>\n",
              "      <td>0</td>\n",
              "      <td>0</td>\n",
              "      <td>0</td>\n",
              "    </tr>\n",
              "    <tr>\n",
              "      <th>902184</th>\n",
              "      <td>1.212143</td>\n",
              "      <td>24</td>\n",
              "      <td>5</td>\n",
              "      <td>0</td>\n",
              "      <td>0.000000</td>\n",
              "      <td>20</td>\n",
              "      <td>48</td>\n",
              "      <td>11</td>\n",
              "      <td>1</td>\n",
              "      <td>0</td>\n",
              "      <td>0</td>\n",
              "      <td>0</td>\n",
              "      <td>1</td>\n",
              "      <td>0</td>\n",
              "    </tr>\n",
              "  </tbody>\n",
              "</table>\n",
              "<p>902185 rows × 14 columns</p>\n",
              "</div>"
            ],
            "text/plain": [
              "        totals_pageviews  ...  device_operatingSystem_iOS\n",
              "0               0.000000  ...                           0\n",
              "1               0.000000  ...                           0\n",
              "2               0.000000  ...                           0\n",
              "3               0.000000  ...                           0\n",
              "4               0.000000  ...                           0\n",
              "...                  ...  ...                         ...\n",
              "902180          1.142063  ...                           0\n",
              "902181          1.123033  ...                           0\n",
              "902182          1.179388  ...                           0\n",
              "902183          1.183833  ...                           0\n",
              "902184          1.212143  ...                           0\n",
              "\n",
              "[902185 rows x 14 columns]"
            ]
          },
          "metadata": {
            "tags": []
          },
          "execution_count": 196
        }
      ]
    },
    {
      "cell_type": "markdown",
      "metadata": {
        "id": "KWABzg8stYIP"
      },
      "source": [
        "# Handling Imbalance Problem"
      ]
    },
    {
      "cell_type": "code",
      "metadata": {
        "id": "3YCdKO9UtbYP"
      },
      "source": [
        "from sklearn.metrics import recall_score"
      ],
      "execution_count": null,
      "outputs": []
    },
    {
      "cell_type": "code",
      "metadata": {
        "colab": {
          "base_uri": "https://localhost:8080/"
        },
        "id": "Y34u2akx2B70",
        "outputId": "77923165-da46-41a5-92cc-f06a91ad2d25"
      },
      "source": [
        "recall_score(y_test,y_pred)"
      ],
      "execution_count": null,
      "outputs": [
        {
          "output_type": "execute_result",
          "data": {
            "text/plain": [
              "0.33796698523023455"
            ]
          },
          "metadata": {
            "tags": []
          },
          "execution_count": 198
        }
      ]
    },
    {
      "cell_type": "code",
      "metadata": {
        "colab": {
          "base_uri": "https://localhost:8080/"
        },
        "id": "YDpfTqDo41Pk",
        "outputId": "6237a305-d9f0-41df-e9e6-b004248d5acf"
      },
      "source": [
        "df.totals_transactionRevenue.value_counts()"
      ],
      "execution_count": null,
      "outputs": [
        {
          "output_type": "execute_result",
          "data": {
            "text/plain": [
              "0    890676\n",
              "1     11509\n",
              "Name: totals_transactionRevenue, dtype: int64"
            ]
          },
          "metadata": {
            "tags": []
          },
          "execution_count": 199
        }
      ]
    },
    {
      "cell_type": "code",
      "metadata": {
        "id": "C6akiCsz5ctX"
      },
      "source": [
        "from imblearn.pipeline import make_pipeline\n",
        "from imblearn.over_sampling import SMOTE \n",
        "from imblearn.under_sampling import NearMiss"
      ],
      "execution_count": null,
      "outputs": []
    },
    {
      "cell_type": "code",
      "metadata": {
        "id": "j2RzrtbK2Hp7"
      },
      "source": [
        "class_0=500000\n",
        "class_1=100000"
      ],
      "execution_count": null,
      "outputs": []
    },
    {
      "cell_type": "code",
      "metadata": {
        "id": "oR0fYOJG6Q-w"
      },
      "source": [
        "# count_class_0 = 2000\n",
        "# count_class_1 = 2000\n",
        "# pipe = make_pipeline(SMOTE(sampling_strategy={1: count_class_1})\n",
        "#                     ,NearMiss(sampling_strategy={0: count_class_0}))\n",
        "\n",
        "# x_res, y_res = pipe.fit_resample(X, Y)"
      ],
      "execution_count": null,
      "outputs": []
    },
    {
      "cell_type": "code",
      "metadata": {
        "id": "g6uW_LXf64Eu"
      },
      "source": [
        "x=df_imp\n",
        "y=df['totals_transactionRevenue']"
      ],
      "execution_count": null,
      "outputs": []
    },
    {
      "cell_type": "code",
      "metadata": {
        "id": "uk8rcew15DDi"
      },
      "source": [
        "pipe=make_pipeline(SMOTE(sampling_strategy={1:class_1}),\n",
        "                         NearMiss(sampling_strategy={0:class_0}))"
      ],
      "execution_count": null,
      "outputs": []
    },
    {
      "cell_type": "code",
      "metadata": {
        "id": "BkUhkyQS6EHC"
      },
      "source": [
        "# The Output will be in array\n",
        "x_bal, y_bal = pipe.fit_resample(x, y)"
      ],
      "execution_count": null,
      "outputs": []
    },
    {
      "cell_type": "code",
      "metadata": {
        "colab": {
          "base_uri": "https://localhost:8080/"
        },
        "id": "IoxlHEto8cYA",
        "outputId": "bfb91cd4-357d-4f28-d99b-8d3b90ab57fa"
      },
      "source": [
        "x_bal.shape"
      ],
      "execution_count": null,
      "outputs": [
        {
          "output_type": "execute_result",
          "data": {
            "text/plain": [
              "(600000, 14)"
            ]
          },
          "metadata": {
            "tags": []
          },
          "execution_count": 206
        }
      ]
    },
    {
      "cell_type": "code",
      "metadata": {
        "colab": {
          "base_uri": "https://localhost:8080/"
        },
        "id": "huRVSk5b8e3Z",
        "outputId": "97d38d9d-a835-4867-8c3f-c4ab7e2c6951"
      },
      "source": [
        "y_bal.shape"
      ],
      "execution_count": null,
      "outputs": [
        {
          "output_type": "execute_result",
          "data": {
            "text/plain": [
              "(600000,)"
            ]
          },
          "metadata": {
            "tags": []
          },
          "execution_count": 207
        }
      ]
    },
    {
      "cell_type": "code",
      "metadata": {
        "id": "XYINx42F_uQg"
      },
      "source": [
        "x_bal_df=pd.DataFrame(x_bal,columns=x.columns)\n",
        "# y can be array"
      ],
      "execution_count": null,
      "outputs": []
    },
    {
      "cell_type": "code",
      "metadata": {
        "id": "cIZenB-27pMM"
      },
      "source": [
        "x_train , x_test , y_train , y_test = train_test_split(x_bal_df,y_bal,test_size=0.3,random_state=10,stratify=y_bal)"
      ],
      "execution_count": null,
      "outputs": []
    },
    {
      "cell_type": "code",
      "metadata": {
        "colab": {
          "base_uri": "https://localhost:8080/"
        },
        "id": "0OEW1vkO7pMR",
        "outputId": "eef1729c-65ba-461e-b66a-0476e1f549cc"
      },
      "source": [
        "dt=DecisionTreeClassifier()\n",
        "dt.fit(x_train,y_train)"
      ],
      "execution_count": null,
      "outputs": [
        {
          "output_type": "execute_result",
          "data": {
            "text/plain": [
              "DecisionTreeClassifier(ccp_alpha=0.0, class_weight=None, criterion='gini',\n",
              "                       max_depth=None, max_features=None, max_leaf_nodes=None,\n",
              "                       min_impurity_decrease=0.0, min_impurity_split=None,\n",
              "                       min_samples_leaf=1, min_samples_split=2,\n",
              "                       min_weight_fraction_leaf=0.0, presort='deprecated',\n",
              "                       random_state=None, splitter='best')"
            ]
          },
          "metadata": {
            "tags": []
          },
          "execution_count": 210
        }
      ]
    },
    {
      "cell_type": "code",
      "metadata": {
        "id": "8jDLnxcQBlzq"
      },
      "source": [
        "y_pred=dt.predict(x_test)"
      ],
      "execution_count": null,
      "outputs": []
    },
    {
      "cell_type": "code",
      "metadata": {
        "colab": {
          "base_uri": "https://localhost:8080/"
        },
        "id": "Ko3AbFFvDxII",
        "outputId": "d33f36de-e1bd-4649-e10a-9929ea9f4cef"
      },
      "source": [
        "print(classification_report(y_test,y_pred))"
      ],
      "execution_count": null,
      "outputs": [
        {
          "output_type": "stream",
          "text": [
            "              precision    recall  f1-score   support\n",
            "\n",
            "           0       0.98      0.98      0.98    150000\n",
            "           1       0.91      0.92      0.92     30000\n",
            "\n",
            "    accuracy                           0.97    180000\n",
            "   macro avg       0.95      0.95      0.95    180000\n",
            "weighted avg       0.97      0.97      0.97    180000\n",
            "\n"
          ],
          "name": "stdout"
        }
      ]
    },
    {
      "cell_type": "code",
      "metadata": {
        "id": "kN0gI4oR2IPW"
      },
      "source": [
        "from sklearn.metrics import make_scorer,recall_score\n",
        "from sklearn.tree import DecisionTreeClassifier\n",
        "from sklearn.neighbors import KNeighborsClassifier\n",
        "from sklearn.linear_model import LogisticRegression\n",
        "from sklearn.ensemble import RandomForestClassifier\n",
        "from sklearn.naive_bayes import GaussianNB\n",
        "from sklearn.ensemble import BaggingClassifier\n",
        "from sklearn.model_selection import cross_val_score,KFold"
      ],
      "execution_count": null,
      "outputs": []
    },
    {
      "cell_type": "code",
      "metadata": {
        "id": "1E0hDURDDAmp"
      },
      "source": [
        "mod_logit=LogisticRegression(max_iter=2000)\n",
        "mod_logit.fit(x_train,y_train)\n",
        "y_pred=mod_logit.predict(x_test)"
      ],
      "execution_count": null,
      "outputs": []
    },
    {
      "cell_type": "code",
      "metadata": {
        "colab": {
          "base_uri": "https://localhost:8080/"
        },
        "id": "DZPFqdIB3AZj",
        "outputId": "9908a80a-7a8b-4b30-a546-41a7f6daee62"
      },
      "source": [
        "recall_score_logistic_regression = recall_score(y_test, y_pred)\n",
        "recall_score_logistic_regression"
      ],
      "execution_count": null,
      "outputs": [
        {
          "output_type": "execute_result",
          "data": {
            "text/plain": [
              "0.8070333333333334"
            ]
          },
          "metadata": {
            "tags": []
          },
          "execution_count": 217
        }
      ]
    },
    {
      "cell_type": "code",
      "metadata": {
        "colab": {
          "base_uri": "https://localhost:8080/"
        },
        "id": "1lIz2El4C4b0",
        "outputId": "61ee8739-52d2-4ec2-ab70-f1841d727f0c"
      },
      "source": [
        "print(classification_report(y_test, y_pred))\n",
        "# Logistic Regression : 0.78  0.81  0.79  0.93"
      ],
      "execution_count": null,
      "outputs": [
        {
          "output_type": "stream",
          "text": [
            "              precision    recall  f1-score   support\n",
            "\n",
            "           0       0.96      0.95      0.96    150000\n",
            "           1       0.78      0.81      0.79     30000\n",
            "\n",
            "    accuracy                           0.93    180000\n",
            "   macro avg       0.87      0.88      0.87    180000\n",
            "weighted avg       0.93      0.93      0.93    180000\n",
            "\n"
          ],
          "name": "stdout"
        }
      ]
    },
    {
      "cell_type": "code",
      "metadata": {
        "colab": {
          "base_uri": "https://localhost:8080/"
        },
        "id": "ooeueElaEKxS",
        "outputId": "a655ebf1-4a6f-4b66-fc0d-0331d6a52d96"
      },
      "source": [
        "dt=DecisionTreeClassifier()\n",
        "dt.fit(x_train,y_train)\n",
        "y_pred=dt.predict(x_test)\n",
        "print(classification_report(y_test,y_pred))\n",
        "# Decision Tree       : 0.91  0.92  0.92  0.97"
      ],
      "execution_count": null,
      "outputs": [
        {
          "output_type": "stream",
          "text": [
            "              precision    recall  f1-score   support\n",
            "\n",
            "           0       0.98      0.98      0.98    150000\n",
            "           1       0.91      0.92      0.92     30000\n",
            "\n",
            "    accuracy                           0.97    180000\n",
            "   macro avg       0.95      0.95      0.95    180000\n",
            "weighted avg       0.97      0.97      0.97    180000\n",
            "\n"
          ],
          "name": "stdout"
        }
      ]
    },
    {
      "cell_type": "code",
      "metadata": {
        "colab": {
          "base_uri": "https://localhost:8080/"
        },
        "id": "2y4uvFcP4Avw",
        "outputId": "37488d4f-9324-4245-f1ed-4721be910cfc"
      },
      "source": [
        "knn = KNeighborsClassifier()\n",
        "knn.fit(x_train, y_train)\n",
        "y_predict_knn = knn.predict(x_test)\n",
        "print(classification_report(y_test,y_predict_knn))\n",
        "# K-Nearest-Neighbor  : 0.79  0.84  0.81  0.94"
      ],
      "execution_count": null,
      "outputs": [
        {
          "output_type": "stream",
          "text": [
            "              precision    recall  f1-score   support\n",
            "\n",
            "           0       0.97      0.96      0.96    150000\n",
            "           1       0.79      0.84      0.81     30000\n",
            "\n",
            "    accuracy                           0.94    180000\n",
            "   macro avg       0.88      0.90      0.89    180000\n",
            "weighted avg       0.94      0.94      0.94    180000\n",
            "\n"
          ],
          "name": "stdout"
        }
      ]
    },
    {
      "cell_type": "code",
      "metadata": {
        "colab": {
          "base_uri": "https://localhost:8080/"
        },
        "id": "r7go3yhL5s4P",
        "outputId": "198ca9bf-3cc2-400d-b657-9920d425f11e"
      },
      "source": [
        "navie_bayes = GaussianNB()\n",
        "navie_bayes.fit(x_train, y_train)\n",
        "y_predict_navie_bayes = navie_bayes.predict(x_test)\n",
        "print(classification_report(y_test,y_predict_navie_bayes))\n",
        "# Naive Bayes : 0.50  0.88  0.64  0.83"
      ],
      "execution_count": null,
      "outputs": [
        {
          "output_type": "stream",
          "text": [
            "              precision    recall  f1-score   support\n",
            "\n",
            "           0       0.97      0.82      0.89    150000\n",
            "           1       0.50      0.88      0.64     30000\n",
            "\n",
            "    accuracy                           0.83    180000\n",
            "   macro avg       0.74      0.85      0.77    180000\n",
            "weighted avg       0.89      0.83      0.85    180000\n",
            "\n"
          ],
          "name": "stdout"
        }
      ]
    },
    {
      "cell_type": "code",
      "metadata": {
        "colab": {
          "base_uri": "https://localhost:8080/"
        },
        "id": "kQFdyoFI6JQK",
        "outputId": "ad1a1c1d-5e17-4af4-a6f3-6a61d400d1c4"
      },
      "source": [
        "rf = RandomForestClassifier(n_jobs=-1)\n",
        "rf.fit(x_train, y_train)\n",
        "y_predict_rf = rf.predict(x_test)\n",
        "print(classification_report(y_test,y_predict_rf))"
      ],
      "execution_count": null,
      "outputs": [
        {
          "output_type": "stream",
          "text": [
            "              precision    recall  f1-score   support\n",
            "\n",
            "           0       0.99      0.99      0.99    150000\n",
            "           1       0.94      0.93      0.94     30000\n",
            "\n",
            "    accuracy                           0.98    180000\n",
            "   macro avg       0.96      0.96      0.96    180000\n",
            "weighted avg       0.98      0.98      0.98    180000\n",
            "\n"
          ],
          "name": "stdout"
        }
      ]
    },
    {
      "cell_type": "code",
      "metadata": {
        "colab": {
          "base_uri": "https://localhost:8080/"
        },
        "id": "bwouHQ8Z6JVD",
        "outputId": "031f7bb6-6367-40b4-e4e6-7dd5a088a0b4"
      },
      "source": [
        "bg =BaggingClassifier()\n",
        "bg.fit(x_train, y_train)\n",
        "y_predict_bg = bg.predict(x_test)\n",
        "print(classification_report(y_test,y_predict_bg))\n",
        "# Bagging Classifier  : 0.95  0.92  0.93  0.98"
      ],
      "execution_count": null,
      "outputs": [
        {
          "output_type": "stream",
          "text": [
            "              precision    recall  f1-score   support\n",
            "\n",
            "           0       0.98      0.99      0.99    150000\n",
            "           1       0.95      0.92      0.93     30000\n",
            "\n",
            "    accuracy                           0.98    180000\n",
            "   macro avg       0.96      0.95      0.96    180000\n",
            "weighted avg       0.98      0.98      0.98    180000\n",
            "\n"
          ],
          "name": "stdout"
        }
      ]
    },
    {
      "cell_type": "markdown",
      "metadata": {
        "id": "FyqYfdeoCWWO"
      },
      "source": [
        "**Checking with Multiple Models**"
      ]
    },
    {
      "cell_type": "code",
      "metadata": {
        "colab": {
          "base_uri": "https://localhost:8080/",
          "height": 174
        },
        "id": "vkS-2XLMEY6E",
        "outputId": "ae2fd6dd-d1ac-4d27-844f-b1e92e6c7196"
      },
      "source": [
        "x_bal_df.head(3)"
      ],
      "execution_count": null,
      "outputs": [
        {
          "output_type": "execute_result",
          "data": {
            "text/html": [
              "<div>\n",
              "<style scoped>\n",
              "    .dataframe tbody tr th:only-of-type {\n",
              "        vertical-align: middle;\n",
              "    }\n",
              "\n",
              "    .dataframe tbody tr th {\n",
              "        vertical-align: top;\n",
              "    }\n",
              "\n",
              "    .dataframe thead th {\n",
              "        text-align: right;\n",
              "    }\n",
              "</style>\n",
              "<table border=\"1\" class=\"dataframe\">\n",
              "  <thead>\n",
              "    <tr style=\"text-align: right;\">\n",
              "      <th></th>\n",
              "      <th>totals_pageviews</th>\n",
              "      <th>Seconds</th>\n",
              "      <th>Visit_Date</th>\n",
              "      <th>geoNetwork_networkDomain</th>\n",
              "      <th>visitNumber</th>\n",
              "      <th>geoNetwork_country</th>\n",
              "      <th>Minutes</th>\n",
              "      <th>trafficSource_source</th>\n",
              "      <th>Visit_Month</th>\n",
              "      <th>device_operatingSystem_Macintosh</th>\n",
              "      <th>device_operatingSystem_Chrome OS</th>\n",
              "      <th>device_operatingSystem_Linux</th>\n",
              "      <th>device_operatingSystem_Android</th>\n",
              "      <th>device_operatingSystem_iOS</th>\n",
              "    </tr>\n",
              "  </thead>\n",
              "  <tbody>\n",
              "    <tr>\n",
              "      <th>0</th>\n",
              "      <td>1.123033</td>\n",
              "      <td>48.0</td>\n",
              "      <td>28.0</td>\n",
              "      <td>7045.0</td>\n",
              "      <td>0.0</td>\n",
              "      <td>10953.0</td>\n",
              "      <td>53.0</td>\n",
              "      <td>2042.0</td>\n",
              "      <td>4.0</td>\n",
              "      <td>1.0</td>\n",
              "      <td>0.0</td>\n",
              "      <td>0.0</td>\n",
              "      <td>0.0</td>\n",
              "      <td>0.0</td>\n",
              "    </tr>\n",
              "    <tr>\n",
              "      <th>1</th>\n",
              "      <td>1.111444</td>\n",
              "      <td>17.0</td>\n",
              "      <td>17.0</td>\n",
              "      <td>7045.0</td>\n",
              "      <td>0.0</td>\n",
              "      <td>10953.0</td>\n",
              "      <td>50.0</td>\n",
              "      <td>2042.0</td>\n",
              "      <td>2.0</td>\n",
              "      <td>1.0</td>\n",
              "      <td>0.0</td>\n",
              "      <td>0.0</td>\n",
              "      <td>0.0</td>\n",
              "      <td>0.0</td>\n",
              "    </tr>\n",
              "    <tr>\n",
              "      <th>2</th>\n",
              "      <td>1.142063</td>\n",
              "      <td>17.0</td>\n",
              "      <td>17.0</td>\n",
              "      <td>7045.0</td>\n",
              "      <td>0.0</td>\n",
              "      <td>10953.0</td>\n",
              "      <td>50.0</td>\n",
              "      <td>2042.0</td>\n",
              "      <td>2.0</td>\n",
              "      <td>1.0</td>\n",
              "      <td>0.0</td>\n",
              "      <td>0.0</td>\n",
              "      <td>0.0</td>\n",
              "      <td>0.0</td>\n",
              "    </tr>\n",
              "  </tbody>\n",
              "</table>\n",
              "</div>"
            ],
            "text/plain": [
              "   totals_pageviews  ...  device_operatingSystem_iOS\n",
              "0          1.123033  ...                         0.0\n",
              "1          1.111444  ...                         0.0\n",
              "2          1.142063  ...                         0.0\n",
              "\n",
              "[3 rows x 14 columns]"
            ]
          },
          "metadata": {
            "tags": []
          },
          "execution_count": 214
        }
      ]
    },
    {
      "cell_type": "code",
      "metadata": {
        "colab": {
          "base_uri": "https://localhost:8080/"
        },
        "id": "aBF4TVX4JxOO",
        "outputId": "877ec5c3-2a37-4a37-c3fd-88699c7ec400"
      },
      "source": [
        "y_bal"
      ],
      "execution_count": null,
      "outputs": [
        {
          "output_type": "execute_result",
          "data": {
            "text/plain": [
              "array([0, 0, 0, ..., 1, 1, 1])"
            ]
          },
          "metadata": {
            "tags": []
          },
          "execution_count": 215
        }
      ]
    },
    {
      "cell_type": "code",
      "metadata": {
        "id": "5vx0BHBxI2uu"
      },
      "source": [
        ""
      ],
      "execution_count": null,
      "outputs": []
    },
    {
      "cell_type": "code",
      "metadata": {
        "id": "NOWC9HtUT6_p"
      },
      "source": [
        "kf=KFold(n_splits=5,shuffle=True,random_state=0)"
      ],
      "execution_count": null,
      "outputs": []
    },
    {
      "cell_type": "code",
      "metadata": {
        "id": "wvoUFrVUI6Gc"
      },
      "source": [
        "clf1 = DecisionTreeClassifier(random_state=0)"
      ],
      "execution_count": null,
      "outputs": []
    },
    {
      "cell_type": "code",
      "metadata": {
        "id": "-4-cMA0GI9xE"
      },
      "source": [
        "bagging1 = BaggingClassifier(base_estimator=clf1, n_estimators=21, max_samples=0.8,oob_score=True, random_state=0)\n",
        "#bagging2 = BaggingClassifier(base_estimator=clf2, n_estimators=11, max_samples=0.8,oob_score=True, random_state=0)"
      ],
      "execution_count": null,
      "outputs": []
    },
    {
      "cell_type": "code",
      "metadata": {
        "id": "X3S1qmtWJQ6o"
      },
      "source": [
        "from sklearn.metrics import make_scorer,recall_score\n",
        "\n",
        "scorer=make_scorer(recall_score,average='weighted')\n",
        "\n",
        "score1 = cross_val_score(clf1, x_bal_df, y_bal, cv=kf, scoring=scorer)\n",
        "score2 = cross_val_score(bagging1,x_bal_df, y_bal, cv=kf, scoring=scorer)\n",
        "#score3 = cross_val_score(bagging2,x_bal_df, y_bal, cv=kf, scoring=scorer)"
      ],
      "execution_count": null,
      "outputs": []
    },
    {
      "cell_type": "code",
      "metadata": {
        "colab": {
          "base_uri": "https://localhost:8080/"
        },
        "id": "gzdBdI-_NHjg",
        "outputId": "bc43890d-4a92-400e-c0f0-b6f03eba0367"
      },
      "source": [
        "np.mean(score1), np.std(score1)"
      ],
      "execution_count": null,
      "outputs": [
        {
          "output_type": "execute_result",
          "data": {
            "text/plain": [
              "(0.9721633333333333, 0.000312721032942197)"
            ]
          },
          "metadata": {
            "tags": []
          },
          "execution_count": 221
        }
      ]
    },
    {
      "cell_type": "code",
      "metadata": {
        "colab": {
          "base_uri": "https://localhost:8080/"
        },
        "id": "z_SIpuAhJckx",
        "outputId": "2ccbf62a-cbef-42e4-da1f-a0d43baf263c"
      },
      "source": [
        "np.mean(score2), np.std(score2)"
      ],
      "execution_count": null,
      "outputs": [
        {
          "output_type": "execute_result",
          "data": {
            "text/plain": [
              "(0.9781833333333333, 0.0003062315754094647)"
            ]
          },
          "metadata": {
            "tags": []
          },
          "execution_count": 222
        }
      ]
    },
    {
      "cell_type": "code",
      "metadata": {
        "id": "PYRhJURrOCOa"
      },
      "source": [
        "from xgboost import XGBClassifier"
      ],
      "execution_count": null,
      "outputs": []
    },
    {
      "cell_type": "code",
      "metadata": {
        "id": "wUBA7V7QN1hd"
      },
      "source": [
        "clf1 = RandomForestClassifier(random_state=0)\n",
        "clf2 = XGBClassifier(random_state=0)"
      ],
      "execution_count": null,
      "outputs": []
    },
    {
      "cell_type": "code",
      "metadata": {
        "colab": {
          "base_uri": "https://localhost:8080/"
        },
        "id": "0vM-2rVVOkgf",
        "outputId": "95eb3faf-5d31-4ffa-babb-ac0aa3ffeaca"
      },
      "source": [
        "for i,j in zip([clf1,clf2],['RF','XG']):\n",
        "    scorer=make_scorer(recall_score,average='weighted')\n",
        "    score_vot = cross_val_score(i, x_bal_df, y_bal, cv=kf, scoring=scorer)\n",
        "    print(j,np.mean(score_vot),np.std(score_vot))"
      ],
      "execution_count": null,
      "outputs": [
        {
          "output_type": "stream",
          "text": [
            "RF 0.9804933333333332 0.00034510062944660577\n",
            "XG 0.9660066666666667 0.0005151159524266837\n"
          ],
          "name": "stdout"
        }
      ]
    },
    {
      "cell_type": "code",
      "metadata": {
        "id": "DSbRB9GUUQJ6"
      },
      "source": [
        ""
      ],
      "execution_count": null,
      "outputs": []
    },
    {
      "cell_type": "code",
      "metadata": {
        "id": "C5Nx6xfnP1q2"
      },
      "source": [
        ""
      ],
      "execution_count": null,
      "outputs": []
    },
    {
      "cell_type": "markdown",
      "metadata": {
        "id": "1v4GxDreCSLM"
      },
      "source": [
        "**HyperParameter Tuning**"
      ]
    },
    {
      "cell_type": "code",
      "metadata": {
        "id": "1qFSXr_HxDLd"
      },
      "source": [
        "x_bal_df=pd.DataFrame(x_bal,columns=x.columns)\n",
        "y_bal"
      ],
      "execution_count": null,
      "outputs": []
    },
    {
      "cell_type": "code",
      "metadata": {
        "id": "ad9RWR9Awrbc"
      },
      "source": [
        "# Parameter Tuning\n",
        "be=[]\n",
        "ve=[]\n",
        "for i in [5,10,20,40,60,80,100,120,150,200,250,300,400]:\n",
        "    #for j in [10,15,20,30]:\n",
        "    rf=RandomForestClassifier(n_estimators=i,random_state=48)\n",
        "    #scorer = make_scorer(f1_score, average = 'weighted')\n",
        "    score=cross_val_score(rf,x_bal_df,y_bal,cv=kf,scoring='recall')\n",
        "    print('n_estimator:',i)\n",
        "    print('Bias Error',1-np.mean(score))\n",
        "    print('Variance Error',np.std(score)/np.mean(score))\n",
        "    be.append(1-np.mean(score))\n",
        "    ve.append(np.std(score)/np.mean(score))"
      ],
      "execution_count": null,
      "outputs": []
    },
    {
      "cell_type": "code",
      "metadata": {
        "id": "ixLXm5QeWXuF"
      },
      "source": [
        "# from sklearn.model_selection import GridSearchCV\n",
        "\n",
        "# params={#'n_estimators':[50,80,100,120,140,190,200,210],\n",
        "#         'max_features':['auto','sqrt','log2'],\n",
        "#         'criterion':['gini','entropy'],\n",
        "#         'max_depth':[10,15,20,25,30]}"
      ],
      "execution_count": null,
      "outputs": []
    },
    {
      "cell_type": "code",
      "metadata": {
        "id": "_MKc_jXMPTFU"
      },
      "source": [
        "# rf=RandomForestClassifier()\n",
        "# hyp_mod=GridSearchCV(rf,param_grid=params,scoring='recall')"
      ],
      "execution_count": null,
      "outputs": []
    },
    {
      "cell_type": "code",
      "metadata": {
        "id": "eHffUkiaPTIU"
      },
      "source": [
        "# tun_mod=hyp_mod.fit(x_bal_df, y_bal)"
      ],
      "execution_count": null,
      "outputs": []
    },
    {
      "cell_type": "code",
      "metadata": {
        "id": "fE_xqg6qPTOv"
      },
      "source": [
        "# tun_mod.best_params_"
      ],
      "execution_count": null,
      "outputs": []
    },
    {
      "cell_type": "code",
      "metadata": {
        "id": "1tdAq6Tn8lad"
      },
      "source": [
        "# Best Parameters => {'criterion': 'gini', 'max_depth': 20, 'max_features': 'sqrt'}"
      ],
      "execution_count": null,
      "outputs": []
    },
    {
      "cell_type": "code",
      "metadata": {
        "id": "S_Ti8Rs68qtk"
      },
      "source": [
        "# tun_mod.best_score_"
      ],
      "execution_count": null,
      "outputs": []
    },
    {
      "cell_type": "code",
      "metadata": {
        "id": "kgy57F44KRyB"
      },
      "source": [
        ""
      ],
      "execution_count": null,
      "outputs": []
    },
    {
      "cell_type": "markdown",
      "metadata": {
        "id": "V72oat0dCL6B"
      },
      "source": [
        "**PCA**"
      ]
    },
    {
      "cell_type": "code",
      "metadata": {
        "colab": {
          "base_uri": "https://localhost:8080/"
        },
        "id": "VYmokg_sWZ6a",
        "outputId": "89fb62fe-8766-4923-b005-ca8513839979"
      },
      "source": [
        "x_bal_df=pd.DataFrame(x_bal,columns=x.columns)\n",
        "y_bal"
      ],
      "execution_count": null,
      "outputs": [
        {
          "output_type": "execute_result",
          "data": {
            "text/plain": [
              "array([0, 0, 0, ..., 1, 1, 1])"
            ]
          },
          "metadata": {
            "tags": []
          },
          "execution_count": 226
        }
      ]
    },
    {
      "cell_type": "code",
      "metadata": {
        "id": "pY29nl4S4GUC"
      },
      "source": [
        "x=x_bal_df\n",
        "y=y_bal"
      ],
      "execution_count": null,
      "outputs": []
    },
    {
      "cell_type": "code",
      "metadata": {
        "colab": {
          "base_uri": "https://localhost:8080/",
          "height": 234
        },
        "id": "VxDaycU09qXW",
        "outputId": "ab083e57-cd1e-485e-fcaf-fc2bf4a882ad"
      },
      "source": [
        "x.head()"
      ],
      "execution_count": null,
      "outputs": [
        {
          "output_type": "execute_result",
          "data": {
            "text/html": [
              "<div>\n",
              "<style scoped>\n",
              "    .dataframe tbody tr th:only-of-type {\n",
              "        vertical-align: middle;\n",
              "    }\n",
              "\n",
              "    .dataframe tbody tr th {\n",
              "        vertical-align: top;\n",
              "    }\n",
              "\n",
              "    .dataframe thead th {\n",
              "        text-align: right;\n",
              "    }\n",
              "</style>\n",
              "<table border=\"1\" class=\"dataframe\">\n",
              "  <thead>\n",
              "    <tr style=\"text-align: right;\">\n",
              "      <th></th>\n",
              "      <th>totals_pageviews</th>\n",
              "      <th>Seconds</th>\n",
              "      <th>Visit_Date</th>\n",
              "      <th>geoNetwork_networkDomain</th>\n",
              "      <th>visitNumber</th>\n",
              "      <th>geoNetwork_country</th>\n",
              "      <th>Minutes</th>\n",
              "      <th>trafficSource_source</th>\n",
              "      <th>Visit_Month</th>\n",
              "      <th>device_operatingSystem_Macintosh</th>\n",
              "      <th>device_operatingSystem_Chrome OS</th>\n",
              "      <th>device_operatingSystem_Linux</th>\n",
              "      <th>device_operatingSystem_Android</th>\n",
              "      <th>device_operatingSystem_iOS</th>\n",
              "    </tr>\n",
              "  </thead>\n",
              "  <tbody>\n",
              "    <tr>\n",
              "      <th>0</th>\n",
              "      <td>1.123033</td>\n",
              "      <td>48.0</td>\n",
              "      <td>28.0</td>\n",
              "      <td>7045.0</td>\n",
              "      <td>0.00000</td>\n",
              "      <td>10953.0</td>\n",
              "      <td>53.0</td>\n",
              "      <td>2042.0</td>\n",
              "      <td>4.0</td>\n",
              "      <td>1.0</td>\n",
              "      <td>0.0</td>\n",
              "      <td>0.0</td>\n",
              "      <td>0.0</td>\n",
              "      <td>0.0</td>\n",
              "    </tr>\n",
              "    <tr>\n",
              "      <th>1</th>\n",
              "      <td>1.111444</td>\n",
              "      <td>17.0</td>\n",
              "      <td>17.0</td>\n",
              "      <td>7045.0</td>\n",
              "      <td>0.00000</td>\n",
              "      <td>10953.0</td>\n",
              "      <td>50.0</td>\n",
              "      <td>2042.0</td>\n",
              "      <td>2.0</td>\n",
              "      <td>1.0</td>\n",
              "      <td>0.0</td>\n",
              "      <td>0.0</td>\n",
              "      <td>0.0</td>\n",
              "      <td>0.0</td>\n",
              "    </tr>\n",
              "    <tr>\n",
              "      <th>2</th>\n",
              "      <td>1.142063</td>\n",
              "      <td>17.0</td>\n",
              "      <td>17.0</td>\n",
              "      <td>7045.0</td>\n",
              "      <td>0.00000</td>\n",
              "      <td>10953.0</td>\n",
              "      <td>50.0</td>\n",
              "      <td>2042.0</td>\n",
              "      <td>2.0</td>\n",
              "      <td>1.0</td>\n",
              "      <td>0.0</td>\n",
              "      <td>0.0</td>\n",
              "      <td>0.0</td>\n",
              "      <td>0.0</td>\n",
              "    </tr>\n",
              "    <tr>\n",
              "      <th>3</th>\n",
              "      <td>1.142063</td>\n",
              "      <td>17.0</td>\n",
              "      <td>17.0</td>\n",
              "      <td>7045.0</td>\n",
              "      <td>0.00000</td>\n",
              "      <td>10953.0</td>\n",
              "      <td>50.0</td>\n",
              "      <td>2042.0</td>\n",
              "      <td>2.0</td>\n",
              "      <td>1.0</td>\n",
              "      <td>0.0</td>\n",
              "      <td>0.0</td>\n",
              "      <td>0.0</td>\n",
              "      <td>0.0</td>\n",
              "    </tr>\n",
              "    <tr>\n",
              "      <th>4</th>\n",
              "      <td>1.063408</td>\n",
              "      <td>14.0</td>\n",
              "      <td>14.0</td>\n",
              "      <td>7045.0</td>\n",
              "      <td>0.32838</td>\n",
              "      <td>10953.0</td>\n",
              "      <td>15.0</td>\n",
              "      <td>5103.0</td>\n",
              "      <td>9.0</td>\n",
              "      <td>1.0</td>\n",
              "      <td>0.0</td>\n",
              "      <td>0.0</td>\n",
              "      <td>0.0</td>\n",
              "      <td>0.0</td>\n",
              "    </tr>\n",
              "  </tbody>\n",
              "</table>\n",
              "</div>"
            ],
            "text/plain": [
              "   totals_pageviews  ...  device_operatingSystem_iOS\n",
              "0          1.123033  ...                         0.0\n",
              "1          1.111444  ...                         0.0\n",
              "2          1.142063  ...                         0.0\n",
              "3          1.142063  ...                         0.0\n",
              "4          1.063408  ...                         0.0\n",
              "\n",
              "[5 rows x 14 columns]"
            ]
          },
          "metadata": {
            "tags": []
          },
          "execution_count": 228
        }
      ]
    },
    {
      "cell_type": "code",
      "metadata": {
        "id": "-8Tp8l4h4GYs"
      },
      "source": [
        "from sklearn.preprocessing import StandardScaler\n",
        "sc=StandardScaler()\n",
        "inp_sc=sc.fit_transform(x)\n",
        "inp_sc=pd.DataFrame(inp_sc,columns=x.columns)"
      ],
      "execution_count": null,
      "outputs": []
    },
    {
      "cell_type": "code",
      "metadata": {
        "id": "xxWoU7359_gZ"
      },
      "source": [
        "from sklearn.decomposition import PCA"
      ],
      "execution_count": null,
      "outputs": []
    },
    {
      "cell_type": "code",
      "metadata": {
        "id": "omClGKxe4Gc3"
      },
      "source": [
        "pca_mod=PCA(x.shape[1])\n",
        "pcadata=pca_mod.fit_transform(inp_sc)"
      ],
      "execution_count": null,
      "outputs": []
    },
    {
      "cell_type": "code",
      "metadata": {
        "id": "B6uW48Fh4Gfy"
      },
      "source": [
        "pcadata=pd.DataFrame(pcadata,columns=['PC1','PC2','PC3','PC4',\n",
        "                                      'PC5','PC6','PC7','PC8',\n",
        "                                      'PC9','PC10','PC11','PC12',\n",
        "                                      'PC13','PC14'])"
      ],
      "execution_count": null,
      "outputs": []
    },
    {
      "cell_type": "code",
      "metadata": {
        "id": "JA5jb6dy44qQ"
      },
      "source": [
        "exp_var=pca_mod.explained_variance_ratio_"
      ],
      "execution_count": null,
      "outputs": []
    },
    {
      "cell_type": "code",
      "metadata": {
        "colab": {
          "base_uri": "https://localhost:8080/"
        },
        "id": "-j9hSqeC44t5",
        "outputId": "ab6a582e-b362-4d46-dfd1-0865a7ea2d59"
      },
      "source": [
        "cum_var=exp_var[0]\n",
        "itr=2\n",
        "for j in exp_var[1:]:\n",
        "    cum_var=cum_var+j\n",
        "    if cum_var>0.95:\n",
        "        break\n",
        "    itr=itr+1\n",
        "\n",
        "print('The 95 percent of varaince is explained by',itr, ' Principle components')"
      ],
      "execution_count": null,
      "outputs": [
        {
          "output_type": "stream",
          "text": [
            "The 95 percent of varaince is explained by 12  Principle components\n"
          ],
          "name": "stdout"
        }
      ]
    },
    {
      "cell_type": "code",
      "metadata": {
        "colab": {
          "base_uri": "https://localhost:8080/",
          "height": 285
        },
        "id": "s-yAvguT44y8",
        "outputId": "6e449838-42e0-425f-daa6-ab446d3874a9"
      },
      "source": [
        "pd.DataFrame(exp_var).plot(kind='bar')"
      ],
      "execution_count": null,
      "outputs": [
        {
          "output_type": "execute_result",
          "data": {
            "text/plain": [
              "<matplotlib.axes._subplots.AxesSubplot at 0x7fb327268898>"
            ]
          },
          "metadata": {
            "tags": []
          },
          "execution_count": 235
        },
        {
          "output_type": "display_data",
          "data": {
            "image/png": "[encoded data removed]",
            "text/plain": [
              "<Figure size 432x288 with 1 Axes>"
            ]
          },
          "metadata": {
            "tags": []
          }
        }
      ]
    },
    {
      "cell_type": "code",
      "metadata": {
        "id": "VoDRVvlE-6kl"
      },
      "source": [
        "pcadata1=pcadata.iloc[:,:12]"
      ],
      "execution_count": null,
      "outputs": []
    },
    {
      "cell_type": "code",
      "metadata": {
        "colab": {
          "base_uri": "https://localhost:8080/",
          "height": 107
        },
        "id": "B00Ybt_7_Ftz",
        "outputId": "b3b34a1e-aba2-4ccb-bc35-3ba232ac3945"
      },
      "source": [
        "pcadata1.head(2)"
      ],
      "execution_count": null,
      "outputs": [
        {
          "output_type": "execute_result",
          "data": {
            "text/html": [
              "<div>\n",
              "<style scoped>\n",
              "    .dataframe tbody tr th:only-of-type {\n",
              "        vertical-align: middle;\n",
              "    }\n",
              "\n",
              "    .dataframe tbody tr th {\n",
              "        vertical-align: top;\n",
              "    }\n",
              "\n",
              "    .dataframe thead th {\n",
              "        text-align: right;\n",
              "    }\n",
              "</style>\n",
              "<table border=\"1\" class=\"dataframe\">\n",
              "  <thead>\n",
              "    <tr style=\"text-align: right;\">\n",
              "      <th></th>\n",
              "      <th>PC1</th>\n",
              "      <th>PC2</th>\n",
              "      <th>PC3</th>\n",
              "      <th>PC4</th>\n",
              "      <th>PC5</th>\n",
              "      <th>PC6</th>\n",
              "      <th>PC7</th>\n",
              "      <th>PC8</th>\n",
              "      <th>PC9</th>\n",
              "      <th>PC10</th>\n",
              "      <th>PC11</th>\n",
              "      <th>PC12</th>\n",
              "    </tr>\n",
              "  </thead>\n",
              "  <tbody>\n",
              "    <tr>\n",
              "      <th>0</th>\n",
              "      <td>-0.600947</td>\n",
              "      <td>-1.801598</td>\n",
              "      <td>-0.125794</td>\n",
              "      <td>-0.257465</td>\n",
              "      <td>-1.630540</td>\n",
              "      <td>-0.537384</td>\n",
              "      <td>-1.329511</td>\n",
              "      <td>1.018491</td>\n",
              "      <td>0.683886</td>\n",
              "      <td>-1.263830</td>\n",
              "      <td>0.263720</td>\n",
              "      <td>0.620602</td>\n",
              "    </tr>\n",
              "    <tr>\n",
              "      <th>1</th>\n",
              "      <td>-0.555613</td>\n",
              "      <td>-1.792584</td>\n",
              "      <td>-0.145631</td>\n",
              "      <td>0.438122</td>\n",
              "      <td>0.509718</td>\n",
              "      <td>-0.412818</td>\n",
              "      <td>-1.273463</td>\n",
              "      <td>0.779294</td>\n",
              "      <td>0.961076</td>\n",
              "      <td>-1.264355</td>\n",
              "      <td>0.596473</td>\n",
              "      <td>0.542315</td>\n",
              "    </tr>\n",
              "  </tbody>\n",
              "</table>\n",
              "</div>"
            ],
            "text/plain": [
              "        PC1       PC2       PC3  ...      PC10      PC11      PC12\n",
              "0 -0.600947 -1.801598 -0.125794  ... -1.263830  0.263720  0.620602\n",
              "1 -0.555613 -1.792584 -0.145631  ... -1.264355  0.596473  0.542315\n",
              "\n",
              "[2 rows x 12 columns]"
            ]
          },
          "metadata": {
            "tags": []
          },
          "execution_count": 237
        }
      ]
    },
    {
      "cell_type": "code",
      "metadata": {
        "id": "SY4XoqgN-6wd"
      },
      "source": [
        "xtrain,xtest,ytrain,ytest=train_test_split(x,y,test_size=0.3,random_state=48)\n",
        "xtrain1,xtest1,ytrain1,ytest1=train_test_split(pcadata1,y,test_size=0.3,random_state=48)"
      ],
      "execution_count": null,
      "outputs": []
    },
    {
      "cell_type": "code",
      "metadata": {
        "colab": {
          "base_uri": "https://localhost:8080/"
        },
        "id": "h8wOjw-k-6zw",
        "outputId": "5fa67e63-cf52-47a6-a7a9-1e5849028647"
      },
      "source": [
        "mod=RandomForestClassifier(random_state=0)\n",
        "mod.fit(xtrain,ytrain)\n",
        "ypred=mod.predict(xtest)\n",
        "print(\"Without PCA\",recall_score(ytest,ypred))"
      ],
      "execution_count": null,
      "outputs": [
        {
          "output_type": "stream",
          "text": [
            "Without PCA 0.9348579810641419\n"
          ],
          "name": "stdout"
        }
      ]
    },
    {
      "cell_type": "code",
      "metadata": {
        "colab": {
          "base_uri": "https://localhost:8080/"
        },
        "id": "JkmcOBj75HM6",
        "outputId": "2c1832aa-7b17-4697-c8b8-93846888807d"
      },
      "source": [
        "mod1=RandomForestClassifier(random_state=0)\n",
        "mod1.fit(xtrain1,ytrain1)\n",
        "ypred1=mod1.predict(xtest1)\n",
        "print(\"With PCA\",recall_score(ytest1,ypred1))"
      ],
      "execution_count": null,
      "outputs": [
        {
          "output_type": "stream",
          "text": [
            "With PCA 0.9283237765035338\n"
          ],
          "name": "stdout"
        }
      ]
    },
    {
      "cell_type": "code",
      "metadata": {
        "colab": {
          "base_uri": "https://localhost:8080/"
        },
        "id": "I8HWWLVs5HXL",
        "outputId": "60d94187-0a1b-4435-b6dd-2b29d171d418"
      },
      "source": [
        "x_bal_df.shape"
      ],
      "execution_count": null,
      "outputs": [
        {
          "output_type": "execute_result",
          "data": {
            "text/plain": [
              "(600000, 14)"
            ]
          },
          "metadata": {
            "tags": []
          },
          "execution_count": 241
        }
      ]
    },
    {
      "cell_type": "markdown",
      "metadata": {
        "id": "IpuR5eiL7EQ8"
      },
      "source": [
        "**Final Model**"
      ]
    },
    {
      "cell_type": "code",
      "metadata": {
        "id": "Urfx117LCf0a"
      },
      "source": [
        "x=x_bal_df\n",
        "y=y_bal"
      ],
      "execution_count": null,
      "outputs": []
    },
    {
      "cell_type": "code",
      "metadata": {
        "id": "39HqFgzCCmSj"
      },
      "source": [
        "xtrain,xtest,ytrain,ytest=train_test_split(x,y,test_size=0.3,random_state=48,stratify=y)\n",
        "xtrain1,xtest1,ytrain1,ytest1=train_test_split(pcadata1,y,test_size=0.3,random_state=48,stratify=y)"
      ],
      "execution_count": null,
      "outputs": []
    },
    {
      "cell_type": "code",
      "metadata": {
        "id": "6ntITPJUCmWO"
      },
      "source": [
        "# mod=RandomForestClassifier(**,random_state=0)\n",
        "# Best Parameters => {'criterion': 'gini', 'max_depth': 20, 'max_features': 'sqrt'}\n",
        "mod_final=RandomForestClassifier(n_estimators=200, criterion='gini', max_depth=20, max_features='sqrt', random_state=0)\n",
        "mod_final.fit(xtrain,ytrain)\n",
        "ypred=mod_final.predict(xtest)"
      ],
      "execution_count": null,
      "outputs": []
    },
    {
      "cell_type": "code",
      "metadata": {
        "colab": {
          "base_uri": "https://localhost:8080/"
        },
        "id": "vycc8KrCCxQQ",
        "outputId": "04a34449-c8e9-4945-899e-365b810ca9a7"
      },
      "source": [
        "print(\"Recall Score without PCA\",recall_score(ytest1,ypred))"
      ],
      "execution_count": null,
      "outputs": [
        {
          "output_type": "stream",
          "text": [
            "Recall Score without PCA 0.945\n"
          ],
          "name": "stdout"
        }
      ]
    },
    {
      "cell_type": "code",
      "metadata": {
        "id": "80IuUxsgGhjS"
      },
      "source": [
        "mod_pca_final=RandomForestClassifier(n_estimators=200, criterion='gini', max_depth=20, max_features='sqrt', random_state=0)\n",
        "mod_pca_final.fit(xtrain1,ytrain1)\n",
        "ypred=mod_pca_final.predict(xtest1)"
      ],
      "execution_count": null,
      "outputs": []
    },
    {
      "cell_type": "code",
      "metadata": {
        "colab": {
          "base_uri": "https://localhost:8080/"
        },
        "id": "JNFp77ihBn-X",
        "outputId": "09f68d20-ed00-4b16-8379-190a854b4434"
      },
      "source": [
        "print(\"Recall Score With PCA\",recall_score(ytest1,ypred))"
      ],
      "execution_count": null,
      "outputs": [
        {
          "output_type": "stream",
          "text": [
            "Recall Score With PCA 0.9294\n"
          ],
          "name": "stdout"
        }
      ]
    },
    {
      "cell_type": "code",
      "metadata": {
        "colab": {
          "base_uri": "https://localhost:8080/"
        },
        "id": "hwkjvHO_EadO",
        "outputId": "eb19de1f-23ef-4c4d-d308-259ab5457fc6"
      },
      "source": [
        "print(confusion_matrix(ytest1,ypred))"
      ],
      "execution_count": null,
      "outputs": [
        {
          "output_type": "stream",
          "text": [
            "[[146810   3190]\n",
            " [  2118  27882]]\n"
          ],
          "name": "stdout"
        }
      ]
    },
    {
      "cell_type": "code",
      "metadata": {
        "id": "7mClN5DhKRYj"
      },
      "source": [
        ""
      ],
      "execution_count": null,
      "outputs": []
    },
    {
      "cell_type": "code",
      "metadata": {
        "id": "vGQKNC6sHQCN"
      },
      "source": [
        "# Logistic Regression : 0.78  0.81  0.79  0.93\n",
        "# Decision Tree       : 0.91  0.92  0.92  0.97\n",
        "# K-Nearest-Neighbor  : 0.79  0.84  0.81  0.94\n",
        "# Naive Bayes         : 0.50  0.88  0.64  0.83\n",
        "# Random Forest       : 0.94  0.93  0.94  0.98\n",
        "# Bagging Classifier  : 0.95  0.92  0.93  0.98"
      ],
      "execution_count": null,
      "outputs": []
    },
    {
      "cell_type": "code",
      "metadata": {
        "id": "ak9C0eXXHQGZ"
      },
      "source": [
        "values={'Logistic Regression':[0.78 ,0.81 ,0.79 ,0.93],\n",
        "        'Decision Tree':[0.91 ,0.92 ,0.92 ,0.97],\n",
        "        'K-Nearest-Neighbor': [0.79 ,0.84 ,0.81 ,0.94],\n",
        "        'Naive Bayes': [0.50 ,0.88 ,0.64 ,0.83],\n",
        "        'Random Forest': [0.94 ,0.93 ,0.94 ,0.9],\n",
        "        'Bagging Classifier'  : [0.95 ,0.92 ,0.93 ,0.98]}"
      ],
      "execution_count": null,
      "outputs": []
    },
    {
      "cell_type": "code",
      "metadata": {
        "colab": {
          "base_uri": "https://localhost:8080/"
        },
        "id": "5Oo-1vMtItDi",
        "outputId": "0f9e1914-00c5-4649-841a-a7d4dd74ee96"
      },
      "source": [
        "values"
      ],
      "execution_count": null,
      "outputs": [
        {
          "output_type": "execute_result",
          "data": {
            "text/plain": [
              "{'Bagging Classifier': [0.95, 0.92, 0.93, 0.98],\n",
              " 'Decision Tree': [0.91, 0.92, 0.92, 0.97],\n",
              " 'K-Nearest-Neighbor': [0.79, 0.84, 0.81, 0.94],\n",
              " 'Logistic Regression': [0.78, 0.81, 0.79, 0.93],\n",
              " 'Naive Bayes': [0.5, 0.88, 0.64, 0.83],\n",
              " 'Random Forest': [0.94, 0.93, 0.94, 0.9]}"
            ]
          },
          "metadata": {
            "tags": []
          },
          "execution_count": 246
        }
      ]
    },
    {
      "cell_type": "code",
      "metadata": {
        "id": "y43x9DpdHQJa"
      },
      "source": [
        "metrics=pd.DataFrame.from_dict(values, orient='index', columns=['Precision','Recall','F1-Score','Accuracy'])\n",
        "# columns=['Precision','Recall','F1-Score','Accuracy']"
      ],
      "execution_count": null,
      "outputs": []
    },
    {
      "cell_type": "code",
      "metadata": {
        "colab": {
          "base_uri": "https://localhost:8080/",
          "height": 227
        },
        "id": "FVdjrpFtIl0w",
        "outputId": "7c94ff29-0079-4504-d4c3-44631b40068e"
      },
      "source": [
        "metrics"
      ],
      "execution_count": null,
      "outputs": [
        {
          "output_type": "execute_result",
          "data": {
            "text/html": [
              "<div>\n",
              "<style scoped>\n",
              "    .dataframe tbody tr th:only-of-type {\n",
              "        vertical-align: middle;\n",
              "    }\n",
              "\n",
              "    .dataframe tbody tr th {\n",
              "        vertical-align: top;\n",
              "    }\n",
              "\n",
              "    .dataframe thead th {\n",
              "        text-align: right;\n",
              "    }\n",
              "</style>\n",
              "<table border=\"1\" class=\"dataframe\">\n",
              "  <thead>\n",
              "    <tr style=\"text-align: right;\">\n",
              "      <th></th>\n",
              "      <th>Precision</th>\n",
              "      <th>Recall</th>\n",
              "      <th>F1-Score</th>\n",
              "      <th>Accuracy</th>\n",
              "    </tr>\n",
              "  </thead>\n",
              "  <tbody>\n",
              "    <tr>\n",
              "      <th>Logistic Regression</th>\n",
              "      <td>0.78</td>\n",
              "      <td>0.81</td>\n",
              "      <td>0.79</td>\n",
              "      <td>0.93</td>\n",
              "    </tr>\n",
              "    <tr>\n",
              "      <th>Decision Tree</th>\n",
              "      <td>0.91</td>\n",
              "      <td>0.92</td>\n",
              "      <td>0.92</td>\n",
              "      <td>0.97</td>\n",
              "    </tr>\n",
              "    <tr>\n",
              "      <th>K-Nearest-Neighbor</th>\n",
              "      <td>0.79</td>\n",
              "      <td>0.84</td>\n",
              "      <td>0.81</td>\n",
              "      <td>0.94</td>\n",
              "    </tr>\n",
              "    <tr>\n",
              "      <th>Naive Bayes</th>\n",
              "      <td>0.50</td>\n",
              "      <td>0.88</td>\n",
              "      <td>0.64</td>\n",
              "      <td>0.83</td>\n",
              "    </tr>\n",
              "    <tr>\n",
              "      <th>Random Forest</th>\n",
              "      <td>0.94</td>\n",
              "      <td>0.93</td>\n",
              "      <td>0.94</td>\n",
              "      <td>0.90</td>\n",
              "    </tr>\n",
              "    <tr>\n",
              "      <th>Bagging Classifier</th>\n",
              "      <td>0.95</td>\n",
              "      <td>0.92</td>\n",
              "      <td>0.93</td>\n",
              "      <td>0.98</td>\n",
              "    </tr>\n",
              "  </tbody>\n",
              "</table>\n",
              "</div>"
            ],
            "text/plain": [
              "                     Precision  Recall  F1-Score  Accuracy\n",
              "Logistic Regression       0.78    0.81      0.79      0.93\n",
              "Decision Tree             0.91    0.92      0.92      0.97\n",
              "K-Nearest-Neighbor        0.79    0.84      0.81      0.94\n",
              "Naive Bayes               0.50    0.88      0.64      0.83\n",
              "Random Forest             0.94    0.93      0.94      0.90\n",
              "Bagging Classifier        0.95    0.92      0.93      0.98"
            ]
          },
          "metadata": {
            "tags": []
          },
          "execution_count": 249
        }
      ]
    },
    {
      "cell_type": "code",
      "metadata": {
        "id": "-iY2KeXyImxG"
      },
      "source": [
        ""
      ],
      "execution_count": null,
      "outputs": []
    }
  ]
}